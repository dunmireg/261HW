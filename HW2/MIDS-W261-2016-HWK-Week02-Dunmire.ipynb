{
 "cells": [
  {
   "cell_type": "markdown",
   "metadata": {},
   "source": [
    "# Week 2 Homework 261 Spring 2016 - Glenn Dunmire"
   ]
  },
  {
   "cell_type": "markdown",
   "metadata": {},
   "source": [
    "### Question 2.0:\n",
    "\n",
    "What is a race condition in the context of parallel computation? Give an example.\n",
    "What is MapReduce?\n",
    "How does it differ from Hadoop?\n",
    "Which programming paradigm is Hadoop based on? Explain and give a simple example in code and show the code running."
   ]
  },
  {
   "cell_type": "markdown",
   "metadata": {},
   "source": [
    "### Question 2.1: \n",
    "\n",
    "Given as input: Records of the form '<'integer, “NA”>, where integer is any integer, and “NA” is just the empty string.\n",
    "Output: sorted key value pairs of the form <'integer, “NA”> in decreasing order; what happens if you have multiple reducers? Do you need additional steps? Explain.\n",
    "\n",
    "Write code to generate N  random records of the form <'integer, “NA”>. Let N = 10,000.\n",
    "Write the python Hadoop streaming map-reduce job to perform this sort. Display the top 10 biggest numbers. Display the 10 smallest numbers"
   ]
  },
  {
   "cell_type": "code",
   "execution_count": 39,
   "metadata": {
    "collapsed": false
   },
   "outputs": [],
   "source": [
    "#Write a text file of form <integer, \"NA\">. \n",
    "#use the random package to get random numbers\n",
    "import random\n",
    "\n",
    "N = 1000 #set size of list of numbers\n",
    "\n",
    "#I chose to include a larger range than my total list size so that I would not simply have a list from 1 to 10000\n",
    "#However, this is easily adjusted in the range parameter\n",
    "numbers = random.sample(range(0, 1000), N) #list of numbers at random\n",
    "output = [] #store output\n",
    "for number in numbers:\n",
    "    output.append('<' + str(number) + ', ' + 'NA>') #properly format strings\n",
    "\n",
    "with open('integer.txt', 'w') as myfile: #write output to a text file\n",
    "    myfile.write(\"\\n\".join(output))"
   ]
  },
  {
   "cell_type": "code",
   "execution_count": 1,
   "metadata": {
    "collapsed": false
   },
   "outputs": [
    {
     "name": "stdout",
     "output_type": "stream",
     "text": [
      "Writing mapper_sort.py\n"
     ]
    }
   ],
   "source": [
    "%%writefile mapper.py\n",
    "#!/usr/bin/python\n",
    "import sys\n",
    "# input comes from STDIN (standard input)\n",
    "for line in sys.stdin:\n",
    "    line = line[1:] #remove beginning '<' \n",
    "    num = line.split()[0] #split on whitespace and only keep number\n",
    "    num = num[:-1] #remove trailing comma\n",
    "    print '%s\\t%s' % (num, 'NA') #print result to STDOUT for input to reducer"
   ]
  },
  {
   "cell_type": "code",
   "execution_count": 2,
   "metadata": {
    "collapsed": false
   },
   "outputs": [
    {
     "name": "stdout",
     "output_type": "stream",
     "text": [
      "Writing reducer_sort.py\n"
     ]
    }
   ],
   "source": [
    "%%writefile reducer.py\n",
    "#!/usr/bin/python\n",
    "import sys\n",
    "\n",
    "# input comes from STDIN\n",
    "for line in sys.stdin:\n",
    "\n",
    "    # parse the input we got from mapper.py\n",
    "    num, na = line.split('\\t')\n",
    "    \n",
    "    print '<' + num + ', NA>'"
   ]
  },
  {
   "cell_type": "code",
   "execution_count": 26,
   "metadata": {
    "collapsed": false
   },
   "outputs": [],
   "source": [
    "#Test mapper and reducer\n",
    "#!cat integer.txt | python mapper.py | sort -n | python reducer.py"
   ]
  },
  {
   "cell_type": "code",
   "execution_count": 7,
   "metadata": {
    "collapsed": false
   },
   "outputs": [
    {
     "name": "stdout",
     "output_type": "stream",
     "text": [
      "starting yarn daemons\n",
      "starting resourcemanager, logging to /usr/local/Cellar/hadoop/2.7.1/libexec/logs/yarn-dunmireg-resourcemanager-Glenns-Air.home.out\n",
      "localhost: starting nodemanager, logging to /usr/local/Cellar/hadoop/2.7.1/libexec/logs/yarn-dunmireg-nodemanager-Glenns-Air.home.out\n",
      "16/01/23 13:23:38 WARN util.NativeCodeLoader: Unable to load native-hadoop library for your platform... using builtin-java classes where applicable\n",
      "Starting namenodes on [localhost]\n",
      "localhost: starting namenode, logging to /usr/local/Cellar/hadoop/2.7.1/libexec/logs/hadoop-dunmireg-namenode-Glenns-Air.home.out\n",
      "localhost: starting datanode, logging to /usr/local/Cellar/hadoop/2.7.1/libexec/logs/hadoop-dunmireg-datanode-Glenns-Air.home.out\n",
      "Starting secondary namenodes [0.0.0.0]\n",
      "0.0.0.0: starting secondarynamenode, logging to /usr/local/Cellar/hadoop/2.7.1/libexec/logs/hadoop-dunmireg-secondarynamenode-Glenns-Air.home.out\n",
      "16/01/23 13:23:54 WARN util.NativeCodeLoader: Unable to load native-hadoop library for your platform... using builtin-java classes where applicable\n"
     ]
    }
   ],
   "source": [
    "#Start hadoop yarn\n",
    "!/usr/local/Cellar/hadoop/2.7.1/sbin/start-yarn.sh\n",
    "!/usr/local/Cellar/hadoop/2.7.1/sbin/start-dfs.sh"
   ]
  },
  {
   "cell_type": "code",
   "execution_count": 8,
   "metadata": {
    "collapsed": false
   },
   "outputs": [
    {
     "name": "stdout",
     "output_type": "stream",
     "text": [
      "16/01/23 13:24:02 WARN util.NativeCodeLoader: Unable to load native-hadoop library for your platform... using builtin-java classes where applicable\r\n"
     ]
    }
   ],
   "source": [
    "#make directory\n",
    "!hdfs dfs -mkdir -p /user/dunmireg"
   ]
  },
  {
   "cell_type": "code",
   "execution_count": 9,
   "metadata": {
    "collapsed": false
   },
   "outputs": [
    {
     "name": "stdout",
     "output_type": "stream",
     "text": [
      "16/01/23 13:24:05 WARN util.NativeCodeLoader: Unable to load native-hadoop library for your platform... using builtin-java classes where applicable\r\n"
     ]
    }
   ],
   "source": [
    "#add input to hdfs\n",
    "!hdfs dfs -put integer.txt /user/dunmireg"
   ]
  },
  {
   "cell_type": "code",
   "execution_count": 10,
   "metadata": {
    "collapsed": false
   },
   "outputs": [
    {
     "name": "stdout",
     "output_type": "stream",
     "text": [
      "16/01/23 13:24:09 WARN util.NativeCodeLoader: Unable to load native-hadoop library for your platform... using builtin-java classes where applicable\n",
      "16/01/23 13:24:10 INFO Configuration.deprecation: session.id is deprecated. Instead, use dfs.metrics.session-id\n",
      "16/01/23 13:24:10 INFO jvm.JvmMetrics: Initializing JVM Metrics with processName=JobTracker, sessionId=\n",
      "16/01/23 13:24:10 INFO jvm.JvmMetrics: Cannot initialize JVM Metrics with processName=JobTracker, sessionId= - already initialized\n",
      "16/01/23 13:24:10 INFO mapred.FileInputFormat: Total input paths to process : 1\n",
      "16/01/23 13:24:10 INFO mapreduce.JobSubmitter: number of splits:1\n",
      "16/01/23 13:24:10 INFO Configuration.deprecation: mapred.text.key.comparator.options is deprecated. Instead, use mapreduce.partition.keycomparator.options\n",
      "16/01/23 13:24:10 INFO Configuration.deprecation: mapred.output.key.comparator.class is deprecated. Instead, use mapreduce.job.output.key.comparator.class\n",
      "16/01/23 13:24:11 INFO mapreduce.JobSubmitter: Submitting tokens for job: job_local1561200986_0001\n",
      "16/01/23 13:24:11 INFO mapreduce.Job: The url to track the job: http://localhost:8080/\n",
      "16/01/23 13:24:11 INFO mapred.LocalJobRunner: OutputCommitter set in config null\n",
      "16/01/23 13:24:11 INFO mapred.LocalJobRunner: OutputCommitter is org.apache.hadoop.mapred.FileOutputCommitter\n",
      "16/01/23 13:24:11 INFO mapreduce.Job: Running job: job_local1561200986_0001\n",
      "16/01/23 13:24:11 INFO output.FileOutputCommitter: File Output Committer Algorithm version is 1\n",
      "16/01/23 13:24:11 INFO mapred.LocalJobRunner: Waiting for map tasks\n",
      "16/01/23 13:24:11 INFO mapred.LocalJobRunner: Starting task: attempt_local1561200986_0001_m_000000_0\n",
      "16/01/23 13:24:11 INFO output.FileOutputCommitter: File Output Committer Algorithm version is 1\n",
      "16/01/23 13:24:11 INFO util.ProcfsBasedProcessTree: ProcfsBasedProcessTree currently is supported only on Linux.\n",
      "16/01/23 13:24:11 INFO mapred.Task:  Using ResourceCalculatorProcessTree : null\n",
      "16/01/23 13:24:11 INFO mapred.MapTask: Processing split: hdfs://localhost:9000/user/dunmireg/integer.txt:0+9889\n",
      "16/01/23 13:24:11 INFO mapred.MapTask: numReduceTasks: 1\n",
      "16/01/23 13:24:11 INFO mapred.MapTask: (EQUATOR) 0 kvi 26214396(104857584)\n",
      "16/01/23 13:24:11 INFO mapred.MapTask: mapreduce.task.io.sort.mb: 100\n",
      "16/01/23 13:24:11 INFO mapred.MapTask: soft limit at 83886080\n",
      "16/01/23 13:24:11 INFO mapred.MapTask: bufstart = 0; bufvoid = 104857600\n",
      "16/01/23 13:24:11 INFO mapred.MapTask: kvstart = 26214396; length = 6553600\n",
      "16/01/23 13:24:11 INFO mapred.MapTask: Map output collector class = org.apache.hadoop.mapred.MapTask$MapOutputBuffer\n",
      "16/01/23 13:24:11 INFO streaming.PipeMapRed: PipeMapRed exec [/Users/dunmireg/Documents/261HW/HW2/./mapper.py]\n",
      "16/01/23 13:24:11 INFO Configuration.deprecation: mapred.tip.id is deprecated. Instead, use mapreduce.task.id\n",
      "16/01/23 13:24:11 INFO Configuration.deprecation: mapred.local.dir is deprecated. Instead, use mapreduce.cluster.local.dir\n",
      "16/01/23 13:24:11 INFO Configuration.deprecation: map.input.file is deprecated. Instead, use mapreduce.map.input.file\n",
      "16/01/23 13:24:11 INFO Configuration.deprecation: mapred.skip.on is deprecated. Instead, use mapreduce.job.skiprecords\n",
      "16/01/23 13:24:11 INFO Configuration.deprecation: map.input.length is deprecated. Instead, use mapreduce.map.input.length\n",
      "16/01/23 13:24:11 INFO Configuration.deprecation: mapred.work.output.dir is deprecated. Instead, use mapreduce.task.output.dir\n",
      "16/01/23 13:24:11 INFO Configuration.deprecation: map.input.start is deprecated. Instead, use mapreduce.map.input.start\n",
      "16/01/23 13:24:11 INFO Configuration.deprecation: mapred.job.id is deprecated. Instead, use mapreduce.job.id\n",
      "16/01/23 13:24:11 INFO Configuration.deprecation: user.name is deprecated. Instead, use mapreduce.job.user.name\n",
      "16/01/23 13:24:11 INFO Configuration.deprecation: mapred.task.is.map is deprecated. Instead, use mapreduce.task.ismap\n",
      "16/01/23 13:24:11 INFO Configuration.deprecation: mapred.task.id is deprecated. Instead, use mapreduce.task.attempt.id\n",
      "16/01/23 13:24:11 INFO Configuration.deprecation: mapred.task.partition is deprecated. Instead, use mapreduce.task.partition\n",
      "16/01/23 13:24:11 INFO streaming.PipeMapRed: R/W/S=1/0/0 in:NA [rec/s] out:NA [rec/s]\n",
      "16/01/23 13:24:11 INFO streaming.PipeMapRed: R/W/S=10/0/0 in:NA [rec/s] out:NA [rec/s]\n",
      "16/01/23 13:24:11 INFO streaming.PipeMapRed: R/W/S=100/0/0 in:NA [rec/s] out:NA [rec/s]\n",
      "16/01/23 13:24:11 INFO streaming.PipeMapRed: R/W/S=1000/0/0 in:NA [rec/s] out:NA [rec/s]\n",
      "16/01/23 13:24:11 INFO streaming.PipeMapRed: MRErrorThread done\n",
      "16/01/23 13:24:11 INFO streaming.PipeMapRed: Records R/W=1000/1\n",
      "16/01/23 13:24:11 INFO streaming.PipeMapRed: mapRedFinished\n",
      "16/01/23 13:24:11 INFO mapred.LocalJobRunner: \n",
      "16/01/23 13:24:11 INFO mapred.MapTask: Starting flush of map output\n",
      "16/01/23 13:24:11 INFO mapred.MapTask: Spilling map output\n",
      "16/01/23 13:24:11 INFO mapred.MapTask: bufstart = 0; bufend = 6890; bufvoid = 104857600\n",
      "16/01/23 13:24:11 INFO mapred.MapTask: kvstart = 26214396(104857584); kvend = 26210400(104841600); length = 3997/6553600\n",
      "16/01/23 13:24:11 INFO mapred.MapTask: Finished spill 0\n",
      "16/01/23 13:24:11 INFO mapred.Task: Task:attempt_local1561200986_0001_m_000000_0 is done. And is in the process of committing\n",
      "16/01/23 13:24:11 INFO mapred.LocalJobRunner: Records R/W=1000/1\n",
      "16/01/23 13:24:11 INFO mapred.Task: Task 'attempt_local1561200986_0001_m_000000_0' done.\n",
      "16/01/23 13:24:11 INFO mapred.LocalJobRunner: Finishing task: attempt_local1561200986_0001_m_000000_0\n",
      "16/01/23 13:24:11 INFO mapred.LocalJobRunner: map task executor complete.\n",
      "16/01/23 13:24:11 INFO mapred.LocalJobRunner: Waiting for reduce tasks\n",
      "16/01/23 13:24:11 INFO mapred.LocalJobRunner: Starting task: attempt_local1561200986_0001_r_000000_0\n",
      "16/01/23 13:24:11 INFO output.FileOutputCommitter: File Output Committer Algorithm version is 1\n",
      "16/01/23 13:24:11 INFO util.ProcfsBasedProcessTree: ProcfsBasedProcessTree currently is supported only on Linux.\n",
      "16/01/23 13:24:11 INFO mapred.Task:  Using ResourceCalculatorProcessTree : null\n",
      "16/01/23 13:24:11 INFO mapred.ReduceTask: Using ShuffleConsumerPlugin: org.apache.hadoop.mapreduce.task.reduce.Shuffle@51fa3a0a\n",
      "16/01/23 13:24:11 INFO reduce.MergeManagerImpl: MergerManager: memoryLimit=334338464, maxSingleShuffleLimit=83584616, mergeThreshold=220663392, ioSortFactor=10, memToMemMergeOutputsThreshold=10\n",
      "16/01/23 13:24:11 INFO reduce.EventFetcher: attempt_local1561200986_0001_r_000000_0 Thread started: EventFetcher for fetching Map Completion Events\n",
      "16/01/23 13:24:11 INFO reduce.LocalFetcher: localfetcher#1 about to shuffle output of map attempt_local1561200986_0001_m_000000_0 decomp: 8892 len: 8896 to MEMORY\n",
      "16/01/23 13:24:11 INFO reduce.InMemoryMapOutput: Read 8892 bytes from map-output for attempt_local1561200986_0001_m_000000_0\n",
      "16/01/23 13:24:11 INFO reduce.MergeManagerImpl: closeInMemoryFile -> map-output of size: 8892, inMemoryMapOutputs.size() -> 1, commitMemory -> 0, usedMemory ->8892\n",
      "16/01/23 13:24:11 INFO reduce.EventFetcher: EventFetcher is interrupted.. Returning\n",
      "16/01/23 13:24:11 INFO mapred.LocalJobRunner: 1 / 1 copied.\n",
      "16/01/23 13:24:11 INFO reduce.MergeManagerImpl: finalMerge called with 1 in-memory map-outputs and 0 on-disk map-outputs\n",
      "16/01/23 13:24:11 INFO mapred.Merger: Merging 1 sorted segments\n",
      "16/01/23 13:24:11 INFO mapred.Merger: Down to the last merge-pass, with 1 segments left of total size: 8888 bytes\n",
      "16/01/23 13:24:11 INFO reduce.MergeManagerImpl: Merged 1 segments, 8892 bytes to disk to satisfy reduce memory limit\n",
      "16/01/23 13:24:11 INFO reduce.MergeManagerImpl: Merging 1 files, 8896 bytes from disk\n",
      "16/01/23 13:24:11 INFO reduce.MergeManagerImpl: Merging 0 segments, 0 bytes from memory into reduce\n",
      "16/01/23 13:24:11 INFO mapred.Merger: Merging 1 sorted segments\n",
      "16/01/23 13:24:11 INFO mapred.Merger: Down to the last merge-pass, with 1 segments left of total size: 8888 bytes\n",
      "16/01/23 13:24:11 INFO mapred.LocalJobRunner: 1 / 1 copied.\n",
      "16/01/23 13:24:11 INFO streaming.PipeMapRed: PipeMapRed exec [/Users/dunmireg/Documents/261HW/HW2/./reducer.py]\n",
      "16/01/23 13:24:11 INFO Configuration.deprecation: mapred.job.tracker is deprecated. Instead, use mapreduce.jobtracker.address\n",
      "16/01/23 13:24:11 INFO Configuration.deprecation: mapred.map.tasks is deprecated. Instead, use mapreduce.job.maps\n",
      "16/01/23 13:24:11 INFO streaming.PipeMapRed: R/W/S=1/0/0 in:NA [rec/s] out:NA [rec/s]\n",
      "16/01/23 13:24:11 INFO streaming.PipeMapRed: R/W/S=10/0/0 in:NA [rec/s] out:NA [rec/s]\n",
      "16/01/23 13:24:11 INFO streaming.PipeMapRed: R/W/S=100/0/0 in:NA [rec/s] out:NA [rec/s]\n",
      "16/01/23 13:24:11 INFO streaming.PipeMapRed: R/W/S=1000/0/0 in:NA [rec/s] out:NA [rec/s]\n",
      "16/01/23 13:24:11 INFO streaming.PipeMapRed: Records R/W=1000/1\n",
      "16/01/23 13:24:11 INFO streaming.PipeMapRed: MRErrorThread done\n",
      "16/01/23 13:24:11 INFO streaming.PipeMapRed: mapRedFinished\n",
      "16/01/23 13:24:11 INFO mapred.Task: Task:attempt_local1561200986_0001_r_000000_0 is done. And is in the process of committing\n",
      "16/01/23 13:24:11 INFO mapred.LocalJobRunner: 1 / 1 copied.\n",
      "16/01/23 13:24:11 INFO mapred.Task: Task attempt_local1561200986_0001_r_000000_0 is allowed to commit now\n",
      "16/01/23 13:24:11 INFO output.FileOutputCommitter: Saved output of task 'attempt_local1561200986_0001_r_000000_0' to hdfs://localhost:9000/user/dunmireg/integerOutput/_temporary/0/task_local1561200986_0001_r_000000\n",
      "16/01/23 13:24:11 INFO mapred.LocalJobRunner: Records R/W=1000/1 > reduce\n",
      "16/01/23 13:24:11 INFO mapred.Task: Task 'attempt_local1561200986_0001_r_000000_0' done.\n",
      "16/01/23 13:24:11 INFO mapred.LocalJobRunner: Finishing task: attempt_local1561200986_0001_r_000000_0\n",
      "16/01/23 13:24:11 INFO mapred.LocalJobRunner: reduce task executor complete.\n",
      "16/01/23 13:24:12 INFO mapreduce.Job: Job job_local1561200986_0001 running in uber mode : false\n",
      "16/01/23 13:24:12 INFO mapreduce.Job:  map 100% reduce 100%\n",
      "16/01/23 13:24:12 INFO mapreduce.Job: Job job_local1561200986_0001 completed successfully\n",
      "16/01/23 13:24:12 INFO mapreduce.Job: Counters: 35\n",
      "\tFile System Counters\n",
      "\t\tFILE: Number of bytes read=229894\n",
      "\t\tFILE: Number of bytes written=830582\n",
      "\t\tFILE: Number of read operations=0\n",
      "\t\tFILE: Number of large read operations=0\n",
      "\t\tFILE: Number of write operations=0\n",
      "\t\tHDFS: Number of bytes read=19778\n",
      "\t\tHDFS: Number of bytes written=10890\n",
      "\t\tHDFS: Number of read operations=13\n",
      "\t\tHDFS: Number of large read operations=0\n",
      "\t\tHDFS: Number of write operations=4\n",
      "\tMap-Reduce Framework\n",
      "\t\tMap input records=1000\n",
      "\t\tMap output records=1000\n",
      "\t\tMap output bytes=6890\n",
      "\t\tMap output materialized bytes=8896\n",
      "\t\tInput split bytes=99\n",
      "\t\tCombine input records=0\n",
      "\t\tCombine output records=0\n",
      "\t\tReduce input groups=1000\n",
      "\t\tReduce shuffle bytes=8896\n",
      "\t\tReduce input records=1000\n",
      "\t\tReduce output records=1000\n",
      "\t\tSpilled Records=2000\n",
      "\t\tShuffled Maps =1\n",
      "\t\tFailed Shuffles=0\n",
      "\t\tMerged Map outputs=1\n",
      "\t\tGC time elapsed (ms)=5\n",
      "\t\tTotal committed heap usage (bytes)=510656512\n",
      "\tShuffle Errors\n",
      "\t\tBAD_ID=0\n",
      "\t\tCONNECTION=0\n",
      "\t\tIO_ERROR=0\n",
      "\t\tWRONG_LENGTH=0\n",
      "\t\tWRONG_MAP=0\n",
      "\t\tWRONG_REDUCE=0\n",
      "\tFile Input Format Counters \n",
      "\t\tBytes Read=9889\n",
      "\tFile Output Format Counters \n",
      "\t\tBytes Written=10890\n",
      "16/01/23 13:24:12 INFO streaming.StreamJob: Output directory: integerOutput\n"
     ]
    }
   ],
   "source": [
    "!hadoop jar /usr/local/Cellar/hadoop/2.7.1/libexec/share/hadoop/tools/lib/hadoop-streaming-2.7.1.jar \\\n",
    "-D mapred.output.key.comparator.class=org.apache.hadoop.mapred.lib.KeyFieldBasedComparator \\\n",
    "-D  mapred.text.key.comparator.options=-n \\\n",
    "-mapper mapper.py \\\n",
    "-reducer reducer.py \\\n",
    "-input integer.txt \\\n",
    "-output integerOutput"
   ]
  },
  {
   "cell_type": "code",
   "execution_count": 27,
   "metadata": {
    "collapsed": false
   },
   "outputs": [],
   "source": [
    "#show results\n",
    "#!hdfs dfs -cat /user/dunmireg/integerOutput/part-00000"
   ]
  },
  {
   "cell_type": "code",
   "execution_count": 12,
   "metadata": {
    "collapsed": false
   },
   "outputs": [
    {
     "name": "stdout",
     "output_type": "stream",
     "text": [
      "rmr: DEPRECATED: Please use 'rm -r' instead.\n",
      "16/01/23 13:24:31 WARN util.NativeCodeLoader: Unable to load native-hadoop library for your platform... using builtin-java classes where applicable\n",
      "16/01/23 13:24:32 INFO fs.TrashPolicyDefault: Namenode trash configuration: Deletion interval = 0 minutes, Emptier interval = 0 minutes.\n",
      "Deleted /user/dunmireg/integer.txt\n",
      "rmr: DEPRECATED: Please use 'rm -r' instead.\n",
      "16/01/23 13:24:33 WARN util.NativeCodeLoader: Unable to load native-hadoop library for your platform... using builtin-java classes where applicable\n",
      "16/01/23 13:24:34 INFO fs.TrashPolicyDefault: Namenode trash configuration: Deletion interval = 0 minutes, Emptier interval = 0 minutes.\n",
      "Deleted /user/dunmireg/integerOutput\n",
      "stopping yarn daemons\n",
      "stopping resourcemanager\n",
      "localhost: stopping nodemanager\n",
      "no proxyserver to stop\n",
      "16/01/23 13:24:46 WARN util.NativeCodeLoader: Unable to load native-hadoop library for your platform... using builtin-java classes where applicable\n",
      "Stopping namenodes on [localhost]\n",
      "localhost: stopping namenode\n",
      "localhost: stopping datanode\n",
      "Stopping secondary namenodes [0.0.0.0]\n",
      "0.0.0.0: stopping secondarynamenode\n",
      "16/01/23 13:25:04 WARN util.NativeCodeLoader: Unable to load native-hadoop library for your platform... using builtin-java classes where applicable\n"
     ]
    }
   ],
   "source": [
    "#Remove output directory and stop yarn and hdfs\n",
    "!hadoop fs -rmr /user/dunmireg/integer.txt #check\n",
    "!hadoop fs -rmr /user/dunmireg/integerOutput\n",
    "!/usr/local/Cellar/hadoop/2.7.1/sbin/stop-yarn.sh\n",
    "!/usr/local/Cellar/hadoop/2.7.1/sbin/stop-dfs.sh"
   ]
  },
  {
   "cell_type": "markdown",
   "metadata": {
    "collapsed": true
   },
   "source": [
    "### Question 2.2\n",
    "Using the Enron data from HW1 and Hadoop MapReduce streaming, write the mapper/reducer job that  will determine the word count (number of occurrences) of each white-space delimitted token (assume spaces, fullstops, comma as delimiters). Examine the word “assistance” and report its word count results.\n",
    "\n",
    " \n",
    "CROSSCHECK: >grep assistance enronemail_1h.txt|cut -d$'\\t' -f4| grep assistance|wc -l    \n",
    "       8    \n",
    "       #NOTE  \"assistance\" occurs on 8 lines but how many times does the token occur? 10 times! This is the number we are looking for!\n",
    "\n",
    "__HW2.2.1__  Using Hadoop MapReduce and your wordcount job (from HW2.2) determine the top-10 occurring tokens (most frequent tokens)"
   ]
  },
  {
   "cell_type": "code",
   "execution_count": 1,
   "metadata": {
    "collapsed": false
   },
   "outputs": [
    {
     "name": "stdout",
     "output_type": "stream",
     "text": [
      "Overwriting mapper.py\n"
     ]
    }
   ],
   "source": [
    "%%writefile mapper.py\n",
    "#!/usr/bin/python\n",
    "#Credit to the test notebook provided by Professor Shanahan for structure of mapper and reducer\n",
    "import sys\n",
    "import re\n",
    "\n",
    "WORD_RE = re.compile(r\"[\\w']+\") #regex for matching to word\n",
    "# input comes from STDIN (standard input)\n",
    "for line in sys.stdin:\n",
    "    # remove leading and trailing whitespace\n",
    "    line = line.strip()\n",
    "    #split line into subcomponents by tab, ID + spam flag + subject + content\n",
    "    components = line.split('\\t')\n",
    "    text = components[2] + components[3] #combine subject and content\n",
    "    # increase counters\n",
    "    for word in WORD_RE.findall(text):\n",
    "        # write the results to STDOUT (standard output);\n",
    "        # what we output here will be the input for the\n",
    "        # Reduce step, i.e. the input for reducer.py\n",
    "        #\n",
    "        # tab-delimited; the trivial word count is 1\n",
    "        print '%s\\t%s' % (word, 1)"
   ]
  },
  {
   "cell_type": "code",
   "execution_count": 29,
   "metadata": {
    "collapsed": false
   },
   "outputs": [
    {
     "name": "stdout",
     "output_type": "stream",
     "text": [
      "Overwriting mapper_sort.py\n"
     ]
    }
   ],
   "source": [
    "%%writefile mapper_sort.py\n",
    "#!/usr/bin/python\n",
    "import sys\n",
    "# input comes from STDIN (standard input)\n",
    "for line in sys.stdin:\n",
    "    word, count = line.split('\\t') #split into components of word, count\n",
    "    print '%s\\t%s' % (count, word) #print result to STDOUT for input to reducer"
   ]
  },
  {
   "cell_type": "code",
   "execution_count": 3,
   "metadata": {
    "collapsed": false
   },
   "outputs": [
    {
     "name": "stdout",
     "output_type": "stream",
     "text": [
      "Overwriting reducer.py\n"
     ]
    }
   ],
   "source": [
    "%%writefile reducer.py\n",
    "#!/usr/bin/python\n",
    "#Credit to Professor Shanahan's example code for inspiration for this reducer\n",
    "from operator import itemgetter\n",
    "import sys\n",
    "\n",
    "current_word = None\n",
    "current_count = 0\n",
    "word = None\n",
    "\n",
    "# input comes from STDIN\n",
    "for line in sys.stdin:\n",
    "    # remove leading and trailing whitespace\n",
    "    line = line.strip()\n",
    "\n",
    "    # parse the input we got from mapper.py\n",
    "    word, count = line.split('\\t', 1)\n",
    "\n",
    "    # convert count (currently a string) to int\n",
    "    try:\n",
    "        count = int(count)\n",
    "    except ValueError:\n",
    "        # count was not a number, so silently\n",
    "        # ignore/discard this line\n",
    "        continue\n",
    "\n",
    "    # this IF-switch only works because Hadoop sorts map output\n",
    "    # by key (here: word) before it is passed to the reducer\n",
    "    if current_word == word:\n",
    "        current_count += count\n",
    "    else:\n",
    "        if current_word:\n",
    "            # write result to STDOUT\n",
    "            print '%s\\t%s' % (current_word, current_count)\n",
    "        current_count = count\n",
    "        current_word = word\n",
    "\n",
    "# do not forget to output the last word if needed!\n",
    "if current_word == word:\n",
    "    print '%s\\t%s' % (current_word, current_count)"
   ]
  },
  {
   "cell_type": "code",
   "execution_count": 17,
   "metadata": {
    "collapsed": false
   },
   "outputs": [
    {
     "name": "stdout",
     "output_type": "stream",
     "text": [
      "Overwriting reducer_sort.py\n"
     ]
    }
   ],
   "source": [
    "%%writefile reducer_sort.py\n",
    "#!/usr/bin/python\n",
    "import sys\n",
    "\n",
    "# input comes from STDIN\n",
    "for line in sys.stdin:\n",
    "\n",
    "    # parse the input we got from mapper.py\n",
    "    count, word = line.split('\\t')\n",
    "    \n",
    "    print word + ', ' + count"
   ]
  },
  {
   "cell_type": "code",
   "execution_count": 28,
   "metadata": {
    "collapsed": false
   },
   "outputs": [],
   "source": [
    "#Test mapper and reducer\n",
    "#!cat enronemail_1h.txt | python mapper.py | sort -k1,1 | python reducer.py | python mapper_sort.py | sort -n -k1,1"
   ]
  },
  {
   "cell_type": "code",
   "execution_count": 10,
   "metadata": {
    "collapsed": false
   },
   "outputs": [
    {
     "name": "stdout",
     "output_type": "stream",
     "text": [
      "starting yarn daemons\n",
      "starting resourcemanager, logging to /usr/local/Cellar/hadoop/2.7.1/libexec/logs/yarn-dunmireg-resourcemanager-Glenns-Air.home.out\n",
      "localhost: starting nodemanager, logging to /usr/local/Cellar/hadoop/2.7.1/libexec/logs/yarn-dunmireg-nodemanager-Glenns-Air.home.out\n",
      "16/01/23 15:18:18 WARN util.NativeCodeLoader: Unable to load native-hadoop library for your platform... using builtin-java classes where applicable\n",
      "Starting namenodes on [localhost]\n",
      "localhost: starting namenode, logging to /usr/local/Cellar/hadoop/2.7.1/libexec/logs/hadoop-dunmireg-namenode-Glenns-Air.home.out\n",
      "localhost: starting datanode, logging to /usr/local/Cellar/hadoop/2.7.1/libexec/logs/hadoop-dunmireg-datanode-Glenns-Air.home.out\n",
      "Starting secondary namenodes [0.0.0.0]\n",
      "0.0.0.0: starting secondarynamenode, logging to /usr/local/Cellar/hadoop/2.7.1/libexec/logs/hadoop-dunmireg-secondarynamenode-Glenns-Air.home.out\n",
      "16/01/23 15:18:35 WARN util.NativeCodeLoader: Unable to load native-hadoop library for your platform... using builtin-java classes where applicable\n"
     ]
    }
   ],
   "source": [
    "#Start hadoop yarn\n",
    "!/usr/local/Cellar/hadoop/2.7.1/sbin/start-yarn.sh\n",
    "!/usr/local/Cellar/hadoop/2.7.1/sbin/start-dfs.sh"
   ]
  },
  {
   "cell_type": "code",
   "execution_count": 11,
   "metadata": {
    "collapsed": false
   },
   "outputs": [
    {
     "name": "stdout",
     "output_type": "stream",
     "text": [
      "16/01/23 15:18:48 WARN util.NativeCodeLoader: Unable to load native-hadoop library for your platform... using builtin-java classes where applicable\r\n"
     ]
    }
   ],
   "source": [
    "#add input to hdfs\n",
    "!hdfs dfs -put enronemail_1h.txt /user/dunmireg"
   ]
  },
  {
   "cell_type": "code",
   "execution_count": 12,
   "metadata": {
    "collapsed": false
   },
   "outputs": [
    {
     "name": "stdout",
     "output_type": "stream",
     "text": [
      "16/01/23 15:19:35 WARN util.NativeCodeLoader: Unable to load native-hadoop library for your platform... using builtin-java classes where applicable\n",
      "16/01/23 15:19:35 INFO Configuration.deprecation: session.id is deprecated. Instead, use dfs.metrics.session-id\n",
      "16/01/23 15:19:35 INFO jvm.JvmMetrics: Initializing JVM Metrics with processName=JobTracker, sessionId=\n",
      "16/01/23 15:19:35 INFO jvm.JvmMetrics: Cannot initialize JVM Metrics with processName=JobTracker, sessionId= - already initialized\n",
      "16/01/23 15:19:36 INFO mapred.FileInputFormat: Total input paths to process : 1\n",
      "16/01/23 15:19:36 INFO mapreduce.JobSubmitter: number of splits:1\n",
      "16/01/23 15:19:36 INFO mapreduce.JobSubmitter: Submitting tokens for job: job_local1865327339_0001\n",
      "16/01/23 15:19:36 INFO mapreduce.Job: The url to track the job: http://localhost:8080/\n",
      "16/01/23 15:19:36 INFO mapred.LocalJobRunner: OutputCommitter set in config null\n",
      "16/01/23 15:19:36 INFO mapred.LocalJobRunner: OutputCommitter is org.apache.hadoop.mapred.FileOutputCommitter\n",
      "16/01/23 15:19:36 INFO mapreduce.Job: Running job: job_local1865327339_0001\n",
      "16/01/23 15:19:36 INFO output.FileOutputCommitter: File Output Committer Algorithm version is 1\n",
      "16/01/23 15:19:36 INFO mapred.LocalJobRunner: Waiting for map tasks\n",
      "16/01/23 15:19:36 INFO mapred.LocalJobRunner: Starting task: attempt_local1865327339_0001_m_000000_0\n",
      "16/01/23 15:19:37 INFO output.FileOutputCommitter: File Output Committer Algorithm version is 1\n",
      "16/01/23 15:19:37 INFO util.ProcfsBasedProcessTree: ProcfsBasedProcessTree currently is supported only on Linux.\n",
      "16/01/23 15:19:37 INFO mapred.Task:  Using ResourceCalculatorProcessTree : null\n",
      "16/01/23 15:19:37 INFO mapred.MapTask: Processing split: hdfs://localhost:9000/user/dunmireg/enronemail_1h.txt:0+204658\n",
      "16/01/23 15:19:37 INFO mapred.MapTask: numReduceTasks: 1\n",
      "16/01/23 15:19:37 INFO mapred.MapTask: (EQUATOR) 0 kvi 26214396(104857584)\n",
      "16/01/23 15:19:37 INFO mapred.MapTask: mapreduce.task.io.sort.mb: 100\n",
      "16/01/23 15:19:37 INFO mapred.MapTask: soft limit at 83886080\n",
      "16/01/23 15:19:37 INFO mapred.MapTask: bufstart = 0; bufvoid = 104857600\n",
      "16/01/23 15:19:37 INFO mapred.MapTask: kvstart = 26214396; length = 6553600\n",
      "16/01/23 15:19:37 INFO mapred.MapTask: Map output collector class = org.apache.hadoop.mapred.MapTask$MapOutputBuffer\n",
      "16/01/23 15:19:37 INFO streaming.PipeMapRed: PipeMapRed exec [/Users/dunmireg/Documents/261HW/HW2/./mapper.py]\n",
      "16/01/23 15:19:37 INFO Configuration.deprecation: mapred.tip.id is deprecated. Instead, use mapreduce.task.id\n",
      "16/01/23 15:19:37 INFO Configuration.deprecation: mapred.local.dir is deprecated. Instead, use mapreduce.cluster.local.dir\n",
      "16/01/23 15:19:37 INFO Configuration.deprecation: map.input.file is deprecated. Instead, use mapreduce.map.input.file\n",
      "16/01/23 15:19:37 INFO Configuration.deprecation: mapred.skip.on is deprecated. Instead, use mapreduce.job.skiprecords\n",
      "16/01/23 15:19:37 INFO Configuration.deprecation: map.input.length is deprecated. Instead, use mapreduce.map.input.length\n",
      "16/01/23 15:19:37 INFO Configuration.deprecation: mapred.work.output.dir is deprecated. Instead, use mapreduce.task.output.dir\n",
      "16/01/23 15:19:37 INFO Configuration.deprecation: map.input.start is deprecated. Instead, use mapreduce.map.input.start\n",
      "16/01/23 15:19:37 INFO Configuration.deprecation: mapred.job.id is deprecated. Instead, use mapreduce.job.id\n",
      "16/01/23 15:19:37 INFO Configuration.deprecation: user.name is deprecated. Instead, use mapreduce.job.user.name\n",
      "16/01/23 15:19:37 INFO Configuration.deprecation: mapred.task.is.map is deprecated. Instead, use mapreduce.task.ismap\n",
      "16/01/23 15:19:37 INFO Configuration.deprecation: mapred.task.id is deprecated. Instead, use mapreduce.task.attempt.id\n",
      "16/01/23 15:19:37 INFO Configuration.deprecation: mapred.task.partition is deprecated. Instead, use mapreduce.task.partition\n",
      "16/01/23 15:19:37 INFO streaming.PipeMapRed: R/W/S=1/0/0 in:NA [rec/s] out:NA [rec/s]\n",
      "16/01/23 15:19:37 INFO streaming.PipeMapRed: R/W/S=10/0/0 in:NA [rec/s] out:NA [rec/s]\n",
      "16/01/23 15:19:37 INFO streaming.PipeMapRed: Records R/W=72/1\n",
      "16/01/23 15:19:37 INFO streaming.PipeMapRed: R/W/S=100/3338/0 in:NA [rec/s] out:NA [rec/s]\n",
      "16/01/23 15:19:37 INFO streaming.PipeMapRed: MRErrorThread done\n",
      "16/01/23 15:19:37 INFO streaming.PipeMapRed: mapRedFinished\n",
      "16/01/23 15:19:37 INFO mapred.LocalJobRunner: \n",
      "16/01/23 15:19:37 INFO mapred.MapTask: Starting flush of map output\n",
      "16/01/23 15:19:37 INFO mapred.MapTask: Spilling map output\n",
      "16/01/23 15:19:37 INFO mapred.MapTask: bufstart = 0; bufend = 252205; bufvoid = 104857600\n",
      "16/01/23 15:19:37 INFO mapred.MapTask: kvstart = 26214396(104857584); kvend = 26082756(104331024); length = 131641/6553600\n",
      "16/01/23 15:19:37 INFO mapred.MapTask: Finished spill 0\n",
      "16/01/23 15:19:37 INFO mapred.Task: Task:attempt_local1865327339_0001_m_000000_0 is done. And is in the process of committing\n",
      "16/01/23 15:19:37 INFO mapred.LocalJobRunner: Records R/W=72/1\n",
      "16/01/23 15:19:37 INFO mapred.Task: Task 'attempt_local1865327339_0001_m_000000_0' done.\n",
      "16/01/23 15:19:37 INFO mapred.LocalJobRunner: Finishing task: attempt_local1865327339_0001_m_000000_0\n",
      "16/01/23 15:19:37 INFO mapred.LocalJobRunner: map task executor complete.\n",
      "16/01/23 15:19:37 INFO mapred.LocalJobRunner: Waiting for reduce tasks\n",
      "16/01/23 15:19:37 INFO mapred.LocalJobRunner: Starting task: attempt_local1865327339_0001_r_000000_0\n",
      "16/01/23 15:19:37 INFO output.FileOutputCommitter: File Output Committer Algorithm version is 1\n",
      "16/01/23 15:19:37 INFO util.ProcfsBasedProcessTree: ProcfsBasedProcessTree currently is supported only on Linux.\n",
      "16/01/23 15:19:37 INFO mapred.Task:  Using ResourceCalculatorProcessTree : null\n",
      "16/01/23 15:19:37 INFO mapred.ReduceTask: Using ShuffleConsumerPlugin: org.apache.hadoop.mapreduce.task.reduce.Shuffle@d7d5f7\n",
      "16/01/23 15:19:37 INFO reduce.MergeManagerImpl: MergerManager: memoryLimit=334338464, maxSingleShuffleLimit=83584616, mergeThreshold=220663392, ioSortFactor=10, memToMemMergeOutputsThreshold=10\n",
      "16/01/23 15:19:37 INFO reduce.EventFetcher: attempt_local1865327339_0001_r_000000_0 Thread started: EventFetcher for fetching Map Completion Events\n",
      "16/01/23 15:19:37 INFO reduce.LocalFetcher: localfetcher#1 about to shuffle output of map attempt_local1865327339_0001_m_000000_0 decomp: 318029 len: 318033 to MEMORY\n",
      "16/01/23 15:19:37 INFO reduce.InMemoryMapOutput: Read 318029 bytes from map-output for attempt_local1865327339_0001_m_000000_0\n",
      "16/01/23 15:19:37 INFO reduce.MergeManagerImpl: closeInMemoryFile -> map-output of size: 318029, inMemoryMapOutputs.size() -> 1, commitMemory -> 0, usedMemory ->318029\n",
      "16/01/23 15:19:37 INFO reduce.EventFetcher: EventFetcher is interrupted.. Returning\n",
      "16/01/23 15:19:37 INFO mapred.LocalJobRunner: 1 / 1 copied.\n",
      "16/01/23 15:19:37 INFO reduce.MergeManagerImpl: finalMerge called with 1 in-memory map-outputs and 0 on-disk map-outputs\n",
      "16/01/23 15:19:37 INFO mapred.Merger: Merging 1 sorted segments\n",
      "16/01/23 15:19:37 INFO mapred.Merger: Down to the last merge-pass, with 1 segments left of total size: 318025 bytes\n",
      "16/01/23 15:19:37 INFO reduce.MergeManagerImpl: Merged 1 segments, 318029 bytes to disk to satisfy reduce memory limit\n",
      "16/01/23 15:19:37 INFO reduce.MergeManagerImpl: Merging 1 files, 318033 bytes from disk\n",
      "16/01/23 15:19:37 INFO reduce.MergeManagerImpl: Merging 0 segments, 0 bytes from memory into reduce\n",
      "16/01/23 15:19:37 INFO mapred.Merger: Merging 1 sorted segments\n",
      "16/01/23 15:19:37 INFO mapred.Merger: Down to the last merge-pass, with 1 segments left of total size: 318025 bytes\n",
      "16/01/23 15:19:37 INFO mapred.LocalJobRunner: 1 / 1 copied.\n",
      "16/01/23 15:19:37 INFO streaming.PipeMapRed: PipeMapRed exec [/Users/dunmireg/Documents/261HW/HW2/./reducer.py]\n",
      "16/01/23 15:19:37 INFO Configuration.deprecation: mapred.job.tracker is deprecated. Instead, use mapreduce.jobtracker.address\n",
      "16/01/23 15:19:37 INFO Configuration.deprecation: mapred.map.tasks is deprecated. Instead, use mapreduce.job.maps\n",
      "16/01/23 15:19:37 INFO streaming.PipeMapRed: R/W/S=1/0/0 in:NA [rec/s] out:NA [rec/s]\n",
      "16/01/23 15:19:37 INFO streaming.PipeMapRed: R/W/S=10/0/0 in:NA [rec/s] out:NA [rec/s]\n",
      "16/01/23 15:19:37 INFO streaming.PipeMapRed: R/W/S=100/0/0 in:NA [rec/s] out:NA [rec/s]\n",
      "16/01/23 15:19:37 INFO streaming.PipeMapRed: R/W/S=1000/0/0 in:NA [rec/s] out:NA [rec/s]\n",
      "16/01/23 15:19:37 INFO streaming.PipeMapRed: R/W/S=10000/0/0 in:NA [rec/s] out:NA [rec/s]\n",
      "16/01/23 15:19:37 INFO streaming.PipeMapRed: Records R/W=20019/1\n",
      "16/01/23 15:19:37 INFO mapreduce.Job: Job job_local1865327339_0001 running in uber mode : false\n",
      "16/01/23 15:19:37 INFO mapreduce.Job:  map 100% reduce 0%\n",
      "16/01/23 15:19:37 INFO streaming.PipeMapRed: MRErrorThread done\n",
      "16/01/23 15:19:37 INFO streaming.PipeMapRed: mapRedFinished\n",
      "16/01/23 15:19:38 INFO mapred.Task: Task:attempt_local1865327339_0001_r_000000_0 is done. And is in the process of committing\n",
      "16/01/23 15:19:38 INFO mapred.LocalJobRunner: 1 / 1 copied.\n",
      "16/01/23 15:19:38 INFO mapred.Task: Task attempt_local1865327339_0001_r_000000_0 is allowed to commit now\n",
      "16/01/23 15:19:38 INFO output.FileOutputCommitter: Saved output of task 'attempt_local1865327339_0001_r_000000_0' to hdfs://localhost:9000/user/dunmireg/enroneEmailWordCountOutput/_temporary/0/task_local1865327339_0001_r_000000\n",
      "16/01/23 15:19:38 INFO mapred.LocalJobRunner: Records R/W=20019/1 > reduce\n",
      "16/01/23 15:19:38 INFO mapred.Task: Task 'attempt_local1865327339_0001_r_000000_0' done.\n",
      "16/01/23 15:19:38 INFO mapred.LocalJobRunner: Finishing task: attempt_local1865327339_0001_r_000000_0\n",
      "16/01/23 15:19:38 INFO mapred.LocalJobRunner: reduce task executor complete.\n",
      "16/01/23 15:19:38 INFO mapreduce.Job:  map 100% reduce 100%\n",
      "16/01/23 15:19:38 INFO mapreduce.Job: Job job_local1865327339_0001 completed successfully\n",
      "16/01/23 15:19:38 INFO mapreduce.Job: Counters: 35\n",
      "\tFile System Counters\n",
      "\t\tFILE: Number of bytes read=848182\n",
      "\t\tFILE: Number of bytes written=1755951\n",
      "\t\tFILE: Number of read operations=0\n",
      "\t\tFILE: Number of large read operations=0\n",
      "\t\tFILE: Number of write operations=0\n",
      "\t\tHDFS: Number of bytes read=409316\n",
      "\t\tHDFS: Number of bytes written=53511\n",
      "\t\tHDFS: Number of read operations=13\n",
      "\t\tHDFS: Number of large read operations=0\n",
      "\t\tHDFS: Number of write operations=4\n",
      "\tMap-Reduce Framework\n",
      "\t\tMap input records=100\n",
      "\t\tMap output records=32911\n",
      "\t\tMap output bytes=252205\n",
      "\t\tMap output materialized bytes=318033\n",
      "\t\tInput split bytes=105\n",
      "\t\tCombine input records=0\n",
      "\t\tCombine output records=0\n",
      "\t\tReduce input groups=5493\n",
      "\t\tReduce shuffle bytes=318033\n",
      "\t\tReduce input records=32911\n",
      "\t\tReduce output records=5493\n",
      "\t\tSpilled Records=65822\n",
      "\t\tShuffled Maps =1\n",
      "\t\tFailed Shuffles=0\n",
      "\t\tMerged Map outputs=1\n",
      "\t\tGC time elapsed (ms)=5\n",
      "\t\tTotal committed heap usage (bytes)=511180800\n",
      "\tShuffle Errors\n",
      "\t\tBAD_ID=0\n",
      "\t\tCONNECTION=0\n",
      "\t\tIO_ERROR=0\n",
      "\t\tWRONG_LENGTH=0\n",
      "\t\tWRONG_MAP=0\n",
      "\t\tWRONG_REDUCE=0\n",
      "\tFile Input Format Counters \n",
      "\t\tBytes Read=204658\n",
      "\tFile Output Format Counters \n",
      "\t\tBytes Written=53511\n",
      "16/01/23 15:19:38 INFO streaming.StreamJob: Output directory: enroneEmailWordCountOutput\n"
     ]
    }
   ],
   "source": [
    "!hadoop jar /usr/local/Cellar/hadoop/2.7.1/libexec/share/hadoop/tools/lib/hadoop-streaming-2.7.1.jar \\\n",
    "-mapper mapper.py \\\n",
    "-reducer reducer.py \\\n",
    "-input enronemail_1h.txt \\\n",
    "-output enroneEmailWordCountOutput"
   ]
  },
  {
   "cell_type": "code",
   "execution_count": 29,
   "metadata": {
    "collapsed": false
   },
   "outputs": [],
   "source": [
    "#show results\n",
    "#!hdfs dfs -cat /user/dunmireg/enroneEmailWordCountOutput/part-00000"
   ]
  },
  {
   "cell_type": "code",
   "execution_count": 14,
   "metadata": {
    "collapsed": false
   },
   "outputs": [
    {
     "name": "stdout",
     "output_type": "stream",
     "text": [
      "rmr: DEPRECATED: Please use 'rm -r' instead.\n",
      "16/01/23 15:25:21 WARN util.NativeCodeLoader: Unable to load native-hadoop library for your platform... using builtin-java classes where applicable\n",
      "16/01/23 15:25:22 INFO fs.TrashPolicyDefault: Namenode trash configuration: Deletion interval = 0 minutes, Emptier interval = 0 minutes.\n",
      "Deleted /user/dunmireg/enroneEmailWordCountOutput\n",
      "stopping yarn daemons\n",
      "stopping resourcemanager\n",
      "localhost: stopping nodemanager\n",
      "no proxyserver to stop\n",
      "16/01/23 15:25:33 WARN util.NativeCodeLoader: Unable to load native-hadoop library for your platform... using builtin-java classes where applicable\n",
      "Stopping namenodes on [localhost]\n",
      "localhost: stopping namenode\n",
      "localhost: stopping datanode\n",
      "Stopping secondary namenodes [0.0.0.0]\n",
      "0.0.0.0: stopping secondarynamenode\n",
      "16/01/23 15:25:52 WARN util.NativeCodeLoader: Unable to load native-hadoop library for your platform... using builtin-java classes where applicable\n"
     ]
    }
   ],
   "source": [
    "#Remove output directory and stop yarn and hdfs\n",
    "!hadoop fs -rmr /user/dunmireg/enronemail_1h.txt #check\n",
    "!hadoop fs -rmr /user/dunmireg/enroneEmailWordCountOutput\n",
    "!/usr/local/Cellar/hadoop/2.7.1/sbin/stop-yarn.sh\n",
    "!/usr/local/Cellar/hadoop/2.7.1/sbin/stop-dfs.sh"
   ]
  },
  {
   "cell_type": "markdown",
   "metadata": {
    "collapsed": true
   },
   "source": [
    "### HW2.3. Multinomial NAIVE BAYES with NO Smoothing\n",
    "Using the Enron data from HW1 and Hadoop MapReduce, write  a mapper/reducer job(s) that\n",
    "   will both learn  Naive Bayes classifier and classify the Enron email messages using the learnt Naive Bayes classifier. Use all white-space delimitted tokens as independent input variables (assume spaces, fullstops, commas as delimiters). Note: for multinomial Naive Bayes, the Pr(X=“assistance”|Y=SPAM) is calculated as follows:\n",
    "\n",
    "   the number of times “assistance” occurs in SPAM labeled documents / the number of words in documents labeled SPAM \n",
    "\n",
    "   E.g.,   “assistance” occurs 5 times in all of the documents Labeled SPAM, and the length in terms of the number of words in all documents labeled as SPAM (when concatenated) is 1,000. Then Pr(X=“assistance”|Y=SPAM) = 5/1000. Note this is a multinomial estimation of the class conditional for a Naive Bayes Classifier. No smoothing is needed in this HW. Multiplying lots of probabilities, which are between 0 and 1, can result in floating-point underflow. Since log(xy) = log(x) + log(y), it is better to perform all computations by summing logs of probabilities rather than multiplying probabilities. Please pay attention to probabilites that are zero! They will need special attention. Count up how many times you need to process a zero probabilty for each class and report. \n",
    "\n",
    "   Report the performance of your learnt classifier in terms of misclassifcation error rate of your multinomial Naive Bayes Classifier. Plot a histogram of the posterior probabilities (i.e., Pr(Class|Doc)) for each class over the training set. Summarize what you see. \n",
    "\n",
    "   Error Rate = misclassification rate with respect to a provided set (say training set in this case). It is more formally defined here:\n",
    "\n",
    "Let DF represent the evalution set in the following:\n",
    "Err(Model, DF) = |{(X, c(X)) ∈ DF : c(X) != Model(x)}|   / |DF|\n",
    "\n",
    "Where || denotes set cardinality; c(X) denotes the class of the tuple X in DF; and Model(X) denotes the class inferred by the Model “Model”\n"
   ]
  },
  {
   "cell_type": "code",
   "execution_count": 29,
   "metadata": {
    "collapsed": false
   },
   "outputs": [
    {
     "name": "stdout",
     "output_type": "stream",
     "text": [
      "Overwriting mapper.py\n"
     ]
    }
   ],
   "source": [
    "%%writefile mapper.py\n",
    "#!/usr/bin/python\n",
    "\n",
    "import sys\n",
    "import re\n",
    "WORD_RE = re.compile(r\"[\\w']+\")\n",
    "\n",
    "for line in sys.stdin:\n",
    "    components = line.split('\\t')\n",
    "    text = \" \".join(components[-2:]).strip()\n",
    "    words = re.findall(WORD_RE, text)\n",
    "    for word in words:\n",
    "        print components[0] + '\\t' + word + '\\t' + components[1]"
   ]
  },
  {
   "cell_type": "code",
   "execution_count": 30,
   "metadata": {
    "collapsed": true
   },
   "outputs": [],
   "source": [
    "!chmod a+x mapper.py"
   ]
  },
  {
   "cell_type": "code",
   "execution_count": 31,
   "metadata": {
    "collapsed": false
   },
   "outputs": [
    {
     "name": "stdout",
     "output_type": "stream",
     "text": [
      "Overwriting reducer.py\n"
     ]
    }
   ],
   "source": [
    "%%writefile reducer.py\n",
    "#!/usr/bin/python\n",
    "import sys\n",
    "\n",
    "emails = set() #hold email IDs\n",
    "words = {} #hold words and associated counts\n",
    "spam_emails = 0 #how many emails are marked as spam\n",
    "spam_word_count = 0\n",
    "ham_word_count = 0\n",
    "\n",
    "for line in sys.stdin:\n",
    "    components = line.split('\\t')\n",
    "    \n",
    "    ID = components[0]\n",
    "    word = components[1]\n",
    "    spam = int(components[2])\n",
    "    \n",
    "    if word not in words.keys():\n",
    "        words[word] = {'spam_count': 0, 'ham_count': 0}\n",
    "    if ID not in emails:\n",
    "        emails.add(ID)\n",
    "        if spam == 1:\n",
    "            spam_emails += 1\n",
    "        \n",
    "\n",
    "    if spam == 1:\n",
    "        words[word]['spam_count'] += 1\n",
    "        spam_word_count += 1\n",
    "    else:\n",
    "        words[word]['ham_count'] += 1\n",
    "        ham_word_count += 1\n",
    "\n",
    "\n",
    "prior_spam = float(spam_emails)/len(emails)\n",
    "prior_ham = 1-prior_spam\n",
    "\n",
    "for i, word in words.iteritems():\n",
    "    word['spam_like'] = float(word['spam_count'])/(spam_word_count)\n",
    "    word['ham_like'] = float(word['ham_count'])/(ham_word_count)\n",
    "    \n",
    "\n",
    "print prior_spam\n",
    "print prior_ham\n",
    "for word in words.keys():\n",
    "    #Word \"\\t\" spam likelihood '\\t' ham likelihood written to file\n",
    "    print word + '\\t' + str(words[word]['spam_like']) + '\\t' + str(words[word]['ham_like'])"
   ]
  },
  {
   "cell_type": "code",
   "execution_count": 32,
   "metadata": {
    "collapsed": true
   },
   "outputs": [],
   "source": [
    "!chmod a+x reducer.py"
   ]
  },
  {
   "cell_type": "code",
   "execution_count": 30,
   "metadata": {
    "collapsed": false
   },
   "outputs": [],
   "source": [
    "#Examine output\n",
    "#!cat enronemail_1h.txt | python mapper.py | python reducer.py"
   ]
  },
  {
   "cell_type": "code",
   "execution_count": 41,
   "metadata": {
    "collapsed": false
   },
   "outputs": [
    {
     "name": "stdout",
     "output_type": "stream",
     "text": [
      "starting yarn daemons\n",
      "starting resourcemanager, logging to /usr/local/Cellar/hadoop/2.7.1/libexec/logs/yarn-dunmireg-resourcemanager-Glenns-Air.home.out\n",
      "localhost: starting nodemanager, logging to /usr/local/Cellar/hadoop/2.7.1/libexec/logs/yarn-dunmireg-nodemanager-Glenns-Air.home.out\n",
      "16/01/24 21:21:15 WARN util.NativeCodeLoader: Unable to load native-hadoop library for your platform... using builtin-java classes where applicable\n",
      "Starting namenodes on [localhost]\n",
      "localhost: starting namenode, logging to /usr/local/Cellar/hadoop/2.7.1/libexec/logs/hadoop-dunmireg-namenode-Glenns-Air.home.out\n",
      "localhost: starting datanode, logging to /usr/local/Cellar/hadoop/2.7.1/libexec/logs/hadoop-dunmireg-datanode-Glenns-Air.home.out\n",
      "Starting secondary namenodes [0.0.0.0]\n",
      "0.0.0.0: starting secondarynamenode, logging to /usr/local/Cellar/hadoop/2.7.1/libexec/logs/hadoop-dunmireg-secondarynamenode-Glenns-Air.home.out\n",
      "16/01/24 21:21:31 WARN util.NativeCodeLoader: Unable to load native-hadoop library for your platform... using builtin-java classes where applicable\n"
     ]
    }
   ],
   "source": [
    "#Start hadoop yarn\n",
    "!/usr/local/Cellar/hadoop/2.7.1/sbin/start-yarn.sh\n",
    "!/usr/local/Cellar/hadoop/2.7.1/sbin/start-dfs.sh"
   ]
  },
  {
   "cell_type": "code",
   "execution_count": 42,
   "metadata": {
    "collapsed": false
   },
   "outputs": [
    {
     "name": "stdout",
     "output_type": "stream",
     "text": [
      "16/01/24 21:21:34 WARN util.NativeCodeLoader: Unable to load native-hadoop library for your platform... using builtin-java classes where applicable\r\n"
     ]
    }
   ],
   "source": [
    "#make directory\n",
    "!hdfs dfs -mkdir -p /user/dunmireg"
   ]
  },
  {
   "cell_type": "code",
   "execution_count": 43,
   "metadata": {
    "collapsed": false
   },
   "outputs": [
    {
     "name": "stdout",
     "output_type": "stream",
     "text": [
      "16/01/24 21:21:38 WARN util.NativeCodeLoader: Unable to load native-hadoop library for your platform... using builtin-java classes where applicable\n",
      "put: `/user/dunmireg/enronemail_1h.txt': File exists\n"
     ]
    }
   ],
   "source": [
    "#add input to hdfs\n",
    "!hdfs dfs -put enronemail_1h.txt /user/dunmireg"
   ]
  },
  {
   "cell_type": "code",
   "execution_count": 44,
   "metadata": {
    "collapsed": false
   },
   "outputs": [
    {
     "name": "stdout",
     "output_type": "stream",
     "text": [
      "16/01/24 21:21:41 WARN util.NativeCodeLoader: Unable to load native-hadoop library for your platform... using builtin-java classes where applicable\n",
      "16/01/24 21:21:42 INFO Configuration.deprecation: session.id is deprecated. Instead, use dfs.metrics.session-id\n",
      "16/01/24 21:21:42 INFO jvm.JvmMetrics: Initializing JVM Metrics with processName=JobTracker, sessionId=\n",
      "16/01/24 21:21:42 INFO jvm.JvmMetrics: Cannot initialize JVM Metrics with processName=JobTracker, sessionId= - already initialized\n",
      "16/01/24 21:21:42 INFO mapred.FileInputFormat: Total input paths to process : 1\n",
      "16/01/24 21:21:42 INFO mapreduce.JobSubmitter: number of splits:1\n",
      "16/01/24 21:21:42 INFO mapreduce.JobSubmitter: Submitting tokens for job: job_local1023877301_0001\n",
      "16/01/24 21:21:43 INFO mapred.LocalJobRunner: OutputCommitter set in config null\n",
      "16/01/24 21:21:43 INFO mapreduce.Job: The url to track the job: http://localhost:8080/\n",
      "16/01/24 21:21:43 INFO mapred.LocalJobRunner: OutputCommitter is org.apache.hadoop.mapred.FileOutputCommitter\n",
      "16/01/24 21:21:43 INFO output.FileOutputCommitter: File Output Committer Algorithm version is 1\n",
      "16/01/24 21:21:43 INFO mapreduce.Job: Running job: job_local1023877301_0001\n",
      "16/01/24 21:21:43 INFO mapred.LocalJobRunner: Waiting for map tasks\n",
      "16/01/24 21:21:43 INFO mapred.LocalJobRunner: Starting task: attempt_local1023877301_0001_m_000000_0\n",
      "16/01/24 21:21:43 INFO output.FileOutputCommitter: File Output Committer Algorithm version is 1\n",
      "16/01/24 21:21:43 INFO util.ProcfsBasedProcessTree: ProcfsBasedProcessTree currently is supported only on Linux.\n",
      "16/01/24 21:21:43 INFO mapred.Task:  Using ResourceCalculatorProcessTree : null\n",
      "16/01/24 21:21:43 INFO mapred.MapTask: Processing split: hdfs://localhost:9000/user/dunmireg/enronemail_1h.txt:0+204658\n",
      "16/01/24 21:21:43 INFO mapred.MapTask: numReduceTasks: 1\n",
      "16/01/24 21:21:43 INFO mapred.MapTask: (EQUATOR) 0 kvi 26214396(104857584)\n",
      "16/01/24 21:21:43 INFO mapred.MapTask: mapreduce.task.io.sort.mb: 100\n",
      "16/01/24 21:21:43 INFO mapred.MapTask: soft limit at 83886080\n",
      "16/01/24 21:21:43 INFO mapred.MapTask: bufstart = 0; bufvoid = 104857600\n",
      "16/01/24 21:21:43 INFO mapred.MapTask: kvstart = 26214396; length = 6553600\n",
      "16/01/24 21:21:43 INFO mapred.MapTask: Map output collector class = org.apache.hadoop.mapred.MapTask$MapOutputBuffer\n",
      "16/01/24 21:21:43 INFO streaming.PipeMapRed: PipeMapRed exec [/Users/dunmireg/Documents/261HW/HW2/./mapper.py]\n",
      "16/01/24 21:21:43 INFO Configuration.deprecation: mapred.tip.id is deprecated. Instead, use mapreduce.task.id\n",
      "16/01/24 21:21:43 INFO Configuration.deprecation: mapred.local.dir is deprecated. Instead, use mapreduce.cluster.local.dir\n",
      "16/01/24 21:21:43 INFO Configuration.deprecation: map.input.file is deprecated. Instead, use mapreduce.map.input.file\n",
      "16/01/24 21:21:43 INFO Configuration.deprecation: mapred.skip.on is deprecated. Instead, use mapreduce.job.skiprecords\n",
      "16/01/24 21:21:43 INFO Configuration.deprecation: map.input.length is deprecated. Instead, use mapreduce.map.input.length\n",
      "16/01/24 21:21:43 INFO Configuration.deprecation: mapred.work.output.dir is deprecated. Instead, use mapreduce.task.output.dir\n",
      "16/01/24 21:21:43 INFO Configuration.deprecation: map.input.start is deprecated. Instead, use mapreduce.map.input.start\n",
      "16/01/24 21:21:43 INFO Configuration.deprecation: mapred.job.id is deprecated. Instead, use mapreduce.job.id\n",
      "16/01/24 21:21:43 INFO Configuration.deprecation: user.name is deprecated. Instead, use mapreduce.job.user.name\n",
      "16/01/24 21:21:43 INFO Configuration.deprecation: mapred.task.is.map is deprecated. Instead, use mapreduce.task.ismap\n",
      "16/01/24 21:21:43 INFO Configuration.deprecation: mapred.task.id is deprecated. Instead, use mapreduce.task.attempt.id\n",
      "16/01/24 21:21:43 INFO Configuration.deprecation: mapred.task.partition is deprecated. Instead, use mapreduce.task.partition\n",
      "16/01/24 21:21:43 INFO streaming.PipeMapRed: R/W/S=1/0/0 in:NA [rec/s] out:NA [rec/s]\n",
      "16/01/24 21:21:43 INFO streaming.PipeMapRed: R/W/S=10/0/0 in:NA [rec/s] out:NA [rec/s]\n",
      "16/01/24 21:21:43 INFO streaming.PipeMapRed: Records R/W=72/1\n",
      "16/01/24 21:21:43 INFO streaming.PipeMapRed: R/W/S=100/8672/0 in:NA [rec/s] out:NA [rec/s]\n",
      "16/01/24 21:21:43 INFO streaming.PipeMapRed: MRErrorThread done\n",
      "16/01/24 21:21:43 INFO streaming.PipeMapRed: mapRedFinished\n",
      "16/01/24 21:21:43 INFO mapred.LocalJobRunner: \n",
      "16/01/24 21:21:43 INFO mapred.MapTask: Starting flush of map output\n",
      "16/01/24 21:21:43 INFO mapred.MapTask: Spilling map output\n",
      "16/01/24 21:21:43 INFO mapred.MapTask: bufstart = 0; bufend = 1032108; bufvoid = 104857600\n",
      "16/01/24 21:21:43 INFO mapred.MapTask: kvstart = 26214396(104857584); kvend = 26082748(104330992); length = 131649/6553600\n",
      "16/01/24 21:21:43 INFO mapred.MapTask: Finished spill 0\n",
      "16/01/24 21:21:43 INFO mapred.Task: Task:attempt_local1023877301_0001_m_000000_0 is done. And is in the process of committing\n",
      "16/01/24 21:21:43 INFO mapred.LocalJobRunner: Records R/W=72/1\n",
      "16/01/24 21:21:43 INFO mapred.Task: Task 'attempt_local1023877301_0001_m_000000_0' done.\n",
      "16/01/24 21:21:43 INFO mapred.LocalJobRunner: Finishing task: attempt_local1023877301_0001_m_000000_0\n",
      "16/01/24 21:21:43 INFO mapred.LocalJobRunner: map task executor complete.\n",
      "16/01/24 21:21:43 INFO mapred.LocalJobRunner: Waiting for reduce tasks\n",
      "16/01/24 21:21:43 INFO mapred.LocalJobRunner: Starting task: attempt_local1023877301_0001_r_000000_0\n",
      "16/01/24 21:21:43 INFO output.FileOutputCommitter: File Output Committer Algorithm version is 1\n",
      "16/01/24 21:21:43 INFO util.ProcfsBasedProcessTree: ProcfsBasedProcessTree currently is supported only on Linux.\n",
      "16/01/24 21:21:43 INFO mapred.Task:  Using ResourceCalculatorProcessTree : null\n",
      "16/01/24 21:21:43 INFO mapred.ReduceTask: Using ShuffleConsumerPlugin: org.apache.hadoop.mapreduce.task.reduce.Shuffle@d7d5f7\n",
      "16/01/24 21:21:43 INFO reduce.MergeManagerImpl: MergerManager: memoryLimit=334338464, maxSingleShuffleLimit=83584616, mergeThreshold=220663392, ioSortFactor=10, memToMemMergeOutputsThreshold=10\n",
      "16/01/24 21:21:43 INFO reduce.EventFetcher: attempt_local1023877301_0001_r_000000_0 Thread started: EventFetcher for fetching Map Completion Events\n",
      "16/01/24 21:21:43 INFO reduce.LocalFetcher: localfetcher#1 about to shuffle output of map attempt_local1023877301_0001_m_000000_0 decomp: 1097936 len: 1097940 to MEMORY\n",
      "16/01/24 21:21:43 INFO reduce.InMemoryMapOutput: Read 1097936 bytes from map-output for attempt_local1023877301_0001_m_000000_0\n",
      "16/01/24 21:21:43 INFO reduce.MergeManagerImpl: closeInMemoryFile -> map-output of size: 1097936, inMemoryMapOutputs.size() -> 1, commitMemory -> 0, usedMemory ->1097936\n",
      "16/01/24 21:21:43 INFO reduce.EventFetcher: EventFetcher is interrupted.. Returning\n",
      "16/01/24 21:21:43 INFO mapred.LocalJobRunner: 1 / 1 copied.\n",
      "16/01/24 21:21:43 INFO reduce.MergeManagerImpl: finalMerge called with 1 in-memory map-outputs and 0 on-disk map-outputs\n",
      "16/01/24 21:21:43 INFO mapred.Merger: Merging 1 sorted segments\n",
      "16/01/24 21:21:43 INFO mapred.Merger: Down to the last merge-pass, with 1 segments left of total size: 1097911 bytes\n",
      "16/01/24 21:21:43 INFO reduce.MergeManagerImpl: Merged 1 segments, 1097936 bytes to disk to satisfy reduce memory limit\n",
      "16/01/24 21:21:43 INFO reduce.MergeManagerImpl: Merging 1 files, 1097940 bytes from disk\n",
      "16/01/24 21:21:43 INFO reduce.MergeManagerImpl: Merging 0 segments, 0 bytes from memory into reduce\n",
      "16/01/24 21:21:43 INFO mapred.Merger: Merging 1 sorted segments\n",
      "16/01/24 21:21:43 INFO mapred.Merger: Down to the last merge-pass, with 1 segments left of total size: 1097911 bytes\n",
      "16/01/24 21:21:43 INFO mapred.LocalJobRunner: 1 / 1 copied.\n",
      "16/01/24 21:21:43 INFO streaming.PipeMapRed: PipeMapRed exec [/Users/dunmireg/Documents/261HW/HW2/./reducer.py]\n",
      "16/01/24 21:21:43 INFO Configuration.deprecation: mapred.job.tracker is deprecated. Instead, use mapreduce.jobtracker.address\n",
      "16/01/24 21:21:43 INFO Configuration.deprecation: mapred.map.tasks is deprecated. Instead, use mapreduce.job.maps\n",
      "16/01/24 21:21:43 INFO streaming.PipeMapRed: R/W/S=1/0/0 in:NA [rec/s] out:NA [rec/s]\n",
      "16/01/24 21:21:43 INFO streaming.PipeMapRed: R/W/S=10/0/0 in:NA [rec/s] out:NA [rec/s]\n",
      "16/01/24 21:21:43 INFO streaming.PipeMapRed: R/W/S=100/0/0 in:NA [rec/s] out:NA [rec/s]\n",
      "16/01/24 21:21:43 INFO streaming.PipeMapRed: R/W/S=1000/0/0 in:NA [rec/s] out:NA [rec/s]\n",
      "16/01/24 21:21:44 INFO streaming.PipeMapRed: R/W/S=10000/0/0 in:NA [rec/s] out:NA [rec/s]\n",
      "16/01/24 21:21:44 INFO mapreduce.Job: Job job_local1023877301_0001 running in uber mode : false\n",
      "16/01/24 21:21:44 INFO mapreduce.Job:  map 100% reduce 0%\n",
      "16/01/24 21:21:46 INFO streaming.PipeMapRed: Records R/W=32913/1\n",
      "16/01/24 21:21:46 INFO streaming.PipeMapRed: MRErrorThread done\n",
      "16/01/24 21:21:46 INFO streaming.PipeMapRed: mapRedFinished\n",
      "16/01/24 21:21:46 INFO mapred.Task: Task:attempt_local1023877301_0001_r_000000_0 is done. And is in the process of committing\n",
      "16/01/24 21:21:46 INFO mapred.LocalJobRunner: 1 / 1 copied.\n",
      "16/01/24 21:21:46 INFO mapred.Task: Task attempt_local1023877301_0001_r_000000_0 is allowed to commit now\n",
      "16/01/24 21:21:46 INFO output.FileOutputCommitter: Saved output of task 'attempt_local1023877301_0001_r_000000_0' to hdfs://localhost:9000/user/dunmireg/enroneEmailCondProbs/_temporary/0/task_local1023877301_0001_r_000000\n",
      "16/01/24 21:21:46 INFO mapred.LocalJobRunner: Records R/W=32913/1 > reduce\n",
      "16/01/24 21:21:46 INFO mapred.Task: Task 'attempt_local1023877301_0001_r_000000_0' done.\n",
      "16/01/24 21:21:46 INFO mapred.LocalJobRunner: Finishing task: attempt_local1023877301_0001_r_000000_0\n",
      "16/01/24 21:21:46 INFO mapred.LocalJobRunner: reduce task executor complete.\n",
      "16/01/24 21:21:47 INFO mapreduce.Job:  map 100% reduce 100%\n",
      "16/01/24 21:21:47 INFO mapreduce.Job: Job job_local1023877301_0001 completed successfully\n",
      "16/01/24 21:21:47 INFO mapreduce.Job: Counters: 35\n",
      "\tFile System Counters\n",
      "\t\tFILE: Number of bytes read=2407996\n",
      "\t\tFILE: Number of bytes written=4095648\n",
      "\t\tFILE: Number of read operations=0\n",
      "\t\tFILE: Number of large read operations=0\n",
      "\t\tFILE: Number of write operations=0\n",
      "\t\tHDFS: Number of bytes read=409316\n",
      "\t\tHDFS: Number of bytes written=172513\n",
      "\t\tHDFS: Number of read operations=13\n",
      "\t\tHDFS: Number of large read operations=0\n",
      "\t\tHDFS: Number of write operations=4\n",
      "\tMap-Reduce Framework\n",
      "\t\tMap input records=100\n",
      "\t\tMap output records=32913\n",
      "\t\tMap output bytes=1032108\n",
      "\t\tMap output materialized bytes=1097940\n",
      "\t\tInput split bytes=105\n",
      "\t\tCombine input records=0\n",
      "\t\tCombine output records=0\n",
      "\t\tReduce input groups=100\n",
      "\t\tReduce shuffle bytes=1097940\n",
      "\t\tReduce input records=32913\n",
      "\t\tReduce output records=5493\n",
      "\t\tSpilled Records=65826\n",
      "\t\tShuffled Maps =1\n",
      "\t\tFailed Shuffles=0\n",
      "\t\tMerged Map outputs=1\n",
      "\t\tGC time elapsed (ms)=5\n",
      "\t\tTotal committed heap usage (bytes)=511180800\n",
      "\tShuffle Errors\n",
      "\t\tBAD_ID=0\n",
      "\t\tCONNECTION=0\n",
      "\t\tIO_ERROR=0\n",
      "\t\tWRONG_LENGTH=0\n",
      "\t\tWRONG_MAP=0\n",
      "\t\tWRONG_REDUCE=0\n",
      "\tFile Input Format Counters \n",
      "\t\tBytes Read=204658\n",
      "\tFile Output Format Counters \n",
      "\t\tBytes Written=172513\n",
      "16/01/24 21:21:47 INFO streaming.StreamJob: Output directory: enroneEmailCondProbs\n"
     ]
    }
   ],
   "source": [
    "!hadoop jar /usr/local/Cellar/hadoop/2.7.1/libexec/share/hadoop/tools/lib/hadoop-streaming-2.7.1.jar \\\n",
    "-mapper mapper.py \\\n",
    "-reducer reducer.py \\\n",
    "-input enronemail_1h.txt \\\n",
    "-output enroneEmailCondProbs"
   ]
  },
  {
   "cell_type": "code",
   "execution_count": 31,
   "metadata": {
    "collapsed": false
   },
   "outputs": [],
   "source": [
    "#show results\n",
    "#!hdfs dfs -cat /user/dunmireg/enroneEmailCondProbs/part-00000"
   ]
  },
  {
   "cell_type": "code",
   "execution_count": 46,
   "metadata": {
    "collapsed": false
   },
   "outputs": [
    {
     "name": "stdout",
     "output_type": "stream",
     "text": [
      "16/01/24 21:21:59 WARN util.NativeCodeLoader: Unable to load native-hadoop library for your platform... using builtin-java classes where applicable\n",
      "16/01/24 21:21:59 WARN hdfs.DFSClient: DFSInputStream has been closed already\n",
      "16/01/24 21:21:59 WARN hdfs.DFSClient: DFSInputStream has been closed already\n"
     ]
    }
   ],
   "source": [
    "#move output to local directory\n",
    "#bin/hadoop fs -copyToLocal /hdfs/source/path /localfs/destination/path\n",
    "!hadoop fs -copyToLocal /user/dunmireg/enroneEmailCondProbs"
   ]
  },
  {
   "cell_type": "code",
   "execution_count": 47,
   "metadata": {
    "collapsed": false
   },
   "outputs": [
    {
     "name": "stdout",
     "output_type": "stream",
     "text": [
      "rmr: DEPRECATED: Please use 'rm -r' instead.\n",
      "16/01/24 21:22:02 WARN util.NativeCodeLoader: Unable to load native-hadoop library for your platform... using builtin-java classes where applicable\n",
      "16/01/24 21:22:02 INFO fs.TrashPolicyDefault: Namenode trash configuration: Deletion interval = 0 minutes, Emptier interval = 0 minutes.\n",
      "Deleted /user/dunmireg/enronemail_1h.txt\n",
      "rmr: DEPRECATED: Please use 'rm -r' instead.\n",
      "16/01/24 21:22:03 WARN util.NativeCodeLoader: Unable to load native-hadoop library for your platform... using builtin-java classes where applicable\n",
      "16/01/24 21:22:04 INFO fs.TrashPolicyDefault: Namenode trash configuration: Deletion interval = 0 minutes, Emptier interval = 0 minutes.\n",
      "Deleted /user/dunmireg/enroneEmailCondProbs\n",
      "stopping yarn daemons\n",
      "stopping resourcemanager\n",
      "localhost: stopping nodemanager\n",
      "no proxyserver to stop\n",
      "16/01/24 21:22:15 WARN util.NativeCodeLoader: Unable to load native-hadoop library for your platform... using builtin-java classes where applicable\n",
      "Stopping namenodes on [localhost]\n",
      "localhost: stopping namenode\n",
      "localhost: stopping datanode\n",
      "Stopping secondary namenodes [0.0.0.0]\n",
      "0.0.0.0: stopping secondarynamenode\n",
      "16/01/24 21:22:34 WARN util.NativeCodeLoader: Unable to load native-hadoop library for your platform... using builtin-java classes where applicable\n"
     ]
    }
   ],
   "source": [
    "#Remove output directory and stop yarn and hdfs\n",
    "!hadoop fs -rmr /user/dunmireg/enronemail_1h.txt #check\n",
    "!hadoop fs -rmr /user/dunmireg/enroneEmailCondProbs\n",
    "!/usr/local/Cellar/hadoop/2.7.1/sbin/stop-yarn.sh\n",
    "!/usr/local/Cellar/hadoop/2.7.1/sbin/stop-dfs.sh"
   ]
  },
  {
   "cell_type": "code",
   "execution_count": 48,
   "metadata": {
    "collapsed": false
   },
   "outputs": [
    {
     "name": "stdout",
     "output_type": "stream",
     "text": [
      "Overwriting mapper.py\n"
     ]
    }
   ],
   "source": [
    "%%writefile mapper.py\n",
    "#!/usr/bin/python\n",
    "\n",
    "#I have placed the mapper here but have not modified it in any way from the previous mapper. It will still\n",
    "#produce ID + \\t + word + \\t + true spam flag to send to the reducer. \n",
    "import sys\n",
    "import re\n",
    "import os \n",
    "from math import log\n",
    "from math import exp\n",
    "\n",
    "priorSpam = 0\n",
    "priorHam = 0\n",
    "words = {}\n",
    "\n",
    "with open(os.path.join('./enroneEmailCondProbs', 'part-00000'), 'r') as myfile:\n",
    "    lines = myfile.readlines()\n",
    "    priorSpam = float(lines[0])\n",
    "    priorHam = float(lines[1])\n",
    "    for line in lines[2:]:\n",
    "        components = line.split('\\t')\n",
    "        words[components[0]] = {'spam_like': float(components[1]), 'ham_like': float(components[2])}\n",
    "        \n",
    "\n",
    "WORD_RE = re.compile(r\"[\\w']+\")\n",
    "\n",
    "spamSkip = 0\n",
    "hamSkip = 0\n",
    "\n",
    "for line in sys.stdin:\n",
    "    components = line.split('\\t')\n",
    "    text = \" \".join(components[-2:]).strip()\n",
    "    text = re.findall(WORD_RE, text)\n",
    "    \n",
    "    spamScore = log(priorSpam)\n",
    "    hamScore = log(priorHam)\n",
    "    for word in text:\n",
    "        if word in words.keys():\n",
    "            if float(words[word]['spam_like']) != 0:\n",
    "                spamScore += log(float(words[word]['spam_like']))\n",
    "            else:\n",
    "                spamScore += -300\n",
    "                spamSkip += 1\n",
    "            if float(words[word]['ham_like']) != 0:\n",
    "                hamScore += log(float(words[word]['ham_like']))\n",
    "            else:\n",
    "                hamScore += -300\n",
    "                hamSkip += 1\n",
    "        pred = 0\n",
    "    if spamScore > hamScore:\n",
    "        pred = 1\n",
    "    print components[0] + '\\t' + components[1] + '\\t' + str(pred) + '\\t' + str(exp(spamScore)) + '\\t' + str(exp(hamScore))\n",
    "print spamSkip\n",
    "print hamSkip"
   ]
  },
  {
   "cell_type": "code",
   "execution_count": 2,
   "metadata": {
    "collapsed": true
   },
   "outputs": [],
   "source": [
    "!chmod a+x mapper.py"
   ]
  },
  {
   "cell_type": "code",
   "execution_count": 49,
   "metadata": {
    "collapsed": false
   },
   "outputs": [
    {
     "name": "stdout",
     "output_type": "stream",
     "text": [
      "Overwriting reducer.py\n"
     ]
    }
   ],
   "source": [
    "%%writefile reducer.py\n",
    "#!/usr/bin/python\n",
    "import sys\n",
    "\n",
    "misclassified = 0\n",
    "\n",
    "for line in sys.stdin:\n",
    "    components = line.split('\\t')\n",
    "    if len(components) != 1:\n",
    "        if int(components[1]) != int(components[2]):\n",
    "                misclassified += 1\n",
    "        print line\n",
    "    else:\n",
    "        print line\n",
    "print \"Misclassified: \" + str(misclassified) + \" which means this has an accuracy of \" + str(100-misclassified) + \"%\"\n",
    "    "
   ]
  },
  {
   "cell_type": "code",
   "execution_count": 4,
   "metadata": {
    "collapsed": true
   },
   "outputs": [],
   "source": [
    "!chmod a+x reducer.py"
   ]
  },
  {
   "cell_type": "code",
   "execution_count": 32,
   "metadata": {
    "collapsed": false
   },
   "outputs": [],
   "source": [
    "#check results\n",
    "#!cat enronemail_1h.txt | python mapper.py | python reducer.py"
   ]
  },
  {
   "cell_type": "code",
   "execution_count": 51,
   "metadata": {
    "collapsed": false
   },
   "outputs": [
    {
     "name": "stdout",
     "output_type": "stream",
     "text": [
      "starting yarn daemons\n",
      "starting resourcemanager, logging to /usr/local/Cellar/hadoop/2.7.1/libexec/logs/yarn-dunmireg-resourcemanager-Glenns-Air.home.out\n",
      "localhost: starting nodemanager, logging to /usr/local/Cellar/hadoop/2.7.1/libexec/logs/yarn-dunmireg-nodemanager-Glenns-Air.home.out\n",
      "16/01/24 21:23:06 WARN util.NativeCodeLoader: Unable to load native-hadoop library for your platform... using builtin-java classes where applicable\n",
      "Starting namenodes on [localhost]\n",
      "localhost: starting namenode, logging to /usr/local/Cellar/hadoop/2.7.1/libexec/logs/hadoop-dunmireg-namenode-Glenns-Air.home.out\n",
      "localhost: starting datanode, logging to /usr/local/Cellar/hadoop/2.7.1/libexec/logs/hadoop-dunmireg-datanode-Glenns-Air.home.out\n",
      "Starting secondary namenodes [0.0.0.0]\n",
      "0.0.0.0: starting secondarynamenode, logging to /usr/local/Cellar/hadoop/2.7.1/libexec/logs/hadoop-dunmireg-secondarynamenode-Glenns-Air.home.out\n",
      "16/01/24 21:23:22 WARN util.NativeCodeLoader: Unable to load native-hadoop library for your platform... using builtin-java classes where applicable\n"
     ]
    }
   ],
   "source": [
    "#Start hadoop yarn\n",
    "!/usr/local/Cellar/hadoop/2.7.1/sbin/start-yarn.sh\n",
    "!/usr/local/Cellar/hadoop/2.7.1/sbin/start-dfs.sh"
   ]
  },
  {
   "cell_type": "code",
   "execution_count": null,
   "metadata": {
    "collapsed": true
   },
   "outputs": [],
   "source": [
    "#make directory\n",
    "!hdfs dfs -mkdir -p /user/dunmireg"
   ]
  },
  {
   "cell_type": "code",
   "execution_count": 52,
   "metadata": {
    "collapsed": false
   },
   "outputs": [
    {
     "name": "stdout",
     "output_type": "stream",
     "text": [
      "16/01/24 21:23:24 WARN util.NativeCodeLoader: Unable to load native-hadoop library for your platform... using builtin-java classes where applicable\r\n"
     ]
    }
   ],
   "source": [
    "#add input to hdfs\n",
    "!hdfs dfs -put enronemail_1h.txt /user/dunmireg"
   ]
  },
  {
   "cell_type": "code",
   "execution_count": 53,
   "metadata": {
    "collapsed": false
   },
   "outputs": [
    {
     "name": "stdout",
     "output_type": "stream",
     "text": [
      "16/01/24 21:23:29 WARN util.NativeCodeLoader: Unable to load native-hadoop library for your platform... using builtin-java classes where applicable\n",
      "16/01/24 21:23:29 INFO Configuration.deprecation: session.id is deprecated. Instead, use dfs.metrics.session-id\n",
      "16/01/24 21:23:29 INFO jvm.JvmMetrics: Initializing JVM Metrics with processName=JobTracker, sessionId=\n",
      "16/01/24 21:23:29 INFO jvm.JvmMetrics: Cannot initialize JVM Metrics with processName=JobTracker, sessionId= - already initialized\n",
      "16/01/24 21:23:30 INFO mapred.FileInputFormat: Total input paths to process : 1\n",
      "16/01/24 21:23:30 INFO mapreduce.JobSubmitter: number of splits:1\n",
      "16/01/24 21:23:30 INFO mapreduce.JobSubmitter: Submitting tokens for job: job_local1498359296_0001\n",
      "16/01/24 21:23:30 INFO mapreduce.Job: The url to track the job: http://localhost:8080/\n",
      "16/01/24 21:23:30 INFO mapred.LocalJobRunner: OutputCommitter set in config null\n",
      "16/01/24 21:23:30 INFO mapred.LocalJobRunner: OutputCommitter is org.apache.hadoop.mapred.FileOutputCommitter\n",
      "16/01/24 21:23:30 INFO output.FileOutputCommitter: File Output Committer Algorithm version is 1\n",
      "16/01/24 21:23:30 INFO mapreduce.Job: Running job: job_local1498359296_0001\n",
      "16/01/24 21:23:30 INFO mapred.LocalJobRunner: Waiting for map tasks\n",
      "16/01/24 21:23:30 INFO mapred.LocalJobRunner: Starting task: attempt_local1498359296_0001_m_000000_0\n",
      "16/01/24 21:23:30 INFO output.FileOutputCommitter: File Output Committer Algorithm version is 1\n",
      "16/01/24 21:23:30 INFO util.ProcfsBasedProcessTree: ProcfsBasedProcessTree currently is supported only on Linux.\n",
      "16/01/24 21:23:30 INFO mapred.Task:  Using ResourceCalculatorProcessTree : null\n",
      "16/01/24 21:23:30 INFO mapred.MapTask: Processing split: hdfs://localhost:9000/user/dunmireg/enronemail_1h.txt:0+204658\n",
      "16/01/24 21:23:30 INFO mapred.MapTask: numReduceTasks: 1\n",
      "16/01/24 21:23:30 INFO mapred.MapTask: (EQUATOR) 0 kvi 26214396(104857584)\n",
      "16/01/24 21:23:30 INFO mapred.MapTask: mapreduce.task.io.sort.mb: 100\n",
      "16/01/24 21:23:30 INFO mapred.MapTask: soft limit at 83886080\n",
      "16/01/24 21:23:30 INFO mapred.MapTask: bufstart = 0; bufvoid = 104857600\n",
      "16/01/24 21:23:30 INFO mapred.MapTask: kvstart = 26214396; length = 6553600\n",
      "16/01/24 21:23:30 INFO mapred.MapTask: Map output collector class = org.apache.hadoop.mapred.MapTask$MapOutputBuffer\n",
      "16/01/24 21:23:30 INFO streaming.PipeMapRed: PipeMapRed exec [/Users/dunmireg/Documents/261HW/HW2/./mapper.py]\n",
      "16/01/24 21:23:30 INFO Configuration.deprecation: mapred.tip.id is deprecated. Instead, use mapreduce.task.id\n",
      "16/01/24 21:23:30 INFO Configuration.deprecation: mapred.local.dir is deprecated. Instead, use mapreduce.cluster.local.dir\n",
      "16/01/24 21:23:30 INFO Configuration.deprecation: map.input.file is deprecated. Instead, use mapreduce.map.input.file\n",
      "16/01/24 21:23:30 INFO Configuration.deprecation: mapred.skip.on is deprecated. Instead, use mapreduce.job.skiprecords\n",
      "16/01/24 21:23:30 INFO Configuration.deprecation: map.input.length is deprecated. Instead, use mapreduce.map.input.length\n",
      "16/01/24 21:23:30 INFO Configuration.deprecation: mapred.work.output.dir is deprecated. Instead, use mapreduce.task.output.dir\n",
      "16/01/24 21:23:30 INFO Configuration.deprecation: map.input.start is deprecated. Instead, use mapreduce.map.input.start\n",
      "16/01/24 21:23:30 INFO Configuration.deprecation: mapred.job.id is deprecated. Instead, use mapreduce.job.id\n",
      "16/01/24 21:23:30 INFO Configuration.deprecation: user.name is deprecated. Instead, use mapreduce.job.user.name\n",
      "16/01/24 21:23:30 INFO Configuration.deprecation: mapred.task.is.map is deprecated. Instead, use mapreduce.task.ismap\n",
      "16/01/24 21:23:30 INFO Configuration.deprecation: mapred.task.id is deprecated. Instead, use mapreduce.task.attempt.id\n",
      "16/01/24 21:23:30 INFO Configuration.deprecation: mapred.task.partition is deprecated. Instead, use mapreduce.task.partition\n",
      "16/01/24 21:23:30 INFO streaming.PipeMapRed: R/W/S=1/0/0 in:NA [rec/s] out:NA [rec/s]\n",
      "16/01/24 21:23:30 INFO streaming.PipeMapRed: R/W/S=10/0/0 in:NA [rec/s] out:NA [rec/s]\n",
      "16/01/24 21:23:31 INFO mapreduce.Job: Job job_local1498359296_0001 running in uber mode : false\n",
      "16/01/24 21:23:31 INFO mapreduce.Job:  map 0% reduce 0%\n",
      "16/01/24 21:23:31 INFO streaming.PipeMapRed: R/W/S=100/0/0 in:100=100/1 [rec/s] out:0=0/1 [rec/s]\n",
      "16/01/24 21:23:35 INFO streaming.PipeMapRed: MRErrorThread done\n",
      "16/01/24 21:23:35 INFO streaming.PipeMapRed: Records R/W=100/1\n",
      "16/01/24 21:23:35 INFO streaming.PipeMapRed: mapRedFinished\n",
      "16/01/24 21:23:35 INFO mapred.LocalJobRunner: \n",
      "16/01/24 21:23:35 INFO mapred.MapTask: Starting flush of map output\n",
      "16/01/24 21:23:35 INFO mapred.MapTask: Spilling map output\n",
      "16/01/24 21:23:35 INFO mapred.MapTask: bufstart = 0; bufend = 3950; bufvoid = 104857600\n",
      "16/01/24 21:23:35 INFO mapred.MapTask: kvstart = 26214396(104857584); kvend = 26213992(104855968); length = 405/6553600\n",
      "16/01/24 21:23:35 INFO mapred.MapTask: Finished spill 0\n",
      "16/01/24 21:23:35 INFO mapred.Task: Task:attempt_local1498359296_0001_m_000000_0 is done. And is in the process of committing\n",
      "16/01/24 21:23:35 INFO mapred.LocalJobRunner: Records R/W=100/1\n",
      "16/01/24 21:23:35 INFO mapred.Task: Task 'attempt_local1498359296_0001_m_000000_0' done.\n",
      "16/01/24 21:23:35 INFO mapred.LocalJobRunner: Finishing task: attempt_local1498359296_0001_m_000000_0\n",
      "16/01/24 21:23:35 INFO mapred.LocalJobRunner: map task executor complete.\n",
      "16/01/24 21:23:35 INFO mapred.LocalJobRunner: Waiting for reduce tasks\n",
      "16/01/24 21:23:35 INFO mapred.LocalJobRunner: Starting task: attempt_local1498359296_0001_r_000000_0\n",
      "16/01/24 21:23:35 INFO output.FileOutputCommitter: File Output Committer Algorithm version is 1\n",
      "16/01/24 21:23:35 INFO util.ProcfsBasedProcessTree: ProcfsBasedProcessTree currently is supported only on Linux.\n",
      "16/01/24 21:23:35 INFO mapred.Task:  Using ResourceCalculatorProcessTree : null\n",
      "16/01/24 21:23:35 INFO mapred.ReduceTask: Using ShuffleConsumerPlugin: org.apache.hadoop.mapreduce.task.reduce.Shuffle@5dafef4d\n",
      "16/01/24 21:23:35 INFO reduce.MergeManagerImpl: MergerManager: memoryLimit=334338464, maxSingleShuffleLimit=83584616, mergeThreshold=220663392, ioSortFactor=10, memToMemMergeOutputsThreshold=10\n",
      "16/01/24 21:23:35 INFO reduce.EventFetcher: attempt_local1498359296_0001_r_000000_0 Thread started: EventFetcher for fetching Map Completion Events\n",
      "16/01/24 21:23:35 INFO reduce.LocalFetcher: localfetcher#1 about to shuffle output of map attempt_local1498359296_0001_m_000000_0 decomp: 4156 len: 4160 to MEMORY\n",
      "16/01/24 21:23:35 INFO reduce.InMemoryMapOutput: Read 4156 bytes from map-output for attempt_local1498359296_0001_m_000000_0\n",
      "16/01/24 21:23:35 INFO reduce.MergeManagerImpl: closeInMemoryFile -> map-output of size: 4156, inMemoryMapOutputs.size() -> 1, commitMemory -> 0, usedMemory ->4156\n",
      "16/01/24 21:23:35 INFO reduce.EventFetcher: EventFetcher is interrupted.. Returning\n",
      "16/01/24 21:23:35 INFO mapred.LocalJobRunner: 1 / 1 copied.\n",
      "16/01/24 21:23:35 INFO reduce.MergeManagerImpl: finalMerge called with 1 in-memory map-outputs and 0 on-disk map-outputs\n",
      "16/01/24 21:23:35 INFO mapred.Merger: Merging 1 sorted segments\n",
      "16/01/24 21:23:35 INFO mapred.Merger: Down to the last merge-pass, with 1 segments left of total size: 4131 bytes\n",
      "16/01/24 21:23:35 INFO reduce.MergeManagerImpl: Merged 1 segments, 4156 bytes to disk to satisfy reduce memory limit\n",
      "16/01/24 21:23:35 INFO reduce.MergeManagerImpl: Merging 1 files, 4160 bytes from disk\n",
      "16/01/24 21:23:35 INFO reduce.MergeManagerImpl: Merging 0 segments, 0 bytes from memory into reduce\n",
      "16/01/24 21:23:35 INFO mapred.Merger: Merging 1 sorted segments\n",
      "16/01/24 21:23:35 INFO mapred.Merger: Down to the last merge-pass, with 1 segments left of total size: 4131 bytes\n",
      "16/01/24 21:23:35 INFO mapred.LocalJobRunner: 1 / 1 copied.\n",
      "16/01/24 21:23:35 INFO streaming.PipeMapRed: PipeMapRed exec [/Users/dunmireg/Documents/261HW/HW2/./reducer.py]\n",
      "16/01/24 21:23:35 INFO Configuration.deprecation: mapred.job.tracker is deprecated. Instead, use mapreduce.jobtracker.address\n",
      "16/01/24 21:23:35 INFO Configuration.deprecation: mapred.map.tasks is deprecated. Instead, use mapreduce.job.maps\n",
      "16/01/24 21:23:35 INFO streaming.PipeMapRed: R/W/S=1/0/0 in:NA [rec/s] out:NA [rec/s]\n",
      "16/01/24 21:23:35 INFO streaming.PipeMapRed: R/W/S=10/0/0 in:NA [rec/s] out:NA [rec/s]\n",
      "16/01/24 21:23:35 INFO streaming.PipeMapRed: R/W/S=100/0/0 in:NA [rec/s] out:NA [rec/s]\n",
      "Traceback (most recent call last):\n",
      "  File \"/Users/dunmireg/Documents/261HW/HW2/./reducer.py\", line 9, in <module>\n",
      "    if int(components[1]) != int(components[2]):\n",
      "ValueError: invalid literal for int() with base 10: ''\n",
      "16/01/24 21:23:35 INFO streaming.PipeMapRed: Records R/W=102/1\n",
      "16/01/24 21:23:35 INFO streaming.PipeMapRed: MRErrorThread done\n",
      "16/01/24 21:23:35 INFO streaming.PipeMapRed: PipeMapRed failed!\n",
      "java.lang.RuntimeException: PipeMapRed.waitOutputThreads(): subprocess failed with code 1\n",
      "\tat org.apache.hadoop.streaming.PipeMapRed.waitOutputThreads(PipeMapRed.java:322)\n",
      "\tat org.apache.hadoop.streaming.PipeMapRed.mapRedFinished(PipeMapRed.java:535)\n",
      "\tat org.apache.hadoop.streaming.PipeReducer.close(PipeReducer.java:134)\n",
      "\tat org.apache.hadoop.mapred.ReduceTask.runOldReducer(ReduceTask.java:453)\n",
      "\tat org.apache.hadoop.mapred.ReduceTask.run(ReduceTask.java:392)\n",
      "\tat org.apache.hadoop.mapred.LocalJobRunner$Job$ReduceTaskRunnable.run(LocalJobRunner.java:319)\n",
      "\tat java.util.concurrent.Executors$RunnableAdapter.call(Executors.java:511)\n",
      "\tat java.util.concurrent.FutureTask.run(FutureTask.java:266)\n",
      "\tat java.util.concurrent.ThreadPoolExecutor.runWorker(ThreadPoolExecutor.java:1142)\n",
      "\tat java.util.concurrent.ThreadPoolExecutor$Worker.run(ThreadPoolExecutor.java:617)\n",
      "\tat java.lang.Thread.run(Thread.java:745)\n",
      "16/01/24 21:23:35 INFO streaming.PipeMapRed: PipeMapRed failed!\n",
      "java.lang.RuntimeException: PipeMapRed.waitOutputThreads(): subprocess failed with code 1\n",
      "\tat org.apache.hadoop.streaming.PipeMapRed.waitOutputThreads(PipeMapRed.java:322)\n",
      "\tat org.apache.hadoop.streaming.PipeMapRed.mapRedFinished(PipeMapRed.java:535)\n",
      "\tat org.apache.hadoop.streaming.PipeReducer.close(PipeReducer.java:134)\n",
      "\tat org.apache.hadoop.io.IOUtils.cleanup(IOUtils.java:244)\n",
      "\tat org.apache.hadoop.mapred.ReduceTask.runOldReducer(ReduceTask.java:459)\n",
      "\tat org.apache.hadoop.mapred.ReduceTask.run(ReduceTask.java:392)\n",
      "\tat org.apache.hadoop.mapred.LocalJobRunner$Job$ReduceTaskRunnable.run(LocalJobRunner.java:319)\n",
      "\tat java.util.concurrent.Executors$RunnableAdapter.call(Executors.java:511)\n",
      "\tat java.util.concurrent.FutureTask.run(FutureTask.java:266)\n",
      "\tat java.util.concurrent.ThreadPoolExecutor.runWorker(ThreadPoolExecutor.java:1142)\n",
      "\tat java.util.concurrent.ThreadPoolExecutor$Worker.run(ThreadPoolExecutor.java:617)\n",
      "\tat java.lang.Thread.run(Thread.java:745)\n",
      "16/01/24 21:23:35 INFO mapred.LocalJobRunner: reduce task executor complete.\n",
      "16/01/24 21:23:35 WARN mapred.LocalJobRunner: job_local1498359296_0001\n",
      "java.lang.Exception: java.lang.RuntimeException: PipeMapRed.waitOutputThreads(): subprocess failed with code 1\n",
      "\tat org.apache.hadoop.mapred.LocalJobRunner$Job.runTasks(LocalJobRunner.java:462)\n",
      "\tat org.apache.hadoop.mapred.LocalJobRunner$Job.run(LocalJobRunner.java:529)\n",
      "Caused by: java.lang.RuntimeException: PipeMapRed.waitOutputThreads(): subprocess failed with code 1\n",
      "\tat org.apache.hadoop.streaming.PipeMapRed.waitOutputThreads(PipeMapRed.java:322)\n",
      "\tat org.apache.hadoop.streaming.PipeMapRed.mapRedFinished(PipeMapRed.java:535)\n",
      "\tat org.apache.hadoop.streaming.PipeReducer.close(PipeReducer.java:134)\n",
      "\tat org.apache.hadoop.io.IOUtils.cleanup(IOUtils.java:244)\n",
      "\tat org.apache.hadoop.mapred.ReduceTask.runOldReducer(ReduceTask.java:459)\n",
      "\tat org.apache.hadoop.mapred.ReduceTask.run(ReduceTask.java:392)\n",
      "\tat org.apache.hadoop.mapred.LocalJobRunner$Job$ReduceTaskRunnable.run(LocalJobRunner.java:319)\n",
      "\tat java.util.concurrent.Executors$RunnableAdapter.call(Executors.java:511)\n",
      "\tat java.util.concurrent.FutureTask.run(FutureTask.java:266)\n",
      "\tat java.util.concurrent.ThreadPoolExecutor.runWorker(ThreadPoolExecutor.java:1142)\n",
      "\tat java.util.concurrent.ThreadPoolExecutor$Worker.run(ThreadPoolExecutor.java:617)\n",
      "\tat java.lang.Thread.run(Thread.java:745)\n",
      "16/01/24 21:23:35 INFO mapreduce.Job:  map 100% reduce 0%\n",
      "16/01/24 21:23:35 INFO mapreduce.Job: Job job_local1498359296_0001 failed with state FAILED due to: NA\n",
      "16/01/24 21:23:35 INFO mapreduce.Job: Counters: 35\n",
      "\tFile System Counters\n",
      "\t\tFILE: Number of bytes read=106042\n",
      "\t\tFILE: Number of bytes written=405106\n",
      "\t\tFILE: Number of read operations=0\n",
      "\t\tFILE: Number of large read operations=0\n",
      "\t\tFILE: Number of write operations=0\n",
      "\t\tHDFS: Number of bytes read=204658\n",
      "\t\tHDFS: Number of bytes written=0\n",
      "\t\tHDFS: Number of read operations=5\n",
      "\t\tHDFS: Number of large read operations=0\n",
      "\t\tHDFS: Number of write operations=1\n",
      "\tMap-Reduce Framework\n",
      "\t\tMap input records=100\n",
      "\t\tMap output records=102\n",
      "\t\tMap output bytes=3950\n",
      "\t\tMap output materialized bytes=4160\n",
      "\t\tInput split bytes=105\n",
      "\t\tCombine input records=0\n",
      "\t\tCombine output records=0\n",
      "\t\tReduce input groups=0\n",
      "\t\tReduce shuffle bytes=4160\n",
      "\t\tReduce input records=0\n",
      "\t\tReduce output records=0\n",
      "\t\tSpilled Records=102\n",
      "\t\tShuffled Maps =1\n",
      "\t\tFailed Shuffles=0\n",
      "\t\tMerged Map outputs=1\n",
      "\t\tGC time elapsed (ms)=0\n",
      "\t\tTotal committed heap usage (bytes)=310902784\n",
      "\tShuffle Errors\n",
      "\t\tBAD_ID=0\n",
      "\t\tCONNECTION=0\n",
      "\t\tIO_ERROR=0\n",
      "\t\tWRONG_LENGTH=0\n",
      "\t\tWRONG_MAP=0\n",
      "\t\tWRONG_REDUCE=0\n",
      "\tFile Input Format Counters \n",
      "\t\tBytes Read=204658\n",
      "\tFile Output Format Counters \n",
      "\t\tBytes Written=0\n",
      "16/01/24 21:23:35 ERROR streaming.StreamJob: Job not successful!\n",
      "Streaming Command Failed!\n",
      "16/01/24 21:23:35 WARN hdfs.DFSClient: DataStreamer Exception\n",
      "org.apache.hadoop.ipc.RemoteException(org.apache.hadoop.hdfs.server.namenode.LeaseExpiredException): No lease on /user/dunmireg/enroneEmailClassificationNoSmoothing/_temporary/0/_temporary/attempt_local1498359296_0001_r_000000_0/part-00000 (inode 16429): File does not exist. Holder DFSClient_NONMAPREDUCE_382350742_1 does not have any open files.\n",
      "\tat org.apache.hadoop.hdfs.server.namenode.FSNamesystem.checkLease(FSNamesystem.java:3431)\n",
      "\tat org.apache.hadoop.hdfs.server.namenode.FSNamesystem.analyzeFileState(FSNamesystem.java:3236)\n",
      "\tat org.apache.hadoop.hdfs.server.namenode.FSNamesystem.getNewBlockTargets(FSNamesystem.java:3074)\n",
      "\tat org.apache.hadoop.hdfs.server.namenode.FSNamesystem.getAdditionalBlock(FSNamesystem.java:3034)\n",
      "\tat org.apache.hadoop.hdfs.server.namenode.NameNodeRpcServer.addBlock(NameNodeRpcServer.java:723)\n",
      "\tat org.apache.hadoop.hdfs.protocolPB.ClientNamenodeProtocolServerSideTranslatorPB.addBlock(ClientNamenodeProtocolServerSideTranslatorPB.java:492)\n",
      "\tat org.apache.hadoop.hdfs.protocol.proto.ClientNamenodeProtocolProtos$ClientNamenodeProtocol$2.callBlockingMethod(ClientNamenodeProtocolProtos.java)\n",
      "\tat org.apache.hadoop.ipc.ProtobufRpcEngine$Server$ProtoBufRpcInvoker.call(ProtobufRpcEngine.java:616)\n",
      "\tat org.apache.hadoop.ipc.RPC$Server.call(RPC.java:969)\n",
      "\tat org.apache.hadoop.ipc.Server$Handler$1.run(Server.java:2049)\n",
      "\tat org.apache.hadoop.ipc.Server$Handler$1.run(Server.java:2045)\n",
      "\tat java.security.AccessController.doPrivileged(Native Method)\n",
      "\tat javax.security.auth.Subject.doAs(Subject.java:422)\n",
      "\tat org.apache.hadoop.security.UserGroupInformation.doAs(UserGroupInformation.java:1657)\n",
      "\tat org.apache.hadoop.ipc.Server$Handler.run(Server.java:2043)\n",
      "\n",
      "\tat org.apache.hadoop.ipc.Client.call(Client.java:1476)\n",
      "\tat org.apache.hadoop.ipc.Client.call(Client.java:1407)\n",
      "\tat org.apache.hadoop.ipc.ProtobufRpcEngine$Invoker.invoke(ProtobufRpcEngine.java:229)\n",
      "\tat com.sun.proxy.$Proxy9.addBlock(Unknown Source)\n",
      "\tat org.apache.hadoop.hdfs.protocolPB.ClientNamenodeProtocolTranslatorPB.addBlock(ClientNamenodeProtocolTranslatorPB.java:418)\n",
      "\tat sun.reflect.NativeMethodAccessorImpl.invoke0(Native Method)\n",
      "\tat sun.reflect.NativeMethodAccessorImpl.invoke(NativeMethodAccessorImpl.java:62)\n",
      "\tat sun.reflect.DelegatingMethodAccessorImpl.invoke(DelegatingMethodAccessorImpl.java:43)\n",
      "\tat java.lang.reflect.Method.invoke(Method.java:497)\n",
      "\tat org.apache.hadoop.io.retry.RetryInvocationHandler.invokeMethod(RetryInvocationHandler.java:187)\n",
      "\tat org.apache.hadoop.io.retry.RetryInvocationHandler.invoke(RetryInvocationHandler.java:102)\n",
      "\tat com.sun.proxy.$Proxy10.addBlock(Unknown Source)\n",
      "\tat org.apache.hadoop.hdfs.DFSOutputStream$DataStreamer.locateFollowingBlock(DFSOutputStream.java:1430)\n",
      "\tat org.apache.hadoop.hdfs.DFSOutputStream$DataStreamer.nextBlockOutputStream(DFSOutputStream.java:1226)\n",
      "\tat org.apache.hadoop.hdfs.DFSOutputStream$DataStreamer.run(DFSOutputStream.java:449)\n",
      "16/01/24 21:23:35 ERROR hdfs.DFSClient: Failed to close inode 16429\n",
      "org.apache.hadoop.ipc.RemoteException(org.apache.hadoop.hdfs.server.namenode.LeaseExpiredException): No lease on /user/dunmireg/enroneEmailClassificationNoSmoothing/_temporary/0/_temporary/attempt_local1498359296_0001_r_000000_0/part-00000 (inode 16429): File does not exist. Holder DFSClient_NONMAPREDUCE_382350742_1 does not have any open files.\n",
      "\tat org.apache.hadoop.hdfs.server.namenode.FSNamesystem.checkLease(FSNamesystem.java:3431)\n",
      "\tat org.apache.hadoop.hdfs.server.namenode.FSNamesystem.analyzeFileState(FSNamesystem.java:3236)\n",
      "\tat org.apache.hadoop.hdfs.server.namenode.FSNamesystem.getNewBlockTargets(FSNamesystem.java:3074)\n",
      "\tat org.apache.hadoop.hdfs.server.namenode.FSNamesystem.getAdditionalBlock(FSNamesystem.java:3034)\n",
      "\tat org.apache.hadoop.hdfs.server.namenode.NameNodeRpcServer.addBlock(NameNodeRpcServer.java:723)\n",
      "\tat org.apache.hadoop.hdfs.protocolPB.ClientNamenodeProtocolServerSideTranslatorPB.addBlock(ClientNamenodeProtocolServerSideTranslatorPB.java:492)\n",
      "\tat org.apache.hadoop.hdfs.protocol.proto.ClientNamenodeProtocolProtos$ClientNamenodeProtocol$2.callBlockingMethod(ClientNamenodeProtocolProtos.java)\n",
      "\tat org.apache.hadoop.ipc.ProtobufRpcEngine$Server$ProtoBufRpcInvoker.call(ProtobufRpcEngine.java:616)\n",
      "\tat org.apache.hadoop.ipc.RPC$Server.call(RPC.java:969)\n",
      "\tat org.apache.hadoop.ipc.Server$Handler$1.run(Server.java:2049)\n",
      "\tat org.apache.hadoop.ipc.Server$Handler$1.run(Server.java:2045)\n",
      "\tat java.security.AccessController.doPrivileged(Native Method)\n",
      "\tat javax.security.auth.Subject.doAs(Subject.java:422)\n",
      "\tat org.apache.hadoop.security.UserGroupInformation.doAs(UserGroupInformation.java:1657)\n",
      "\tat org.apache.hadoop.ipc.Server$Handler.run(Server.java:2043)\n",
      "\n",
      "\tat org.apache.hadoop.ipc.Client.call(Client.java:1476)\n",
      "\tat org.apache.hadoop.ipc.Client.call(Client.java:1407)\n",
      "\tat org.apache.hadoop.ipc.ProtobufRpcEngine$Invoker.invoke(ProtobufRpcEngine.java:229)\n",
      "\tat com.sun.proxy.$Proxy9.addBlock(Unknown Source)\n",
      "\tat org.apache.hadoop.hdfs.protocolPB.ClientNamenodeProtocolTranslatorPB.addBlock(ClientNamenodeProtocolTranslatorPB.java:418)\n",
      "\tat sun.reflect.NativeMethodAccessorImpl.invoke0(Native Method)\n",
      "\tat sun.reflect.NativeMethodAccessorImpl.invoke(NativeMethodAccessorImpl.java:62)\n",
      "\tat sun.reflect.DelegatingMethodAccessorImpl.invoke(DelegatingMethodAccessorImpl.java:43)\n",
      "\tat java.lang.reflect.Method.invoke(Method.java:497)\n",
      "\tat org.apache.hadoop.io.retry.RetryInvocationHandler.invokeMethod(RetryInvocationHandler.java:187)\n",
      "\tat org.apache.hadoop.io.retry.RetryInvocationHandler.invoke(RetryInvocationHandler.java:102)\n",
      "\tat com.sun.proxy.$Proxy10.addBlock(Unknown Source)\n",
      "\tat org.apache.hadoop.hdfs.DFSOutputStream$DataStreamer.locateFollowingBlock(DFSOutputStream.java:1430)\n",
      "\tat org.apache.hadoop.hdfs.DFSOutputStream$DataStreamer.nextBlockOutputStream(DFSOutputStream.java:1226)\n",
      "\tat org.apache.hadoop.hdfs.DFSOutputStream$DataStreamer.run(DFSOutputStream.java:449)\n"
     ]
    }
   ],
   "source": [
    "!hadoop jar /usr/local/Cellar/hadoop/2.7.1/libexec/share/hadoop/tools/lib/hadoop-streaming-2.7.1.jar \\\n",
    "-mapper mapper.py \\\n",
    "-reducer reducer.py \\\n",
    "-input enronemail_1h.txt \\\n",
    "-output enroneEmailClassificationNoSmoothing"
   ]
  },
  {
   "cell_type": "code",
   "execution_count": 9,
   "metadata": {
    "collapsed": false
   },
   "outputs": [
    {
     "name": "stdout",
     "output_type": "stream",
     "text": [
      "16/01/24 20:14:59 WARN util.NativeCodeLoader: Unable to load native-hadoop library for your platform... using builtin-java classes where applicable\n",
      "cat: `/user/dunmireg/enroneEmailClassificationNoSmoothing/part-00000': No such file or directory\n"
     ]
    }
   ],
   "source": [
    "!hdfs dfs -cat /user/dunmireg/enroneEmailClassificationNoSmoothing/part-00000"
   ]
  },
  {
   "cell_type": "code",
   "execution_count": 10,
   "metadata": {
    "collapsed": false
   },
   "outputs": [
    {
     "name": "stdout",
     "output_type": "stream",
     "text": [
      "16/01/24 20:15:02 WARN util.NativeCodeLoader: Unable to load native-hadoop library for your platform... using builtin-java classes where applicable\r\n"
     ]
    }
   ],
   "source": [
    "#move output to local directory - makes easier to process for analysis\n",
    "!hadoop fs -copyToLocal /user/dunmireg/enroneEmailClassificationNoSmoothing"
   ]
  },
  {
   "cell_type": "code",
   "execution_count": 54,
   "metadata": {
    "collapsed": false
   },
   "outputs": [
    {
     "name": "stdout",
     "output_type": "stream",
     "text": [
      "rmr: DEPRECATED: Please use 'rm -r' instead.\n",
      "16/01/24 21:23:46 WARN util.NativeCodeLoader: Unable to load native-hadoop library for your platform... using builtin-java classes where applicable\n",
      "16/01/24 21:23:47 INFO fs.TrashPolicyDefault: Namenode trash configuration: Deletion interval = 0 minutes, Emptier interval = 0 minutes.\n",
      "Deleted /user/dunmireg/enronemail_1h.txt\n",
      "rmr: DEPRECATED: Please use 'rm -r' instead.\n",
      "16/01/24 21:23:48 WARN util.NativeCodeLoader: Unable to load native-hadoop library for your platform... using builtin-java classes where applicable\n",
      "16/01/24 21:23:48 INFO fs.TrashPolicyDefault: Namenode trash configuration: Deletion interval = 0 minutes, Emptier interval = 0 minutes.\n",
      "Deleted /user/dunmireg/enroneEmailClassificationNoSmoothing\n",
      "stopping yarn daemons\n",
      "stopping resourcemanager\n",
      "localhost: stopping nodemanager\n",
      "no proxyserver to stop\n",
      "16/01/24 21:24:00 WARN util.NativeCodeLoader: Unable to load native-hadoop library for your platform... using builtin-java classes where applicable\n",
      "Stopping namenodes on [localhost]\n",
      "localhost: stopping namenode\n",
      "localhost: stopping datanode\n",
      "Stopping secondary namenodes [0.0.0.0]\n",
      "0.0.0.0: stopping secondarynamenode\n",
      "16/01/24 21:24:18 WARN util.NativeCodeLoader: Unable to load native-hadoop library for your platform... using builtin-java classes where applicable\n"
     ]
    }
   ],
   "source": [
    "#Remove output directory and stop yarn and hdfs\n",
    "!hadoop fs -rmr /user/dunmireg/enronemail_1h.txt #check\n",
    "!hadoop fs -rmr /user/dunmireg/enroneEmailClassificationNoSmoothing\n",
    "!/usr/local/Cellar/hadoop/2.7.1/sbin/stop-yarn.sh\n",
    "!/usr/local/Cellar/hadoop/2.7.1/sbin/stop-dfs.sh"
   ]
  },
  {
   "cell_type": "code",
   "execution_count": 33,
   "metadata": {
    "collapsed": false
   },
   "outputs": [
    {
     "data": {
      "image/png": "[encoded data removed]",
      "text/plain": [
       "<matplotlib.figure.Figure at 0x103aea9d0>"
      ]
     },
     "metadata": {},
     "output_type": "display_data"
    },
    {
     "data": {
      "image/png": "[encoded data removed]",
      "text/plain": [
       "<matplotlib.figure.Figure at 0x103af7a10>"
      ]
     },
     "metadata": {},
     "output_type": "display_data"
    }
   ],
   "source": [
    "%matplotlib inline\n",
    "#Make histogram\n",
    "import os\n",
    "import matplotlib.pyplot as plt\n",
    "\n",
    "spam_probs = []\n",
    "ham_probs = []\n",
    "with open(os.path.join('./enroneEmailClassificationNoSmoothing', 'part-00000'), 'r') as myfile:\n",
    "    lines = myfile.readlines()\n",
    "    misclassified = 0\n",
    "    for line in lines[:-2]:\n",
    "        components = line.split('\\t')\n",
    "        spam_probs.append(float(components[3]))\n",
    "        ham_probs.append(float(components[4]))\n",
    "\n",
    "s = plt.figure(1)\n",
    "plt.hist(spam_probs, bins = 100)\n",
    "plt.xlabel = \"Probability\"\n",
    "plt.ylabel = \"Frequency\"\n",
    "plt.title(\"Spam Probabilities Histogram\")\n",
    "\n",
    "h = plt.figure(2)\n",
    "plt.hist(ham_probs, bins = 100)\n",
    "plt.xlabel = \"Probability\"\n",
    "plt.ylabel = \"Frequency\"\n",
    "plt.title(\"Ham Probabilties Histogram\")\n",
    "plt.show()"
   ]
  },
  {
   "cell_type": "markdown",
   "metadata": {
    "collapsed": true
   },
   "source": [
    "### HW2.4 \n",
    "\n",
    "Repeat HW2.3 with the following modification: use Laplace plus-one smoothing. Compare the misclassifcation error rates for 2.3 versus 2.4 and explain the differences.\n",
    "\n",
    "For a quick reference on the construction of the Multinomial NAIVE BAYES classifier that you will code,\n",
    "please consult the \"Document Classification\" section of the following wikipedia page:\n",
    "\n",
    "https://en.wikipedia.org/wiki/Naive_Bayes_classifier#Document_classification\n",
    "\n",
    "OR the original paper by the curators of the Enron email data:\n",
    "\n",
    "http://www.aueb.gr/users/ion/docs/ceas2006_paper.pdf"
   ]
  },
  {
   "cell_type": "code",
   "execution_count": 1,
   "metadata": {
    "collapsed": false
   },
   "outputs": [
    {
     "name": "stdout",
     "output_type": "stream",
     "text": [
      "Overwriting mapper.py\n"
     ]
    }
   ],
   "source": [
    "%%writefile mapper.py\n",
    "#!/usr/bin/python\n",
    "\n",
    "import sys\n",
    "import re\n",
    "WORD_RE = re.compile(r\"[\\w']+\")\n",
    "\n",
    "for line in sys.stdin:\n",
    "    components = line.split('\\t')\n",
    "    text = \" \".join(components[-2:]).strip()\n",
    "    words = re.findall(WORD_RE, text)\n",
    "    for word in words:\n",
    "        print components[0] + '\\t' + word + '\\t' + components[1]"
   ]
  },
  {
   "cell_type": "code",
   "execution_count": 2,
   "metadata": {
    "collapsed": false
   },
   "outputs": [
    {
     "name": "stdout",
     "output_type": "stream",
     "text": [
      "Overwriting reducer.py\n"
     ]
    }
   ],
   "source": [
    "%%writefile reducer.py\n",
    "#!/usr/bin/python\n",
    "import sys\n",
    "\n",
    "emails = set() #hold email IDs\n",
    "words = {} #hold words and associated counts\n",
    "spam_emails = 0 #how many emails are marked as spam\n",
    "spam_word_count = 0\n",
    "ham_word_count = 0\n",
    "vocab = set()\n",
    "\n",
    "for line in sys.stdin:\n",
    "    components = line.split('\\t')\n",
    "    \n",
    "    ID = components[0]\n",
    "    word = components[1]\n",
    "    spam = int(components[2])\n",
    "    \n",
    "    if word not in words.keys():\n",
    "        words[word] = {'spam_count': 0, 'ham_count': 0}\n",
    "        vocab.add(word)\n",
    "    if ID not in emails:\n",
    "        emails.add(ID)\n",
    "        if spam == 1:\n",
    "            spam_emails += 1\n",
    "        \n",
    "\n",
    "    if spam == 1:\n",
    "        words[word]['spam_count'] += 1\n",
    "        spam_word_count += 1\n",
    "    else:\n",
    "        words[word]['ham_count'] += 1\n",
    "        ham_word_count += 1\n",
    "\n",
    "\n",
    "prior_spam = float(spam_emails)/len(emails)\n",
    "prior_ham = 1-prior_spam\n",
    "\n",
    "for i, word in words.iteritems():\n",
    "    word['spam_like'] = float(word['spam_count'] + 1)/(spam_word_count + len(vocab))\n",
    "    word['ham_like'] = float(word['ham_count'] + 1)/(ham_word_count + len(vocab))\n",
    "    \n",
    "\n",
    "print prior_spam\n",
    "print prior_ham\n",
    "for word in words.keys():\n",
    "    #Word \"\\t\" spam likelihood '\\t' ham likelihood written to file\n",
    "    print word + '\\t' + str(words[word]['spam_like']) + '\\t' + str(words[word]['ham_like'])"
   ]
  },
  {
   "cell_type": "code",
   "execution_count": 3,
   "metadata": {
    "collapsed": false
   },
   "outputs": [
    {
     "name": "stdout",
     "output_type": "stream",
     "text": [
      "starting yarn daemons\n",
      "resourcemanager running as process 28941. Stop it first.\n",
      "localhost: nodemanager running as process 29016. Stop it first.\n",
      "16/01/24 22:46:01 WARN util.NativeCodeLoader: Unable to load native-hadoop library for your platform... using builtin-java classes where applicable\n",
      "Starting namenodes on [localhost]\n",
      "localhost: namenode running as process 29131. Stop it first.\n",
      "localhost: datanode running as process 29200. Stop it first.\n",
      "Starting secondary namenodes [0.0.0.0]\n",
      "0.0.0.0: secondarynamenode running as process 29289. Stop it first.\n",
      "16/01/24 22:46:05 WARN util.NativeCodeLoader: Unable to load native-hadoop library for your platform... using builtin-java classes where applicable\n"
     ]
    }
   ],
   "source": [
    "#Start hadoop yarn\n",
    "!/usr/local/Cellar/hadoop/2.7.1/sbin/start-yarn.sh\n",
    "!/usr/local/Cellar/hadoop/2.7.1/sbin/start-dfs.sh"
   ]
  },
  {
   "cell_type": "code",
   "execution_count": 4,
   "metadata": {
    "collapsed": false
   },
   "outputs": [
    {
     "name": "stdout",
     "output_type": "stream",
     "text": [
      "16/01/24 22:46:13 WARN util.NativeCodeLoader: Unable to load native-hadoop library for your platform... using builtin-java classes where applicable\r\n"
     ]
    }
   ],
   "source": [
    "#make directory\n",
    "!hdfs dfs -mkdir -p /user/dunmireg"
   ]
  },
  {
   "cell_type": "code",
   "execution_count": 5,
   "metadata": {
    "collapsed": false
   },
   "outputs": [
    {
     "name": "stdout",
     "output_type": "stream",
     "text": [
      "16/01/24 22:46:18 WARN util.NativeCodeLoader: Unable to load native-hadoop library for your platform... using builtin-java classes where applicable\r\n"
     ]
    }
   ],
   "source": [
    "#add input to hdfs\n",
    "!hdfs dfs -put enronemail_1h.txt /user/dunmireg"
   ]
  },
  {
   "cell_type": "code",
   "execution_count": 6,
   "metadata": {
    "collapsed": false
   },
   "outputs": [
    {
     "name": "stdout",
     "output_type": "stream",
     "text": [
      "16/01/24 22:46:21 WARN util.NativeCodeLoader: Unable to load native-hadoop library for your platform... using builtin-java classes where applicable\n",
      "16/01/24 22:46:21 INFO Configuration.deprecation: session.id is deprecated. Instead, use dfs.metrics.session-id\n",
      "16/01/24 22:46:21 INFO jvm.JvmMetrics: Initializing JVM Metrics with processName=JobTracker, sessionId=\n",
      "16/01/24 22:46:21 INFO jvm.JvmMetrics: Cannot initialize JVM Metrics with processName=JobTracker, sessionId= - already initialized\n",
      "16/01/24 22:46:22 INFO mapred.FileInputFormat: Total input paths to process : 1\n",
      "16/01/24 22:46:22 INFO mapreduce.JobSubmitter: number of splits:1\n",
      "16/01/24 22:46:22 INFO mapreduce.JobSubmitter: Submitting tokens for job: job_local1362718381_0001\n",
      "16/01/24 22:46:22 INFO mapreduce.Job: The url to track the job: http://localhost:8080/\n",
      "16/01/24 22:46:22 INFO mapred.LocalJobRunner: OutputCommitter set in config null\n",
      "16/01/24 22:46:22 INFO mapreduce.Job: Running job: job_local1362718381_0001\n",
      "16/01/24 22:46:22 INFO mapred.LocalJobRunner: OutputCommitter is org.apache.hadoop.mapred.FileOutputCommitter\n",
      "16/01/24 22:46:22 INFO output.FileOutputCommitter: File Output Committer Algorithm version is 1\n",
      "16/01/24 22:46:23 INFO mapred.LocalJobRunner: Waiting for map tasks\n",
      "16/01/24 22:46:23 INFO mapred.LocalJobRunner: Starting task: attempt_local1362718381_0001_m_000000_0\n",
      "16/01/24 22:46:23 INFO output.FileOutputCommitter: File Output Committer Algorithm version is 1\n",
      "16/01/24 22:46:23 INFO util.ProcfsBasedProcessTree: ProcfsBasedProcessTree currently is supported only on Linux.\n",
      "16/01/24 22:46:23 INFO mapred.Task:  Using ResourceCalculatorProcessTree : null\n",
      "16/01/24 22:46:23 INFO mapred.MapTask: Processing split: hdfs://localhost:9000/user/dunmireg/enronemail_1h.txt:0+204658\n",
      "16/01/24 22:46:23 INFO mapred.MapTask: numReduceTasks: 1\n",
      "16/01/24 22:46:23 INFO mapred.MapTask: (EQUATOR) 0 kvi 26214396(104857584)\n",
      "16/01/24 22:46:23 INFO mapred.MapTask: mapreduce.task.io.sort.mb: 100\n",
      "16/01/24 22:46:23 INFO mapred.MapTask: soft limit at 83886080\n",
      "16/01/24 22:46:23 INFO mapred.MapTask: bufstart = 0; bufvoid = 104857600\n",
      "16/01/24 22:46:23 INFO mapred.MapTask: kvstart = 26214396; length = 6553600\n",
      "16/01/24 22:46:23 INFO mapred.MapTask: Map output collector class = org.apache.hadoop.mapred.MapTask$MapOutputBuffer\n",
      "16/01/24 22:46:23 INFO streaming.PipeMapRed: PipeMapRed exec [/Users/dunmireg/Documents/261HW/HW2/./mapper.py]\n",
      "16/01/24 22:46:23 INFO Configuration.deprecation: mapred.tip.id is deprecated. Instead, use mapreduce.task.id\n",
      "16/01/24 22:46:23 INFO Configuration.deprecation: mapred.local.dir is deprecated. Instead, use mapreduce.cluster.local.dir\n",
      "16/01/24 22:46:23 INFO Configuration.deprecation: map.input.file is deprecated. Instead, use mapreduce.map.input.file\n",
      "16/01/24 22:46:23 INFO Configuration.deprecation: mapred.skip.on is deprecated. Instead, use mapreduce.job.skiprecords\n",
      "16/01/24 22:46:23 INFO Configuration.deprecation: map.input.length is deprecated. Instead, use mapreduce.map.input.length\n",
      "16/01/24 22:46:23 INFO Configuration.deprecation: mapred.work.output.dir is deprecated. Instead, use mapreduce.task.output.dir\n",
      "16/01/24 22:46:23 INFO Configuration.deprecation: map.input.start is deprecated. Instead, use mapreduce.map.input.start\n",
      "16/01/24 22:46:23 INFO Configuration.deprecation: mapred.job.id is deprecated. Instead, use mapreduce.job.id\n",
      "16/01/24 22:46:23 INFO Configuration.deprecation: user.name is deprecated. Instead, use mapreduce.job.user.name\n",
      "16/01/24 22:46:23 INFO Configuration.deprecation: mapred.task.is.map is deprecated. Instead, use mapreduce.task.ismap\n",
      "16/01/24 22:46:23 INFO Configuration.deprecation: mapred.task.id is deprecated. Instead, use mapreduce.task.attempt.id\n",
      "16/01/24 22:46:23 INFO Configuration.deprecation: mapred.task.partition is deprecated. Instead, use mapreduce.task.partition\n",
      "16/01/24 22:46:23 INFO streaming.PipeMapRed: R/W/S=1/0/0 in:NA [rec/s] out:NA [rec/s]\n",
      "16/01/24 22:46:23 INFO streaming.PipeMapRed: R/W/S=10/0/0 in:NA [rec/s] out:NA [rec/s]\n",
      "16/01/24 22:46:23 INFO streaming.PipeMapRed: Records R/W=96/1\n",
      "16/01/24 22:46:23 INFO streaming.PipeMapRed: R/W/S=100/116/0 in:NA [rec/s] out:NA [rec/s]\n",
      "16/01/24 22:46:23 INFO streaming.PipeMapRed: MRErrorThread done\n",
      "16/01/24 22:46:23 INFO streaming.PipeMapRed: mapRedFinished\n",
      "16/01/24 22:46:23 INFO mapred.LocalJobRunner: \n",
      "16/01/24 22:46:23 INFO mapred.MapTask: Starting flush of map output\n",
      "16/01/24 22:46:23 INFO mapred.MapTask: Spilling map output\n",
      "16/01/24 22:46:23 INFO mapred.MapTask: bufstart = 0; bufend = 1032108; bufvoid = 104857600\n",
      "16/01/24 22:46:23 INFO mapred.MapTask: kvstart = 26214396(104857584); kvend = 26082748(104330992); length = 131649/6553600\n",
      "16/01/24 22:46:23 INFO mapred.MapTask: Finished spill 0\n",
      "16/01/24 22:46:23 INFO mapred.Task: Task:attempt_local1362718381_0001_m_000000_0 is done. And is in the process of committing\n",
      "16/01/24 22:46:23 INFO mapred.LocalJobRunner: Records R/W=96/1\n",
      "16/01/24 22:46:23 INFO mapred.Task: Task 'attempt_local1362718381_0001_m_000000_0' done.\n",
      "16/01/24 22:46:23 INFO mapred.LocalJobRunner: Finishing task: attempt_local1362718381_0001_m_000000_0\n",
      "16/01/24 22:46:23 INFO mapred.LocalJobRunner: map task executor complete.\n",
      "16/01/24 22:46:23 INFO mapred.LocalJobRunner: Waiting for reduce tasks\n",
      "16/01/24 22:46:23 INFO mapred.LocalJobRunner: Starting task: attempt_local1362718381_0001_r_000000_0\n",
      "16/01/24 22:46:23 INFO output.FileOutputCommitter: File Output Committer Algorithm version is 1\n",
      "16/01/24 22:46:23 INFO util.ProcfsBasedProcessTree: ProcfsBasedProcessTree currently is supported only on Linux.\n",
      "16/01/24 22:46:23 INFO mapred.Task:  Using ResourceCalculatorProcessTree : null\n",
      "16/01/24 22:46:23 INFO mapred.ReduceTask: Using ShuffleConsumerPlugin: org.apache.hadoop.mapreduce.task.reduce.Shuffle@609a718a\n",
      "16/01/24 22:46:23 INFO reduce.MergeManagerImpl: MergerManager: memoryLimit=334338464, maxSingleShuffleLimit=83584616, mergeThreshold=220663392, ioSortFactor=10, memToMemMergeOutputsThreshold=10\n",
      "16/01/24 22:46:23 INFO reduce.EventFetcher: attempt_local1362718381_0001_r_000000_0 Thread started: EventFetcher for fetching Map Completion Events\n",
      "16/01/24 22:46:23 INFO reduce.LocalFetcher: localfetcher#1 about to shuffle output of map attempt_local1362718381_0001_m_000000_0 decomp: 1097936 len: 1097940 to MEMORY\n",
      "16/01/24 22:46:23 INFO mapreduce.Job: Job job_local1362718381_0001 running in uber mode : false\n",
      "16/01/24 22:46:23 INFO mapreduce.Job:  map 100% reduce 0%\n",
      "16/01/24 22:46:23 INFO reduce.InMemoryMapOutput: Read 1097936 bytes from map-output for attempt_local1362718381_0001_m_000000_0\n",
      "16/01/24 22:46:23 INFO reduce.MergeManagerImpl: closeInMemoryFile -> map-output of size: 1097936, inMemoryMapOutputs.size() -> 1, commitMemory -> 0, usedMemory ->1097936\n",
      "16/01/24 22:46:23 INFO reduce.EventFetcher: EventFetcher is interrupted.. Returning\n",
      "16/01/24 22:46:23 INFO mapred.LocalJobRunner: 1 / 1 copied.\n",
      "16/01/24 22:46:23 INFO reduce.MergeManagerImpl: finalMerge called with 1 in-memory map-outputs and 0 on-disk map-outputs\n",
      "16/01/24 22:46:23 INFO mapred.Merger: Merging 1 sorted segments\n",
      "16/01/24 22:46:23 INFO mapred.Merger: Down to the last merge-pass, with 1 segments left of total size: 1097911 bytes\n",
      "16/01/24 22:46:24 INFO reduce.MergeManagerImpl: Merged 1 segments, 1097936 bytes to disk to satisfy reduce memory limit\n",
      "16/01/24 22:46:24 INFO reduce.MergeManagerImpl: Merging 1 files, 1097940 bytes from disk\n",
      "16/01/24 22:46:24 INFO reduce.MergeManagerImpl: Merging 0 segments, 0 bytes from memory into reduce\n",
      "16/01/24 22:46:24 INFO mapred.Merger: Merging 1 sorted segments\n",
      "16/01/24 22:46:24 INFO mapred.Merger: Down to the last merge-pass, with 1 segments left of total size: 1097911 bytes\n",
      "16/01/24 22:46:24 INFO mapred.LocalJobRunner: 1 / 1 copied.\n",
      "16/01/24 22:46:24 INFO streaming.PipeMapRed: PipeMapRed exec [/Users/dunmireg/Documents/261HW/HW2/./reducer.py]\n",
      "16/01/24 22:46:24 INFO Configuration.deprecation: mapred.job.tracker is deprecated. Instead, use mapreduce.jobtracker.address\n",
      "16/01/24 22:46:24 INFO Configuration.deprecation: mapred.map.tasks is deprecated. Instead, use mapreduce.job.maps\n",
      "16/01/24 22:46:24 INFO streaming.PipeMapRed: R/W/S=1/0/0 in:NA [rec/s] out:NA [rec/s]\n",
      "16/01/24 22:46:24 INFO streaming.PipeMapRed: R/W/S=10/0/0 in:NA [rec/s] out:NA [rec/s]\n",
      "16/01/24 22:46:24 INFO streaming.PipeMapRed: R/W/S=100/0/0 in:NA [rec/s] out:NA [rec/s]\n",
      "16/01/24 22:46:24 INFO streaming.PipeMapRed: R/W/S=1000/0/0 in:NA [rec/s] out:NA [rec/s]\n",
      "16/01/24 22:46:24 INFO streaming.PipeMapRed: R/W/S=10000/0/0 in:NA [rec/s] out:NA [rec/s]\n",
      "16/01/24 22:46:26 INFO streaming.PipeMapRed: Records R/W=32913/1\n",
      "16/01/24 22:46:26 INFO streaming.PipeMapRed: MRErrorThread done\n",
      "16/01/24 22:46:26 INFO streaming.PipeMapRed: mapRedFinished\n",
      "16/01/24 22:46:26 INFO mapred.Task: Task:attempt_local1362718381_0001_r_000000_0 is done. And is in the process of committing\n",
      "16/01/24 22:46:26 INFO mapred.LocalJobRunner: 1 / 1 copied.\n",
      "16/01/24 22:46:26 INFO mapred.Task: Task attempt_local1362718381_0001_r_000000_0 is allowed to commit now\n",
      "16/01/24 22:46:26 INFO output.FileOutputCommitter: Saved output of task 'attempt_local1362718381_0001_r_000000_0' to hdfs://localhost:9000/user/dunmireg/enroneEmailCondProbLaplace/_temporary/0/task_local1362718381_0001_r_000000\n",
      "16/01/24 22:46:26 INFO mapred.LocalJobRunner: Records R/W=32913/1 > reduce\n",
      "16/01/24 22:46:26 INFO mapred.Task: Task 'attempt_local1362718381_0001_r_000000_0' done.\n",
      "16/01/24 22:46:26 INFO mapred.LocalJobRunner: Finishing task: attempt_local1362718381_0001_r_000000_0\n",
      "16/01/24 22:46:26 INFO mapred.LocalJobRunner: reduce task executor complete.\n",
      "16/01/24 22:46:26 INFO mapreduce.Job:  map 100% reduce 100%\n",
      "16/01/24 22:46:26 INFO mapreduce.Job: Job job_local1362718381_0001 completed successfully\n",
      "16/01/24 22:46:26 INFO mapreduce.Job: Counters: 35\n",
      "\tFile System Counters\n",
      "\t\tFILE: Number of bytes read=2407996\n",
      "\t\tFILE: Number of bytes written=4095684\n",
      "\t\tFILE: Number of read operations=0\n",
      "\t\tFILE: Number of large read operations=0\n",
      "\t\tFILE: Number of write operations=0\n",
      "\t\tHDFS: Number of bytes read=409316\n",
      "\t\tHDFS: Number of bytes written=237609\n",
      "\t\tHDFS: Number of read operations=13\n",
      "\t\tHDFS: Number of large read operations=0\n",
      "\t\tHDFS: Number of write operations=4\n",
      "\tMap-Reduce Framework\n",
      "\t\tMap input records=100\n",
      "\t\tMap output records=32913\n",
      "\t\tMap output bytes=1032108\n",
      "\t\tMap output materialized bytes=1097940\n",
      "\t\tInput split bytes=105\n",
      "\t\tCombine input records=0\n",
      "\t\tCombine output records=0\n",
      "\t\tReduce input groups=100\n",
      "\t\tReduce shuffle bytes=1097940\n",
      "\t\tReduce input records=32913\n",
      "\t\tReduce output records=5493\n",
      "\t\tSpilled Records=65826\n",
      "\t\tShuffled Maps =1\n",
      "\t\tFailed Shuffles=0\n",
      "\t\tMerged Map outputs=1\n",
      "\t\tGC time elapsed (ms)=7\n",
      "\t\tTotal committed heap usage (bytes)=510656512\n",
      "\tShuffle Errors\n",
      "\t\tBAD_ID=0\n",
      "\t\tCONNECTION=0\n",
      "\t\tIO_ERROR=0\n",
      "\t\tWRONG_LENGTH=0\n",
      "\t\tWRONG_MAP=0\n",
      "\t\tWRONG_REDUCE=0\n",
      "\tFile Input Format Counters \n",
      "\t\tBytes Read=204658\n",
      "\tFile Output Format Counters \n",
      "\t\tBytes Written=237609\n",
      "16/01/24 22:46:26 INFO streaming.StreamJob: Output directory: enroneEmailCondProbLaplace\n"
     ]
    }
   ],
   "source": [
    "!hadoop jar /usr/local/Cellar/hadoop/2.7.1/libexec/share/hadoop/tools/lib/hadoop-streaming-2.7.1.jar \\\n",
    "-mapper mapper.py \\\n",
    "-reducer reducer.py \\\n",
    "-input enronemail_1h.txt \\\n",
    "-output enroneEmailCondProbLaplace"
   ]
  },
  {
   "cell_type": "code",
   "execution_count": 33,
   "metadata": {
    "collapsed": false
   },
   "outputs": [],
   "source": [
    "#Check output\n",
    "#!hdfs dfs -cat /user/dunmireg/enroneEmailCondProbLaplace/part-00000"
   ]
  },
  {
   "cell_type": "code",
   "execution_count": 8,
   "metadata": {
    "collapsed": false
   },
   "outputs": [
    {
     "name": "stdout",
     "output_type": "stream",
     "text": [
      "16/01/24 22:46:36 WARN util.NativeCodeLoader: Unable to load native-hadoop library for your platform... using builtin-java classes where applicable\n",
      "16/01/24 22:46:37 WARN hdfs.DFSClient: DFSInputStream has been closed already\n",
      "16/01/24 22:46:37 WARN hdfs.DFSClient: DFSInputStream has been closed already\n"
     ]
    }
   ],
   "source": [
    "!hadoop fs -copyToLocal /user/dunmireg/enroneEmailCondProbLaplace"
   ]
  },
  {
   "cell_type": "code",
   "execution_count": 9,
   "metadata": {
    "collapsed": false
   },
   "outputs": [
    {
     "name": "stdout",
     "output_type": "stream",
     "text": [
      "rmr: DEPRECATED: Please use 'rm -r' instead.\n",
      "16/01/24 22:46:39 WARN util.NativeCodeLoader: Unable to load native-hadoop library for your platform... using builtin-java classes where applicable\n",
      "16/01/24 22:46:40 INFO fs.TrashPolicyDefault: Namenode trash configuration: Deletion interval = 0 minutes, Emptier interval = 0 minutes.\n",
      "Deleted /user/dunmireg/enronemail_1h.txt\n",
      "rmr: DEPRECATED: Please use 'rm -r' instead.\n",
      "16/01/24 22:46:41 WARN util.NativeCodeLoader: Unable to load native-hadoop library for your platform... using builtin-java classes where applicable\n",
      "16/01/24 22:46:42 INFO fs.TrashPolicyDefault: Namenode trash configuration: Deletion interval = 0 minutes, Emptier interval = 0 minutes.\n",
      "Deleted /user/dunmireg/enroneEmailCondProbLaplace\n",
      "stopping yarn daemons\n",
      "stopping resourcemanager\n",
      "localhost: stopping nodemanager\n",
      "no proxyserver to stop\n",
      "16/01/24 22:46:53 WARN util.NativeCodeLoader: Unable to load native-hadoop library for your platform... using builtin-java classes where applicable\n",
      "Stopping namenodes on [localhost]\n",
      "localhost: stopping namenode\n",
      "localhost: stopping datanode\n",
      "Stopping secondary namenodes [0.0.0.0]\n",
      "0.0.0.0: stopping secondarynamenode\n",
      "16/01/24 22:47:12 WARN util.NativeCodeLoader: Unable to load native-hadoop library for your platform... using builtin-java classes where applicable\n"
     ]
    }
   ],
   "source": [
    "#Remove output directory and stop yarn and hdfs\n",
    "!hadoop fs -rmr /user/dunmireg/enronemail_1h.txt\n",
    "!hadoop fs -rmr /user/dunmireg/enroneEmailCondProbLaplace\n",
    "!/usr/local/Cellar/hadoop/2.7.1/sbin/stop-yarn.sh\n",
    "!/usr/local/Cellar/hadoop/2.7.1/sbin/stop-dfs.sh"
   ]
  },
  {
   "cell_type": "code",
   "execution_count": 10,
   "metadata": {
    "collapsed": false
   },
   "outputs": [
    {
     "name": "stdout",
     "output_type": "stream",
     "text": [
      "Overwriting mapper.py\n"
     ]
    }
   ],
   "source": [
    "%%writefile mapper.py\n",
    "#!/usr/bin/python\n",
    "\n",
    "#I have placed the mapper here but have not modified it in any way from the previous mapper. It will still\n",
    "#produce ID + \\t + word + \\t + true spam flag to send to the reducer. \n",
    "import sys\n",
    "import re\n",
    "import os \n",
    "from math import log\n",
    "from math import exp\n",
    "\n",
    "priorSpam = 0\n",
    "priorHam = 0\n",
    "words = {}\n",
    "\n",
    "with open(os.path.join('./enroneEmailCondProbLaplace', 'part-00000'), 'r') as myfile:\n",
    "    lines = myfile.readlines()\n",
    "    priorSpam = float(lines[0])\n",
    "    priorHam = float(lines[1])\n",
    "    for line in lines[2:]:\n",
    "        components = line.split('\\t')\n",
    "        words[components[0]] = {'spam_like': float(components[1]), 'ham_like': float(components[2])}\n",
    "        \n",
    "\n",
    "WORD_RE = re.compile(r\"[\\w']+\")\n",
    "\n",
    "spamSkip = 0\n",
    "hamSkip = 0\n",
    "\n",
    "for line in sys.stdin:\n",
    "    components = line.split('\\t')\n",
    "    text = \" \".join(components[-2:]).strip()\n",
    "    text = re.findall(WORD_RE, text)\n",
    "    \n",
    "    spamScore = log(priorSpam)\n",
    "    hamScore = log(priorHam)\n",
    "    for word in text:\n",
    "        if word in words.keys():\n",
    "            if float(words[word]['spam_like']) != 0:\n",
    "                spamScore += log(float(words[word]['spam_like']))\n",
    "            else:\n",
    "                spamScore += -300\n",
    "                spamSkip += 1\n",
    "            if float(words[word]['ham_like']) != 0:\n",
    "                hamScore += log(float(words[word]['ham_like']))\n",
    "            else:\n",
    "                hamScore += -300\n",
    "                hamSkip += 1\n",
    "        pred = 0\n",
    "    if spamScore > hamScore:\n",
    "        pred = 1\n",
    "    print components[0] + '\\t' + components[1] + '\\t' + str(pred) + '\\t' + str(exp(spamScore)) + '\\t' + str(exp(hamScore))"
   ]
  },
  {
   "cell_type": "code",
   "execution_count": 11,
   "metadata": {
    "collapsed": false
   },
   "outputs": [
    {
     "name": "stdout",
     "output_type": "stream",
     "text": [
      "Overwriting reducer.py\n"
     ]
    }
   ],
   "source": [
    "%%writefile reducer.py\n",
    "#!/usr/bin/python\n",
    "import sys\n",
    "\n",
    "misclassified = 0\n",
    "\n",
    "for line in sys.stdin:\n",
    "    components = line.split('\\t')\n",
    "    if int(components[1]) != int(components[2]):\n",
    "            misclassified += 1\n",
    "    print line\n",
    "print \"Misclassified: \" + str(misclassified) + \" which means this has an accuracy of \" + str(100-misclassified) + \"%\"\n",
    "    "
   ]
  },
  {
   "cell_type": "code",
   "execution_count": 34,
   "metadata": {
    "collapsed": false
   },
   "outputs": [],
   "source": [
    "#Check code\n",
    "#!cat enronemail_1h.txt | python mapper.py | python reducer.py"
   ]
  },
  {
   "cell_type": "code",
   "execution_count": 13,
   "metadata": {
    "collapsed": false
   },
   "outputs": [
    {
     "name": "stdout",
     "output_type": "stream",
     "text": [
      "starting yarn daemons\n",
      "starting resourcemanager, logging to /usr/local/Cellar/hadoop/2.7.1/libexec/logs/yarn-dunmireg-resourcemanager-Glenns-Air.home.out\n",
      "localhost: starting nodemanager, logging to /usr/local/Cellar/hadoop/2.7.1/libexec/logs/yarn-dunmireg-nodemanager-Glenns-Air.home.out\n",
      "16/01/24 22:47:38 WARN util.NativeCodeLoader: Unable to load native-hadoop library for your platform... using builtin-java classes where applicable\n",
      "Starting namenodes on [localhost]\n",
      "localhost: starting namenode, logging to /usr/local/Cellar/hadoop/2.7.1/libexec/logs/hadoop-dunmireg-namenode-Glenns-Air.home.out\n",
      "localhost: starting datanode, logging to /usr/local/Cellar/hadoop/2.7.1/libexec/logs/hadoop-dunmireg-datanode-Glenns-Air.home.out\n",
      "Starting secondary namenodes [0.0.0.0]\n",
      "0.0.0.0: starting secondarynamenode, logging to /usr/local/Cellar/hadoop/2.7.1/libexec/logs/hadoop-dunmireg-secondarynamenode-Glenns-Air.home.out\n",
      "16/01/24 22:47:53 WARN util.NativeCodeLoader: Unable to load native-hadoop library for your platform... using builtin-java classes where applicable\n"
     ]
    }
   ],
   "source": [
    "#Start hadoop yarn\n",
    "!/usr/local/Cellar/hadoop/2.7.1/sbin/start-yarn.sh\n",
    "!/usr/local/Cellar/hadoop/2.7.1/sbin/start-dfs.sh"
   ]
  },
  {
   "cell_type": "code",
   "execution_count": 14,
   "metadata": {
    "collapsed": false
   },
   "outputs": [
    {
     "name": "stdout",
     "output_type": "stream",
     "text": [
      "16/01/24 22:47:57 WARN util.NativeCodeLoader: Unable to load native-hadoop library for your platform... using builtin-java classes where applicable\r\n"
     ]
    }
   ],
   "source": [
    "#make directory\n",
    "!hdfs dfs -mkdir -p /user/dunmireg"
   ]
  },
  {
   "cell_type": "code",
   "execution_count": 15,
   "metadata": {
    "collapsed": false
   },
   "outputs": [
    {
     "name": "stdout",
     "output_type": "stream",
     "text": [
      "16/01/24 22:48:00 WARN util.NativeCodeLoader: Unable to load native-hadoop library for your platform... using builtin-java classes where applicable\r\n"
     ]
    }
   ],
   "source": [
    "#add input to hdfs\n",
    "!hdfs dfs -put enronemail_1h.txt /user/dunmireg"
   ]
  },
  {
   "cell_type": "code",
   "execution_count": 16,
   "metadata": {
    "collapsed": false
   },
   "outputs": [
    {
     "name": "stdout",
     "output_type": "stream",
     "text": [
      "16/01/24 22:48:04 WARN util.NativeCodeLoader: Unable to load native-hadoop library for your platform... using builtin-java classes where applicable\n",
      "16/01/24 22:48:04 INFO Configuration.deprecation: session.id is deprecated. Instead, use dfs.metrics.session-id\n",
      "16/01/24 22:48:04 INFO jvm.JvmMetrics: Initializing JVM Metrics with processName=JobTracker, sessionId=\n",
      "16/01/24 22:48:04 INFO jvm.JvmMetrics: Cannot initialize JVM Metrics with processName=JobTracker, sessionId= - already initialized\n",
      "16/01/24 22:48:04 INFO mapred.FileInputFormat: Total input paths to process : 1\n",
      "16/01/24 22:48:05 INFO mapreduce.JobSubmitter: number of splits:1\n",
      "16/01/24 22:48:05 INFO mapreduce.JobSubmitter: Submitting tokens for job: job_local101249988_0001\n",
      "16/01/24 22:48:05 INFO mapreduce.Job: The url to track the job: http://localhost:8080/\n",
      "16/01/24 22:48:05 INFO mapreduce.Job: Running job: job_local101249988_0001\n",
      "16/01/24 22:48:05 INFO mapred.LocalJobRunner: OutputCommitter set in config null\n",
      "16/01/24 22:48:05 INFO mapred.LocalJobRunner: OutputCommitter is org.apache.hadoop.mapred.FileOutputCommitter\n",
      "16/01/24 22:48:05 INFO output.FileOutputCommitter: File Output Committer Algorithm version is 1\n",
      "16/01/24 22:48:05 INFO mapred.LocalJobRunner: Waiting for map tasks\n",
      "16/01/24 22:48:05 INFO mapred.LocalJobRunner: Starting task: attempt_local101249988_0001_m_000000_0\n",
      "16/01/24 22:48:05 INFO output.FileOutputCommitter: File Output Committer Algorithm version is 1\n",
      "16/01/24 22:48:05 INFO util.ProcfsBasedProcessTree: ProcfsBasedProcessTree currently is supported only on Linux.\n",
      "16/01/24 22:48:05 INFO mapred.Task:  Using ResourceCalculatorProcessTree : null\n",
      "16/01/24 22:48:05 INFO mapred.MapTask: Processing split: hdfs://localhost:9000/user/dunmireg/enronemail_1h.txt:0+204658\n",
      "16/01/24 22:48:05 INFO mapred.MapTask: numReduceTasks: 1\n",
      "16/01/24 22:48:05 INFO mapred.MapTask: (EQUATOR) 0 kvi 26214396(104857584)\n",
      "16/01/24 22:48:05 INFO mapred.MapTask: mapreduce.task.io.sort.mb: 100\n",
      "16/01/24 22:48:05 INFO mapred.MapTask: soft limit at 83886080\n",
      "16/01/24 22:48:05 INFO mapred.MapTask: bufstart = 0; bufvoid = 104857600\n",
      "16/01/24 22:48:05 INFO mapred.MapTask: kvstart = 26214396; length = 6553600\n",
      "16/01/24 22:48:05 INFO mapred.MapTask: Map output collector class = org.apache.hadoop.mapred.MapTask$MapOutputBuffer\n",
      "16/01/24 22:48:05 INFO streaming.PipeMapRed: PipeMapRed exec [/Users/dunmireg/Documents/261HW/HW2/./mapper.py]\n",
      "16/01/24 22:48:05 INFO Configuration.deprecation: mapred.tip.id is deprecated. Instead, use mapreduce.task.id\n",
      "16/01/24 22:48:05 INFO Configuration.deprecation: mapred.local.dir is deprecated. Instead, use mapreduce.cluster.local.dir\n",
      "16/01/24 22:48:05 INFO Configuration.deprecation: map.input.file is deprecated. Instead, use mapreduce.map.input.file\n",
      "16/01/24 22:48:05 INFO Configuration.deprecation: mapred.skip.on is deprecated. Instead, use mapreduce.job.skiprecords\n",
      "16/01/24 22:48:05 INFO Configuration.deprecation: map.input.length is deprecated. Instead, use mapreduce.map.input.length\n",
      "16/01/24 22:48:05 INFO Configuration.deprecation: mapred.work.output.dir is deprecated. Instead, use mapreduce.task.output.dir\n",
      "16/01/24 22:48:05 INFO Configuration.deprecation: map.input.start is deprecated. Instead, use mapreduce.map.input.start\n",
      "16/01/24 22:48:05 INFO Configuration.deprecation: mapred.job.id is deprecated. Instead, use mapreduce.job.id\n",
      "16/01/24 22:48:05 INFO Configuration.deprecation: user.name is deprecated. Instead, use mapreduce.job.user.name\n",
      "16/01/24 22:48:05 INFO Configuration.deprecation: mapred.task.is.map is deprecated. Instead, use mapreduce.task.ismap\n",
      "16/01/24 22:48:05 INFO Configuration.deprecation: mapred.task.id is deprecated. Instead, use mapreduce.task.attempt.id\n",
      "16/01/24 22:48:05 INFO Configuration.deprecation: mapred.task.partition is deprecated. Instead, use mapreduce.task.partition\n",
      "16/01/24 22:48:05 INFO streaming.PipeMapRed: R/W/S=1/0/0 in:NA [rec/s] out:NA [rec/s]\n",
      "16/01/24 22:48:05 INFO streaming.PipeMapRed: R/W/S=10/0/0 in:NA [rec/s] out:NA [rec/s]\n",
      "16/01/24 22:48:06 INFO mapreduce.Job: Job job_local101249988_0001 running in uber mode : false\n",
      "16/01/24 22:48:06 INFO mapreduce.Job:  map 0% reduce 0%\n",
      "16/01/24 22:48:06 INFO streaming.PipeMapRed: R/W/S=100/0/0 in:100=100/1 [rec/s] out:0=0/1 [rec/s]\n",
      "16/01/24 22:48:09 INFO streaming.PipeMapRed: MRErrorThread done\n",
      "16/01/24 22:48:09 INFO streaming.PipeMapRed: Records R/W=100/1\n",
      "16/01/24 22:48:09 INFO streaming.PipeMapRed: mapRedFinished\n",
      "16/01/24 22:48:09 INFO mapred.LocalJobRunner: \n",
      "16/01/24 22:48:09 INFO mapred.MapTask: Starting flush of map output\n",
      "16/01/24 22:48:09 INFO mapred.MapTask: Spilling map output\n",
      "16/01/24 22:48:09 INFO mapred.MapTask: bufstart = 0; bufend = 4284; bufvoid = 104857600\n",
      "16/01/24 22:48:09 INFO mapred.MapTask: kvstart = 26214396(104857584); kvend = 26214000(104856000); length = 397/6553600\n",
      "16/01/24 22:48:09 INFO mapred.MapTask: Finished spill 0\n",
      "16/01/24 22:48:09 INFO mapred.Task: Task:attempt_local101249988_0001_m_000000_0 is done. And is in the process of committing\n",
      "16/01/24 22:48:09 INFO mapred.LocalJobRunner: Records R/W=100/1\n",
      "16/01/24 22:48:09 INFO mapred.Task: Task 'attempt_local101249988_0001_m_000000_0' done.\n",
      "16/01/24 22:48:09 INFO mapred.LocalJobRunner: Finishing task: attempt_local101249988_0001_m_000000_0\n",
      "16/01/24 22:48:09 INFO mapred.LocalJobRunner: map task executor complete.\n",
      "16/01/24 22:48:09 INFO mapred.LocalJobRunner: Waiting for reduce tasks\n",
      "16/01/24 22:48:09 INFO mapred.LocalJobRunner: Starting task: attempt_local101249988_0001_r_000000_0\n",
      "16/01/24 22:48:09 INFO output.FileOutputCommitter: File Output Committer Algorithm version is 1\n",
      "16/01/24 22:48:09 INFO util.ProcfsBasedProcessTree: ProcfsBasedProcessTree currently is supported only on Linux.\n",
      "16/01/24 22:48:09 INFO mapred.Task:  Using ResourceCalculatorProcessTree : null\n",
      "16/01/24 22:48:09 INFO mapred.ReduceTask: Using ShuffleConsumerPlugin: org.apache.hadoop.mapreduce.task.reduce.Shuffle@71afb01\n",
      "16/01/24 22:48:09 INFO reduce.MergeManagerImpl: MergerManager: memoryLimit=334338464, maxSingleShuffleLimit=83584616, mergeThreshold=220663392, ioSortFactor=10, memToMemMergeOutputsThreshold=10\n",
      "16/01/24 22:48:09 INFO reduce.EventFetcher: attempt_local101249988_0001_r_000000_0 Thread started: EventFetcher for fetching Map Completion Events\n",
      "16/01/24 22:48:10 INFO reduce.LocalFetcher: localfetcher#1 about to shuffle output of map attempt_local101249988_0001_m_000000_0 decomp: 4486 len: 4490 to MEMORY\n",
      "16/01/24 22:48:10 INFO reduce.InMemoryMapOutput: Read 4486 bytes from map-output for attempt_local101249988_0001_m_000000_0\n",
      "16/01/24 22:48:10 INFO reduce.MergeManagerImpl: closeInMemoryFile -> map-output of size: 4486, inMemoryMapOutputs.size() -> 1, commitMemory -> 0, usedMemory ->4486\n",
      "16/01/24 22:48:10 INFO reduce.EventFetcher: EventFetcher is interrupted.. Returning\n",
      "16/01/24 22:48:10 INFO mapred.LocalJobRunner: 1 / 1 copied.\n",
      "16/01/24 22:48:10 INFO reduce.MergeManagerImpl: finalMerge called with 1 in-memory map-outputs and 0 on-disk map-outputs\n",
      "16/01/24 22:48:10 INFO mapred.Merger: Merging 1 sorted segments\n",
      "16/01/24 22:48:10 INFO mapred.Merger: Down to the last merge-pass, with 1 segments left of total size: 4461 bytes\n",
      "16/01/24 22:48:10 INFO reduce.MergeManagerImpl: Merged 1 segments, 4486 bytes to disk to satisfy reduce memory limit\n",
      "16/01/24 22:48:10 INFO reduce.MergeManagerImpl: Merging 1 files, 4490 bytes from disk\n",
      "16/01/24 22:48:10 INFO reduce.MergeManagerImpl: Merging 0 segments, 0 bytes from memory into reduce\n",
      "16/01/24 22:48:10 INFO mapred.Merger: Merging 1 sorted segments\n",
      "16/01/24 22:48:10 INFO mapred.Merger: Down to the last merge-pass, with 1 segments left of total size: 4461 bytes\n",
      "16/01/24 22:48:10 INFO mapred.LocalJobRunner: 1 / 1 copied.\n",
      "16/01/24 22:48:10 INFO streaming.PipeMapRed: PipeMapRed exec [/Users/dunmireg/Documents/261HW/HW2/./reducer.py]\n",
      "16/01/24 22:48:10 INFO Configuration.deprecation: mapred.job.tracker is deprecated. Instead, use mapreduce.jobtracker.address\n",
      "16/01/24 22:48:10 INFO Configuration.deprecation: mapred.map.tasks is deprecated. Instead, use mapreduce.job.maps\n",
      "16/01/24 22:48:10 INFO streaming.PipeMapRed: R/W/S=1/0/0 in:NA [rec/s] out:NA [rec/s]\n",
      "16/01/24 22:48:10 INFO streaming.PipeMapRed: R/W/S=10/0/0 in:NA [rec/s] out:NA [rec/s]\n",
      "16/01/24 22:48:10 INFO streaming.PipeMapRed: R/W/S=100/0/0 in:NA [rec/s] out:NA [rec/s]\n",
      "16/01/24 22:48:10 INFO streaming.PipeMapRed: Records R/W=100/1\n",
      "16/01/24 22:48:10 INFO streaming.PipeMapRed: MRErrorThread done\n",
      "16/01/24 22:48:10 INFO streaming.PipeMapRed: mapRedFinished\n",
      "16/01/24 22:48:10 INFO mapred.Task: Task:attempt_local101249988_0001_r_000000_0 is done. And is in the process of committing\n",
      "16/01/24 22:48:10 INFO mapred.LocalJobRunner: 1 / 1 copied.\n",
      "16/01/24 22:48:10 INFO mapred.Task: Task attempt_local101249988_0001_r_000000_0 is allowed to commit now\n",
      "16/01/24 22:48:10 INFO output.FileOutputCommitter: Saved output of task 'attempt_local101249988_0001_r_000000_0' to hdfs://localhost:9000/user/dunmireg/enroneEmailClassLaplace/_temporary/0/task_local101249988_0001_r_000000\n",
      "16/01/24 22:48:10 INFO mapred.LocalJobRunner: Records R/W=100/1 > reduce\n",
      "16/01/24 22:48:10 INFO mapred.Task: Task 'attempt_local101249988_0001_r_000000_0' done.\n",
      "16/01/24 22:48:10 INFO mapred.LocalJobRunner: Finishing task: attempt_local101249988_0001_r_000000_0\n",
      "16/01/24 22:48:10 INFO mapred.LocalJobRunner: reduce task executor complete.\n",
      "16/01/24 22:48:10 INFO mapreduce.Job:  map 100% reduce 100%\n",
      "16/01/24 22:48:10 INFO mapreduce.Job: Job job_local101249988_0001 completed successfully\n",
      "16/01/24 22:48:10 INFO mapreduce.Job: Counters: 35\n",
      "\tFile System Counters\n",
      "\t\tFILE: Number of bytes read=221096\n",
      "\t\tFILE: Number of bytes written=812314\n",
      "\t\tFILE: Number of read operations=0\n",
      "\t\tFILE: Number of large read operations=0\n",
      "\t\tFILE: Number of write operations=0\n",
      "\t\tHDFS: Number of bytes read=409316\n",
      "\t\tHDFS: Number of bytes written=4543\n",
      "\t\tHDFS: Number of read operations=13\n",
      "\t\tHDFS: Number of large read operations=0\n",
      "\t\tHDFS: Number of write operations=4\n",
      "\tMap-Reduce Framework\n",
      "\t\tMap input records=100\n",
      "\t\tMap output records=100\n",
      "\t\tMap output bytes=4284\n",
      "\t\tMap output materialized bytes=4490\n",
      "\t\tInput split bytes=105\n",
      "\t\tCombine input records=0\n",
      "\t\tCombine output records=0\n",
      "\t\tReduce input groups=100\n",
      "\t\tReduce shuffle bytes=4490\n",
      "\t\tReduce input records=100\n",
      "\t\tReduce output records=201\n",
      "\t\tSpilled Records=200\n",
      "\t\tShuffled Maps =1\n",
      "\t\tFailed Shuffles=0\n",
      "\t\tMerged Map outputs=1\n",
      "\t\tGC time elapsed (ms)=0\n",
      "\t\tTotal committed heap usage (bytes)=618659840\n",
      "\tShuffle Errors\n",
      "\t\tBAD_ID=0\n",
      "\t\tCONNECTION=0\n",
      "\t\tIO_ERROR=0\n",
      "\t\tWRONG_LENGTH=0\n",
      "\t\tWRONG_MAP=0\n",
      "\t\tWRONG_REDUCE=0\n",
      "\tFile Input Format Counters \n",
      "\t\tBytes Read=204658\n",
      "\tFile Output Format Counters \n",
      "\t\tBytes Written=4543\n",
      "16/01/24 22:48:10 INFO streaming.StreamJob: Output directory: enroneEmailClassLaplace\n"
     ]
    }
   ],
   "source": [
    "!hadoop jar /usr/local/Cellar/hadoop/2.7.1/libexec/share/hadoop/tools/lib/hadoop-streaming-2.7.1.jar \\\n",
    "-mapper mapper.py \\\n",
    "-reducer reducer.py \\\n",
    "-input enronemail_1h.txt \\\n",
    "-output enroneEmailClassLaplace"
   ]
  },
  {
   "cell_type": "code",
   "execution_count": 35,
   "metadata": {
    "collapsed": false
   },
   "outputs": [],
   "source": [
    "#Check output\n",
    "#!hdfs dfs -cat /user/dunmireg/enroneEmailClassLaplace/part-00000"
   ]
  },
  {
   "cell_type": "code",
   "execution_count": 18,
   "metadata": {
    "collapsed": false
   },
   "outputs": [
    {
     "name": "stdout",
     "output_type": "stream",
     "text": [
      "16/01/24 22:48:22 WARN util.NativeCodeLoader: Unable to load native-hadoop library for your platform... using builtin-java classes where applicable\n",
      "16/01/24 22:48:23 WARN hdfs.DFSClient: DFSInputStream has been closed already\n",
      "16/01/24 22:48:23 WARN hdfs.DFSClient: DFSInputStream has been closed already\n"
     ]
    }
   ],
   "source": [
    "!hadoop fs -copyToLocal /user/dunmireg/enroneEmailClassLaplace"
   ]
  },
  {
   "cell_type": "code",
   "execution_count": 19,
   "metadata": {
    "collapsed": false
   },
   "outputs": [
    {
     "name": "stdout",
     "output_type": "stream",
     "text": [
      "rmr: DEPRECATED: Please use 'rm -r' instead.\n",
      "16/01/24 22:48:25 WARN util.NativeCodeLoader: Unable to load native-hadoop library for your platform... using builtin-java classes where applicable\n",
      "16/01/24 22:48:26 INFO fs.TrashPolicyDefault: Namenode trash configuration: Deletion interval = 0 minutes, Emptier interval = 0 minutes.\n",
      "Deleted /user/dunmireg/enronemail_1h.txt\n",
      "rmr: DEPRECATED: Please use 'rm -r' instead.\n",
      "16/01/24 22:48:27 WARN util.NativeCodeLoader: Unable to load native-hadoop library for your platform... using builtin-java classes where applicable\n",
      "16/01/24 22:48:27 INFO fs.TrashPolicyDefault: Namenode trash configuration: Deletion interval = 0 minutes, Emptier interval = 0 minutes.\n",
      "Deleted /user/dunmireg/enroneEmailClassLaplace\n",
      "stopping yarn daemons\n",
      "stopping resourcemanager\n",
      "localhost: stopping nodemanager\n",
      "localhost: nodemanager did not stop gracefully after 5 seconds: killing with kill -9\n",
      "no proxyserver to stop\n",
      "16/01/24 22:48:39 WARN util.NativeCodeLoader: Unable to load native-hadoop library for your platform... using builtin-java classes where applicable\n",
      "Stopping namenodes on [localhost]\n",
      "localhost: stopping namenode\n",
      "localhost: stopping datanode\n",
      "Stopping secondary namenodes [0.0.0.0]\n",
      "0.0.0.0: stopping secondarynamenode\n",
      "16/01/24 22:48:57 WARN util.NativeCodeLoader: Unable to load native-hadoop library for your platform... using builtin-java classes where applicable\n"
     ]
    }
   ],
   "source": [
    "#Remove output directory and stop yarn and hdfs\n",
    "!hadoop fs -rmr /user/dunmireg/enronemail_1h.txt\n",
    "!hadoop fs -rmr /user/dunmireg/enroneEmailClassLaplace\n",
    "!/usr/local/Cellar/hadoop/2.7.1/sbin/stop-yarn.sh\n",
    "!/usr/local/Cellar/hadoop/2.7.1/sbin/stop-dfs.sh"
   ]
  },
  {
   "cell_type": "markdown",
   "metadata": {
    "collapsed": true
   },
   "source": [
    "### HW2.5. \n",
    "\n",
    "Repeat HW2.4. This time when modeling and classification ignore tokens with a frequency of less than three (3) in the training set. How does it affect the misclassifcation error of learnt naive multinomial Bayesian Classifier on the training dataset:"
   ]
  },
  {
   "cell_type": "code",
   "execution_count": 1,
   "metadata": {
    "collapsed": false
   },
   "outputs": [
    {
     "name": "stdout",
     "output_type": "stream",
     "text": [
      "Overwriting mapper.py\n"
     ]
    }
   ],
   "source": [
    "%%writefile mapper.py\n",
    "#!/usr/bin/python\n",
    "\n",
    "import sys\n",
    "import re\n",
    "WORD_RE = re.compile(r\"[\\w']+\")\n",
    "\n",
    "for line in sys.stdin:\n",
    "    components = line.split('\\t')\n",
    "    text = \" \".join(components[-2:]).strip()\n",
    "    words = re.findall(WORD_RE, text)\n",
    "    for word in words:\n",
    "        print components[0] + '\\t' + word + '\\t' + components[1]"
   ]
  },
  {
   "cell_type": "code",
   "execution_count": 6,
   "metadata": {
    "collapsed": false
   },
   "outputs": [
    {
     "name": "stdout",
     "output_type": "stream",
     "text": [
      "Overwriting reducer.py\n"
     ]
    }
   ],
   "source": [
    "%%writefile reducer.py\n",
    "#!/usr/bin/python\n",
    "import sys\n",
    "\n",
    "emails = set() #hold email IDs\n",
    "words = {} #hold words and associated counts\n",
    "spam_emails = 0 #how many emails are marked as spam\n",
    "spam_word_count = 0\n",
    "ham_word_count = 0\n",
    "vocab = set()\n",
    "\n",
    "for line in sys.stdin:\n",
    "    components = line.split('\\t')\n",
    "    \n",
    "    ID = components[0]\n",
    "    word = components[1]\n",
    "    spam = int(components[2])\n",
    "    \n",
    "    if word not in words.keys():\n",
    "        words[word] = {'spam_count': 0, 'ham_count': 0}\n",
    "        vocab.add(word)\n",
    "    if ID not in emails:\n",
    "        emails.add(ID)\n",
    "        if spam == 1:\n",
    "            spam_emails += 1\n",
    "        \n",
    "\n",
    "    if spam == 1:\n",
    "        words[word]['spam_count'] += 1\n",
    "        spam_word_count += 1\n",
    "    else:\n",
    "        words[word]['ham_count'] += 1\n",
    "        ham_word_count += 1\n",
    "\n",
    "\n",
    "prior_spam = float(spam_emails)/len(emails)\n",
    "prior_ham = 1-prior_spam\n",
    "\n",
    "for word in words.keys():\n",
    "    if words[word]['spam_count'] + words[word]['ham_count'] < 3:\n",
    "        del words[word]\n",
    "\n",
    "for i, word in words.iteritems():\n",
    "    word['spam_like'] = float(word['spam_count'] + 1)/(spam_word_count + len(vocab))\n",
    "    word['ham_like'] = float(word['ham_count'] + 1)/(ham_word_count + len(vocab))\n",
    "    \n",
    "\n",
    "print prior_spam\n",
    "print prior_ham\n",
    "for word in words.keys():\n",
    "    #Word \"\\t\" spam likelihood '\\t' ham likelihood written to file\n",
    "    print word + '\\t' + str(words[word]['spam_like']) + '\\t' + str(words[word]['ham_like'])"
   ]
  },
  {
   "cell_type": "code",
   "execution_count": 8,
   "metadata": {
    "collapsed": false
   },
   "outputs": [
    {
     "name": "stdout",
     "output_type": "stream",
     "text": [
      "starting yarn daemons\n",
      "starting resourcemanager, logging to /usr/local/Cellar/hadoop/2.7.1/libexec/logs/yarn-dunmireg-resourcemanager-Glenns-Air.home.out\n",
      "localhost: starting nodemanager, logging to /usr/local/Cellar/hadoop/2.7.1/libexec/logs/yarn-dunmireg-nodemanager-Glenns-Air.home.out\n",
      "16/01/24 23:08:37 WARN util.NativeCodeLoader: Unable to load native-hadoop library for your platform... using builtin-java classes where applicable\n",
      "Starting namenodes on [localhost]\n",
      "localhost: starting namenode, logging to /usr/local/Cellar/hadoop/2.7.1/libexec/logs/hadoop-dunmireg-namenode-Glenns-Air.home.out\n",
      "localhost: starting datanode, logging to /usr/local/Cellar/hadoop/2.7.1/libexec/logs/hadoop-dunmireg-datanode-Glenns-Air.home.out\n",
      "Starting secondary namenodes [0.0.0.0]\n",
      "0.0.0.0: starting secondarynamenode, logging to /usr/local/Cellar/hadoop/2.7.1/libexec/logs/hadoop-dunmireg-secondarynamenode-Glenns-Air.home.out\n",
      "16/01/24 23:08:53 WARN util.NativeCodeLoader: Unable to load native-hadoop library for your platform... using builtin-java classes where applicable\n"
     ]
    }
   ],
   "source": [
    "#Start hadoop yarn\n",
    "!/usr/local/Cellar/hadoop/2.7.1/sbin/start-yarn.sh\n",
    "!/usr/local/Cellar/hadoop/2.7.1/sbin/start-dfs.sh"
   ]
  },
  {
   "cell_type": "code",
   "execution_count": 9,
   "metadata": {
    "collapsed": false
   },
   "outputs": [
    {
     "name": "stdout",
     "output_type": "stream",
     "text": [
      "16/01/24 23:08:56 WARN util.NativeCodeLoader: Unable to load native-hadoop library for your platform... using builtin-java classes where applicable\r\n"
     ]
    }
   ],
   "source": [
    "#add input to hdfs\n",
    "!hdfs dfs -put enronemail_1h.txt /user/dunmireg"
   ]
  },
  {
   "cell_type": "code",
   "execution_count": 10,
   "metadata": {
    "collapsed": false
   },
   "outputs": [
    {
     "name": "stdout",
     "output_type": "stream",
     "text": [
      "16/01/24 23:09:13 WARN util.NativeCodeLoader: Unable to load native-hadoop library for your platform... using builtin-java classes where applicable\n",
      "16/01/24 23:09:14 INFO Configuration.deprecation: session.id is deprecated. Instead, use dfs.metrics.session-id\n",
      "16/01/24 23:09:14 INFO jvm.JvmMetrics: Initializing JVM Metrics with processName=JobTracker, sessionId=\n",
      "16/01/24 23:09:14 INFO jvm.JvmMetrics: Cannot initialize JVM Metrics with processName=JobTracker, sessionId= - already initialized\n",
      "16/01/24 23:09:14 INFO mapred.FileInputFormat: Total input paths to process : 1\n",
      "16/01/24 23:09:14 INFO mapreduce.JobSubmitter: number of splits:1\n",
      "16/01/24 23:09:15 INFO mapreduce.JobSubmitter: Submitting tokens for job: job_local108502301_0001\n",
      "16/01/24 23:09:15 INFO mapreduce.Job: The url to track the job: http://localhost:8080/\n",
      "16/01/24 23:09:15 INFO mapred.LocalJobRunner: OutputCommitter set in config null\n",
      "16/01/24 23:09:15 INFO mapred.LocalJobRunner: OutputCommitter is org.apache.hadoop.mapred.FileOutputCommitter\n",
      "16/01/24 23:09:15 INFO output.FileOutputCommitter: File Output Committer Algorithm version is 1\n",
      "16/01/24 23:09:15 INFO mapreduce.Job: Running job: job_local108502301_0001\n",
      "16/01/24 23:09:15 INFO mapred.LocalJobRunner: Waiting for map tasks\n",
      "16/01/24 23:09:15 INFO mapred.LocalJobRunner: Starting task: attempt_local108502301_0001_m_000000_0\n",
      "16/01/24 23:09:15 INFO output.FileOutputCommitter: File Output Committer Algorithm version is 1\n",
      "16/01/24 23:09:15 INFO util.ProcfsBasedProcessTree: ProcfsBasedProcessTree currently is supported only on Linux.\n",
      "16/01/24 23:09:15 INFO mapred.Task:  Using ResourceCalculatorProcessTree : null\n",
      "16/01/24 23:09:15 INFO mapred.MapTask: Processing split: hdfs://localhost:9000/user/dunmireg/enronemail_1h.txt:0+204658\n",
      "16/01/24 23:09:15 INFO mapred.MapTask: numReduceTasks: 1\n",
      "16/01/24 23:09:15 INFO mapred.MapTask: (EQUATOR) 0 kvi 26214396(104857584)\n",
      "16/01/24 23:09:15 INFO mapred.MapTask: mapreduce.task.io.sort.mb: 100\n",
      "16/01/24 23:09:15 INFO mapred.MapTask: soft limit at 83886080\n",
      "16/01/24 23:09:15 INFO mapred.MapTask: bufstart = 0; bufvoid = 104857600\n",
      "16/01/24 23:09:15 INFO mapred.MapTask: kvstart = 26214396; length = 6553600\n",
      "16/01/24 23:09:15 INFO mapred.MapTask: Map output collector class = org.apache.hadoop.mapred.MapTask$MapOutputBuffer\n",
      "16/01/24 23:09:15 INFO streaming.PipeMapRed: PipeMapRed exec [/Users/dunmireg/Documents/261HW/HW2/./mapper.py]\n",
      "16/01/24 23:09:15 INFO Configuration.deprecation: mapred.tip.id is deprecated. Instead, use mapreduce.task.id\n",
      "16/01/24 23:09:15 INFO Configuration.deprecation: mapred.local.dir is deprecated. Instead, use mapreduce.cluster.local.dir\n",
      "16/01/24 23:09:15 INFO Configuration.deprecation: map.input.file is deprecated. Instead, use mapreduce.map.input.file\n",
      "16/01/24 23:09:15 INFO Configuration.deprecation: mapred.skip.on is deprecated. Instead, use mapreduce.job.skiprecords\n",
      "16/01/24 23:09:15 INFO Configuration.deprecation: map.input.length is deprecated. Instead, use mapreduce.map.input.length\n",
      "16/01/24 23:09:15 INFO Configuration.deprecation: mapred.work.output.dir is deprecated. Instead, use mapreduce.task.output.dir\n",
      "16/01/24 23:09:15 INFO Configuration.deprecation: map.input.start is deprecated. Instead, use mapreduce.map.input.start\n",
      "16/01/24 23:09:15 INFO Configuration.deprecation: mapred.job.id is deprecated. Instead, use mapreduce.job.id\n",
      "16/01/24 23:09:15 INFO Configuration.deprecation: user.name is deprecated. Instead, use mapreduce.job.user.name\n",
      "16/01/24 23:09:15 INFO Configuration.deprecation: mapred.task.is.map is deprecated. Instead, use mapreduce.task.ismap\n",
      "16/01/24 23:09:15 INFO Configuration.deprecation: mapred.task.id is deprecated. Instead, use mapreduce.task.attempt.id\n",
      "16/01/24 23:09:15 INFO Configuration.deprecation: mapred.task.partition is deprecated. Instead, use mapreduce.task.partition\n",
      "16/01/24 23:09:15 INFO streaming.PipeMapRed: R/W/S=1/0/0 in:NA [rec/s] out:NA [rec/s]\n",
      "16/01/24 23:09:15 INFO streaming.PipeMapRed: R/W/S=10/0/0 in:NA [rec/s] out:NA [rec/s]\n",
      "16/01/24 23:09:15 INFO streaming.PipeMapRed: Records R/W=72/1\n",
      "16/01/24 23:09:15 INFO streaming.PipeMapRed: R/W/S=100/9645/0 in:NA [rec/s] out:NA [rec/s]\n",
      "16/01/24 23:09:15 INFO streaming.PipeMapRed: MRErrorThread done\n",
      "16/01/24 23:09:15 INFO streaming.PipeMapRed: mapRedFinished\n",
      "16/01/24 23:09:15 INFO mapred.LocalJobRunner: \n",
      "16/01/24 23:09:15 INFO mapred.MapTask: Starting flush of map output\n",
      "16/01/24 23:09:15 INFO mapred.MapTask: Spilling map output\n",
      "16/01/24 23:09:15 INFO mapred.MapTask: bufstart = 0; bufend = 1032108; bufvoid = 104857600\n",
      "16/01/24 23:09:15 INFO mapred.MapTask: kvstart = 26214396(104857584); kvend = 26082748(104330992); length = 131649/6553600\n",
      "16/01/24 23:09:15 INFO mapred.MapTask: Finished spill 0\n",
      "16/01/24 23:09:15 INFO mapred.Task: Task:attempt_local108502301_0001_m_000000_0 is done. And is in the process of committing\n",
      "16/01/24 23:09:15 INFO mapred.LocalJobRunner: Records R/W=72/1\n",
      "16/01/24 23:09:15 INFO mapred.Task: Task 'attempt_local108502301_0001_m_000000_0' done.\n",
      "16/01/24 23:09:15 INFO mapred.LocalJobRunner: Finishing task: attempt_local108502301_0001_m_000000_0\n",
      "16/01/24 23:09:15 INFO mapred.LocalJobRunner: map task executor complete.\n",
      "16/01/24 23:09:15 INFO mapred.LocalJobRunner: Waiting for reduce tasks\n",
      "16/01/24 23:09:15 INFO mapred.LocalJobRunner: Starting task: attempt_local108502301_0001_r_000000_0\n",
      "16/01/24 23:09:15 INFO output.FileOutputCommitter: File Output Committer Algorithm version is 1\n",
      "16/01/24 23:09:15 INFO util.ProcfsBasedProcessTree: ProcfsBasedProcessTree currently is supported only on Linux.\n",
      "16/01/24 23:09:15 INFO mapred.Task:  Using ResourceCalculatorProcessTree : null\n",
      "16/01/24 23:09:15 INFO mapred.ReduceTask: Using ShuffleConsumerPlugin: org.apache.hadoop.mapreduce.task.reduce.Shuffle@45538a6\n",
      "16/01/24 23:09:15 INFO reduce.MergeManagerImpl: MergerManager: memoryLimit=334338464, maxSingleShuffleLimit=83584616, mergeThreshold=220663392, ioSortFactor=10, memToMemMergeOutputsThreshold=10\n",
      "16/01/24 23:09:15 INFO reduce.EventFetcher: attempt_local108502301_0001_r_000000_0 Thread started: EventFetcher for fetching Map Completion Events\n",
      "16/01/24 23:09:16 INFO reduce.LocalFetcher: localfetcher#1 about to shuffle output of map attempt_local108502301_0001_m_000000_0 decomp: 1097936 len: 1097940 to MEMORY\n",
      "16/01/24 23:09:16 INFO reduce.InMemoryMapOutput: Read 1097936 bytes from map-output for attempt_local108502301_0001_m_000000_0\n",
      "16/01/24 23:09:16 INFO reduce.MergeManagerImpl: closeInMemoryFile -> map-output of size: 1097936, inMemoryMapOutputs.size() -> 1, commitMemory -> 0, usedMemory ->1097936\n",
      "16/01/24 23:09:16 INFO reduce.EventFetcher: EventFetcher is interrupted.. Returning\n",
      "16/01/24 23:09:16 INFO mapred.LocalJobRunner: 1 / 1 copied.\n",
      "16/01/24 23:09:16 INFO reduce.MergeManagerImpl: finalMerge called with 1 in-memory map-outputs and 0 on-disk map-outputs\n",
      "16/01/24 23:09:16 INFO mapred.Merger: Merging 1 sorted segments\n",
      "16/01/24 23:09:16 INFO mapred.Merger: Down to the last merge-pass, with 1 segments left of total size: 1097911 bytes\n",
      "16/01/24 23:09:16 INFO reduce.MergeManagerImpl: Merged 1 segments, 1097936 bytes to disk to satisfy reduce memory limit\n",
      "16/01/24 23:09:16 INFO reduce.MergeManagerImpl: Merging 1 files, 1097940 bytes from disk\n",
      "16/01/24 23:09:16 INFO reduce.MergeManagerImpl: Merging 0 segments, 0 bytes from memory into reduce\n",
      "16/01/24 23:09:16 INFO mapred.Merger: Merging 1 sorted segments\n",
      "16/01/24 23:09:16 INFO mapred.Merger: Down to the last merge-pass, with 1 segments left of total size: 1097911 bytes\n",
      "16/01/24 23:09:16 INFO mapred.LocalJobRunner: 1 / 1 copied.\n",
      "16/01/24 23:09:16 INFO streaming.PipeMapRed: PipeMapRed exec [/Users/dunmireg/Documents/261HW/HW2/./reducer.py]\n",
      "16/01/24 23:09:16 INFO Configuration.deprecation: mapred.job.tracker is deprecated. Instead, use mapreduce.jobtracker.address\n",
      "16/01/24 23:09:16 INFO Configuration.deprecation: mapred.map.tasks is deprecated. Instead, use mapreduce.job.maps\n",
      "16/01/24 23:09:16 INFO streaming.PipeMapRed: R/W/S=1/0/0 in:NA [rec/s] out:NA [rec/s]\n",
      "16/01/24 23:09:16 INFO streaming.PipeMapRed: R/W/S=10/0/0 in:NA [rec/s] out:NA [rec/s]\n",
      "16/01/24 23:09:16 INFO streaming.PipeMapRed: R/W/S=100/0/0 in:NA [rec/s] out:NA [rec/s]\n",
      "16/01/24 23:09:16 INFO streaming.PipeMapRed: R/W/S=1000/0/0 in:NA [rec/s] out:NA [rec/s]\n",
      "16/01/24 23:09:16 INFO mapreduce.Job: Job job_local108502301_0001 running in uber mode : false\n",
      "16/01/24 23:09:16 INFO mapreduce.Job:  map 100% reduce 0%\n",
      "16/01/24 23:09:16 INFO streaming.PipeMapRed: R/W/S=10000/0/0 in:NA [rec/s] out:NA [rec/s]\n",
      "16/01/24 23:09:18 INFO streaming.PipeMapRed: Records R/W=32913/1\n",
      "16/01/24 23:09:18 INFO streaming.PipeMapRed: MRErrorThread done\n",
      "16/01/24 23:09:18 INFO streaming.PipeMapRed: mapRedFinished\n",
      "16/01/24 23:09:18 INFO mapred.Task: Task:attempt_local108502301_0001_r_000000_0 is done. And is in the process of committing\n",
      "16/01/24 23:09:18 INFO mapred.LocalJobRunner: 1 / 1 copied.\n",
      "16/01/24 23:09:18 INFO mapred.Task: Task attempt_local108502301_0001_r_000000_0 is allowed to commit now\n",
      "16/01/24 23:09:18 INFO output.FileOutputCommitter: Saved output of task 'attempt_local108502301_0001_r_000000_0' to hdfs://localhost:9000/user/dunmireg/enroneEmailCondProb3/_temporary/0/task_local108502301_0001_r_000000\n",
      "16/01/24 23:09:18 INFO mapred.LocalJobRunner: Records R/W=32913/1 > reduce\n",
      "16/01/24 23:09:18 INFO mapred.Task: Task 'attempt_local108502301_0001_r_000000_0' done.\n",
      "16/01/24 23:09:18 INFO mapred.LocalJobRunner: Finishing task: attempt_local108502301_0001_r_000000_0\n",
      "16/01/24 23:09:18 INFO mapred.LocalJobRunner: reduce task executor complete.\n",
      "16/01/24 23:09:19 INFO mapreduce.Job:  map 100% reduce 100%\n",
      "16/01/24 23:09:19 INFO mapreduce.Job: Job job_local108502301_0001 completed successfully\n",
      "16/01/24 23:09:19 INFO mapreduce.Job: Counters: 35\n",
      "\tFile System Counters\n",
      "\t\tFILE: Number of bytes read=2407996\n",
      "\t\tFILE: Number of bytes written=4092652\n",
      "\t\tFILE: Number of read operations=0\n",
      "\t\tFILE: Number of large read operations=0\n",
      "\t\tFILE: Number of write operations=0\n",
      "\t\tHDFS: Number of bytes read=409316\n",
      "\t\tHDFS: Number of bytes written=79886\n",
      "\t\tHDFS: Number of read operations=13\n",
      "\t\tHDFS: Number of large read operations=0\n",
      "\t\tHDFS: Number of write operations=4\n",
      "\tMap-Reduce Framework\n",
      "\t\tMap input records=100\n",
      "\t\tMap output records=32913\n",
      "\t\tMap output bytes=1032108\n",
      "\t\tMap output materialized bytes=1097940\n",
      "\t\tInput split bytes=105\n",
      "\t\tCombine input records=0\n",
      "\t\tCombine output records=0\n",
      "\t\tReduce input groups=100\n",
      "\t\tReduce shuffle bytes=1097940\n",
      "\t\tReduce input records=32913\n",
      "\t\tReduce output records=1883\n",
      "\t\tSpilled Records=65826\n",
      "\t\tShuffled Maps =1\n",
      "\t\tFailed Shuffles=0\n",
      "\t\tMerged Map outputs=1\n",
      "\t\tGC time elapsed (ms)=8\n",
      "\t\tTotal committed heap usage (bytes)=511180800\n",
      "\tShuffle Errors\n",
      "\t\tBAD_ID=0\n",
      "\t\tCONNECTION=0\n",
      "\t\tIO_ERROR=0\n",
      "\t\tWRONG_LENGTH=0\n",
      "\t\tWRONG_MAP=0\n",
      "\t\tWRONG_REDUCE=0\n",
      "\tFile Input Format Counters \n",
      "\t\tBytes Read=204658\n",
      "\tFile Output Format Counters \n",
      "\t\tBytes Written=79886\n",
      "16/01/24 23:09:19 INFO streaming.StreamJob: Output directory: enroneEmailCondProb3\n"
     ]
    }
   ],
   "source": [
    "!hadoop jar /usr/local/Cellar/hadoop/2.7.1/libexec/share/hadoop/tools/lib/hadoop-streaming-2.7.1.jar \\\n",
    "-mapper mapper.py \\\n",
    "-reducer reducer.py \\\n",
    "-input enronemail_1h.txt \\\n",
    "-output enroneEmailCondProb3"
   ]
  },
  {
   "cell_type": "code",
   "execution_count": 13,
   "metadata": {
    "collapsed": false
   },
   "outputs": [
    {
     "name": "stdout",
     "output_type": "stream",
     "text": [
      "16/01/24 23:10:58 WARN util.NativeCodeLoader: Unable to load native-hadoop library for your platform... using builtin-java classes where applicable\n",
      "16/01/24 23:10:59 WARN hdfs.DFSClient: DFSInputStream has been closed already\n",
      "16/01/24 23:10:59 WARN hdfs.DFSClient: DFSInputStream has been closed already\n"
     ]
    }
   ],
   "source": [
    "!hadoop fs -copyToLocal /user/dunmireg/enroneEmailCondProb3"
   ]
  },
  {
   "cell_type": "code",
   "execution_count": 14,
   "metadata": {
    "collapsed": false
   },
   "outputs": [
    {
     "name": "stdout",
     "output_type": "stream",
     "text": [
      "rmr: DEPRECATED: Please use 'rm -r' instead.\n",
      "16/01/24 23:11:15 WARN util.NativeCodeLoader: Unable to load native-hadoop library for your platform... using builtin-java classes where applicable\n",
      "16/01/24 23:11:16 INFO fs.TrashPolicyDefault: Namenode trash configuration: Deletion interval = 0 minutes, Emptier interval = 0 minutes.\n",
      "Deleted /user/dunmireg/enronemail_1h.txt\n",
      "rmr: DEPRECATED: Please use 'rm -r' instead.\n",
      "16/01/24 23:11:17 WARN util.NativeCodeLoader: Unable to load native-hadoop library for your platform... using builtin-java classes where applicable\n",
      "16/01/24 23:11:17 INFO fs.TrashPolicyDefault: Namenode trash configuration: Deletion interval = 0 minutes, Emptier interval = 0 minutes.\n",
      "Deleted /user/dunmireg/enroneEmailCondProb3\n",
      "stopping yarn daemons\n",
      "stopping resourcemanager\n",
      "localhost: stopping nodemanager\n",
      "no proxyserver to stop\n",
      "16/01/24 23:11:29 WARN util.NativeCodeLoader: Unable to load native-hadoop library for your platform... using builtin-java classes where applicable\n",
      "Stopping namenodes on [localhost]\n",
      "localhost: stopping namenode\n",
      "localhost: stopping datanode\n",
      "Stopping secondary namenodes [0.0.0.0]\n",
      "0.0.0.0: stopping secondarynamenode\n",
      "16/01/24 23:11:47 WARN util.NativeCodeLoader: Unable to load native-hadoop library for your platform... using builtin-java classes where applicable\n"
     ]
    }
   ],
   "source": [
    "#Remove output directory and stop yarn and hdfs\n",
    "!hadoop fs -rmr /user/dunmireg/enronemail_1h.txt\n",
    "!hadoop fs -rmr /user/dunmireg/enroneEmailCondProb3\n",
    "!/usr/local/Cellar/hadoop/2.7.1/sbin/stop-yarn.sh\n",
    "!/usr/local/Cellar/hadoop/2.7.1/sbin/stop-dfs.sh"
   ]
  },
  {
   "cell_type": "code",
   "execution_count": 16,
   "metadata": {
    "collapsed": false
   },
   "outputs": [
    {
     "name": "stdout",
     "output_type": "stream",
     "text": [
      "Overwriting mapper.py\n"
     ]
    }
   ],
   "source": [
    "%%writefile mapper.py\n",
    "#!/usr/bin/python\n",
    "\n",
    "#I have placed the mapper here but have not modified it in any way from the previous mapper. It will still\n",
    "#produce ID + \\t + word + \\t + true spam flag to send to the reducer. \n",
    "import sys\n",
    "import re\n",
    "import os \n",
    "from math import log\n",
    "from math import exp\n",
    "\n",
    "priorSpam = 0\n",
    "priorHam = 0\n",
    "words = {}\n",
    "\n",
    "with open(os.path.join('./enroneEmailCondProbLaplace', 'part-00000'), 'r') as myfile:\n",
    "    lines = myfile.readlines()\n",
    "    priorSpam = float(lines[0])\n",
    "    priorHam = float(lines[1])\n",
    "    for line in lines[2:]:\n",
    "        components = line.split('\\t')\n",
    "        words[components[0]] = {'spam_like': float(components[1]), 'ham_like': float(components[2])}\n",
    "        \n",
    "\n",
    "WORD_RE = re.compile(r\"[\\w']+\")\n",
    "\n",
    "spamSkip = 0\n",
    "hamSkip = 0\n",
    "\n",
    "for line in sys.stdin:\n",
    "    components = line.split('\\t')\n",
    "    text = \" \".join(components[-2:]).strip()\n",
    "    text = re.findall(WORD_RE, text)\n",
    "    \n",
    "    spamScore = log(priorSpam)\n",
    "    hamScore = log(priorHam)\n",
    "    for word in text:\n",
    "        if word in words.keys():\n",
    "            if float(words[word]['spam_like']) != 0:\n",
    "                spamScore += log(float(words[word]['spam_like']))\n",
    "            else:\n",
    "                spamScore += -300\n",
    "                spamSkip += 1\n",
    "            if float(words[word]['ham_like']) != 0:\n",
    "                hamScore += log(float(words[word]['ham_like']))\n",
    "            else:\n",
    "                hamScore += -300\n",
    "                hamSkip += 1\n",
    "        pred = 0\n",
    "    if spamScore > hamScore:\n",
    "        pred = 1\n",
    "    print components[0] + '\\t' + components[1] + '\\t' + str(pred) + '\\t' + str(exp(spamScore)) + '\\t' + str(exp(hamScore))"
   ]
  },
  {
   "cell_type": "code",
   "execution_count": 18,
   "metadata": {
    "collapsed": false
   },
   "outputs": [
    {
     "name": "stdout",
     "output_type": "stream",
     "text": [
      "Overwriting reducer.py\n"
     ]
    }
   ],
   "source": [
    "%%writefile reducer.py\n",
    "#!/usr/bin/python\n",
    "import sys\n",
    "\n",
    "misclassified = 0\n",
    "\n",
    "for line in sys.stdin:\n",
    "    components = line.split('\\t')\n",
    "    if int(components[1]) != int(components[2]):\n",
    "            misclassified += 1\n",
    "    print line\n",
    "print \"Misclassified: \" + str(misclassified) + \" which means this has an accuracy of \" + str(100-misclassified) + \"%\""
   ]
  },
  {
   "cell_type": "code",
   "execution_count": 36,
   "metadata": {
    "collapsed": false
   },
   "outputs": [],
   "source": [
    "#Check code\n",
    "#!cat enronemail_1h.txt | python mapper.py | python reducer.py"
   ]
  },
  {
   "cell_type": "code",
   "execution_count": 20,
   "metadata": {
    "collapsed": false
   },
   "outputs": [
    {
     "name": "stdout",
     "output_type": "stream",
     "text": [
      "starting yarn daemons\n",
      "starting resourcemanager, logging to /usr/local/Cellar/hadoop/2.7.1/libexec/logs/yarn-dunmireg-resourcemanager-Glenns-Air.home.out\n",
      "localhost: starting nodemanager, logging to /usr/local/Cellar/hadoop/2.7.1/libexec/logs/yarn-dunmireg-nodemanager-Glenns-Air.home.out\n",
      "16/01/24 23:14:42 WARN util.NativeCodeLoader: Unable to load native-hadoop library for your platform... using builtin-java classes where applicable\n",
      "Starting namenodes on [localhost]\n",
      "localhost: starting namenode, logging to /usr/local/Cellar/hadoop/2.7.1/libexec/logs/hadoop-dunmireg-namenode-Glenns-Air.home.out\n",
      "localhost: starting datanode, logging to /usr/local/Cellar/hadoop/2.7.1/libexec/logs/hadoop-dunmireg-datanode-Glenns-Air.home.out\n",
      "Starting secondary namenodes [0.0.0.0]\n",
      "0.0.0.0: starting secondarynamenode, logging to /usr/local/Cellar/hadoop/2.7.1/libexec/logs/hadoop-dunmireg-secondarynamenode-Glenns-Air.home.out\n",
      "16/01/24 23:14:58 WARN util.NativeCodeLoader: Unable to load native-hadoop library for your platform... using builtin-java classes where applicable\n"
     ]
    }
   ],
   "source": [
    "#Start hadoop yarn\n",
    "!/usr/local/Cellar/hadoop/2.7.1/sbin/start-yarn.sh\n",
    "!/usr/local/Cellar/hadoop/2.7.1/sbin/start-dfs.sh"
   ]
  },
  {
   "cell_type": "code",
   "execution_count": 21,
   "metadata": {
    "collapsed": false
   },
   "outputs": [
    {
     "name": "stdout",
     "output_type": "stream",
     "text": [
      "16/01/24 23:15:00 WARN util.NativeCodeLoader: Unable to load native-hadoop library for your platform... using builtin-java classes where applicable\r\n"
     ]
    }
   ],
   "source": [
    "#add input to hdfs\n",
    "!hdfs dfs -put enronemail_1h.txt /user/dunmireg"
   ]
  },
  {
   "cell_type": "code",
   "execution_count": 22,
   "metadata": {
    "collapsed": false
   },
   "outputs": [
    {
     "name": "stdout",
     "output_type": "stream",
     "text": [
      "16/01/24 23:15:15 WARN util.NativeCodeLoader: Unable to load native-hadoop library for your platform... using builtin-java classes where applicable\n",
      "16/01/24 23:15:16 INFO Configuration.deprecation: session.id is deprecated. Instead, use dfs.metrics.session-id\n",
      "16/01/24 23:15:16 INFO jvm.JvmMetrics: Initializing JVM Metrics with processName=JobTracker, sessionId=\n",
      "16/01/24 23:15:16 INFO jvm.JvmMetrics: Cannot initialize JVM Metrics with processName=JobTracker, sessionId= - already initialized\n",
      "16/01/24 23:15:16 INFO mapred.FileInputFormat: Total input paths to process : 1\n",
      "16/01/24 23:15:16 INFO mapreduce.JobSubmitter: number of splits:1\n",
      "16/01/24 23:15:17 INFO mapreduce.JobSubmitter: Submitting tokens for job: job_local1577829084_0001\n",
      "16/01/24 23:15:17 INFO mapreduce.Job: The url to track the job: http://localhost:8080/\n",
      "16/01/24 23:15:17 INFO mapred.LocalJobRunner: OutputCommitter set in config null\n",
      "16/01/24 23:15:17 INFO mapred.LocalJobRunner: OutputCommitter is org.apache.hadoop.mapred.FileOutputCommitter\n",
      "16/01/24 23:15:17 INFO mapreduce.Job: Running job: job_local1577829084_0001\n",
      "16/01/24 23:15:17 INFO output.FileOutputCommitter: File Output Committer Algorithm version is 1\n",
      "16/01/24 23:15:17 INFO mapred.LocalJobRunner: Waiting for map tasks\n",
      "16/01/24 23:15:17 INFO mapred.LocalJobRunner: Starting task: attempt_local1577829084_0001_m_000000_0\n",
      "16/01/24 23:15:17 INFO output.FileOutputCommitter: File Output Committer Algorithm version is 1\n",
      "16/01/24 23:15:17 INFO util.ProcfsBasedProcessTree: ProcfsBasedProcessTree currently is supported only on Linux.\n",
      "16/01/24 23:15:17 INFO mapred.Task:  Using ResourceCalculatorProcessTree : null\n",
      "16/01/24 23:15:17 INFO mapred.MapTask: Processing split: hdfs://localhost:9000/user/dunmireg/enronemail_1h.txt:0+204658\n",
      "16/01/24 23:15:17 INFO mapred.MapTask: numReduceTasks: 1\n",
      "16/01/24 23:15:17 INFO mapred.MapTask: (EQUATOR) 0 kvi 26214396(104857584)\n",
      "16/01/24 23:15:17 INFO mapred.MapTask: mapreduce.task.io.sort.mb: 100\n",
      "16/01/24 23:15:17 INFO mapred.MapTask: soft limit at 83886080\n",
      "16/01/24 23:15:17 INFO mapred.MapTask: bufstart = 0; bufvoid = 104857600\n",
      "16/01/24 23:15:17 INFO mapred.MapTask: kvstart = 26214396; length = 6553600\n",
      "16/01/24 23:15:17 INFO mapred.MapTask: Map output collector class = org.apache.hadoop.mapred.MapTask$MapOutputBuffer\n",
      "16/01/24 23:15:17 INFO streaming.PipeMapRed: PipeMapRed exec [/Users/dunmireg/Documents/261HW/HW2/./mapper.py]\n",
      "16/01/24 23:15:17 INFO Configuration.deprecation: mapred.tip.id is deprecated. Instead, use mapreduce.task.id\n",
      "16/01/24 23:15:17 INFO Configuration.deprecation: mapred.local.dir is deprecated. Instead, use mapreduce.cluster.local.dir\n",
      "16/01/24 23:15:17 INFO Configuration.deprecation: map.input.file is deprecated. Instead, use mapreduce.map.input.file\n",
      "16/01/24 23:15:17 INFO Configuration.deprecation: mapred.skip.on is deprecated. Instead, use mapreduce.job.skiprecords\n",
      "16/01/24 23:15:17 INFO Configuration.deprecation: map.input.length is deprecated. Instead, use mapreduce.map.input.length\n",
      "16/01/24 23:15:17 INFO Configuration.deprecation: mapred.work.output.dir is deprecated. Instead, use mapreduce.task.output.dir\n",
      "16/01/24 23:15:17 INFO Configuration.deprecation: map.input.start is deprecated. Instead, use mapreduce.map.input.start\n",
      "16/01/24 23:15:17 INFO Configuration.deprecation: mapred.job.id is deprecated. Instead, use mapreduce.job.id\n",
      "16/01/24 23:15:17 INFO Configuration.deprecation: user.name is deprecated. Instead, use mapreduce.job.user.name\n",
      "16/01/24 23:15:17 INFO Configuration.deprecation: mapred.task.is.map is deprecated. Instead, use mapreduce.task.ismap\n",
      "16/01/24 23:15:17 INFO Configuration.deprecation: mapred.task.id is deprecated. Instead, use mapreduce.task.attempt.id\n",
      "16/01/24 23:15:17 INFO Configuration.deprecation: mapred.task.partition is deprecated. Instead, use mapreduce.task.partition\n",
      "16/01/24 23:15:17 INFO streaming.PipeMapRed: R/W/S=1/0/0 in:NA [rec/s] out:NA [rec/s]\n",
      "16/01/24 23:15:17 INFO streaming.PipeMapRed: R/W/S=10/0/0 in:NA [rec/s] out:NA [rec/s]\n",
      "16/01/24 23:15:17 INFO streaming.PipeMapRed: R/W/S=100/0/0 in:NA [rec/s] out:NA [rec/s]\n",
      "16/01/24 23:15:18 INFO mapreduce.Job: Job job_local1577829084_0001 running in uber mode : false\n",
      "16/01/24 23:15:18 INFO mapreduce.Job:  map 0% reduce 0%\n",
      "16/01/24 23:15:22 INFO streaming.PipeMapRed: MRErrorThread done\n",
      "16/01/24 23:15:22 INFO streaming.PipeMapRed: Records R/W=100/1\n",
      "16/01/24 23:15:22 INFO streaming.PipeMapRed: mapRedFinished\n",
      "16/01/24 23:15:22 INFO mapred.LocalJobRunner: \n",
      "16/01/24 23:15:22 INFO mapred.MapTask: Starting flush of map output\n",
      "16/01/24 23:15:22 INFO mapred.MapTask: Spilling map output\n",
      "16/01/24 23:15:22 INFO mapred.MapTask: bufstart = 0; bufend = 4284; bufvoid = 104857600\n",
      "16/01/24 23:15:22 INFO mapred.MapTask: kvstart = 26214396(104857584); kvend = 26214000(104856000); length = 397/6553600\n",
      "16/01/24 23:15:22 INFO mapred.MapTask: Finished spill 0\n",
      "16/01/24 23:15:22 INFO mapred.Task: Task:attempt_local1577829084_0001_m_000000_0 is done. And is in the process of committing\n",
      "16/01/24 23:15:22 INFO mapred.LocalJobRunner: Records R/W=100/1\n",
      "16/01/24 23:15:22 INFO mapred.Task: Task 'attempt_local1577829084_0001_m_000000_0' done.\n",
      "16/01/24 23:15:22 INFO mapred.LocalJobRunner: Finishing task: attempt_local1577829084_0001_m_000000_0\n",
      "16/01/24 23:15:22 INFO mapred.LocalJobRunner: map task executor complete.\n",
      "16/01/24 23:15:22 INFO mapred.LocalJobRunner: Waiting for reduce tasks\n",
      "16/01/24 23:15:22 INFO mapred.LocalJobRunner: Starting task: attempt_local1577829084_0001_r_000000_0\n",
      "16/01/24 23:15:22 INFO output.FileOutputCommitter: File Output Committer Algorithm version is 1\n",
      "16/01/24 23:15:22 INFO util.ProcfsBasedProcessTree: ProcfsBasedProcessTree currently is supported only on Linux.\n",
      "16/01/24 23:15:22 INFO mapred.Task:  Using ResourceCalculatorProcessTree : null\n",
      "16/01/24 23:15:22 INFO mapred.ReduceTask: Using ShuffleConsumerPlugin: org.apache.hadoop.mapreduce.task.reduce.Shuffle@161de46\n",
      "16/01/24 23:15:22 INFO reduce.MergeManagerImpl: MergerManager: memoryLimit=334338464, maxSingleShuffleLimit=83584616, mergeThreshold=220663392, ioSortFactor=10, memToMemMergeOutputsThreshold=10\n",
      "16/01/24 23:15:22 INFO reduce.EventFetcher: attempt_local1577829084_0001_r_000000_0 Thread started: EventFetcher for fetching Map Completion Events\n",
      "16/01/24 23:15:22 INFO mapreduce.Job:  map 100% reduce 0%\n",
      "16/01/24 23:15:22 INFO reduce.LocalFetcher: localfetcher#1 about to shuffle output of map attempt_local1577829084_0001_m_000000_0 decomp: 4486 len: 4490 to MEMORY\n",
      "16/01/24 23:15:22 INFO reduce.InMemoryMapOutput: Read 4486 bytes from map-output for attempt_local1577829084_0001_m_000000_0\n",
      "16/01/24 23:15:22 INFO reduce.MergeManagerImpl: closeInMemoryFile -> map-output of size: 4486, inMemoryMapOutputs.size() -> 1, commitMemory -> 0, usedMemory ->4486\n",
      "16/01/24 23:15:22 INFO reduce.EventFetcher: EventFetcher is interrupted.. Returning\n",
      "16/01/24 23:15:22 INFO mapred.LocalJobRunner: 1 / 1 copied.\n",
      "16/01/24 23:15:22 INFO reduce.MergeManagerImpl: finalMerge called with 1 in-memory map-outputs and 0 on-disk map-outputs\n",
      "16/01/24 23:15:22 INFO mapred.Merger: Merging 1 sorted segments\n",
      "16/01/24 23:15:22 INFO mapred.Merger: Down to the last merge-pass, with 1 segments left of total size: 4461 bytes\n",
      "16/01/24 23:15:22 INFO reduce.MergeManagerImpl: Merged 1 segments, 4486 bytes to disk to satisfy reduce memory limit\n",
      "16/01/24 23:15:22 INFO reduce.MergeManagerImpl: Merging 1 files, 4490 bytes from disk\n",
      "16/01/24 23:15:22 INFO reduce.MergeManagerImpl: Merging 0 segments, 0 bytes from memory into reduce\n",
      "16/01/24 23:15:22 INFO mapred.Merger: Merging 1 sorted segments\n",
      "16/01/24 23:15:22 INFO mapred.Merger: Down to the last merge-pass, with 1 segments left of total size: 4461 bytes\n",
      "16/01/24 23:15:22 INFO mapred.LocalJobRunner: 1 / 1 copied.\n",
      "16/01/24 23:15:22 INFO streaming.PipeMapRed: PipeMapRed exec [/Users/dunmireg/Documents/261HW/HW2/./reducer.py]\n",
      "16/01/24 23:15:22 INFO Configuration.deprecation: mapred.job.tracker is deprecated. Instead, use mapreduce.jobtracker.address\n",
      "16/01/24 23:15:22 INFO Configuration.deprecation: mapred.map.tasks is deprecated. Instead, use mapreduce.job.maps\n",
      "16/01/24 23:15:22 INFO streaming.PipeMapRed: R/W/S=1/0/0 in:NA [rec/s] out:NA [rec/s]\n",
      "16/01/24 23:15:22 INFO streaming.PipeMapRed: R/W/S=10/0/0 in:NA [rec/s] out:NA [rec/s]\n",
      "16/01/24 23:15:22 INFO streaming.PipeMapRed: R/W/S=100/0/0 in:NA [rec/s] out:NA [rec/s]\n",
      "16/01/24 23:15:22 INFO streaming.PipeMapRed: Records R/W=100/1\n",
      "16/01/24 23:15:22 INFO streaming.PipeMapRed: MRErrorThread done\n",
      "16/01/24 23:15:22 INFO streaming.PipeMapRed: mapRedFinished\n",
      "16/01/24 23:15:22 INFO mapred.Task: Task:attempt_local1577829084_0001_r_000000_0 is done. And is in the process of committing\n",
      "16/01/24 23:15:22 INFO mapred.LocalJobRunner: 1 / 1 copied.\n",
      "16/01/24 23:15:22 INFO mapred.Task: Task attempt_local1577829084_0001_r_000000_0 is allowed to commit now\n",
      "16/01/24 23:15:22 INFO output.FileOutputCommitter: Saved output of task 'attempt_local1577829084_0001_r_000000_0' to hdfs://localhost:9000/user/dunmireg/enroneEmailClass3/_temporary/0/task_local1577829084_0001_r_000000\n",
      "16/01/24 23:15:22 INFO mapred.LocalJobRunner: Records R/W=100/1 > reduce\n",
      "16/01/24 23:15:22 INFO mapred.Task: Task 'attempt_local1577829084_0001_r_000000_0' done.\n",
      "16/01/24 23:15:22 INFO mapred.LocalJobRunner: Finishing task: attempt_local1577829084_0001_r_000000_0\n",
      "16/01/24 23:15:22 INFO mapred.LocalJobRunner: reduce task executor complete.\n",
      "16/01/24 23:15:23 INFO mapreduce.Job:  map 100% reduce 100%\n",
      "16/01/24 23:15:23 INFO mapreduce.Job: Job job_local1577829084_0001 completed successfully\n",
      "16/01/24 23:15:23 INFO mapreduce.Job: Counters: 35\n",
      "\tFile System Counters\n",
      "\t\tFILE: Number of bytes read=221096\n",
      "\t\tFILE: Number of bytes written=815298\n",
      "\t\tFILE: Number of read operations=0\n",
      "\t\tFILE: Number of large read operations=0\n",
      "\t\tFILE: Number of write operations=0\n",
      "\t\tHDFS: Number of bytes read=409316\n",
      "\t\tHDFS: Number of bytes written=4543\n",
      "\t\tHDFS: Number of read operations=13\n",
      "\t\tHDFS: Number of large read operations=0\n",
      "\t\tHDFS: Number of write operations=4\n",
      "\tMap-Reduce Framework\n",
      "\t\tMap input records=100\n",
      "\t\tMap output records=100\n",
      "\t\tMap output bytes=4284\n",
      "\t\tMap output materialized bytes=4490\n",
      "\t\tInput split bytes=105\n",
      "\t\tCombine input records=0\n",
      "\t\tCombine output records=0\n",
      "\t\tReduce input groups=100\n",
      "\t\tReduce shuffle bytes=4490\n",
      "\t\tReduce input records=100\n",
      "\t\tReduce output records=201\n",
      "\t\tSpilled Records=200\n",
      "\t\tShuffled Maps =1\n",
      "\t\tFailed Shuffles=0\n",
      "\t\tMerged Map outputs=1\n",
      "\t\tGC time elapsed (ms)=6\n",
      "\t\tTotal committed heap usage (bytes)=508559360\n",
      "\tShuffle Errors\n",
      "\t\tBAD_ID=0\n",
      "\t\tCONNECTION=0\n",
      "\t\tIO_ERROR=0\n",
      "\t\tWRONG_LENGTH=0\n",
      "\t\tWRONG_MAP=0\n",
      "\t\tWRONG_REDUCE=0\n",
      "\tFile Input Format Counters \n",
      "\t\tBytes Read=204658\n",
      "\tFile Output Format Counters \n",
      "\t\tBytes Written=4543\n",
      "16/01/24 23:15:23 INFO streaming.StreamJob: Output directory: enroneEmailClass3\n"
     ]
    }
   ],
   "source": [
    "!hadoop jar /usr/local/Cellar/hadoop/2.7.1/libexec/share/hadoop/tools/lib/hadoop-streaming-2.7.1.jar \\\n",
    "-mapper mapper.py \\\n",
    "-reducer reducer.py \\\n",
    "-input enronemail_1h.txt \\\n",
    "-output enroneEmailClass3"
   ]
  },
  {
   "cell_type": "code",
   "execution_count": 24,
   "metadata": {
    "collapsed": false
   },
   "outputs": [
    {
     "name": "stdout",
     "output_type": "stream",
     "text": [
      "16/01/24 23:16:07 WARN util.NativeCodeLoader: Unable to load native-hadoop library for your platform... using builtin-java classes where applicable\n",
      "16/01/24 23:16:07 WARN hdfs.DFSClient: DFSInputStream has been closed already\n",
      "16/01/24 23:16:08 WARN hdfs.DFSClient: DFSInputStream has been closed already\n"
     ]
    }
   ],
   "source": [
    "!hadoop fs -copyToLocal /user/dunmireg/enroneEmailClass3"
   ]
  },
  {
   "cell_type": "code",
   "execution_count": 25,
   "metadata": {
    "collapsed": false
   },
   "outputs": [
    {
     "name": "stdout",
     "output_type": "stream",
     "text": [
      "rmr: DEPRECATED: Please use 'rm -r' instead.\n",
      "16/01/24 23:16:20 WARN util.NativeCodeLoader: Unable to load native-hadoop library for your platform... using builtin-java classes where applicable\n",
      "16/01/24 23:16:21 INFO fs.TrashPolicyDefault: Namenode trash configuration: Deletion interval = 0 minutes, Emptier interval = 0 minutes.\n",
      "Deleted /user/dunmireg/enronemail_1h.txt\n",
      "rmr: DEPRECATED: Please use 'rm -r' instead.\n",
      "16/01/24 23:16:22 WARN util.NativeCodeLoader: Unable to load native-hadoop library for your platform... using builtin-java classes where applicable\n",
      "16/01/24 23:16:23 INFO fs.TrashPolicyDefault: Namenode trash configuration: Deletion interval = 0 minutes, Emptier interval = 0 minutes.\n",
      "Deleted /user/dunmireg/enroneEmailClass3\n",
      "stopping yarn daemons\n",
      "stopping resourcemanager\n",
      "localhost: stopping nodemanager\n",
      "no proxyserver to stop\n",
      "16/01/24 23:16:34 WARN util.NativeCodeLoader: Unable to load native-hadoop library for your platform... using builtin-java classes where applicable\n",
      "Stopping namenodes on [localhost]\n",
      "localhost: stopping namenode\n",
      "localhost: stopping datanode\n",
      "Stopping secondary namenodes [0.0.0.0]\n",
      "0.0.0.0: stopping secondarynamenode\n",
      "16/01/24 23:16:53 WARN util.NativeCodeLoader: Unable to load native-hadoop library for your platform... using builtin-java classes where applicable\n"
     ]
    }
   ],
   "source": [
    "#Remove output directory and stop yarn and hdfs\n",
    "!hadoop fs -rmr /user/dunmireg/enronemail_1h.txt\n",
    "!hadoop fs -rmr /user/dunmireg/enroneEmailClass3\n",
    "!/usr/local/Cellar/hadoop/2.7.1/sbin/stop-yarn.sh\n",
    "!/usr/local/Cellar/hadoop/2.7.1/sbin/stop-dfs.sh"
   ]
  },
  {
   "cell_type": "code",
   "execution_count": null,
   "metadata": {
    "collapsed": true
   },
   "outputs": [],
   "source": []
  }
 ],
 "metadata": {
  "kernelspec": {
   "display_name": "Python 2",
   "language": "python",
   "name": "python2"
  },
  "language_info": {
   "codemirror_mode": {
    "name": "ipython",
    "version": 2
   },
   "file_extension": ".py",
   "mimetype": "text/x-python",
   "name": "python",
   "nbconvert_exporter": "python",
   "pygments_lexer": "ipython2",
   "version": "2.7.10"
  }
 },
 "nbformat": 4,
 "nbformat_minor": 0
}
