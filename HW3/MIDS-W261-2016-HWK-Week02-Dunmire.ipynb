{
 "cells": [
  {
   "cell_type": "markdown",
   "metadata": {},
   "source": [
    "# Week 2 Homework 261 Spring 2016 - Glenn Dunmire"
   ]
  },
  {
   "cell_type": "markdown",
   "metadata": {},
   "source": [
    "### Question 2.0:\n",
    "\n",
    "_What is a race condition in the context of parallel computation? Give an example._"
   ]
  },
  {
   "cell_type": "markdown",
   "metadata": {},
   "source": [
    "A race condition is a situation where the final output of running a program depends on the sequence of events. That is to say, the final value may be different depending on the order in which steps are executed. \n",
    "\n",
    "A classic example of a race condition is where two threads want to increase a variable. Ideally one thread would increment the variable, then the other thread would. So if the original value was 0, the final output would be 2. However, if the threads access the variable at the same time or without a lock, the result could be 1. This would be because the threads overwrite each other. So A increments 0 -> 1 but then B overwrites the variable with 1. "
   ]
  },
  {
   "cell_type": "markdown",
   "metadata": {},
   "source": [
    "_What is MapReduce? How does it differ from Hadoop?_"
   ]
  },
  {
   "cell_type": "markdown",
   "metadata": {},
   "source": [
    "Broadly speaking, MapReduce is a programming framework while Hadoop is an implementation of MapReduce. MapReduce is a model for processing large datasets using a parallel, distributed algorithm on a cluster. Hadoop is a specific implementation of MapReduce in Java, which uses a special distributed file system (HDFS) and manages aspects of workflow like distribution and fault tolerance."
   ]
  },
  {
   "cell_type": "markdown",
   "metadata": {
    "collapsed": true
   },
   "source": [
    "_Which programming paradigm is Hadoop based on? Explain and give a simple example in code and show the code running._"
   ]
  },
  {
   "cell_type": "markdown",
   "metadata": {},
   "source": [
    "Hadoop is based on the paradigm of functional programming. This paradigm is based on the evaluation of mathematical functions and avoids changing state or mutable data. An important point is that a functional language is the concept of a function that can take other functions as an argument, also known as higher-order functions. Map and Reduce are examples of this higher order function. "
   ]
  },
  {
   "cell_type": "code",
   "execution_count": 1,
   "metadata": {
    "collapsed": false
   },
   "outputs": [
    {
     "name": "stdout",
     "output_type": "stream",
     "text": [
      "[8, 8, 12]\n"
     ]
    }
   ],
   "source": [
    "#Example of a functional program: using map to print the lengths of strings in a list\n",
    "\n",
    "states = [\"Maryland\", \"Virginia\", \"Pennsylvania\"]\n",
    "states_length = map(len, states)\n",
    "print states_length"
   ]
  },
  {
   "cell_type": "markdown",
   "metadata": {},
   "source": [
    "Notice here I am providing the map function with another function, len(). Also here I am not changing the values inside the list nor am I relying on anything other than the input list to produce my output. "
   ]
  },
  {
   "cell_type": "markdown",
   "metadata": {},
   "source": [
    "### Question 2.1: \n",
    "\n",
    "Given as input: Records of the form '<'integer, “NA”>, where integer is any integer, and “NA” is just the empty string.\n",
    "Output: sorted key value pairs of the form <'integer, “NA”> in decreasing order; what happens if you have multiple reducers? Do you need additional steps? Explain.\n",
    "\n",
    "Write code to generate N  random records of the form <'integer, “NA”>. Let N = 10,000.\n",
    "Write the python Hadoop streaming map-reduce job to perform this sort. Display the top 10 biggest numbers. Display the 10 smallest numbers"
   ]
  },
  {
   "cell_type": "code",
   "execution_count": 1,
   "metadata": {
    "collapsed": false
   },
   "outputs": [],
   "source": [
    "#Write a text file of form <integer, \"NA\">. \n",
    "#use the random package to get random numbers\n",
    "import random\n",
    "\n",
    "N = 10000 #set size of list of numbers\n",
    "\n",
    "#I chose to only include a list from 0 to 10000 to make it easy to check if the numbers were sorted properly. \n",
    "numbers = random.sample(range(0, 10000), N) #list of numbers at random\n",
    "output = [] #store output\n",
    "for number in numbers:\n",
    "    output.append('<' + str(number) + ', ' + 'NA>') #properly format strings\n",
    "\n",
    "with open('integer.txt', 'w') as myfile: #write output to a text file\n",
    "    myfile.write(\"\\n\".join(output))"
   ]
  },
  {
   "cell_type": "code",
   "execution_count": 2,
   "metadata": {
    "collapsed": false
   },
   "outputs": [
    {
     "name": "stdout",
     "output_type": "stream",
     "text": [
      "Overwriting mapper.py\n"
     ]
    }
   ],
   "source": [
    "%%writefile mapper.py\n",
    "#!/usr/bin/python\n",
    "import sys\n",
    "# input comes from STDIN (standard input)\n",
    "for line in sys.stdin:\n",
    "    line = line[1:] #remove beginning '<' \n",
    "    num = line.split()[0] #split on whitespace and only keep number\n",
    "    num = num[:-1] #remove trailing comma\n",
    "    print '%s\\t%s' % (num, 'NA') #print result to STDOUT for input to reducer"
   ]
  },
  {
   "cell_type": "code",
   "execution_count": 3,
   "metadata": {
    "collapsed": false
   },
   "outputs": [
    {
     "name": "stdout",
     "output_type": "stream",
     "text": [
      "Overwriting reducer.py\n"
     ]
    }
   ],
   "source": [
    "%%writefile reducer.py\n",
    "#!/usr/bin/python\n",
    "import sys\n",
    "\n",
    "# input comes from STDIN\n",
    "for line in sys.stdin:\n",
    "\n",
    "    # parse the input we got from mapper.py\n",
    "    num, na = line.split('\\t')\n",
    "    \n",
    "    print '<' + num + ', NA>'"
   ]
  },
  {
   "cell_type": "code",
   "execution_count": 5,
   "metadata": {
    "collapsed": false
   },
   "outputs": [],
   "source": [
    "#Test mapper and reducer\n",
    "#!cat integer.txt | python mapper.py | sort -n | python reducer.py"
   ]
  },
  {
   "cell_type": "code",
   "execution_count": 6,
   "metadata": {
    "collapsed": false
   },
   "outputs": [
    {
     "name": "stdout",
     "output_type": "stream",
     "text": [
      "starting yarn daemons\n",
      "starting resourcemanager, logging to /usr/local/Cellar/hadoop/2.7.1/libexec/logs/yarn-dunmireg-resourcemanager-Glenns-Air.home.out\n",
      "localhost: starting nodemanager, logging to /usr/local/Cellar/hadoop/2.7.1/libexec/logs/yarn-dunmireg-nodemanager-Glenns-Air.home.out\n",
      "16/01/25 14:47:33 WARN util.NativeCodeLoader: Unable to load native-hadoop library for your platform... using builtin-java classes where applicable\n",
      "Starting namenodes on [localhost]\n",
      "localhost: starting namenode, logging to /usr/local/Cellar/hadoop/2.7.1/libexec/logs/hadoop-dunmireg-namenode-Glenns-Air.home.out\n",
      "localhost: starting datanode, logging to /usr/local/Cellar/hadoop/2.7.1/libexec/logs/hadoop-dunmireg-datanode-Glenns-Air.home.out\n",
      "Starting secondary namenodes [0.0.0.0]\n",
      "0.0.0.0: starting secondarynamenode, logging to /usr/local/Cellar/hadoop/2.7.1/libexec/logs/hadoop-dunmireg-secondarynamenode-Glenns-Air.home.out\n",
      "16/01/25 14:47:49 WARN util.NativeCodeLoader: Unable to load native-hadoop library for your platform... using builtin-java classes where applicable\n"
     ]
    }
   ],
   "source": [
    "#Start hadoop yarn\n",
    "!/usr/local/Cellar/hadoop/2.7.1/sbin/start-yarn.sh\n",
    "!/usr/local/Cellar/hadoop/2.7.1/sbin/start-dfs.sh"
   ]
  },
  {
   "cell_type": "code",
   "execution_count": 8,
   "metadata": {
    "collapsed": false
   },
   "outputs": [
    {
     "name": "stdout",
     "output_type": "stream",
     "text": [
      "16/01/23 13:24:02 WARN util.NativeCodeLoader: Unable to load native-hadoop library for your platform... using builtin-java classes where applicable\r\n"
     ]
    }
   ],
   "source": [
    "#make directory\n",
    "#!hdfs dfs -mkdir -p /user/dunmireg"
   ]
  },
  {
   "cell_type": "code",
   "execution_count": 7,
   "metadata": {
    "collapsed": false
   },
   "outputs": [
    {
     "name": "stdout",
     "output_type": "stream",
     "text": [
      "16/01/25 14:47:51 WARN util.NativeCodeLoader: Unable to load native-hadoop library for your platform... using builtin-java classes where applicable\r\n"
     ]
    }
   ],
   "source": [
    "#add input to hdfs\n",
    "!hdfs dfs -put integer.txt /user/dunmireg"
   ]
  },
  {
   "cell_type": "code",
   "execution_count": 8,
   "metadata": {
    "collapsed": false
   },
   "outputs": [
    {
     "name": "stdout",
     "output_type": "stream",
     "text": [
      "16/01/25 14:47:56 WARN util.NativeCodeLoader: Unable to load native-hadoop library for your platform... using builtin-java classes where applicable\n",
      "16/01/25 14:47:57 INFO Configuration.deprecation: session.id is deprecated. Instead, use dfs.metrics.session-id\n",
      "16/01/25 14:47:57 INFO jvm.JvmMetrics: Initializing JVM Metrics with processName=JobTracker, sessionId=\n",
      "16/01/25 14:47:57 INFO jvm.JvmMetrics: Cannot initialize JVM Metrics with processName=JobTracker, sessionId= - already initialized\n",
      "16/01/25 14:47:57 INFO mapred.FileInputFormat: Total input paths to process : 1\n",
      "16/01/25 14:47:57 INFO mapreduce.JobSubmitter: number of splits:1\n",
      "16/01/25 14:47:57 INFO Configuration.deprecation: mapred.text.key.comparator.options is deprecated. Instead, use mapreduce.partition.keycomparator.options\n",
      "16/01/25 14:47:57 INFO Configuration.deprecation: mapred.output.key.comparator.class is deprecated. Instead, use mapreduce.job.output.key.comparator.class\n",
      "16/01/25 14:47:58 INFO mapreduce.JobSubmitter: Submitting tokens for job: job_local264777542_0001\n",
      "16/01/25 14:47:58 INFO mapreduce.Job: The url to track the job: http://localhost:8080/\n",
      "16/01/25 14:47:58 INFO mapred.LocalJobRunner: OutputCommitter set in config null\n",
      "16/01/25 14:47:58 INFO mapred.LocalJobRunner: OutputCommitter is org.apache.hadoop.mapred.FileOutputCommitter\n",
      "16/01/25 14:47:58 INFO mapreduce.Job: Running job: job_local264777542_0001\n",
      "16/01/25 14:47:58 INFO output.FileOutputCommitter: File Output Committer Algorithm version is 1\n",
      "16/01/25 14:47:58 INFO mapred.LocalJobRunner: Waiting for map tasks\n",
      "16/01/25 14:47:58 INFO mapred.LocalJobRunner: Starting task: attempt_local264777542_0001_m_000000_0\n",
      "16/01/25 14:47:58 INFO output.FileOutputCommitter: File Output Committer Algorithm version is 1\n",
      "16/01/25 14:47:58 INFO util.ProcfsBasedProcessTree: ProcfsBasedProcessTree currently is supported only on Linux.\n",
      "16/01/25 14:47:58 INFO mapred.Task:  Using ResourceCalculatorProcessTree : null\n",
      "16/01/25 14:47:58 INFO mapred.MapTask: Processing split: hdfs://localhost:9000/user/dunmireg/integer.txt:0+108889\n",
      "16/01/25 14:47:58 INFO mapred.MapTask: numReduceTasks: 1\n",
      "16/01/25 14:47:58 INFO mapred.MapTask: (EQUATOR) 0 kvi 26214396(104857584)\n",
      "16/01/25 14:47:58 INFO mapred.MapTask: mapreduce.task.io.sort.mb: 100\n",
      "16/01/25 14:47:58 INFO mapred.MapTask: soft limit at 83886080\n",
      "16/01/25 14:47:58 INFO mapred.MapTask: bufstart = 0; bufvoid = 104857600\n",
      "16/01/25 14:47:58 INFO mapred.MapTask: kvstart = 26214396; length = 6553600\n",
      "16/01/25 14:47:58 INFO mapred.MapTask: Map output collector class = org.apache.hadoop.mapred.MapTask$MapOutputBuffer\n",
      "16/01/25 14:47:58 INFO streaming.PipeMapRed: PipeMapRed exec [/Users/dunmireg/Documents/261HW/HW2/./mapper.py]\n",
      "16/01/25 14:47:58 INFO Configuration.deprecation: mapred.tip.id is deprecated. Instead, use mapreduce.task.id\n",
      "16/01/25 14:47:58 INFO Configuration.deprecation: mapred.local.dir is deprecated. Instead, use mapreduce.cluster.local.dir\n",
      "16/01/25 14:47:58 INFO Configuration.deprecation: map.input.file is deprecated. Instead, use mapreduce.map.input.file\n",
      "16/01/25 14:47:58 INFO Configuration.deprecation: mapred.skip.on is deprecated. Instead, use mapreduce.job.skiprecords\n",
      "16/01/25 14:47:58 INFO Configuration.deprecation: map.input.length is deprecated. Instead, use mapreduce.map.input.length\n",
      "16/01/25 14:47:58 INFO Configuration.deprecation: mapred.work.output.dir is deprecated. Instead, use mapreduce.task.output.dir\n",
      "16/01/25 14:47:58 INFO Configuration.deprecation: map.input.start is deprecated. Instead, use mapreduce.map.input.start\n",
      "16/01/25 14:47:58 INFO Configuration.deprecation: mapred.job.id is deprecated. Instead, use mapreduce.job.id\n",
      "16/01/25 14:47:58 INFO Configuration.deprecation: user.name is deprecated. Instead, use mapreduce.job.user.name\n",
      "16/01/25 14:47:58 INFO Configuration.deprecation: mapred.task.is.map is deprecated. Instead, use mapreduce.task.ismap\n",
      "16/01/25 14:47:58 INFO Configuration.deprecation: mapred.task.id is deprecated. Instead, use mapreduce.task.attempt.id\n",
      "16/01/25 14:47:58 INFO Configuration.deprecation: mapred.task.partition is deprecated. Instead, use mapreduce.task.partition\n",
      "16/01/25 14:47:58 INFO streaming.PipeMapRed: R/W/S=1/0/0 in:NA [rec/s] out:NA [rec/s]\n",
      "16/01/25 14:47:58 INFO streaming.PipeMapRed: R/W/S=10/0/0 in:NA [rec/s] out:NA [rec/s]\n",
      "16/01/25 14:47:58 INFO streaming.PipeMapRed: R/W/S=100/0/0 in:NA [rec/s] out:NA [rec/s]\n",
      "16/01/25 14:47:58 INFO streaming.PipeMapRed: R/W/S=1000/0/0 in:NA [rec/s] out:NA [rec/s]\n",
      "16/01/25 14:47:58 INFO streaming.PipeMapRed: R/W/S=10000/0/0 in:NA [rec/s] out:NA [rec/s]\n",
      "16/01/25 14:47:58 INFO streaming.PipeMapRed: Records R/W=10000/1\n",
      "16/01/25 14:47:58 INFO streaming.PipeMapRed: MRErrorThread done\n",
      "16/01/25 14:47:58 INFO streaming.PipeMapRed: mapRedFinished\n",
      "16/01/25 14:47:58 INFO mapred.LocalJobRunner: \n",
      "16/01/25 14:47:58 INFO mapred.MapTask: Starting flush of map output\n",
      "16/01/25 14:47:58 INFO mapred.MapTask: Spilling map output\n",
      "16/01/25 14:47:58 INFO mapred.MapTask: bufstart = 0; bufend = 78890; bufvoid = 104857600\n",
      "16/01/25 14:47:58 INFO mapred.MapTask: kvstart = 26214396(104857584); kvend = 26174400(104697600); length = 39997/6553600\n",
      "16/01/25 14:47:58 INFO mapred.MapTask: Finished spill 0\n",
      "16/01/25 14:47:58 INFO mapred.Task: Task:attempt_local264777542_0001_m_000000_0 is done. And is in the process of committing\n",
      "16/01/25 14:47:58 INFO mapred.LocalJobRunner: Records R/W=10000/1\n",
      "16/01/25 14:47:58 INFO mapred.Task: Task 'attempt_local264777542_0001_m_000000_0' done.\n",
      "16/01/25 14:47:58 INFO mapred.LocalJobRunner: Finishing task: attempt_local264777542_0001_m_000000_0\n",
      "16/01/25 14:47:58 INFO mapred.LocalJobRunner: map task executor complete.\n",
      "16/01/25 14:47:58 INFO mapred.LocalJobRunner: Waiting for reduce tasks\n",
      "16/01/25 14:47:58 INFO mapred.LocalJobRunner: Starting task: attempt_local264777542_0001_r_000000_0\n",
      "16/01/25 14:47:58 INFO output.FileOutputCommitter: File Output Committer Algorithm version is 1\n",
      "16/01/25 14:47:58 INFO util.ProcfsBasedProcessTree: ProcfsBasedProcessTree currently is supported only on Linux.\n",
      "16/01/25 14:47:58 INFO mapred.Task:  Using ResourceCalculatorProcessTree : null\n",
      "16/01/25 14:47:58 INFO mapred.ReduceTask: Using ShuffleConsumerPlugin: org.apache.hadoop.mapreduce.task.reduce.Shuffle@46526d0d\n",
      "16/01/25 14:47:58 INFO reduce.MergeManagerImpl: MergerManager: memoryLimit=334338464, maxSingleShuffleLimit=83584616, mergeThreshold=220663392, ioSortFactor=10, memToMemMergeOutputsThreshold=10\n",
      "16/01/25 14:47:58 INFO reduce.EventFetcher: attempt_local264777542_0001_r_000000_0 Thread started: EventFetcher for fetching Map Completion Events\n",
      "16/01/25 14:47:58 INFO reduce.LocalFetcher: localfetcher#1 about to shuffle output of map attempt_local264777542_0001_m_000000_0 decomp: 98892 len: 98896 to MEMORY\n",
      "16/01/25 14:47:59 INFO reduce.InMemoryMapOutput: Read 98892 bytes from map-output for attempt_local264777542_0001_m_000000_0\n",
      "16/01/25 14:47:59 INFO reduce.MergeManagerImpl: closeInMemoryFile -> map-output of size: 98892, inMemoryMapOutputs.size() -> 1, commitMemory -> 0, usedMemory ->98892\n",
      "16/01/25 14:47:59 INFO reduce.EventFetcher: EventFetcher is interrupted.. Returning\n",
      "16/01/25 14:47:59 INFO mapred.LocalJobRunner: 1 / 1 copied.\n",
      "16/01/25 14:47:59 INFO reduce.MergeManagerImpl: finalMerge called with 1 in-memory map-outputs and 0 on-disk map-outputs\n",
      "16/01/25 14:47:59 INFO mapred.Merger: Merging 1 sorted segments\n",
      "16/01/25 14:47:59 INFO mapred.Merger: Down to the last merge-pass, with 1 segments left of total size: 98888 bytes\n",
      "16/01/25 14:47:59 INFO reduce.MergeManagerImpl: Merged 1 segments, 98892 bytes to disk to satisfy reduce memory limit\n",
      "16/01/25 14:47:59 INFO reduce.MergeManagerImpl: Merging 1 files, 98896 bytes from disk\n",
      "16/01/25 14:47:59 INFO reduce.MergeManagerImpl: Merging 0 segments, 0 bytes from memory into reduce\n",
      "16/01/25 14:47:59 INFO mapred.Merger: Merging 1 sorted segments\n",
      "16/01/25 14:47:59 INFO mapred.Merger: Down to the last merge-pass, with 1 segments left of total size: 98888 bytes\n",
      "16/01/25 14:47:59 INFO mapred.LocalJobRunner: 1 / 1 copied.\n",
      "16/01/25 14:47:59 INFO streaming.PipeMapRed: PipeMapRed exec [/Users/dunmireg/Documents/261HW/HW2/./reducer.py]\n",
      "16/01/25 14:47:59 INFO Configuration.deprecation: mapred.job.tracker is deprecated. Instead, use mapreduce.jobtracker.address\n",
      "16/01/25 14:47:59 INFO Configuration.deprecation: mapred.map.tasks is deprecated. Instead, use mapreduce.job.maps\n",
      "16/01/25 14:47:59 INFO streaming.PipeMapRed: R/W/S=1/0/0 in:NA [rec/s] out:NA [rec/s]\n",
      "16/01/25 14:47:59 INFO streaming.PipeMapRed: R/W/S=10/0/0 in:NA [rec/s] out:NA [rec/s]\n",
      "16/01/25 14:47:59 INFO streaming.PipeMapRed: R/W/S=100/0/0 in:NA [rec/s] out:NA [rec/s]\n",
      "16/01/25 14:47:59 INFO streaming.PipeMapRed: R/W/S=1000/0/0 in:NA [rec/s] out:NA [rec/s]\n",
      "16/01/25 14:47:59 INFO streaming.PipeMapRed: R/W/S=10000/0/0 in:NA [rec/s] out:NA [rec/s]\n",
      "16/01/25 14:47:59 INFO streaming.PipeMapRed: Records R/W=10000/1\n",
      "16/01/25 14:47:59 INFO streaming.PipeMapRed: MRErrorThread done\n",
      "16/01/25 14:47:59 INFO streaming.PipeMapRed: mapRedFinished\n",
      "16/01/25 14:47:59 INFO mapreduce.Job: Job job_local264777542_0001 running in uber mode : false\n",
      "16/01/25 14:47:59 INFO mapreduce.Job:  map 100% reduce 0%\n",
      "16/01/25 14:47:59 INFO mapred.Task: Task:attempt_local264777542_0001_r_000000_0 is done. And is in the process of committing\n",
      "16/01/25 14:47:59 INFO mapred.LocalJobRunner: 1 / 1 copied.\n",
      "16/01/25 14:47:59 INFO mapred.Task: Task attempt_local264777542_0001_r_000000_0 is allowed to commit now\n",
      "16/01/25 14:47:59 INFO output.FileOutputCommitter: Saved output of task 'attempt_local264777542_0001_r_000000_0' to hdfs://localhost:9000/user/dunmireg/integerOutput/_temporary/0/task_local264777542_0001_r_000000\n",
      "16/01/25 14:47:59 INFO mapred.LocalJobRunner: Records R/W=10000/1 > reduce\n",
      "16/01/25 14:47:59 INFO mapred.Task: Task 'attempt_local264777542_0001_r_000000_0' done.\n",
      "16/01/25 14:47:59 INFO mapred.LocalJobRunner: Finishing task: attempt_local264777542_0001_r_000000_0\n",
      "16/01/25 14:47:59 INFO mapred.LocalJobRunner: reduce task executor complete.\n",
      "16/01/25 14:48:00 INFO mapreduce.Job:  map 100% reduce 100%\n",
      "16/01/25 14:48:00 INFO mapreduce.Job: Job job_local264777542_0001 completed successfully\n",
      "16/01/25 14:48:00 INFO mapreduce.Job: Counters: 35\n",
      "\tFile System Counters\n",
      "\t\tFILE: Number of bytes read=409896\n",
      "\t\tFILE: Number of bytes written=1097568\n",
      "\t\tFILE: Number of read operations=0\n",
      "\t\tFILE: Number of large read operations=0\n",
      "\t\tFILE: Number of write operations=0\n",
      "\t\tHDFS: Number of bytes read=217778\n",
      "\t\tHDFS: Number of bytes written=118890\n",
      "\t\tHDFS: Number of read operations=13\n",
      "\t\tHDFS: Number of large read operations=0\n",
      "\t\tHDFS: Number of write operations=4\n",
      "\tMap-Reduce Framework\n",
      "\t\tMap input records=10000\n",
      "\t\tMap output records=10000\n",
      "\t\tMap output bytes=78890\n",
      "\t\tMap output materialized bytes=98896\n",
      "\t\tInput split bytes=99\n",
      "\t\tCombine input records=0\n",
      "\t\tCombine output records=0\n",
      "\t\tReduce input groups=10000\n",
      "\t\tReduce shuffle bytes=98896\n",
      "\t\tReduce input records=10000\n",
      "\t\tReduce output records=10000\n",
      "\t\tSpilled Records=20000\n",
      "\t\tShuffled Maps =1\n",
      "\t\tFailed Shuffles=0\n",
      "\t\tMerged Map outputs=1\n",
      "\t\tGC time elapsed (ms)=5\n",
      "\t\tTotal committed heap usage (bytes)=546308096\n",
      "\tShuffle Errors\n",
      "\t\tBAD_ID=0\n",
      "\t\tCONNECTION=0\n",
      "\t\tIO_ERROR=0\n",
      "\t\tWRONG_LENGTH=0\n",
      "\t\tWRONG_MAP=0\n",
      "\t\tWRONG_REDUCE=0\n",
      "\tFile Input Format Counters \n",
      "\t\tBytes Read=108889\n",
      "\tFile Output Format Counters \n",
      "\t\tBytes Written=118890\n",
      "16/01/25 14:48:00 INFO streaming.StreamJob: Output directory: integerOutput\n"
     ]
    }
   ],
   "source": [
    "!hadoop jar /usr/local/Cellar/hadoop/2.7.1/libexec/share/hadoop/tools/lib/hadoop-streaming-2.7.1.jar \\\n",
    "-D mapred.output.key.comparator.class=org.apache.hadoop.mapred.lib.KeyFieldBasedComparator \\\n",
    "-D  mapred.text.key.comparator.options=-n \\\n",
    "-mapper mapper.py \\\n",
    "-reducer reducer.py \\\n",
    "-input integer.txt \\\n",
    "-output integerOutput"
   ]
  },
  {
   "cell_type": "code",
   "execution_count": 27,
   "metadata": {
    "collapsed": false
   },
   "outputs": [],
   "source": [
    "#show results\n",
    "#!hdfs dfs -cat /user/dunmireg/integerOutput/part-00000"
   ]
  },
  {
   "cell_type": "code",
   "execution_count": 9,
   "metadata": {
    "collapsed": false
   },
   "outputs": [
    {
     "name": "stdout",
     "output_type": "stream",
     "text": [
      "16/01/25 14:49:01 WARN util.NativeCodeLoader: Unable to load native-hadoop library for your platform... using builtin-java classes where applicable\n",
      "16/01/25 14:49:02 WARN hdfs.DFSClient: DFSInputStream has been closed already\n",
      "16/01/25 14:49:02 WARN hdfs.DFSClient: DFSInputStream has been closed already\n"
     ]
    }
   ],
   "source": [
    "#move output to local directory\n",
    "!hadoop fs -copyToLocal /user/dunmireg/integerOutput"
   ]
  },
  {
   "cell_type": "code",
   "execution_count": 10,
   "metadata": {
    "collapsed": false
   },
   "outputs": [
    {
     "name": "stdout",
     "output_type": "stream",
     "text": [
      "rmr: DEPRECATED: Please use 'rm -r' instead.\n",
      "16/01/25 14:49:05 WARN util.NativeCodeLoader: Unable to load native-hadoop library for your platform... using builtin-java classes where applicable\n",
      "16/01/25 14:49:06 INFO fs.TrashPolicyDefault: Namenode trash configuration: Deletion interval = 0 minutes, Emptier interval = 0 minutes.\n",
      "Deleted /user/dunmireg/integer.txt\n",
      "rmr: DEPRECATED: Please use 'rm -r' instead.\n",
      "16/01/25 14:49:07 WARN util.NativeCodeLoader: Unable to load native-hadoop library for your platform... using builtin-java classes where applicable\n",
      "16/01/25 14:49:07 INFO fs.TrashPolicyDefault: Namenode trash configuration: Deletion interval = 0 minutes, Emptier interval = 0 minutes.\n",
      "Deleted /user/dunmireg/integerOutput\n",
      "stopping yarn daemons\n",
      "stopping resourcemanager\n",
      "localhost: stopping nodemanager\n",
      "no proxyserver to stop\n",
      "16/01/25 14:49:19 WARN util.NativeCodeLoader: Unable to load native-hadoop library for your platform... using builtin-java classes where applicable\n",
      "Stopping namenodes on [localhost]\n",
      "localhost: stopping namenode\n",
      "localhost: stopping datanode\n",
      "Stopping secondary namenodes [0.0.0.0]\n",
      "0.0.0.0: stopping secondarynamenode\n",
      "16/01/25 14:49:37 WARN util.NativeCodeLoader: Unable to load native-hadoop library for your platform... using builtin-java classes where applicable\n"
     ]
    }
   ],
   "source": [
    "#Remove output directory and stop yarn and hdfs\n",
    "!hadoop fs -rmr /user/dunmireg/integer.txt #check\n",
    "!hadoop fs -rmr /user/dunmireg/integerOutput\n",
    "!/usr/local/Cellar/hadoop/2.7.1/sbin/stop-yarn.sh\n",
    "!/usr/local/Cellar/hadoop/2.7.1/sbin/stop-dfs.sh"
   ]
  },
  {
   "cell_type": "code",
   "execution_count": 14,
   "metadata": {
    "collapsed": false
   },
   "outputs": [
    {
     "name": "stdout",
     "output_type": "stream",
     "text": [
      "Smallest 10:\n",
      "0\n",
      "1\n",
      "2\n",
      "3\n",
      "4\n",
      "5\n",
      "6\n",
      "7\n",
      "8\n",
      "9\n",
      "Largest 10\n",
      "9990\n",
      "9991\n",
      "9992\n",
      "9993\n",
      "9994\n",
      "9995\n",
      "9996\n",
      "9997\n",
      "9998\n",
      "9999\n"
     ]
    }
   ],
   "source": [
    "#display output\n",
    "import os\n",
    "\n",
    "with open(os.path.join('./integerOutput', 'part-00000'), 'r') as myfile: #get appropriate output\n",
    "    lines = myfile.readlines() #read in lines\n",
    "    print \"Smallest 10:\"\n",
    "    for i in range(10): #get smallest 10, the first 10 numbers\n",
    "        line = lines[i] #get right line\n",
    "        line = line[1:] #remove '<'\n",
    "        num = line.split()[0] #split on whitespace, keeping number\n",
    "        num = num[:-1] #remove comma\n",
    "        print num\n",
    "        \n",
    "    print \"Largest 10\"\n",
    "    for i in range(9990, 10000): #repeat above with different range\n",
    "        line = lines[i]\n",
    "        line = line[1:]\n",
    "        num = line.split()[0]\n",
    "        num = num[:-1]\n",
    "        print num"
   ]
  },
  {
   "cell_type": "markdown",
   "metadata": {},
   "source": [
    "If I were to have multiple reducers, yes there would need to be an additional step. In this case I would need to include a partitioner to distribute the output of the mapper to the different reducers. This ensures that the sorted output of map is distributed to the correct reducers. For example, if I had 10 inputs the output of map would get passed to a partitioner which would distribute keys to the 2 reducers I have. "
   ]
  },
  {
   "cell_type": "markdown",
   "metadata": {
    "collapsed": true
   },
   "source": [
    "### Question 2.2\n",
    "Using the Enron data from HW1 and Hadoop MapReduce streaming, write the mapper/reducer job that  will determine the word count (number of occurrences) of each white-space delimitted token (assume spaces, fullstops, comma as delimiters). Examine the word “assistance” and report its word count results.\n",
    "\n",
    " \n",
    "CROSSCHECK: >grep assistance enronemail_1h.txt|cut -d$'\\t' -f4| grep assistance|wc -l    \n",
    "       8    \n",
    "       #NOTE  \"assistance\" occurs on 8 lines but how many times does the token occur? 10 times! This is the number we are looking for!\n",
    "\n"
   ]
  },
  {
   "cell_type": "code",
   "execution_count": 3,
   "metadata": {
    "collapsed": false
   },
   "outputs": [
    {
     "name": "stdout",
     "output_type": "stream",
     "text": [
      "Overwriting mapper.py\n"
     ]
    }
   ],
   "source": [
    "%%writefile mapper.py\n",
    "#!/usr/bin/python\n",
    "import sys\n",
    "import re\n",
    "WORD_RE = re.compile(r\"[\\w']+\") #regex for string matching\n",
    "\n",
    "for line in sys.stdin: #for each line\n",
    "    components = line.split('\\t')\n",
    "    text = \" \".join(components[-2:]).strip() #get text of subject and content\n",
    "    words = re.findall(WORD_RE, text) #match all words\n",
    "    for word in words:\n",
    "        print word + '\\t' + '1'"
   ]
  },
  {
   "cell_type": "code",
   "execution_count": 5,
   "metadata": {
    "collapsed": false
   },
   "outputs": [
    {
     "name": "stdout",
     "output_type": "stream",
     "text": [
      "Overwriting reducer.py\n"
     ]
    }
   ],
   "source": [
    "%%writefile reducer.py\n",
    "#!/usr/bin/python\n",
    "#credit to Professor Shanahan for the structure of this reducer\n",
    "import sys\n",
    "\n",
    "current_word = None\n",
    "current_count = 0\n",
    "word = None\n",
    "\n",
    "#lines come from standard input\n",
    "for line in sys.stdin:\n",
    "    line = line.strip()\n",
    "    line = line.split('\\t')\n",
    "    word = line[0]\n",
    "    count = int(line[1])\n",
    "    \n",
    "    if current_word == word:\n",
    "        current_count += count\n",
    "    else:\n",
    "        if current_word:\n",
    "            print '%s\\t%s' % (current_word, current_count)\n",
    "        current_word = word\n",
    "        current_count = count\n",
    "#print last line\n",
    "if current_word == word:\n",
    "    print '%s\\t%s' % (current_word, current_count)"
   ]
  },
  {
   "cell_type": "code",
   "execution_count": 10,
   "metadata": {
    "collapsed": false
   },
   "outputs": [],
   "source": [
    "#!cat enronemail_1h.txt | python mapper.py | sort | python reducer.py\n",
    "#confirm assistance = 10"
   ]
  },
  {
   "cell_type": "code",
   "execution_count": 11,
   "metadata": {
    "collapsed": false
   },
   "outputs": [
    {
     "name": "stdout",
     "output_type": "stream",
     "text": [
      "starting yarn daemons\n",
      "starting resourcemanager, logging to /usr/local/Cellar/hadoop/2.7.1/libexec/logs/yarn-dunmireg-resourcemanager-Glenns-Air.home.out\n",
      "localhost: starting nodemanager, logging to /usr/local/Cellar/hadoop/2.7.1/libexec/logs/yarn-dunmireg-nodemanager-Glenns-Air.home.out\n",
      "16/01/25 18:17:27 WARN util.NativeCodeLoader: Unable to load native-hadoop library for your platform... using builtin-java classes where applicable\n",
      "Starting namenodes on [localhost]\n",
      "localhost: starting namenode, logging to /usr/local/Cellar/hadoop/2.7.1/libexec/logs/hadoop-dunmireg-namenode-Glenns-Air.home.out\n",
      "localhost: starting datanode, logging to /usr/local/Cellar/hadoop/2.7.1/libexec/logs/hadoop-dunmireg-datanode-Glenns-Air.home.out\n",
      "Starting secondary namenodes [0.0.0.0]\n",
      "0.0.0.0: starting secondarynamenode, logging to /usr/local/Cellar/hadoop/2.7.1/libexec/logs/hadoop-dunmireg-secondarynamenode-Glenns-Air.home.out\n",
      "16/01/25 18:17:42 WARN util.NativeCodeLoader: Unable to load native-hadoop library for your platform... using builtin-java classes where applicable\n"
     ]
    }
   ],
   "source": [
    "#Start hadoop yarn\n",
    "!/usr/local/Cellar/hadoop/2.7.1/sbin/start-yarn.sh\n",
    "!/usr/local/Cellar/hadoop/2.7.1/sbin/start-dfs.sh"
   ]
  },
  {
   "cell_type": "code",
   "execution_count": 12,
   "metadata": {
    "collapsed": false
   },
   "outputs": [
    {
     "name": "stdout",
     "output_type": "stream",
     "text": [
      "16/01/25 18:17:46 WARN util.NativeCodeLoader: Unable to load native-hadoop library for your platform... using builtin-java classes where applicable\r\n"
     ]
    }
   ],
   "source": [
    "#add input to hdfs\n",
    "!hdfs dfs -put enronemail_1h.txt /user/dunmireg"
   ]
  },
  {
   "cell_type": "code",
   "execution_count": 13,
   "metadata": {
    "collapsed": false
   },
   "outputs": [
    {
     "name": "stdout",
     "output_type": "stream",
     "text": [
      "16/01/25 18:17:50 WARN util.NativeCodeLoader: Unable to load native-hadoop library for your platform... using builtin-java classes where applicable\n",
      "16/01/25 18:17:50 INFO Configuration.deprecation: session.id is deprecated. Instead, use dfs.metrics.session-id\n",
      "16/01/25 18:17:50 INFO jvm.JvmMetrics: Initializing JVM Metrics with processName=JobTracker, sessionId=\n",
      "16/01/25 18:17:50 INFO jvm.JvmMetrics: Cannot initialize JVM Metrics with processName=JobTracker, sessionId= - already initialized\n",
      "16/01/25 18:17:50 INFO mapred.FileInputFormat: Total input paths to process : 1\n",
      "16/01/25 18:17:51 INFO mapreduce.JobSubmitter: number of splits:1\n",
      "16/01/25 18:17:51 INFO mapreduce.JobSubmitter: Submitting tokens for job: job_local1364191356_0001\n",
      "16/01/25 18:17:51 INFO mapreduce.Job: The url to track the job: http://localhost:8080/\n",
      "16/01/25 18:17:51 INFO mapred.LocalJobRunner: OutputCommitter set in config null\n",
      "16/01/25 18:17:51 INFO mapred.LocalJobRunner: OutputCommitter is org.apache.hadoop.mapred.FileOutputCommitter\n",
      "16/01/25 18:17:51 INFO output.FileOutputCommitter: File Output Committer Algorithm version is 1\n",
      "16/01/25 18:17:51 INFO mapreduce.Job: Running job: job_local1364191356_0001\n",
      "16/01/25 18:17:51 INFO mapred.LocalJobRunner: Waiting for map tasks\n",
      "16/01/25 18:17:51 INFO mapred.LocalJobRunner: Starting task: attempt_local1364191356_0001_m_000000_0\n",
      "16/01/25 18:17:51 INFO output.FileOutputCommitter: File Output Committer Algorithm version is 1\n",
      "16/01/25 18:17:51 INFO util.ProcfsBasedProcessTree: ProcfsBasedProcessTree currently is supported only on Linux.\n",
      "16/01/25 18:17:51 INFO mapred.Task:  Using ResourceCalculatorProcessTree : null\n",
      "16/01/25 18:17:51 INFO mapred.MapTask: Processing split: hdfs://localhost:9000/user/dunmireg/enronemail_1h.txt:0+204658\n",
      "16/01/25 18:17:51 INFO mapred.MapTask: numReduceTasks: 1\n",
      "16/01/25 18:17:51 INFO mapred.MapTask: (EQUATOR) 0 kvi 26214396(104857584)\n",
      "16/01/25 18:17:51 INFO mapred.MapTask: mapreduce.task.io.sort.mb: 100\n",
      "16/01/25 18:17:51 INFO mapred.MapTask: soft limit at 83886080\n",
      "16/01/25 18:17:51 INFO mapred.MapTask: bufstart = 0; bufvoid = 104857600\n",
      "16/01/25 18:17:51 INFO mapred.MapTask: kvstart = 26214396; length = 6553600\n",
      "16/01/25 18:17:51 INFO mapred.MapTask: Map output collector class = org.apache.hadoop.mapred.MapTask$MapOutputBuffer\n",
      "16/01/25 18:17:51 INFO streaming.PipeMapRed: PipeMapRed exec [/Users/dunmireg/Documents/261HW/HW2/./mapper.py]\n",
      "16/01/25 18:17:51 INFO Configuration.deprecation: mapred.tip.id is deprecated. Instead, use mapreduce.task.id\n",
      "16/01/25 18:17:51 INFO Configuration.deprecation: mapred.local.dir is deprecated. Instead, use mapreduce.cluster.local.dir\n",
      "16/01/25 18:17:51 INFO Configuration.deprecation: map.input.file is deprecated. Instead, use mapreduce.map.input.file\n",
      "16/01/25 18:17:51 INFO Configuration.deprecation: mapred.skip.on is deprecated. Instead, use mapreduce.job.skiprecords\n",
      "16/01/25 18:17:51 INFO Configuration.deprecation: map.input.length is deprecated. Instead, use mapreduce.map.input.length\n",
      "16/01/25 18:17:51 INFO Configuration.deprecation: mapred.work.output.dir is deprecated. Instead, use mapreduce.task.output.dir\n",
      "16/01/25 18:17:51 INFO Configuration.deprecation: map.input.start is deprecated. Instead, use mapreduce.map.input.start\n",
      "16/01/25 18:17:51 INFO Configuration.deprecation: mapred.job.id is deprecated. Instead, use mapreduce.job.id\n",
      "16/01/25 18:17:51 INFO Configuration.deprecation: user.name is deprecated. Instead, use mapreduce.job.user.name\n",
      "16/01/25 18:17:51 INFO Configuration.deprecation: mapred.task.is.map is deprecated. Instead, use mapreduce.task.ismap\n",
      "16/01/25 18:17:51 INFO Configuration.deprecation: mapred.task.id is deprecated. Instead, use mapreduce.task.attempt.id\n",
      "16/01/25 18:17:51 INFO Configuration.deprecation: mapred.task.partition is deprecated. Instead, use mapreduce.task.partition\n",
      "16/01/25 18:17:51 INFO streaming.PipeMapRed: R/W/S=1/0/0 in:NA [rec/s] out:NA [rec/s]\n",
      "16/01/25 18:17:51 INFO streaming.PipeMapRed: R/W/S=10/0/0 in:NA [rec/s] out:NA [rec/s]\n",
      "16/01/25 18:17:51 INFO streaming.PipeMapRed: Records R/W=72/1\n",
      "16/01/25 18:17:51 INFO streaming.PipeMapRed: R/W/S=100/13450/0 in:NA [rec/s] out:NA [rec/s]\n",
      "16/01/25 18:17:51 INFO streaming.PipeMapRed: MRErrorThread done\n",
      "16/01/25 18:17:51 INFO streaming.PipeMapRed: mapRedFinished\n",
      "16/01/25 18:17:51 INFO mapred.LocalJobRunner: \n",
      "16/01/25 18:17:51 INFO mapred.MapTask: Starting flush of map output\n",
      "16/01/25 18:17:51 INFO mapred.MapTask: Spilling map output\n",
      "16/01/25 18:17:51 INFO mapred.MapTask: bufstart = 0; bufend = 252211; bufvoid = 104857600\n",
      "16/01/25 18:17:51 INFO mapred.MapTask: kvstart = 26214396(104857584); kvend = 26082748(104330992); length = 131649/6553600\n",
      "16/01/25 18:17:51 INFO mapred.MapTask: Finished spill 0\n",
      "16/01/25 18:17:51 INFO mapred.Task: Task:attempt_local1364191356_0001_m_000000_0 is done. And is in the process of committing\n",
      "16/01/25 18:17:51 INFO mapred.LocalJobRunner: Records R/W=72/1\n",
      "16/01/25 18:17:51 INFO mapred.Task: Task 'attempt_local1364191356_0001_m_000000_0' done.\n",
      "16/01/25 18:17:51 INFO mapred.LocalJobRunner: Finishing task: attempt_local1364191356_0001_m_000000_0\n",
      "16/01/25 18:17:51 INFO mapred.LocalJobRunner: map task executor complete.\n",
      "16/01/25 18:17:51 INFO mapred.LocalJobRunner: Waiting for reduce tasks\n",
      "16/01/25 18:17:51 INFO mapred.LocalJobRunner: Starting task: attempt_local1364191356_0001_r_000000_0\n",
      "16/01/25 18:17:51 INFO output.FileOutputCommitter: File Output Committer Algorithm version is 1\n",
      "16/01/25 18:17:51 INFO util.ProcfsBasedProcessTree: ProcfsBasedProcessTree currently is supported only on Linux.\n",
      "16/01/25 18:17:51 INFO mapred.Task:  Using ResourceCalculatorProcessTree : null\n",
      "16/01/25 18:17:52 INFO mapred.ReduceTask: Using ShuffleConsumerPlugin: org.apache.hadoop.mapreduce.task.reduce.Shuffle@76742bea\n",
      "16/01/25 18:17:52 INFO reduce.MergeManagerImpl: MergerManager: memoryLimit=334338464, maxSingleShuffleLimit=83584616, mergeThreshold=220663392, ioSortFactor=10, memToMemMergeOutputsThreshold=10\n",
      "16/01/25 18:17:52 INFO reduce.EventFetcher: attempt_local1364191356_0001_r_000000_0 Thread started: EventFetcher for fetching Map Completion Events\n",
      "16/01/25 18:17:52 INFO reduce.LocalFetcher: localfetcher#1 about to shuffle output of map attempt_local1364191356_0001_m_000000_0 decomp: 318039 len: 318043 to MEMORY\n",
      "16/01/25 18:17:52 INFO reduce.InMemoryMapOutput: Read 318039 bytes from map-output for attempt_local1364191356_0001_m_000000_0\n",
      "16/01/25 18:17:52 INFO reduce.MergeManagerImpl: closeInMemoryFile -> map-output of size: 318039, inMemoryMapOutputs.size() -> 1, commitMemory -> 0, usedMemory ->318039\n",
      "16/01/25 18:17:52 INFO reduce.EventFetcher: EventFetcher is interrupted.. Returning\n",
      "16/01/25 18:17:52 INFO mapred.LocalJobRunner: 1 / 1 copied.\n",
      "16/01/25 18:17:52 INFO reduce.MergeManagerImpl: finalMerge called with 1 in-memory map-outputs and 0 on-disk map-outputs\n",
      "16/01/25 18:17:52 INFO mapred.Merger: Merging 1 sorted segments\n",
      "16/01/25 18:17:52 INFO mapred.Merger: Down to the last merge-pass, with 1 segments left of total size: 318035 bytes\n",
      "16/01/25 18:17:52 INFO reduce.MergeManagerImpl: Merged 1 segments, 318039 bytes to disk to satisfy reduce memory limit\n",
      "16/01/25 18:17:52 INFO reduce.MergeManagerImpl: Merging 1 files, 318043 bytes from disk\n",
      "16/01/25 18:17:52 INFO reduce.MergeManagerImpl: Merging 0 segments, 0 bytes from memory into reduce\n",
      "16/01/25 18:17:52 INFO mapred.Merger: Merging 1 sorted segments\n",
      "16/01/25 18:17:52 INFO mapred.Merger: Down to the last merge-pass, with 1 segments left of total size: 318035 bytes\n",
      "16/01/25 18:17:52 INFO mapred.LocalJobRunner: 1 / 1 copied.\n",
      "16/01/25 18:17:52 INFO streaming.PipeMapRed: PipeMapRed exec [/Users/dunmireg/Documents/261HW/HW2/./reducer.py]\n",
      "16/01/25 18:17:52 INFO Configuration.deprecation: mapred.job.tracker is deprecated. Instead, use mapreduce.jobtracker.address\n",
      "16/01/25 18:17:52 INFO Configuration.deprecation: mapred.map.tasks is deprecated. Instead, use mapreduce.job.maps\n",
      "16/01/25 18:17:52 INFO streaming.PipeMapRed: R/W/S=1/0/0 in:NA [rec/s] out:NA [rec/s]\n",
      "16/01/25 18:17:52 INFO streaming.PipeMapRed: R/W/S=10/0/0 in:NA [rec/s] out:NA [rec/s]\n",
      "16/01/25 18:17:52 INFO streaming.PipeMapRed: R/W/S=100/0/0 in:NA [rec/s] out:NA [rec/s]\n",
      "16/01/25 18:17:52 INFO streaming.PipeMapRed: R/W/S=1000/0/0 in:NA [rec/s] out:NA [rec/s]\n",
      "16/01/25 18:17:52 INFO streaming.PipeMapRed: R/W/S=10000/0/0 in:NA [rec/s] out:NA [rec/s]\n",
      "16/01/25 18:17:52 INFO streaming.PipeMapRed: Records R/W=21196/1\n",
      "16/01/25 18:17:52 INFO streaming.PipeMapRed: MRErrorThread done\n",
      "16/01/25 18:17:52 INFO streaming.PipeMapRed: mapRedFinished\n",
      "16/01/25 18:17:52 INFO mapreduce.Job: Job job_local1364191356_0001 running in uber mode : false\n",
      "16/01/25 18:17:52 INFO mapreduce.Job:  map 100% reduce 0%\n",
      "16/01/25 18:17:52 INFO mapred.Task: Task:attempt_local1364191356_0001_r_000000_0 is done. And is in the process of committing\n",
      "16/01/25 18:17:52 INFO mapred.LocalJobRunner: 1 / 1 copied.\n",
      "16/01/25 18:17:52 INFO mapred.Task: Task attempt_local1364191356_0001_r_000000_0 is allowed to commit now\n",
      "16/01/25 18:17:52 INFO output.FileOutputCommitter: Saved output of task 'attempt_local1364191356_0001_r_000000_0' to hdfs://localhost:9000/user/dunmireg/enroneWordCount/_temporary/0/task_local1364191356_0001_r_000000\n",
      "16/01/25 18:17:52 INFO mapred.LocalJobRunner: Records R/W=21196/1 > reduce\n",
      "16/01/25 18:17:52 INFO mapred.Task: Task 'attempt_local1364191356_0001_r_000000_0' done.\n",
      "16/01/25 18:17:52 INFO mapred.LocalJobRunner: Finishing task: attempt_local1364191356_0001_r_000000_0\n",
      "16/01/25 18:17:52 INFO mapred.LocalJobRunner: reduce task executor complete.\n",
      "16/01/25 18:17:53 INFO mapreduce.Job:  map 100% reduce 100%\n",
      "16/01/25 18:17:53 INFO mapreduce.Job: Job job_local1364191356_0001 completed successfully\n",
      "16/01/25 18:17:53 INFO mapreduce.Job: Counters: 35\n",
      "\tFile System Counters\n",
      "\t\tFILE: Number of bytes read=848202\n",
      "\t\tFILE: Number of bytes written=1755937\n",
      "\t\tFILE: Number of read operations=0\n",
      "\t\tFILE: Number of large read operations=0\n",
      "\t\tFILE: Number of write operations=0\n",
      "\t\tHDFS: Number of bytes read=409316\n",
      "\t\tHDFS: Number of bytes written=53488\n",
      "\t\tHDFS: Number of read operations=13\n",
      "\t\tHDFS: Number of large read operations=0\n",
      "\t\tHDFS: Number of write operations=4\n",
      "\tMap-Reduce Framework\n",
      "\t\tMap input records=100\n",
      "\t\tMap output records=32913\n",
      "\t\tMap output bytes=252211\n",
      "\t\tMap output materialized bytes=318043\n",
      "\t\tInput split bytes=105\n",
      "\t\tCombine input records=0\n",
      "\t\tCombine output records=0\n",
      "\t\tReduce input groups=5491\n",
      "\t\tReduce shuffle bytes=318043\n",
      "\t\tReduce input records=32913\n",
      "\t\tReduce output records=5491\n",
      "\t\tSpilled Records=65826\n",
      "\t\tShuffled Maps =1\n",
      "\t\tFailed Shuffles=0\n",
      "\t\tMerged Map outputs=1\n",
      "\t\tGC time elapsed (ms)=5\n",
      "\t\tTotal committed heap usage (bytes)=510656512\n",
      "\tShuffle Errors\n",
      "\t\tBAD_ID=0\n",
      "\t\tCONNECTION=0\n",
      "\t\tIO_ERROR=0\n",
      "\t\tWRONG_LENGTH=0\n",
      "\t\tWRONG_MAP=0\n",
      "\t\tWRONG_REDUCE=0\n",
      "\tFile Input Format Counters \n",
      "\t\tBytes Read=204658\n",
      "\tFile Output Format Counters \n",
      "\t\tBytes Written=53488\n",
      "16/01/25 18:17:53 INFO streaming.StreamJob: Output directory: enroneWordCount\n"
     ]
    }
   ],
   "source": [
    "!hadoop jar /usr/local/Cellar/hadoop/2.7.1/libexec/share/hadoop/tools/lib/hadoop-streaming-2.7.1.jar \\\n",
    "-mapper mapper.py \\\n",
    "-reducer reducer.py \\\n",
    "-input enronemail_1h.txt \\\n",
    "-output enroneWordCount"
   ]
  },
  {
   "cell_type": "code",
   "execution_count": 15,
   "metadata": {
    "collapsed": false
   },
   "outputs": [],
   "source": [
    "#show results\n",
    "#!hdfs dfs -cat /user/dunmireg/enroneWordCount/part-00000"
   ]
  },
  {
   "cell_type": "code",
   "execution_count": 16,
   "metadata": {
    "collapsed": false
   },
   "outputs": [
    {
     "name": "stdout",
     "output_type": "stream",
     "text": [
      "16/01/25 18:18:13 WARN util.NativeCodeLoader: Unable to load native-hadoop library for your platform... using builtin-java classes where applicable\n",
      "16/01/25 18:18:13 WARN hdfs.DFSClient: DFSInputStream has been closed already\n"
     ]
    }
   ],
   "source": [
    "#move output to local directory\n",
    "#bin/hadoop fs -copyToLocal /hdfs/source/path /localfs/destination/path\n",
    "!hadoop fs -copyToLocal /user/dunmireg/enroneWordCount/part-00000"
   ]
  },
  {
   "cell_type": "code",
   "execution_count": 17,
   "metadata": {
    "collapsed": false
   },
   "outputs": [
    {
     "name": "stdout",
     "output_type": "stream",
     "text": [
      "rmr: DEPRECATED: Please use 'rm -r' instead.\n",
      "16/01/25 18:18:21 WARN util.NativeCodeLoader: Unable to load native-hadoop library for your platform... using builtin-java classes where applicable\n",
      "16/01/25 18:18:22 INFO fs.TrashPolicyDefault: Namenode trash configuration: Deletion interval = 0 minutes, Emptier interval = 0 minutes.\n",
      "Deleted /user/dunmireg/enronemail_1h.txt\n",
      "rmr: DEPRECATED: Please use 'rm -r' instead.\n",
      "16/01/25 18:18:23 WARN util.NativeCodeLoader: Unable to load native-hadoop library for your platform... using builtin-java classes where applicable\n",
      "16/01/25 18:18:23 INFO fs.TrashPolicyDefault: Namenode trash configuration: Deletion interval = 0 minutes, Emptier interval = 0 minutes.\n",
      "Deleted /user/dunmireg/enroneWordCount\n",
      "stopping yarn daemons\n",
      "stopping resourcemanager\n",
      "localhost: stopping nodemanager\n",
      "no proxyserver to stop\n",
      "16/01/25 18:18:35 WARN util.NativeCodeLoader: Unable to load native-hadoop library for your platform... using builtin-java classes where applicable\n",
      "Stopping namenodes on [localhost]\n",
      "localhost: stopping namenode\n",
      "localhost: stopping datanode\n",
      "Stopping secondary namenodes [0.0.0.0]\n",
      "0.0.0.0: stopping secondarynamenode\n",
      "16/01/25 18:18:53 WARN util.NativeCodeLoader: Unable to load native-hadoop library for your platform... using builtin-java classes where applicable\n"
     ]
    }
   ],
   "source": [
    "#Remove output directory and stop yarn and hdfs\n",
    "!hadoop fs -rmr /user/dunmireg/enronemail_1h.txt \n",
    "!hadoop fs -rmr /user/dunmireg/enroneWordCount\n",
    "!/usr/local/Cellar/hadoop/2.7.1/sbin/stop-yarn.sh\n",
    "!/usr/local/Cellar/hadoop/2.7.1/sbin/stop-dfs.sh"
   ]
  },
  {
   "cell_type": "code",
   "execution_count": 21,
   "metadata": {
    "collapsed": false
   },
   "outputs": [
    {
     "name": "stdout",
     "output_type": "stream",
     "text": [
      "Number of times assistance occurs: 10\n",
      "\n"
     ]
    }
   ],
   "source": [
    "#Rename output file for convenience and print results of assistance\n",
    "#import os\n",
    "#os.rename('part-00000', 'wordCount') #only needs to run once\n",
    "\n",
    "#open file and read contents\n",
    "with open('wordCount', 'r') as myfile:\n",
    "    lines = myfile.readlines()\n",
    "    for line in lines:\n",
    "        components = line.split('\\t') #parse input\n",
    "        if components[0] == 'assistance': #check if found the right word\n",
    "            print \"Number of times assistance occurs: \" + components[1] #print results\n",
    "            break  #break loop"
   ]
  },
  {
   "cell_type": "markdown",
   "metadata": {},
   "source": [
    "### HW2.2.1\n",
    "Using Hadoop MapReduce and your wordcount job (from HW2.2) determine the top-10 occurring tokens (most frequent tokens)"
   ]
  },
  {
   "cell_type": "code",
   "execution_count": 103,
   "metadata": {
    "collapsed": false
   },
   "outputs": [
    {
     "name": "stdout",
     "output_type": "stream",
     "text": [
      "Overwriting mapper.py\n"
     ]
    }
   ],
   "source": [
    "%%writefile mapper.py\n",
    "#!/usr/bin/python\n",
    "import sys\n",
    "# input comes from STDIN (standard input)\n",
    "for line in sys.stdin:\n",
    "    components = line.split('\\t')\n",
    "    #reverse input, so instead of word, count it now becomes count, word with count serving as key\n",
    "    #note convert number to an int to remove new line character, then turn to string\n",
    "    print components[1].rstrip() + '\\t' + components[0] #print result to STDOUT for input to reducer"
   ]
  },
  {
   "cell_type": "code",
   "execution_count": 104,
   "metadata": {
    "collapsed": false
   },
   "outputs": [
    {
     "name": "stdout",
     "output_type": "stream",
     "text": [
      "Overwriting reducer.py\n"
     ]
    }
   ],
   "source": [
    "%%writefile reducer.py\n",
    "#!/usr/bin/python\n",
    "import sys\n",
    "\n",
    "# input comes from STDIN\n",
    "for line in sys.stdin:\n",
    "\n",
    "    # parse the input we got from mapper.py\n",
    "    line = line.split('\\t')\n",
    "    count = line[0]\n",
    "    word = line[1].rstrip()\n",
    "    \n",
    "    #reverse order, relying on hadoop shuffling to get into proper order\n",
    "    print word + '\\t' + count"
   ]
  },
  {
   "cell_type": "code",
   "execution_count": 105,
   "metadata": {
    "collapsed": false
   },
   "outputs": [
    {
     "name": "stdout",
     "output_type": "stream",
     "text": [
      "starting yarn daemons\n",
      "starting resourcemanager, logging to /usr/local/Cellar/hadoop/2.7.1/libexec/logs/yarn-dunmireg-resourcemanager-Glenns-Air.home.out\n",
      "localhost: starting nodemanager, logging to /usr/local/Cellar/hadoop/2.7.1/libexec/logs/yarn-dunmireg-nodemanager-Glenns-Air.home.out\n",
      "16/01/25 19:11:09 WARN util.NativeCodeLoader: Unable to load native-hadoop library for your platform... using builtin-java classes where applicable\n",
      "Starting namenodes on [localhost]\n",
      "localhost: starting namenode, logging to /usr/local/Cellar/hadoop/2.7.1/libexec/logs/hadoop-dunmireg-namenode-Glenns-Air.home.out\n",
      "localhost: starting datanode, logging to /usr/local/Cellar/hadoop/2.7.1/libexec/logs/hadoop-dunmireg-datanode-Glenns-Air.home.out\n",
      "Starting secondary namenodes [0.0.0.0]\n",
      "0.0.0.0: starting secondarynamenode, logging to /usr/local/Cellar/hadoop/2.7.1/libexec/logs/hadoop-dunmireg-secondarynamenode-Glenns-Air.home.out\n",
      "16/01/25 19:11:25 WARN util.NativeCodeLoader: Unable to load native-hadoop library for your platform... using builtin-java classes where applicable\n"
     ]
    }
   ],
   "source": [
    "#Start hadoop yarn\n",
    "!/usr/local/Cellar/hadoop/2.7.1/sbin/start-yarn.sh\n",
    "!/usr/local/Cellar/hadoop/2.7.1/sbin/start-dfs.sh"
   ]
  },
  {
   "cell_type": "code",
   "execution_count": 106,
   "metadata": {
    "collapsed": false
   },
   "outputs": [
    {
     "name": "stdout",
     "output_type": "stream",
     "text": [
      "16/01/25 19:11:44 WARN util.NativeCodeLoader: Unable to load native-hadoop library for your platform... using builtin-java classes where applicable\r\n"
     ]
    }
   ],
   "source": [
    "#add input to hdfs\n",
    "!hdfs dfs -put wordCount /user/dunmireg"
   ]
  },
  {
   "cell_type": "code",
   "execution_count": 107,
   "metadata": {
    "collapsed": false
   },
   "outputs": [
    {
     "name": "stdout",
     "output_type": "stream",
     "text": [
      "16/01/25 19:11:47 WARN util.NativeCodeLoader: Unable to load native-hadoop library for your platform... using builtin-java classes where applicable\n",
      "16/01/25 19:11:47 INFO Configuration.deprecation: session.id is deprecated. Instead, use dfs.metrics.session-id\n",
      "16/01/25 19:11:47 INFO jvm.JvmMetrics: Initializing JVM Metrics with processName=JobTracker, sessionId=\n",
      "16/01/25 19:11:47 INFO jvm.JvmMetrics: Cannot initialize JVM Metrics with processName=JobTracker, sessionId= - already initialized\n",
      "16/01/25 19:11:47 INFO mapred.FileInputFormat: Total input paths to process : 1\n",
      "16/01/25 19:11:47 INFO mapreduce.JobSubmitter: number of splits:1\n",
      "16/01/25 19:11:48 INFO Configuration.deprecation: mapred.text.key.comparator.options is deprecated. Instead, use mapreduce.partition.keycomparator.options\n",
      "16/01/25 19:11:48 INFO Configuration.deprecation: mapred.output.key.comparator.class is deprecated. Instead, use mapreduce.job.output.key.comparator.class\n",
      "16/01/25 19:11:48 INFO mapreduce.JobSubmitter: Submitting tokens for job: job_local327801418_0001\n",
      "16/01/25 19:11:48 INFO mapreduce.Job: The url to track the job: http://localhost:8080/\n",
      "16/01/25 19:11:48 INFO mapred.LocalJobRunner: OutputCommitter set in config null\n",
      "16/01/25 19:11:48 INFO mapreduce.Job: Running job: job_local327801418_0001\n",
      "16/01/25 19:11:48 INFO mapred.LocalJobRunner: OutputCommitter is org.apache.hadoop.mapred.FileOutputCommitter\n",
      "16/01/25 19:11:48 INFO output.FileOutputCommitter: File Output Committer Algorithm version is 1\n",
      "16/01/25 19:11:48 INFO mapred.LocalJobRunner: Waiting for map tasks\n",
      "16/01/25 19:11:48 INFO mapred.LocalJobRunner: Starting task: attempt_local327801418_0001_m_000000_0\n",
      "16/01/25 19:11:48 INFO output.FileOutputCommitter: File Output Committer Algorithm version is 1\n",
      "16/01/25 19:11:48 INFO util.ProcfsBasedProcessTree: ProcfsBasedProcessTree currently is supported only on Linux.\n",
      "16/01/25 19:11:48 INFO mapred.Task:  Using ResourceCalculatorProcessTree : null\n",
      "16/01/25 19:11:48 INFO mapred.MapTask: Processing split: hdfs://localhost:9000/user/dunmireg/wordCount:0+53488\n",
      "16/01/25 19:11:48 INFO mapred.MapTask: numReduceTasks: 1\n",
      "16/01/25 19:11:48 INFO mapred.MapTask: (EQUATOR) 0 kvi 26214396(104857584)\n",
      "16/01/25 19:11:48 INFO mapred.MapTask: mapreduce.task.io.sort.mb: 100\n",
      "16/01/25 19:11:48 INFO mapred.MapTask: soft limit at 83886080\n",
      "16/01/25 19:11:48 INFO mapred.MapTask: bufstart = 0; bufvoid = 104857600\n",
      "16/01/25 19:11:48 INFO mapred.MapTask: kvstart = 26214396; length = 6553600\n",
      "16/01/25 19:11:48 INFO mapred.MapTask: Map output collector class = org.apache.hadoop.mapred.MapTask$MapOutputBuffer\n",
      "16/01/25 19:11:48 INFO streaming.PipeMapRed: PipeMapRed exec [/Users/dunmireg/Documents/261HW/HW2/./mapper.py]\n",
      "16/01/25 19:11:48 INFO Configuration.deprecation: mapred.tip.id is deprecated. Instead, use mapreduce.task.id\n",
      "16/01/25 19:11:48 INFO Configuration.deprecation: mapred.local.dir is deprecated. Instead, use mapreduce.cluster.local.dir\n",
      "16/01/25 19:11:48 INFO Configuration.deprecation: map.input.file is deprecated. Instead, use mapreduce.map.input.file\n",
      "16/01/25 19:11:48 INFO Configuration.deprecation: mapred.skip.on is deprecated. Instead, use mapreduce.job.skiprecords\n",
      "16/01/25 19:11:48 INFO Configuration.deprecation: map.input.length is deprecated. Instead, use mapreduce.map.input.length\n",
      "16/01/25 19:11:48 INFO Configuration.deprecation: mapred.work.output.dir is deprecated. Instead, use mapreduce.task.output.dir\n",
      "16/01/25 19:11:48 INFO Configuration.deprecation: map.input.start is deprecated. Instead, use mapreduce.map.input.start\n",
      "16/01/25 19:11:48 INFO Configuration.deprecation: mapred.job.id is deprecated. Instead, use mapreduce.job.id\n",
      "16/01/25 19:11:48 INFO Configuration.deprecation: user.name is deprecated. Instead, use mapreduce.job.user.name\n",
      "16/01/25 19:11:48 INFO Configuration.deprecation: mapred.task.is.map is deprecated. Instead, use mapreduce.task.ismap\n",
      "16/01/25 19:11:48 INFO Configuration.deprecation: mapred.task.id is deprecated. Instead, use mapreduce.task.attempt.id\n",
      "16/01/25 19:11:48 INFO Configuration.deprecation: mapred.task.partition is deprecated. Instead, use mapreduce.task.partition\n",
      "16/01/25 19:11:48 INFO streaming.PipeMapRed: R/W/S=1/0/0 in:NA [rec/s] out:NA [rec/s]\n",
      "16/01/25 19:11:48 INFO streaming.PipeMapRed: R/W/S=10/0/0 in:NA [rec/s] out:NA [rec/s]\n",
      "16/01/25 19:11:48 INFO streaming.PipeMapRed: R/W/S=100/0/0 in:NA [rec/s] out:NA [rec/s]\n",
      "16/01/25 19:11:48 INFO streaming.PipeMapRed: R/W/S=1000/0/0 in:NA [rec/s] out:NA [rec/s]\n",
      "16/01/25 19:11:48 INFO streaming.PipeMapRed: Records R/W=5491/1\n",
      "16/01/25 19:11:48 INFO streaming.PipeMapRed: MRErrorThread done\n",
      "16/01/25 19:11:48 INFO streaming.PipeMapRed: mapRedFinished\n",
      "16/01/25 19:11:48 INFO mapred.LocalJobRunner: \n",
      "16/01/25 19:11:48 INFO mapred.MapTask: Starting flush of map output\n",
      "16/01/25 19:11:48 INFO mapred.MapTask: Spilling map output\n",
      "16/01/25 19:11:48 INFO mapred.MapTask: bufstart = 0; bufend = 53488; bufvoid = 104857600\n",
      "16/01/25 19:11:48 INFO mapred.MapTask: kvstart = 26214396(104857584); kvend = 26192436(104769744); length = 21961/6553600\n",
      "16/01/25 19:11:48 INFO mapred.MapTask: Finished spill 0\n",
      "16/01/25 19:11:48 INFO mapred.Task: Task:attempt_local327801418_0001_m_000000_0 is done. And is in the process of committing\n",
      "16/01/25 19:11:48 INFO mapred.LocalJobRunner: Records R/W=5491/1\n",
      "16/01/25 19:11:48 INFO mapred.Task: Task 'attempt_local327801418_0001_m_000000_0' done.\n",
      "16/01/25 19:11:48 INFO mapred.LocalJobRunner: Finishing task: attempt_local327801418_0001_m_000000_0\n",
      "16/01/25 19:11:48 INFO mapred.LocalJobRunner: map task executor complete.\n",
      "16/01/25 19:11:48 INFO mapred.LocalJobRunner: Waiting for reduce tasks\n",
      "16/01/25 19:11:48 INFO mapred.LocalJobRunner: Starting task: attempt_local327801418_0001_r_000000_0\n",
      "16/01/25 19:11:48 INFO output.FileOutputCommitter: File Output Committer Algorithm version is 1\n",
      "16/01/25 19:11:48 INFO util.ProcfsBasedProcessTree: ProcfsBasedProcessTree currently is supported only on Linux.\n",
      "16/01/25 19:11:48 INFO mapred.Task:  Using ResourceCalculatorProcessTree : null\n",
      "16/01/25 19:11:48 INFO mapred.ReduceTask: Using ShuffleConsumerPlugin: org.apache.hadoop.mapreduce.task.reduce.Shuffle@68c5d7a0\n",
      "16/01/25 19:11:48 INFO reduce.MergeManagerImpl: MergerManager: memoryLimit=334338464, maxSingleShuffleLimit=83584616, mergeThreshold=220663392, ioSortFactor=10, memToMemMergeOutputsThreshold=10\n",
      "16/01/25 19:11:48 INFO reduce.EventFetcher: attempt_local327801418_0001_r_000000_0 Thread started: EventFetcher for fetching Map Completion Events\n",
      "16/01/25 19:11:48 INFO reduce.LocalFetcher: localfetcher#1 about to shuffle output of map attempt_local327801418_0001_m_000000_0 decomp: 64472 len: 64476 to MEMORY\n",
      "16/01/25 19:11:48 INFO reduce.InMemoryMapOutput: Read 64472 bytes from map-output for attempt_local327801418_0001_m_000000_0\n",
      "16/01/25 19:11:48 INFO reduce.MergeManagerImpl: closeInMemoryFile -> map-output of size: 64472, inMemoryMapOutputs.size() -> 1, commitMemory -> 0, usedMemory ->64472\n",
      "16/01/25 19:11:48 INFO reduce.EventFetcher: EventFetcher is interrupted.. Returning\n",
      "16/01/25 19:11:48 INFO mapred.LocalJobRunner: 1 / 1 copied.\n",
      "16/01/25 19:11:48 INFO reduce.MergeManagerImpl: finalMerge called with 1 in-memory map-outputs and 0 on-disk map-outputs\n",
      "16/01/25 19:11:48 INFO mapred.Merger: Merging 1 sorted segments\n",
      "16/01/25 19:11:48 INFO mapred.Merger: Down to the last merge-pass, with 1 segments left of total size: 64468 bytes\n",
      "16/01/25 19:11:48 INFO reduce.MergeManagerImpl: Merged 1 segments, 64472 bytes to disk to satisfy reduce memory limit\n",
      "16/01/25 19:11:48 INFO reduce.MergeManagerImpl: Merging 1 files, 64476 bytes from disk\n",
      "16/01/25 19:11:48 INFO reduce.MergeManagerImpl: Merging 0 segments, 0 bytes from memory into reduce\n",
      "16/01/25 19:11:48 INFO mapred.Merger: Merging 1 sorted segments\n",
      "16/01/25 19:11:48 INFO mapred.Merger: Down to the last merge-pass, with 1 segments left of total size: 64468 bytes\n",
      "16/01/25 19:11:48 INFO mapred.LocalJobRunner: 1 / 1 copied.\n",
      "16/01/25 19:11:48 INFO streaming.PipeMapRed: PipeMapRed exec [/Users/dunmireg/Documents/261HW/HW2/./reducer.py]\n",
      "16/01/25 19:11:48 INFO Configuration.deprecation: mapred.job.tracker is deprecated. Instead, use mapreduce.jobtracker.address\n",
      "16/01/25 19:11:48 INFO Configuration.deprecation: mapred.map.tasks is deprecated. Instead, use mapreduce.job.maps\n",
      "16/01/25 19:11:48 INFO streaming.PipeMapRed: R/W/S=1/0/0 in:NA [rec/s] out:NA [rec/s]\n",
      "16/01/25 19:11:48 INFO streaming.PipeMapRed: R/W/S=10/0/0 in:NA [rec/s] out:NA [rec/s]\n",
      "16/01/25 19:11:48 INFO streaming.PipeMapRed: R/W/S=100/0/0 in:NA [rec/s] out:NA [rec/s]\n",
      "16/01/25 19:11:48 INFO streaming.PipeMapRed: R/W/S=1000/0/0 in:NA [rec/s] out:NA [rec/s]\n",
      "16/01/25 19:11:48 INFO streaming.PipeMapRed: Records R/W=5491/1\n",
      "16/01/25 19:11:48 INFO streaming.PipeMapRed: MRErrorThread done\n",
      "16/01/25 19:11:48 INFO streaming.PipeMapRed: mapRedFinished\n",
      "16/01/25 19:11:49 INFO mapred.Task: Task:attempt_local327801418_0001_r_000000_0 is done. And is in the process of committing\n",
      "16/01/25 19:11:49 INFO mapred.LocalJobRunner: 1 / 1 copied.\n",
      "16/01/25 19:11:49 INFO mapred.Task: Task attempt_local327801418_0001_r_000000_0 is allowed to commit now\n",
      "16/01/25 19:11:49 INFO output.FileOutputCommitter: Saved output of task 'attempt_local327801418_0001_r_000000_0' to hdfs://localhost:9000/user/dunmireg/sortedWordCount/_temporary/0/task_local327801418_0001_r_000000\n",
      "16/01/25 19:11:49 INFO mapred.LocalJobRunner: Records R/W=5491/1 > reduce\n",
      "16/01/25 19:11:49 INFO mapred.Task: Task 'attempt_local327801418_0001_r_000000_0' done.\n",
      "16/01/25 19:11:49 INFO mapred.LocalJobRunner: Finishing task: attempt_local327801418_0001_r_000000_0\n",
      "16/01/25 19:11:49 INFO mapred.LocalJobRunner: reduce task executor complete.\n",
      "16/01/25 19:11:49 INFO mapreduce.Job: Job job_local327801418_0001 running in uber mode : false\n",
      "16/01/25 19:11:49 INFO mapreduce.Job:  map 100% reduce 100%\n",
      "16/01/25 19:11:49 INFO mapreduce.Job: Job job_local327801418_0001 completed successfully\n",
      "16/01/25 19:11:49 INFO mapreduce.Job: Counters: 35\n",
      "\tFile System Counters\n",
      "\t\tFILE: Number of bytes read=341050\n",
      "\t\tFILE: Number of bytes written=994302\n",
      "\t\tFILE: Number of read operations=0\n",
      "\t\tFILE: Number of large read operations=0\n",
      "\t\tFILE: Number of write operations=0\n",
      "\t\tHDFS: Number of bytes read=106976\n",
      "\t\tHDFS: Number of bytes written=53488\n",
      "\t\tHDFS: Number of read operations=13\n",
      "\t\tHDFS: Number of large read operations=0\n",
      "\t\tHDFS: Number of write operations=4\n",
      "\tMap-Reduce Framework\n",
      "\t\tMap input records=5491\n",
      "\t\tMap output records=5491\n",
      "\t\tMap output bytes=53488\n",
      "\t\tMap output materialized bytes=64476\n",
      "\t\tInput split bytes=97\n",
      "\t\tCombine input records=0\n",
      "\t\tCombine output records=0\n",
      "\t\tReduce input groups=107\n",
      "\t\tReduce shuffle bytes=64476\n",
      "\t\tReduce input records=5491\n",
      "\t\tReduce output records=5491\n",
      "\t\tSpilled Records=10982\n",
      "\t\tShuffled Maps =1\n",
      "\t\tFailed Shuffles=0\n",
      "\t\tMerged Map outputs=1\n",
      "\t\tGC time elapsed (ms)=6\n",
      "\t\tTotal committed heap usage (bytes)=542113792\n",
      "\tShuffle Errors\n",
      "\t\tBAD_ID=0\n",
      "\t\tCONNECTION=0\n",
      "\t\tIO_ERROR=0\n",
      "\t\tWRONG_LENGTH=0\n",
      "\t\tWRONG_MAP=0\n",
      "\t\tWRONG_REDUCE=0\n",
      "\tFile Input Format Counters \n",
      "\t\tBytes Read=53488\n",
      "\tFile Output Format Counters \n",
      "\t\tBytes Written=53488\n",
      "16/01/25 19:11:49 INFO streaming.StreamJob: Output directory: sortedWordCount\n"
     ]
    }
   ],
   "source": [
    "!hadoop jar /usr/local/Cellar/hadoop/2.7.1/libexec/share/hadoop/tools/lib/hadoop-streaming-2.7.1.jar \\\n",
    "-D mapred.output.key.comparator.class=org.apache.hadoop.mapred.lib.KeyFieldBasedComparator \\\n",
    "-D  mapred.text.key.comparator.options=-n \\\n",
    "-mapper mapper.py \\\n",
    "-reducer reducer.py \\\n",
    "-input wordCount \\\n",
    "-output sortedWordCount"
   ]
  },
  {
   "cell_type": "code",
   "execution_count": 81,
   "metadata": {
    "collapsed": false
   },
   "outputs": [],
   "source": [
    "#show results\n",
    "#!hdfs dfs -cat /user/dunmireg/sortedWordCount/part-00000"
   ]
  },
  {
   "cell_type": "code",
   "execution_count": 108,
   "metadata": {
    "collapsed": false
   },
   "outputs": [
    {
     "name": "stdout",
     "output_type": "stream",
     "text": [
      "16/01/25 19:11:57 WARN util.NativeCodeLoader: Unable to load native-hadoop library for your platform... using builtin-java classes where applicable\n",
      "16/01/25 19:11:57 WARN hdfs.DFSClient: DFSInputStream has been closed already\n",
      "16/01/25 19:11:57 WARN hdfs.DFSClient: DFSInputStream has been closed already\n"
     ]
    }
   ],
   "source": [
    "#move output to local directory\n",
    "!hadoop fs -copyToLocal /user/dunmireg/sortedWordCount"
   ]
  },
  {
   "cell_type": "code",
   "execution_count": 109,
   "metadata": {
    "collapsed": false
   },
   "outputs": [
    {
     "name": "stdout",
     "output_type": "stream",
     "text": [
      "rmr: DEPRECATED: Please use 'rm -r' instead.\n",
      "16/01/25 19:11:59 WARN util.NativeCodeLoader: Unable to load native-hadoop library for your platform... using builtin-java classes where applicable\n",
      "16/01/25 19:12:00 INFO fs.TrashPolicyDefault: Namenode trash configuration: Deletion interval = 0 minutes, Emptier interval = 0 minutes.\n",
      "Deleted /user/dunmireg/wordCount\n",
      "rmr: DEPRECATED: Please use 'rm -r' instead.\n",
      "16/01/25 19:12:01 WARN util.NativeCodeLoader: Unable to load native-hadoop library for your platform... using builtin-java classes where applicable\n",
      "16/01/25 19:12:01 INFO fs.TrashPolicyDefault: Namenode trash configuration: Deletion interval = 0 minutes, Emptier interval = 0 minutes.\n",
      "Deleted /user/dunmireg/sortedWordCount\n",
      "stopping yarn daemons\n",
      "stopping resourcemanager\n",
      "localhost: stopping nodemanager\n",
      "no proxyserver to stop\n",
      "16/01/25 19:12:13 WARN util.NativeCodeLoader: Unable to load native-hadoop library for your platform... using builtin-java classes where applicable\n",
      "Stopping namenodes on [localhost]\n",
      "localhost: stopping namenode\n",
      "localhost: stopping datanode\n",
      "Stopping secondary namenodes [0.0.0.0]\n",
      "0.0.0.0: stopping secondarynamenode\n",
      "16/01/25 19:12:31 WARN util.NativeCodeLoader: Unable to load native-hadoop library for your platform... using builtin-java classes where applicable\n"
     ]
    }
   ],
   "source": [
    "#Remove output directory and stop yarn and hdfs\n",
    "!hadoop fs -rmr /user/dunmireg/wordCount\n",
    "!hadoop fs -rmr /user/dunmireg/sortedWordCount\n",
    "!/usr/local/Cellar/hadoop/2.7.1/sbin/stop-yarn.sh\n",
    "!/usr/local/Cellar/hadoop/2.7.1/sbin/stop-dfs.sh"
   ]
  },
  {
   "cell_type": "code",
   "execution_count": 111,
   "metadata": {
    "collapsed": false
   },
   "outputs": [
    {
     "name": "stdout",
     "output_type": "stream",
     "text": [
      "for\t373\n",
      "\n",
      "ect\t382\n",
      "\n",
      "your\t394\n",
      "\n",
      "in\t417\n",
      "\n",
      "you\t432\n",
      "\n",
      "a\t542\n",
      "\n",
      "of\t566\n",
      "\n",
      "and\t668\n",
      "\n",
      "to\t963\n",
      "\n",
      "the\t1247\n",
      "\n"
     ]
    }
   ],
   "source": [
    "#Display outputs from results file\n",
    "import os\n",
    "\n",
    "with open(os.path.join('./sortedWordCount', 'part-00000'), 'r') as myfile:\n",
    "    lines = myfile.readlines() #read file\n",
    "    lines = lines[-10:] #get last 10 lines\n",
    "    for line in lines:\n",
    "        print line #print results"
   ]
  },
  {
   "cell_type": "markdown",
   "metadata": {},
   "source": [
    "Above you can see the top 10 most frequently occurring words. This would make sense, most of these words are extremely common. "
   ]
  },
  {
   "cell_type": "markdown",
   "metadata": {
    "collapsed": true
   },
   "source": [
    "### HW2.3. Multinomial NAIVE BAYES with NO Smoothing\n",
    "Using the Enron data from HW1 and Hadoop MapReduce, write  a mapper/reducer job(s) that\n",
    "   will both learn  Naive Bayes classifier and classify the Enron email messages using the learnt Naive Bayes classifier. Use all white-space delimitted tokens as independent input variables (assume spaces, fullstops, commas as delimiters). Note: for multinomial Naive Bayes, the Pr(X=“assistance”|Y=SPAM) is calculated as follows:\n",
    "\n",
    "   the number of times “assistance” occurs in SPAM labeled documents / the number of words in documents labeled SPAM \n",
    "\n",
    "   E.g.,   “assistance” occurs 5 times in all of the documents Labeled SPAM, and the length in terms of the number of words in all documents labeled as SPAM (when concatenated) is 1,000. Then Pr(X=“assistance”|Y=SPAM) = 5/1000. Note this is a multinomial estimation of the class conditional for a Naive Bayes Classifier. No smoothing is needed in this HW. Multiplying lots of probabilities, which are between 0 and 1, can result in floating-point underflow. Since log(xy) = log(x) + log(y), it is better to perform all computations by summing logs of probabilities rather than multiplying probabilities. Please pay attention to probabilites that are zero! They will need special attention. Count up how many times you need to process a zero probabilty for each class and report. \n",
    "\n",
    "   Report the performance of your learnt classifier in terms of misclassifcation error rate of your multinomial Naive Bayes Classifier. Plot a histogram of the posterior probabilities (i.e., Pr(Class|Doc)) for each class over the training set. Summarize what you see. \n",
    "\n",
    "   Error Rate = misclassification rate with respect to a provided set (say training set in this case). It is more formally defined here:\n",
    "\n",
    "Let DF represent the evalution set in the following:\n",
    "Err(Model, DF) = |{(X, c(X)) ∈ DF : c(X) != Model(x)}|   / |DF|\n",
    "\n",
    "Where || denotes set cardinality; c(X) denotes the class of the tuple X in DF; and Model(X) denotes the class inferred by the Model “Model”\n"
   ]
  },
  {
   "cell_type": "code",
   "execution_count": 1,
   "metadata": {
    "collapsed": false
   },
   "outputs": [
    {
     "name": "stdout",
     "output_type": "stream",
     "text": [
      "Overwriting mapper.py\n"
     ]
    }
   ],
   "source": [
    "%%writefile mapper.py\n",
    "#!/usr/bin/python\n",
    "\n",
    "import sys\n",
    "import re\n",
    "WORD_RE = re.compile(r\"[\\w']+\") #regex for string matching\n",
    "\n",
    "for line in sys.stdin: #for each line\n",
    "    line = line.strip()\n",
    "    line = line.rstrip()\n",
    "    components = line.split('\\t')\n",
    "    text = \" \".join(components[-2:]).strip() #get text of subject and content\n",
    "    words = re.findall(WORD_RE, text) #match all words\n",
    "    for word in words:\n",
    "        print components[0] + '\\t' + word + '\\t' + components[1] #print email ID + word + spam flag"
   ]
  },
  {
   "cell_type": "code",
   "execution_count": 2,
   "metadata": {
    "collapsed": true
   },
   "outputs": [],
   "source": [
    "!chmod a+x mapper.py"
   ]
  },
  {
   "cell_type": "code",
   "execution_count": 2,
   "metadata": {
    "collapsed": false
   },
   "outputs": [
    {
     "name": "stdout",
     "output_type": "stream",
     "text": [
      "Overwriting reducer.py\n"
     ]
    }
   ],
   "source": [
    "%%writefile reducer.py\n",
    "#!/usr/bin/python\n",
    "import sys\n",
    "\n",
    "emails = set() #hold email IDs\n",
    "words = {} #hold words and associated counts\n",
    "spam_emails = 0 #how many emails are marked as spam\n",
    "spam_word_count = 0 #how many words appear in spam\n",
    "ham_word_count = 0 #how many words appear in ham\n",
    "\n",
    "for line in sys.stdin:\n",
    "    line = line.strip()\n",
    "    line = line.rstrip()\n",
    "    components = line.split('\\t') #split input\n",
    "    \n",
    "    ID = components[0] #put input variables into fields to make easier\n",
    "    word = components[1]\n",
    "    spam = int(components[2])\n",
    "    \n",
    "    if word not in words.keys(): #if a word is not in the words dictionary, add it and initialize counts to 0\n",
    "        words[word] = {'spam_count': 0, 'ham_count': 0}\n",
    "    if ID not in emails: #add email to set to store unique IDs\n",
    "        emails.add(ID) \n",
    "        if spam == 1: #increment spam counter\n",
    "            spam_emails += 1\n",
    "        \n",
    "\n",
    "    if spam == 1: #if the flag if spam, increment the word spam_count value by 1, else do the same for ham\n",
    "        words[word]['spam_count'] += 1\n",
    "        spam_word_count += 1\n",
    "    else:\n",
    "        words[word]['ham_count'] += 1\n",
    "        ham_word_count += 1\n",
    "\n",
    "\n",
    "prior_spam = float(spam_emails)/len(emails) #get prior probabilities\n",
    "prior_ham = 1-prior_spam\n",
    "\n",
    "for i, word in words.iteritems(): #calculate conditional probabilities: number of times word appears in class/number of words in class\n",
    "    word['spam_like'] = float(word['spam_count'])/(spam_word_count)\n",
    "    word['ham_like'] = float(word['ham_count'])/(ham_word_count)\n",
    "    \n",
    "\n",
    "print prior_spam #print priors\n",
    "print prior_ham\n",
    "for word in words.keys():\n",
    "    #Word \"\\t\" spam likelihood '\\t' ham likelihood written to file\n",
    "    print word + '\\t' + str(words[word]['spam_like']) + '\\t' + str(words[word]['ham_like']) #print each word along with spam and ham conditional probabilities"
   ]
  },
  {
   "cell_type": "code",
   "execution_count": 4,
   "metadata": {
    "collapsed": true
   },
   "outputs": [],
   "source": [
    "!chmod a+x reducer.py"
   ]
  },
  {
   "cell_type": "code",
   "execution_count": 60,
   "metadata": {
    "collapsed": false
   },
   "outputs": [],
   "source": [
    "#Examine output\n",
    "#!cat enronemail_1h.txt | python mapper.py | python reducer.py"
   ]
  },
  {
   "cell_type": "code",
   "execution_count": 3,
   "metadata": {
    "collapsed": false
   },
   "outputs": [
    {
     "name": "stdout",
     "output_type": "stream",
     "text": [
      "starting yarn daemons\n",
      "starting resourcemanager, logging to /usr/local/Cellar/hadoop/2.7.1/libexec/logs/yarn-dunmireg-resourcemanager-Glenns-Air.home.out\n",
      "localhost: starting nodemanager, logging to /usr/local/Cellar/hadoop/2.7.1/libexec/logs/yarn-dunmireg-nodemanager-Glenns-Air.home.out\n",
      "16/01/25 21:16:06 WARN util.NativeCodeLoader: Unable to load native-hadoop library for your platform... using builtin-java classes where applicable\n",
      "Starting namenodes on [localhost]\n",
      "localhost: starting namenode, logging to /usr/local/Cellar/hadoop/2.7.1/libexec/logs/hadoop-dunmireg-namenode-Glenns-Air.home.out\n",
      "localhost: starting datanode, logging to /usr/local/Cellar/hadoop/2.7.1/libexec/logs/hadoop-dunmireg-datanode-Glenns-Air.home.out\n",
      "Starting secondary namenodes [0.0.0.0]\n",
      "0.0.0.0: starting secondarynamenode, logging to /usr/local/Cellar/hadoop/2.7.1/libexec/logs/hadoop-dunmireg-secondarynamenode-Glenns-Air.home.out\n",
      "16/01/25 21:16:22 WARN util.NativeCodeLoader: Unable to load native-hadoop library for your platform... using builtin-java classes where applicable\n"
     ]
    }
   ],
   "source": [
    "#Start hadoop yarn\n",
    "!/usr/local/Cellar/hadoop/2.7.1/sbin/start-yarn.sh\n",
    "!/usr/local/Cellar/hadoop/2.7.1/sbin/start-dfs.sh"
   ]
  },
  {
   "cell_type": "code",
   "execution_count": 6,
   "metadata": {
    "collapsed": false
   },
   "outputs": [
    {
     "name": "stdout",
     "output_type": "stream",
     "text": [
      "16/01/25 00:14:43 WARN util.NativeCodeLoader: Unable to load native-hadoop library for your platform... using builtin-java classes where applicable\r\n"
     ]
    }
   ],
   "source": [
    "#make directory\n",
    "#!hdfs dfs -mkdir -p /user/dunmireg"
   ]
  },
  {
   "cell_type": "code",
   "execution_count": 4,
   "metadata": {
    "collapsed": false
   },
   "outputs": [
    {
     "name": "stdout",
     "output_type": "stream",
     "text": [
      "16/01/25 21:16:28 WARN util.NativeCodeLoader: Unable to load native-hadoop library for your platform... using builtin-java classes where applicable\r\n"
     ]
    }
   ],
   "source": [
    "#add input to hdfs\n",
    "!hdfs dfs -put enronemail_1h.txt /user/dunmireg"
   ]
  },
  {
   "cell_type": "code",
   "execution_count": 5,
   "metadata": {
    "collapsed": false
   },
   "outputs": [
    {
     "name": "stdout",
     "output_type": "stream",
     "text": [
      "16/01/25 21:16:31 WARN util.NativeCodeLoader: Unable to load native-hadoop library for your platform... using builtin-java classes where applicable\n",
      "16/01/25 21:16:32 INFO Configuration.deprecation: session.id is deprecated. Instead, use dfs.metrics.session-id\n",
      "16/01/25 21:16:32 INFO jvm.JvmMetrics: Initializing JVM Metrics with processName=JobTracker, sessionId=\n",
      "16/01/25 21:16:32 INFO jvm.JvmMetrics: Cannot initialize JVM Metrics with processName=JobTracker, sessionId= - already initialized\n",
      "16/01/25 21:16:32 INFO mapred.FileInputFormat: Total input paths to process : 1\n",
      "16/01/25 21:16:32 INFO mapreduce.JobSubmitter: number of splits:1\n",
      "16/01/25 21:16:32 INFO mapreduce.JobSubmitter: Submitting tokens for job: job_local1443500456_0001\n",
      "16/01/25 21:16:32 INFO mapreduce.Job: The url to track the job: http://localhost:8080/\n",
      "16/01/25 21:16:32 INFO mapred.LocalJobRunner: OutputCommitter set in config null\n",
      "16/01/25 21:16:32 INFO mapred.LocalJobRunner: OutputCommitter is org.apache.hadoop.mapred.FileOutputCommitter\n",
      "16/01/25 21:16:32 INFO output.FileOutputCommitter: File Output Committer Algorithm version is 1\n",
      "16/01/25 21:16:32 INFO mapreduce.Job: Running job: job_local1443500456_0001\n",
      "16/01/25 21:16:32 INFO mapred.LocalJobRunner: Waiting for map tasks\n",
      "16/01/25 21:16:32 INFO mapred.LocalJobRunner: Starting task: attempt_local1443500456_0001_m_000000_0\n",
      "16/01/25 21:16:33 INFO output.FileOutputCommitter: File Output Committer Algorithm version is 1\n",
      "16/01/25 21:16:33 INFO util.ProcfsBasedProcessTree: ProcfsBasedProcessTree currently is supported only on Linux.\n",
      "16/01/25 21:16:33 INFO mapred.Task:  Using ResourceCalculatorProcessTree : null\n",
      "16/01/25 21:16:33 INFO mapred.MapTask: Processing split: hdfs://localhost:9000/user/dunmireg/enronemail_1h.txt:0+204658\n",
      "16/01/25 21:16:33 INFO mapred.MapTask: numReduceTasks: 1\n",
      "16/01/25 21:16:33 INFO mapred.MapTask: (EQUATOR) 0 kvi 26214396(104857584)\n",
      "16/01/25 21:16:33 INFO mapred.MapTask: mapreduce.task.io.sort.mb: 100\n",
      "16/01/25 21:16:33 INFO mapred.MapTask: soft limit at 83886080\n",
      "16/01/25 21:16:33 INFO mapred.MapTask: bufstart = 0; bufvoid = 104857600\n",
      "16/01/25 21:16:33 INFO mapred.MapTask: kvstart = 26214396; length = 6553600\n",
      "16/01/25 21:16:33 INFO mapred.MapTask: Map output collector class = org.apache.hadoop.mapred.MapTask$MapOutputBuffer\n",
      "16/01/25 21:16:33 INFO streaming.PipeMapRed: PipeMapRed exec [/Users/dunmireg/Documents/261HW/HW2/./mapper.py]\n",
      "16/01/25 21:16:33 INFO Configuration.deprecation: mapred.tip.id is deprecated. Instead, use mapreduce.task.id\n",
      "16/01/25 21:16:33 INFO Configuration.deprecation: mapred.local.dir is deprecated. Instead, use mapreduce.cluster.local.dir\n",
      "16/01/25 21:16:33 INFO Configuration.deprecation: map.input.file is deprecated. Instead, use mapreduce.map.input.file\n",
      "16/01/25 21:16:33 INFO Configuration.deprecation: mapred.skip.on is deprecated. Instead, use mapreduce.job.skiprecords\n",
      "16/01/25 21:16:33 INFO Configuration.deprecation: map.input.length is deprecated. Instead, use mapreduce.map.input.length\n",
      "16/01/25 21:16:33 INFO Configuration.deprecation: mapred.work.output.dir is deprecated. Instead, use mapreduce.task.output.dir\n",
      "16/01/25 21:16:33 INFO Configuration.deprecation: map.input.start is deprecated. Instead, use mapreduce.map.input.start\n",
      "16/01/25 21:16:33 INFO Configuration.deprecation: mapred.job.id is deprecated. Instead, use mapreduce.job.id\n",
      "16/01/25 21:16:33 INFO Configuration.deprecation: user.name is deprecated. Instead, use mapreduce.job.user.name\n",
      "16/01/25 21:16:33 INFO Configuration.deprecation: mapred.task.is.map is deprecated. Instead, use mapreduce.task.ismap\n",
      "16/01/25 21:16:33 INFO Configuration.deprecation: mapred.task.id is deprecated. Instead, use mapreduce.task.attempt.id\n",
      "16/01/25 21:16:33 INFO Configuration.deprecation: mapred.task.partition is deprecated. Instead, use mapreduce.task.partition\n",
      "16/01/25 21:16:33 INFO streaming.PipeMapRed: R/W/S=1/0/0 in:NA [rec/s] out:NA [rec/s]\n",
      "16/01/25 21:16:33 INFO streaming.PipeMapRed: R/W/S=10/0/0 in:NA [rec/s] out:NA [rec/s]\n",
      "16/01/25 21:16:33 INFO streaming.PipeMapRed: Records R/W=72/1\n",
      "16/01/25 21:16:33 INFO streaming.PipeMapRed: R/W/S=100/19097/0 in:NA [rec/s] out:NA [rec/s]\n",
      "16/01/25 21:16:33 INFO streaming.PipeMapRed: MRErrorThread done\n",
      "16/01/25 21:16:33 INFO streaming.PipeMapRed: mapRedFinished\n",
      "16/01/25 21:16:33 INFO mapred.LocalJobRunner: \n",
      "16/01/25 21:16:33 INFO mapred.MapTask: Starting flush of map output\n",
      "16/01/25 21:16:33 INFO mapred.MapTask: Spilling map output\n",
      "16/01/25 21:16:33 INFO mapred.MapTask: bufstart = 0; bufend = 1032108; bufvoid = 104857600\n",
      "16/01/25 21:16:33 INFO mapred.MapTask: kvstart = 26214396(104857584); kvend = 26082748(104330992); length = 131649/6553600\n",
      "16/01/25 21:16:33 INFO mapred.MapTask: Finished spill 0\n",
      "16/01/25 21:16:33 INFO mapred.Task: Task:attempt_local1443500456_0001_m_000000_0 is done. And is in the process of committing\n",
      "16/01/25 21:16:33 INFO mapred.LocalJobRunner: Records R/W=72/1\n",
      "16/01/25 21:16:33 INFO mapred.Task: Task 'attempt_local1443500456_0001_m_000000_0' done.\n",
      "16/01/25 21:16:33 INFO mapred.LocalJobRunner: Finishing task: attempt_local1443500456_0001_m_000000_0\n",
      "16/01/25 21:16:33 INFO mapred.LocalJobRunner: map task executor complete.\n",
      "16/01/25 21:16:33 INFO mapred.LocalJobRunner: Waiting for reduce tasks\n",
      "16/01/25 21:16:33 INFO mapred.LocalJobRunner: Starting task: attempt_local1443500456_0001_r_000000_0\n",
      "16/01/25 21:16:33 INFO output.FileOutputCommitter: File Output Committer Algorithm version is 1\n",
      "16/01/25 21:16:33 INFO util.ProcfsBasedProcessTree: ProcfsBasedProcessTree currently is supported only on Linux.\n",
      "16/01/25 21:16:33 INFO mapred.Task:  Using ResourceCalculatorProcessTree : null\n",
      "16/01/25 21:16:33 INFO mapred.ReduceTask: Using ShuffleConsumerPlugin: org.apache.hadoop.mapreduce.task.reduce.Shuffle@d7d5f7\n",
      "16/01/25 21:16:33 INFO reduce.MergeManagerImpl: MergerManager: memoryLimit=334338464, maxSingleShuffleLimit=83584616, mergeThreshold=220663392, ioSortFactor=10, memToMemMergeOutputsThreshold=10\n",
      "16/01/25 21:16:33 INFO reduce.EventFetcher: attempt_local1443500456_0001_r_000000_0 Thread started: EventFetcher for fetching Map Completion Events\n",
      "16/01/25 21:16:33 INFO reduce.LocalFetcher: localfetcher#1 about to shuffle output of map attempt_local1443500456_0001_m_000000_0 decomp: 1097936 len: 1097940 to MEMORY\n",
      "16/01/25 21:16:33 INFO reduce.InMemoryMapOutput: Read 1097936 bytes from map-output for attempt_local1443500456_0001_m_000000_0\n",
      "16/01/25 21:16:33 INFO reduce.MergeManagerImpl: closeInMemoryFile -> map-output of size: 1097936, inMemoryMapOutputs.size() -> 1, commitMemory -> 0, usedMemory ->1097936\n",
      "16/01/25 21:16:33 INFO reduce.EventFetcher: EventFetcher is interrupted.. Returning\n",
      "16/01/25 21:16:33 INFO mapred.LocalJobRunner: 1 / 1 copied.\n",
      "16/01/25 21:16:33 INFO reduce.MergeManagerImpl: finalMerge called with 1 in-memory map-outputs and 0 on-disk map-outputs\n",
      "16/01/25 21:16:33 INFO mapred.Merger: Merging 1 sorted segments\n",
      "16/01/25 21:16:33 INFO mapred.Merger: Down to the last merge-pass, with 1 segments left of total size: 1097911 bytes\n",
      "16/01/25 21:16:33 INFO reduce.MergeManagerImpl: Merged 1 segments, 1097936 bytes to disk to satisfy reduce memory limit\n",
      "16/01/25 21:16:33 INFO reduce.MergeManagerImpl: Merging 1 files, 1097940 bytes from disk\n",
      "16/01/25 21:16:33 INFO reduce.MergeManagerImpl: Merging 0 segments, 0 bytes from memory into reduce\n",
      "16/01/25 21:16:33 INFO mapred.Merger: Merging 1 sorted segments\n",
      "16/01/25 21:16:33 INFO mapred.Merger: Down to the last merge-pass, with 1 segments left of total size: 1097911 bytes\n",
      "16/01/25 21:16:33 INFO mapred.LocalJobRunner: 1 / 1 copied.\n",
      "16/01/25 21:16:33 INFO streaming.PipeMapRed: PipeMapRed exec [/Users/dunmireg/Documents/261HW/HW2/./reducer.py]\n",
      "16/01/25 21:16:33 INFO Configuration.deprecation: mapred.job.tracker is deprecated. Instead, use mapreduce.jobtracker.address\n",
      "16/01/25 21:16:33 INFO Configuration.deprecation: mapred.map.tasks is deprecated. Instead, use mapreduce.job.maps\n",
      "16/01/25 21:16:33 INFO streaming.PipeMapRed: R/W/S=1/0/0 in:NA [rec/s] out:NA [rec/s]\n",
      "16/01/25 21:16:33 INFO streaming.PipeMapRed: R/W/S=10/0/0 in:NA [rec/s] out:NA [rec/s]\n",
      "16/01/25 21:16:33 INFO streaming.PipeMapRed: R/W/S=100/0/0 in:NA [rec/s] out:NA [rec/s]\n",
      "16/01/25 21:16:33 INFO streaming.PipeMapRed: R/W/S=1000/0/0 in:NA [rec/s] out:NA [rec/s]\n",
      "16/01/25 21:16:33 INFO mapreduce.Job: Job job_local1443500456_0001 running in uber mode : false\n",
      "16/01/25 21:16:33 INFO mapreduce.Job:  map 100% reduce 0%\n",
      "16/01/25 21:16:34 INFO streaming.PipeMapRed: R/W/S=10000/0/0 in:NA [rec/s] out:NA [rec/s]\n",
      "16/01/25 21:16:36 INFO streaming.PipeMapRed: Records R/W=32913/1\n",
      "16/01/25 21:16:36 INFO streaming.PipeMapRed: MRErrorThread done\n",
      "16/01/25 21:16:36 INFO streaming.PipeMapRed: mapRedFinished\n",
      "16/01/25 21:16:36 INFO mapred.Task: Task:attempt_local1443500456_0001_r_000000_0 is done. And is in the process of committing\n",
      "16/01/25 21:16:36 INFO mapred.LocalJobRunner: 1 / 1 copied.\n",
      "16/01/25 21:16:36 INFO mapred.Task: Task attempt_local1443500456_0001_r_000000_0 is allowed to commit now\n",
      "16/01/25 21:16:36 INFO output.FileOutputCommitter: Saved output of task 'attempt_local1443500456_0001_r_000000_0' to hdfs://localhost:9000/user/dunmireg/enroneEmailCondProbs/_temporary/0/task_local1443500456_0001_r_000000\n",
      "16/01/25 21:16:36 INFO mapred.LocalJobRunner: Records R/W=32913/1 > reduce\n",
      "16/01/25 21:16:36 INFO mapred.Task: Task 'attempt_local1443500456_0001_r_000000_0' done.\n",
      "16/01/25 21:16:36 INFO mapred.LocalJobRunner: Finishing task: attempt_local1443500456_0001_r_000000_0\n",
      "16/01/25 21:16:36 INFO mapred.LocalJobRunner: reduce task executor complete.\n",
      "16/01/25 21:16:36 INFO mapreduce.Job:  map 100% reduce 100%\n",
      "16/01/25 21:16:36 INFO mapreduce.Job: Job job_local1443500456_0001 completed successfully\n",
      "16/01/25 21:16:36 INFO mapreduce.Job: Counters: 35\n",
      "\tFile System Counters\n",
      "\t\tFILE: Number of bytes read=2407996\n",
      "\t\tFILE: Number of bytes written=4095648\n",
      "\t\tFILE: Number of read operations=0\n",
      "\t\tFILE: Number of large read operations=0\n",
      "\t\tFILE: Number of write operations=0\n",
      "\t\tHDFS: Number of bytes read=409316\n",
      "\t\tHDFS: Number of bytes written=172513\n",
      "\t\tHDFS: Number of read operations=13\n",
      "\t\tHDFS: Number of large read operations=0\n",
      "\t\tHDFS: Number of write operations=4\n",
      "\tMap-Reduce Framework\n",
      "\t\tMap input records=100\n",
      "\t\tMap output records=32913\n",
      "\t\tMap output bytes=1032108\n",
      "\t\tMap output materialized bytes=1097940\n",
      "\t\tInput split bytes=105\n",
      "\t\tCombine input records=0\n",
      "\t\tCombine output records=0\n",
      "\t\tReduce input groups=100\n",
      "\t\tReduce shuffle bytes=1097940\n",
      "\t\tReduce input records=32913\n",
      "\t\tReduce output records=5493\n",
      "\t\tSpilled Records=65826\n",
      "\t\tShuffled Maps =1\n",
      "\t\tFailed Shuffles=0\n",
      "\t\tMerged Map outputs=1\n",
      "\t\tGC time elapsed (ms)=5\n",
      "\t\tTotal committed heap usage (bytes)=509607936\n",
      "\tShuffle Errors\n",
      "\t\tBAD_ID=0\n",
      "\t\tCONNECTION=0\n",
      "\t\tIO_ERROR=0\n",
      "\t\tWRONG_LENGTH=0\n",
      "\t\tWRONG_MAP=0\n",
      "\t\tWRONG_REDUCE=0\n",
      "\tFile Input Format Counters \n",
      "\t\tBytes Read=204658\n",
      "\tFile Output Format Counters \n",
      "\t\tBytes Written=172513\n",
      "16/01/25 21:16:36 INFO streaming.StreamJob: Output directory: enroneEmailCondProbs\n"
     ]
    }
   ],
   "source": [
    "!hadoop jar /usr/local/Cellar/hadoop/2.7.1/libexec/share/hadoop/tools/lib/hadoop-streaming-2.7.1.jar \\\n",
    "-mapper mapper.py \\\n",
    "-reducer reducer.py \\\n",
    "-input enronemail_1h.txt \\\n",
    "-output enroneEmailCondProbs"
   ]
  },
  {
   "cell_type": "code",
   "execution_count": 31,
   "metadata": {
    "collapsed": false
   },
   "outputs": [],
   "source": [
    "#show results\n",
    "#!hdfs dfs -cat /user/dunmireg/enroneEmailCondProbs/part-00000"
   ]
  },
  {
   "cell_type": "code",
   "execution_count": 6,
   "metadata": {
    "collapsed": false
   },
   "outputs": [
    {
     "name": "stdout",
     "output_type": "stream",
     "text": [
      "16/01/25 21:17:25 WARN util.NativeCodeLoader: Unable to load native-hadoop library for your platform... using builtin-java classes where applicable\n",
      "16/01/25 21:17:25 WARN hdfs.DFSClient: DFSInputStream has been closed already\n",
      "16/01/25 21:17:25 WARN hdfs.DFSClient: DFSInputStream has been closed already\n"
     ]
    }
   ],
   "source": [
    "#move output to local directory\n",
    "#bin/hadoop fs -copyToLocal /hdfs/source/path /localfs/destination/path\n",
    "!hadoop fs -copyToLocal /user/dunmireg/enroneEmailCondProbs"
   ]
  },
  {
   "cell_type": "code",
   "execution_count": 7,
   "metadata": {
    "collapsed": false
   },
   "outputs": [
    {
     "name": "stdout",
     "output_type": "stream",
     "text": [
      "rmr: DEPRECATED: Please use 'rm -r' instead.\n",
      "16/01/25 21:17:28 WARN util.NativeCodeLoader: Unable to load native-hadoop library for your platform... using builtin-java classes where applicable\n",
      "16/01/25 21:17:28 INFO fs.TrashPolicyDefault: Namenode trash configuration: Deletion interval = 0 minutes, Emptier interval = 0 minutes.\n",
      "Deleted /user/dunmireg/enronemail_1h.txt\n",
      "rmr: DEPRECATED: Please use 'rm -r' instead.\n",
      "16/01/25 21:17:29 WARN util.NativeCodeLoader: Unable to load native-hadoop library for your platform... using builtin-java classes where applicable\n",
      "16/01/25 21:17:30 INFO fs.TrashPolicyDefault: Namenode trash configuration: Deletion interval = 0 minutes, Emptier interval = 0 minutes.\n",
      "Deleted /user/dunmireg/enroneEmailCondProbs\n",
      "stopping yarn daemons\n",
      "stopping resourcemanager\n",
      "localhost: stopping nodemanager\n",
      "localhost: nodemanager did not stop gracefully after 5 seconds: killing with kill -9\n",
      "no proxyserver to stop\n",
      "16/01/25 21:17:42 WARN util.NativeCodeLoader: Unable to load native-hadoop library for your platform... using builtin-java classes where applicable\n",
      "Stopping namenodes on [localhost]\n",
      "localhost: stopping namenode\n",
      "localhost: stopping datanode\n",
      "Stopping secondary namenodes [0.0.0.0]\n",
      "0.0.0.0: stopping secondarynamenode\n",
      "16/01/25 21:18:00 WARN util.NativeCodeLoader: Unable to load native-hadoop library for your platform... using builtin-java classes where applicable\n"
     ]
    }
   ],
   "source": [
    "#Remove output directory and stop yarn and hdfs\n",
    "!hadoop fs -rmr /user/dunmireg/enronemail_1h.txt #check\n",
    "!hadoop fs -rmr /user/dunmireg/enroneEmailCondProbs\n",
    "!/usr/local/Cellar/hadoop/2.7.1/sbin/stop-yarn.sh\n",
    "!/usr/local/Cellar/hadoop/2.7.1/sbin/stop-dfs.sh"
   ]
  },
  {
   "cell_type": "code",
   "execution_count": 8,
   "metadata": {
    "collapsed": false
   },
   "outputs": [
    {
     "name": "stdout",
     "output_type": "stream",
     "text": [
      "Overwriting mapper.py\n"
     ]
    }
   ],
   "source": [
    "%%writefile mapper.py\n",
    "#!/usr/bin/python\n",
    "\n",
    "#The bulk of the classification work happens in the mapper. This will read in the file of conditional probabilities\n",
    "#and then compute the conditional probability of each word and performs the classification. The classification output\n",
    "#is then sent to the reducer\n",
    "import sys\n",
    "import re\n",
    "import os \n",
    "from math import log\n",
    "from math import exp\n",
    "\n",
    "priorSpam = 0 #prior probabilities from file\n",
    "priorHam = 0\n",
    "words = {} #dictionary to hold word conditional probabilities\n",
    "\n",
    "with open(os.path.join('./enroneEmailCondProbs', 'part-00000'), 'r') as myfile: #read file\n",
    "    lines = myfile.readlines()\n",
    "    priorSpam = float(lines[0]) #grab prior probabilities\n",
    "    priorHam = float(lines[1])\n",
    "    for line in lines[2:]:#parse lines for word with conditional probabilities\n",
    "        line = line.strip()\n",
    "        line = line.rstrip()\n",
    "        components = line.split('\\t')\n",
    "        words[components[0]] = {'spam_like': float(components[1]), 'ham_like': float(components[2])} #remove new line\n",
    "        \n",
    "\n",
    "WORD_RE = re.compile(r\"[\\w']+\")\n",
    "\n",
    "spamSkip = 0 #how many times did a skip occur in spam and ham\n",
    "hamSkip = 0\n",
    "\n",
    "\n",
    "#NB: I decided to add a large negative number to the probability of each class if the word did not appear\n",
    "#in that class. If I skipped over the word, the accuracy was 0%. I decided that although this resembles smoothing\n",
    "#it is still appropriate. If I were to skip a word that means that the conditional probability of a word appearing \n",
    "#in the class it did not appear in is 0, which is not true. Instead I set it to a small number. \n",
    "#Other methods have been discussed in class but I believe this is the most appropriate. \n",
    "for line in sys.stdin:\n",
    "    line = line.strip()\n",
    "    line = line.rstrip()\n",
    "    components = line.split('\\t') #split line\n",
    "    text = \" \".join(components[-2:]).strip() #combine subject and text\n",
    "    text = re.findall(WORD_RE, text)\n",
    "    \n",
    "    spamScore = log(priorSpam) #take logs\n",
    "    hamScore = log(priorHam)\n",
    "    for word in text:\n",
    "        if word in words.keys():\n",
    "            if float(words[word]['spam_like']) != 0: #this checks if a word has occurred in a class\n",
    "                spamScore += log(float(words[word]['spam_like'])) #increment probability\n",
    "            else:\n",
    "                spamScore += -300\n",
    "                spamSkip += 1 #skipped over a word in spam\n",
    "            if float(words[word]['ham_like']) != 0: #repeat procedure for ham\n",
    "                hamScore += log(float(words[word]['ham_like']))\n",
    "            else:\n",
    "                hamScore += -300\n",
    "                hamSkip += 1\n",
    "        pred = 0 #predicted class\n",
    "    if spamScore > hamScore:\n",
    "        pred = 1\n",
    "    #output is email ID (key), true flag, predicted class, posterior probabilities (exponentiated) and skip counts\n",
    "    #When I tried to print the skip counts by themselves there was an error. I do not know the cause of this error \n",
    "    #and I know it is inefficient and wrong, but this allows me to at least process it\n",
    "    print components[0] + '\\t' + components[1] + '\\t' + str(pred) + '\\t' + str(exp(spamScore)) + '\\t' + str(exp(hamScore)) + '\\t' + str(spamSkip) + '\\t' + str(hamSkip)"
   ]
  },
  {
   "cell_type": "code",
   "execution_count": 12,
   "metadata": {
    "collapsed": true
   },
   "outputs": [],
   "source": [
    "!chmod a+x mapper.py"
   ]
  },
  {
   "cell_type": "code",
   "execution_count": 9,
   "metadata": {
    "collapsed": false
   },
   "outputs": [
    {
     "name": "stdout",
     "output_type": "stream",
     "text": [
      "Overwriting reducer.py\n"
     ]
    }
   ],
   "source": [
    "%%writefile reducer.py\n",
    "#!/usr/bin/python\n",
    "import sys\n",
    "\n",
    "misclassified = 0 #number of emails misclassified\n",
    "skipSpam = 0 #number of times skip a word in spam\n",
    "skipHam = 0\n",
    "\n",
    "for line in sys.stdin:\n",
    "    line = line.strip()\n",
    "    line = line.rstrip()\n",
    "    components = line.split('\\t') #parse intput\n",
    "    if int(components[1]) != int(components[2]): #if the true classification and the predicted do not agree, increment\n",
    "            misclassified += 1\n",
    "    skipSpam = int(components[5])\n",
    "    skipHam = int(components[6])\n",
    "    print line #print results\n",
    "#print output\n",
    "print \"Misclassified: \" + str(misclassified) + \" which means this has an accuracy of \" + str(100-misclassified) + \"%\"\n",
    "print \"Skipped \" + str(skipSpam) + \" words in spam\"\n",
    "print \"Skipped \" + str(skipHam) + \" words in ham\""
   ]
  },
  {
   "cell_type": "code",
   "execution_count": 14,
   "metadata": {
    "collapsed": true
   },
   "outputs": [],
   "source": [
    "!chmod a+x reducer.py"
   ]
  },
  {
   "cell_type": "code",
   "execution_count": 67,
   "metadata": {
    "collapsed": false
   },
   "outputs": [],
   "source": [
    "#check results\n",
    "#!cat enronemail_1h.txt | python mapper.py | python reducer.py > output.txt"
   ]
  },
  {
   "cell_type": "code",
   "execution_count": 10,
   "metadata": {
    "collapsed": false
   },
   "outputs": [
    {
     "name": "stdout",
     "output_type": "stream",
     "text": [
      "starting yarn daemons\n",
      "starting resourcemanager, logging to /usr/local/Cellar/hadoop/2.7.1/libexec/logs/yarn-dunmireg-resourcemanager-Glenns-Air.home.out\n",
      "localhost: starting nodemanager, logging to /usr/local/Cellar/hadoop/2.7.1/libexec/logs/yarn-dunmireg-nodemanager-Glenns-Air.home.out\n",
      "16/01/25 21:18:13 WARN util.NativeCodeLoader: Unable to load native-hadoop library for your platform... using builtin-java classes where applicable\n",
      "Starting namenodes on [localhost]\n",
      "localhost: starting namenode, logging to /usr/local/Cellar/hadoop/2.7.1/libexec/logs/hadoop-dunmireg-namenode-Glenns-Air.home.out\n",
      "localhost: starting datanode, logging to /usr/local/Cellar/hadoop/2.7.1/libexec/logs/hadoop-dunmireg-datanode-Glenns-Air.home.out\n",
      "Starting secondary namenodes [0.0.0.0]\n",
      "0.0.0.0: starting secondarynamenode, logging to /usr/local/Cellar/hadoop/2.7.1/libexec/logs/hadoop-dunmireg-secondarynamenode-Glenns-Air.home.out\n",
      "16/01/25 21:18:29 WARN util.NativeCodeLoader: Unable to load native-hadoop library for your platform... using builtin-java classes where applicable\n"
     ]
    }
   ],
   "source": [
    "#Start hadoop yarn\n",
    "!/usr/local/Cellar/hadoop/2.7.1/sbin/start-yarn.sh\n",
    "!/usr/local/Cellar/hadoop/2.7.1/sbin/start-dfs.sh"
   ]
  },
  {
   "cell_type": "code",
   "execution_count": null,
   "metadata": {
    "collapsed": true
   },
   "outputs": [],
   "source": [
    "#make directory\n",
    "#!hdfs dfs -mkdir -p /user/dunmireg"
   ]
  },
  {
   "cell_type": "code",
   "execution_count": 11,
   "metadata": {
    "collapsed": false
   },
   "outputs": [
    {
     "name": "stdout",
     "output_type": "stream",
     "text": [
      "16/01/25 21:18:38 WARN util.NativeCodeLoader: Unable to load native-hadoop library for your platform... using builtin-java classes where applicable\r\n"
     ]
    }
   ],
   "source": [
    "#add input to hdfs\n",
    "!hdfs dfs -put enronemail_1h.txt /user/dunmireg"
   ]
  },
  {
   "cell_type": "code",
   "execution_count": 12,
   "metadata": {
    "collapsed": false
   },
   "outputs": [
    {
     "name": "stdout",
     "output_type": "stream",
     "text": [
      "16/01/25 21:18:42 WARN util.NativeCodeLoader: Unable to load native-hadoop library for your platform... using builtin-java classes where applicable\n",
      "16/01/25 21:18:43 INFO Configuration.deprecation: session.id is deprecated. Instead, use dfs.metrics.session-id\n",
      "16/01/25 21:18:43 INFO jvm.JvmMetrics: Initializing JVM Metrics with processName=JobTracker, sessionId=\n",
      "16/01/25 21:18:43 INFO jvm.JvmMetrics: Cannot initialize JVM Metrics with processName=JobTracker, sessionId= - already initialized\n",
      "16/01/25 21:18:43 INFO mapred.FileInputFormat: Total input paths to process : 1\n",
      "16/01/25 21:18:43 INFO mapreduce.JobSubmitter: number of splits:1\n",
      "16/01/25 21:18:44 INFO mapreduce.JobSubmitter: Submitting tokens for job: job_local762733417_0001\n",
      "16/01/25 21:18:44 INFO mapred.LocalJobRunner: OutputCommitter set in config null\n",
      "16/01/25 21:18:44 INFO mapreduce.Job: The url to track the job: http://localhost:8080/\n",
      "16/01/25 21:18:44 INFO mapred.LocalJobRunner: OutputCommitter is org.apache.hadoop.mapred.FileOutputCommitter\n",
      "16/01/25 21:18:44 INFO output.FileOutputCommitter: File Output Committer Algorithm version is 1\n",
      "16/01/25 21:18:44 INFO mapreduce.Job: Running job: job_local762733417_0001\n",
      "16/01/25 21:18:44 INFO mapred.LocalJobRunner: Waiting for map tasks\n",
      "16/01/25 21:18:44 INFO mapred.LocalJobRunner: Starting task: attempt_local762733417_0001_m_000000_0\n",
      "16/01/25 21:18:44 INFO output.FileOutputCommitter: File Output Committer Algorithm version is 1\n",
      "16/01/25 21:18:44 INFO util.ProcfsBasedProcessTree: ProcfsBasedProcessTree currently is supported only on Linux.\n",
      "16/01/25 21:18:44 INFO mapred.Task:  Using ResourceCalculatorProcessTree : null\n",
      "16/01/25 21:18:44 INFO mapred.MapTask: Processing split: hdfs://localhost:9000/user/dunmireg/enronemail_1h.txt:0+204658\n",
      "16/01/25 21:18:44 INFO mapred.MapTask: numReduceTasks: 1\n",
      "16/01/25 21:18:44 INFO mapred.MapTask: (EQUATOR) 0 kvi 26214396(104857584)\n",
      "16/01/25 21:18:44 INFO mapred.MapTask: mapreduce.task.io.sort.mb: 100\n",
      "16/01/25 21:18:44 INFO mapred.MapTask: soft limit at 83886080\n",
      "16/01/25 21:18:44 INFO mapred.MapTask: bufstart = 0; bufvoid = 104857600\n",
      "16/01/25 21:18:44 INFO mapred.MapTask: kvstart = 26214396; length = 6553600\n",
      "16/01/25 21:18:44 INFO mapred.MapTask: Map output collector class = org.apache.hadoop.mapred.MapTask$MapOutputBuffer\n",
      "16/01/25 21:18:44 INFO streaming.PipeMapRed: PipeMapRed exec [/Users/dunmireg/Documents/261HW/HW2/./mapper.py]\n",
      "16/01/25 21:18:44 INFO Configuration.deprecation: mapred.tip.id is deprecated. Instead, use mapreduce.task.id\n",
      "16/01/25 21:18:44 INFO Configuration.deprecation: mapred.local.dir is deprecated. Instead, use mapreduce.cluster.local.dir\n",
      "16/01/25 21:18:44 INFO Configuration.deprecation: map.input.file is deprecated. Instead, use mapreduce.map.input.file\n",
      "16/01/25 21:18:44 INFO Configuration.deprecation: mapred.skip.on is deprecated. Instead, use mapreduce.job.skiprecords\n",
      "16/01/25 21:18:44 INFO Configuration.deprecation: map.input.length is deprecated. Instead, use mapreduce.map.input.length\n",
      "16/01/25 21:18:44 INFO Configuration.deprecation: mapred.work.output.dir is deprecated. Instead, use mapreduce.task.output.dir\n",
      "16/01/25 21:18:44 INFO Configuration.deprecation: map.input.start is deprecated. Instead, use mapreduce.map.input.start\n",
      "16/01/25 21:18:44 INFO Configuration.deprecation: mapred.job.id is deprecated. Instead, use mapreduce.job.id\n",
      "16/01/25 21:18:44 INFO Configuration.deprecation: user.name is deprecated. Instead, use mapreduce.job.user.name\n",
      "16/01/25 21:18:44 INFO Configuration.deprecation: mapred.task.is.map is deprecated. Instead, use mapreduce.task.ismap\n",
      "16/01/25 21:18:44 INFO Configuration.deprecation: mapred.task.id is deprecated. Instead, use mapreduce.task.attempt.id\n",
      "16/01/25 21:18:44 INFO Configuration.deprecation: mapred.task.partition is deprecated. Instead, use mapreduce.task.partition\n",
      "16/01/25 21:18:44 INFO streaming.PipeMapRed: R/W/S=1/0/0 in:NA [rec/s] out:NA [rec/s]\n",
      "16/01/25 21:18:44 INFO streaming.PipeMapRed: R/W/S=10/0/0 in:NA [rec/s] out:NA [rec/s]\n",
      "16/01/25 21:18:45 INFO mapreduce.Job: Job job_local762733417_0001 running in uber mode : false\n",
      "16/01/25 21:18:45 INFO mapreduce.Job:  map 0% reduce 0%\n",
      "16/01/25 21:18:46 INFO streaming.PipeMapRed: R/W/S=100/0/0 in:100=100/1 [rec/s] out:0=0/1 [rec/s]\n",
      "16/01/25 21:18:49 INFO streaming.PipeMapRed: MRErrorThread done\n",
      "16/01/25 21:18:49 INFO streaming.PipeMapRed: Records R/W=100/1\n",
      "16/01/25 21:18:49 INFO streaming.PipeMapRed: mapRedFinished\n",
      "16/01/25 21:18:49 INFO mapred.LocalJobRunner: \n",
      "16/01/25 21:18:49 INFO mapred.MapTask: Starting flush of map output\n",
      "16/01/25 21:18:49 INFO mapred.MapTask: Spilling map output\n",
      "16/01/25 21:18:49 INFO mapred.MapTask: bufstart = 0; bufend = 4855; bufvoid = 104857600\n",
      "16/01/25 21:18:49 INFO mapred.MapTask: kvstart = 26214396(104857584); kvend = 26214000(104856000); length = 397/6553600\n",
      "16/01/25 21:18:49 INFO mapred.MapTask: Finished spill 0\n",
      "16/01/25 21:18:49 INFO mapred.Task: Task:attempt_local762733417_0001_m_000000_0 is done. And is in the process of committing\n",
      "16/01/25 21:18:49 INFO mapred.LocalJobRunner: Records R/W=100/1\n",
      "16/01/25 21:18:49 INFO mapred.Task: Task 'attempt_local762733417_0001_m_000000_0' done.\n",
      "16/01/25 21:18:49 INFO mapred.LocalJobRunner: Finishing task: attempt_local762733417_0001_m_000000_0\n",
      "16/01/25 21:18:49 INFO mapred.LocalJobRunner: map task executor complete.\n",
      "16/01/25 21:18:49 INFO mapred.LocalJobRunner: Waiting for reduce tasks\n",
      "16/01/25 21:18:49 INFO mapred.LocalJobRunner: Starting task: attempt_local762733417_0001_r_000000_0\n",
      "16/01/25 21:18:49 INFO output.FileOutputCommitter: File Output Committer Algorithm version is 1\n",
      "16/01/25 21:18:49 INFO util.ProcfsBasedProcessTree: ProcfsBasedProcessTree currently is supported only on Linux.\n",
      "16/01/25 21:18:49 INFO mapred.Task:  Using ResourceCalculatorProcessTree : null\n",
      "16/01/25 21:18:49 INFO mapred.ReduceTask: Using ShuffleConsumerPlugin: org.apache.hadoop.mapreduce.task.reduce.Shuffle@60045d35\n",
      "16/01/25 21:18:49 INFO reduce.MergeManagerImpl: MergerManager: memoryLimit=334338464, maxSingleShuffleLimit=83584616, mergeThreshold=220663392, ioSortFactor=10, memToMemMergeOutputsThreshold=10\n",
      "16/01/25 21:18:49 INFO reduce.EventFetcher: attempt_local762733417_0001_r_000000_0 Thread started: EventFetcher for fetching Map Completion Events\n",
      "16/01/25 21:18:49 INFO reduce.LocalFetcher: localfetcher#1 about to shuffle output of map attempt_local762733417_0001_m_000000_0 decomp: 5057 len: 5061 to MEMORY\n",
      "16/01/25 21:18:49 INFO reduce.InMemoryMapOutput: Read 5057 bytes from map-output for attempt_local762733417_0001_m_000000_0\n",
      "16/01/25 21:18:49 INFO reduce.MergeManagerImpl: closeInMemoryFile -> map-output of size: 5057, inMemoryMapOutputs.size() -> 1, commitMemory -> 0, usedMemory ->5057\n",
      "16/01/25 21:18:49 INFO reduce.EventFetcher: EventFetcher is interrupted.. Returning\n",
      "16/01/25 21:18:49 INFO mapred.LocalJobRunner: 1 / 1 copied.\n",
      "16/01/25 21:18:49 INFO reduce.MergeManagerImpl: finalMerge called with 1 in-memory map-outputs and 0 on-disk map-outputs\n",
      "16/01/25 21:18:49 INFO mapred.Merger: Merging 1 sorted segments\n",
      "16/01/25 21:18:49 INFO mapred.Merger: Down to the last merge-pass, with 1 segments left of total size: 5032 bytes\n",
      "16/01/25 21:18:49 INFO reduce.MergeManagerImpl: Merged 1 segments, 5057 bytes to disk to satisfy reduce memory limit\n",
      "16/01/25 21:18:49 INFO reduce.MergeManagerImpl: Merging 1 files, 5061 bytes from disk\n",
      "16/01/25 21:18:49 INFO reduce.MergeManagerImpl: Merging 0 segments, 0 bytes from memory into reduce\n",
      "16/01/25 21:18:49 INFO mapred.Merger: Merging 1 sorted segments\n",
      "16/01/25 21:18:49 INFO mapred.Merger: Down to the last merge-pass, with 1 segments left of total size: 5032 bytes\n",
      "16/01/25 21:18:49 INFO mapred.LocalJobRunner: 1 / 1 copied.\n",
      "16/01/25 21:18:49 INFO streaming.PipeMapRed: PipeMapRed exec [/Users/dunmireg/Documents/261HW/HW2/./reducer.py]\n",
      "16/01/25 21:18:49 INFO Configuration.deprecation: mapred.job.tracker is deprecated. Instead, use mapreduce.jobtracker.address\n",
      "16/01/25 21:18:49 INFO Configuration.deprecation: mapred.map.tasks is deprecated. Instead, use mapreduce.job.maps\n",
      "16/01/25 21:18:49 INFO streaming.PipeMapRed: R/W/S=1/0/0 in:NA [rec/s] out:NA [rec/s]\n",
      "16/01/25 21:18:49 INFO streaming.PipeMapRed: R/W/S=10/0/0 in:NA [rec/s] out:NA [rec/s]\n",
      "16/01/25 21:18:49 INFO streaming.PipeMapRed: R/W/S=100/0/0 in:NA [rec/s] out:NA [rec/s]\n",
      "16/01/25 21:18:49 INFO streaming.PipeMapRed: MRErrorThread done\n",
      "16/01/25 21:18:49 INFO streaming.PipeMapRed: Records R/W=100/1\n",
      "16/01/25 21:18:49 INFO streaming.PipeMapRed: mapRedFinished\n",
      "16/01/25 21:18:49 INFO mapred.Task: Task:attempt_local762733417_0001_r_000000_0 is done. And is in the process of committing\n",
      "16/01/25 21:18:49 INFO mapred.LocalJobRunner: 1 / 1 copied.\n",
      "16/01/25 21:18:49 INFO mapred.Task: Task attempt_local762733417_0001_r_000000_0 is allowed to commit now\n",
      "16/01/25 21:18:49 INFO output.FileOutputCommitter: Saved output of task 'attempt_local762733417_0001_r_000000_0' to hdfs://localhost:9000/user/dunmireg/enroneEmailClassificationNoSmoothing/_temporary/0/task_local762733417_0001_r_000000\n",
      "16/01/25 21:18:49 INFO mapred.LocalJobRunner: Records R/W=100/1 > reduce\n",
      "16/01/25 21:18:49 INFO mapred.Task: Task 'attempt_local762733417_0001_r_000000_0' done.\n",
      "16/01/25 21:18:49 INFO mapred.LocalJobRunner: Finishing task: attempt_local762733417_0001_r_000000_0\n",
      "16/01/25 21:18:49 INFO mapred.LocalJobRunner: reduce task executor complete.\n",
      "16/01/25 21:18:50 INFO mapreduce.Job:  map 100% reduce 100%\n",
      "16/01/25 21:18:50 INFO mapreduce.Job: Job job_local762733417_0001 completed successfully\n",
      "16/01/25 21:18:50 INFO mapreduce.Job: Counters: 35\n",
      "\tFile System Counters\n",
      "\t\tFILE: Number of bytes read=222238\n",
      "\t\tFILE: Number of bytes written=814067\n",
      "\t\tFILE: Number of read operations=0\n",
      "\t\tFILE: Number of large read operations=0\n",
      "\t\tFILE: Number of write operations=0\n",
      "\t\tHDFS: Number of bytes read=409316\n",
      "\t\tHDFS: Number of bytes written=4969\n",
      "\t\tHDFS: Number of read operations=13\n",
      "\t\tHDFS: Number of large read operations=0\n",
      "\t\tHDFS: Number of write operations=4\n",
      "\tMap-Reduce Framework\n",
      "\t\tMap input records=100\n",
      "\t\tMap output records=100\n",
      "\t\tMap output bytes=4855\n",
      "\t\tMap output materialized bytes=5061\n",
      "\t\tInput split bytes=105\n",
      "\t\tCombine input records=0\n",
      "\t\tCombine output records=0\n",
      "\t\tReduce input groups=100\n",
      "\t\tReduce shuffle bytes=5061\n",
      "\t\tReduce input records=100\n",
      "\t\tReduce output records=103\n",
      "\t\tSpilled Records=200\n",
      "\t\tShuffled Maps =1\n",
      "\t\tFailed Shuffles=0\n",
      "\t\tMerged Map outputs=1\n",
      "\t\tGC time elapsed (ms)=0\n",
      "\t\tTotal committed heap usage (bytes)=619708416\n",
      "\tShuffle Errors\n",
      "\t\tBAD_ID=0\n",
      "\t\tCONNECTION=0\n",
      "\t\tIO_ERROR=0\n",
      "\t\tWRONG_LENGTH=0\n",
      "\t\tWRONG_MAP=0\n",
      "\t\tWRONG_REDUCE=0\n",
      "\tFile Input Format Counters \n",
      "\t\tBytes Read=204658\n",
      "\tFile Output Format Counters \n",
      "\t\tBytes Written=4969\n",
      "16/01/25 21:18:50 INFO streaming.StreamJob: Output directory: enroneEmailClassificationNoSmoothing\n"
     ]
    }
   ],
   "source": [
    "!hadoop jar /usr/local/Cellar/hadoop/2.7.1/libexec/share/hadoop/tools/lib/hadoop-streaming-2.7.1.jar \\\n",
    "-mapper mapper.py \\\n",
    "-reducer reducer.py \\\n",
    "-input enronemail_1h.txt \\\n",
    "-output enroneEmailClassificationNoSmoothing"
   ]
  },
  {
   "cell_type": "code",
   "execution_count": 49,
   "metadata": {
    "collapsed": false
   },
   "outputs": [],
   "source": [
    "#!hdfs dfs -cat /user/dunmireg/enroneEmailClassificationNoSmoothing/part-00000"
   ]
  },
  {
   "cell_type": "code",
   "execution_count": 13,
   "metadata": {
    "collapsed": false
   },
   "outputs": [
    {
     "name": "stdout",
     "output_type": "stream",
     "text": [
      "16/01/25 21:19:23 WARN util.NativeCodeLoader: Unable to load native-hadoop library for your platform... using builtin-java classes where applicable\n",
      "16/01/25 21:19:24 WARN hdfs.DFSClient: DFSInputStream has been closed already\n",
      "16/01/25 21:19:24 WARN hdfs.DFSClient: DFSInputStream has been closed already\n"
     ]
    }
   ],
   "source": [
    "#move output to local directory - makes easier to process for analysis\n",
    "!hadoop fs -copyToLocal /user/dunmireg/enroneEmailClassificationNoSmoothing"
   ]
  },
  {
   "cell_type": "code",
   "execution_count": 14,
   "metadata": {
    "collapsed": false
   },
   "outputs": [
    {
     "name": "stdout",
     "output_type": "stream",
     "text": [
      "rmr: DEPRECATED: Please use 'rm -r' instead.\n",
      "16/01/25 21:19:27 WARN util.NativeCodeLoader: Unable to load native-hadoop library for your platform... using builtin-java classes where applicable\n",
      "16/01/25 21:19:27 INFO fs.TrashPolicyDefault: Namenode trash configuration: Deletion interval = 0 minutes, Emptier interval = 0 minutes.\n",
      "Deleted /user/dunmireg/enronemail_1h.txt\n",
      "rmr: DEPRECATED: Please use 'rm -r' instead.\n",
      "16/01/25 21:19:28 WARN util.NativeCodeLoader: Unable to load native-hadoop library for your platform... using builtin-java classes where applicable\n",
      "16/01/25 21:19:29 INFO fs.TrashPolicyDefault: Namenode trash configuration: Deletion interval = 0 minutes, Emptier interval = 0 minutes.\n",
      "Deleted /user/dunmireg/enroneEmailClassificationNoSmoothing\n",
      "stopping yarn daemons\n",
      "stopping resourcemanager\n",
      "localhost: stopping nodemanager\n",
      "no proxyserver to stop\n",
      "16/01/25 21:19:40 WARN util.NativeCodeLoader: Unable to load native-hadoop library for your platform... using builtin-java classes where applicable\n",
      "Stopping namenodes on [localhost]\n",
      "localhost: stopping namenode\n",
      "localhost: stopping datanode\n",
      "Stopping secondary namenodes [0.0.0.0]\n",
      "0.0.0.0: stopping secondarynamenode\n",
      "16/01/25 21:19:58 WARN util.NativeCodeLoader: Unable to load native-hadoop library for your platform... using builtin-java classes where applicable\n"
     ]
    }
   ],
   "source": [
    "#Remove output directory and stop yarn and hdfs\n",
    "!hadoop fs -rmr /user/dunmireg/enronemail_1h.txt #check\n",
    "!hadoop fs -rmr /user/dunmireg/enroneEmailClassificationNoSmoothing\n",
    "!/usr/local/Cellar/hadoop/2.7.1/sbin/stop-yarn.sh\n",
    "!/usr/local/Cellar/hadoop/2.7.1/sbin/stop-dfs.sh"
   ]
  },
  {
   "cell_type": "code",
   "execution_count": 15,
   "metadata": {
    "collapsed": false
   },
   "outputs": [
    {
     "name": "stdout",
     "output_type": "stream",
     "text": [
      "Misclassified: 0 which means this has an accuracy of 100%\t\n",
      "\n",
      "Skipped 4961 words in spam\t\n",
      "\n",
      "Skipped 5694 words in ham\t\n",
      "\n"
     ]
    }
   ],
   "source": [
    "#Display outputs from results file\n",
    "import os\n",
    "\n",
    "with open(os.path.join('./enroneEmailClassificationNoSmoothing', 'part-00000'), 'r') as myfile:\n",
    "    lines = myfile.readlines() #read file\n",
    "    lines = lines[-3:] #get last 3 lines\n",
    "    for line in lines:\n",
    "        print line #print results\n"
   ]
  },
  {
   "cell_type": "code",
   "execution_count": 7,
   "metadata": {
    "collapsed": false
   },
   "outputs": [
    {
     "data": {
      "image/png": "[encoded data removed]",
      "text/plain": [
       "<matplotlib.figure.Figure at 0x107315d90>"
      ]
     },
     "metadata": {},
     "output_type": "display_data"
    },
    {
     "data": {
      "image/png": "[encoded data removed]",
      "text/plain": [
       "<matplotlib.figure.Figure at 0x1073c0ad0>"
      ]
     },
     "metadata": {},
     "output_type": "display_data"
    }
   ],
   "source": [
    "%matplotlib inline\n",
    "#Make histogram\n",
    "import os\n",
    "import matplotlib.pyplot as plt\n",
    "\n",
    "spam_probs = [] #list of spam probabilities\n",
    "ham_probs = [] #list of ham probabilities\n",
    "with open(os.path.join('./enroneEmailClassificationNoSmoothing', 'part-00000'), 'r') as myfile: #read file\n",
    "    lines = myfile.readlines() \n",
    "    for line in lines[:-3]: #exclude last 3 lines which have results\n",
    "        components = line.split('\\t')\n",
    "        spam_probs.append(float(components[3]))\n",
    "        ham_probs.append(float(components[4]))\n",
    "\n",
    "s = plt.figure(1)\n",
    "plt.hist(spam_probs)\n",
    "plt.xlabel = \"Probability\"\n",
    "plt.ylabel = \"Frequency\"\n",
    "plt.title(\"Spam Exp Probabilities Histogram\")\n",
    "\n",
    "h = plt.figure(2)\n",
    "plt.hist(ham_probs)\n",
    "plt.xlabel = \"Probability\"\n",
    "plt.ylabel = \"Frequency\"\n",
    "plt.title(\"Ham Exp Probabilties Histogram\")\n",
    "plt.show()"
   ]
  },
  {
   "cell_type": "markdown",
   "metadata": {},
   "source": [
    "#### Summary\n",
    "\n",
    "Overall, I am seeing an accuracy of 100%, meaning none of the emails are misclassified. This would probably suggest my model is overfitting the data. However, in this case we are using the training set as our testing set so there is a reason for that. \n",
    "\n",
    "I found earlier I:\n",
    "\n",
    "Skipped 4961 words in spam\t\n",
    "\n",
    "Skipped 5694 words in ham\n",
    "\n",
    "In observing the exponentiated probabilities we can see that the vast majority of words contribute a very tiny amount to both spam and ham classification. However, there looks to be a very small number of words that contribute large probabilities to either spam or ham. This would seem to suggest that a small subset of words really make the difference in classification. That is, the presence of these \"classifier words\" would probably be a key component in classifying an email as ham or spam. "
   ]
  },
  {
   "cell_type": "markdown",
   "metadata": {
    "collapsed": true
   },
   "source": [
    "### HW2.4 \n",
    "\n",
    "Repeat HW2.3 with the following modification: use Laplace plus-one smoothing. Compare the misclassifcation error rates for 2.3 versus 2.4 and explain the differences.\n",
    "\n",
    "For a quick reference on the construction of the Multinomial NAIVE BAYES classifier that you will code,\n",
    "please consult the \"Document Classification\" section of the following wikipedia page:\n",
    "\n",
    "https://en.wikipedia.org/wiki/Naive_Bayes_classifier#Document_classification\n",
    "\n",
    "OR the original paper by the curators of the Enron email data:\n",
    "\n",
    "http://www.aueb.gr/users/ion/docs/ceas2006_paper.pdf"
   ]
  },
  {
   "cell_type": "code",
   "execution_count": 20,
   "metadata": {
    "collapsed": false
   },
   "outputs": [
    {
     "name": "stdout",
     "output_type": "stream",
     "text": [
      "Overwriting mapper.py\n"
     ]
    }
   ],
   "source": [
    "%%writefile mapper.py\n",
    "#!/usr/bin/python\n",
    "\n",
    "import sys\n",
    "import re\n",
    "WORD_RE = re.compile(r\"[\\w']+\") #regex for string matching\n",
    "\n",
    "for line in sys.stdin:\n",
    "    components = line.split('\\t') #split input file\n",
    "    text = \" \".join(components[-2:]).strip() #combine to produce subject and content together\n",
    "    words = re.findall(WORD_RE, text)\n",
    "    for word in words:\n",
    "        print components[0] + '\\t' + word + '\\t' + components[1] #print email ID, word, spam flag"
   ]
  },
  {
   "cell_type": "code",
   "execution_count": 21,
   "metadata": {
    "collapsed": false
   },
   "outputs": [
    {
     "name": "stdout",
     "output_type": "stream",
     "text": [
      "Overwriting reducer.py\n"
     ]
    }
   ],
   "source": [
    "%%writefile reducer.py\n",
    "#!/usr/bin/python\n",
    "import sys\n",
    "\n",
    "emails = set() #hold email IDs\n",
    "words = {} #hold words and associated counts\n",
    "spam_emails = 0 #how many emails are marked as spam\n",
    "spam_word_count = 0 #count of words in spam\n",
    "ham_word_count = 0 #count of words in ham\n",
    "vocab = set() #set of unique words in all text\n",
    "\n",
    "for line in sys.stdin:\n",
    "    line = line.strip()\n",
    "    line = line.rstrip()\n",
    "    components = line.split('\\t')\n",
    "    \n",
    "    ID = components[0] #parse components to appropriate variables\n",
    "    word = components[1]\n",
    "    spam = int(components[2])\n",
    "    \n",
    "    if word not in words.keys():\n",
    "        words[word] = {'spam_count': 0, 'ham_count': 0} #add word to dictionary if not there already\n",
    "        vocab.add(word) #add word to vocab\n",
    "    if ID not in emails:\n",
    "        emails.add(ID)\n",
    "        if spam == 1:\n",
    "            spam_emails += 1 #increment spam emails counter\n",
    "        \n",
    "\n",
    "    if spam == 1:\n",
    "        words[word]['spam_count'] += 1 #if email is spam, increment spam counter by 1\n",
    "        spam_word_count += 1\n",
    "    else:\n",
    "        words[word]['ham_count'] += 1 #repeat for ham\n",
    "        ham_word_count += 1\n",
    "\n",
    "\n",
    "prior_spam = float(spam_emails)/len(emails) #get prior probabilities\n",
    "prior_ham = 1-prior_spam\n",
    "\n",
    "for i, word in words.iteritems():\n",
    "    #This calculation uses a laplace smoother, +1 to numerator and + vocab in denominator\n",
    "    #See wikipedia entry\n",
    "    word['spam_like'] = float(word['spam_count'] + 1)/(spam_word_count + len(vocab)) #calculate conditional probs\n",
    "    word['ham_like'] = float(word['ham_count'] + 1)/(ham_word_count + len(vocab))\n",
    "    \n",
    "\n",
    "print prior_spam\n",
    "print prior_ham\n",
    "for word in words.keys():\n",
    "    #Word \"\\t\" spam likelihood '\\t' ham likelihood written to file\n",
    "    print word + '\\t' + str(words[word]['spam_like']) + '\\t' + str(words[word]['ham_like']) #print results"
   ]
  },
  {
   "cell_type": "code",
   "execution_count": 22,
   "metadata": {
    "collapsed": false
   },
   "outputs": [
    {
     "name": "stdout",
     "output_type": "stream",
     "text": [
      "starting yarn daemons\n",
      "starting resourcemanager, logging to /usr/local/Cellar/hadoop/2.7.1/libexec/logs/yarn-dunmireg-resourcemanager-Glenns-Air.home.out\n",
      "localhost: starting nodemanager, logging to /usr/local/Cellar/hadoop/2.7.1/libexec/logs/yarn-dunmireg-nodemanager-Glenns-Air.home.out\n",
      "16/01/25 21:22:26 WARN util.NativeCodeLoader: Unable to load native-hadoop library for your platform... using builtin-java classes where applicable\n",
      "Starting namenodes on [localhost]\n",
      "localhost: starting namenode, logging to /usr/local/Cellar/hadoop/2.7.1/libexec/logs/hadoop-dunmireg-namenode-Glenns-Air.home.out\n",
      "localhost: starting datanode, logging to /usr/local/Cellar/hadoop/2.7.1/libexec/logs/hadoop-dunmireg-datanode-Glenns-Air.home.out\n",
      "Starting secondary namenodes [0.0.0.0]\n",
      "0.0.0.0: starting secondarynamenode, logging to /usr/local/Cellar/hadoop/2.7.1/libexec/logs/hadoop-dunmireg-secondarynamenode-Glenns-Air.home.out\n",
      "16/01/25 21:22:41 WARN util.NativeCodeLoader: Unable to load native-hadoop library for your platform... using builtin-java classes where applicable\n"
     ]
    }
   ],
   "source": [
    "#Start hadoop yarn\n",
    "!/usr/local/Cellar/hadoop/2.7.1/sbin/start-yarn.sh\n",
    "!/usr/local/Cellar/hadoop/2.7.1/sbin/start-dfs.sh"
   ]
  },
  {
   "cell_type": "code",
   "execution_count": 4,
   "metadata": {
    "collapsed": false
   },
   "outputs": [
    {
     "name": "stdout",
     "output_type": "stream",
     "text": [
      "16/01/24 22:46:13 WARN util.NativeCodeLoader: Unable to load native-hadoop library for your platform... using builtin-java classes where applicable\r\n"
     ]
    }
   ],
   "source": [
    "#make directory\n",
    "#!hdfs dfs -mkdir -p /user/dunmireg"
   ]
  },
  {
   "cell_type": "code",
   "execution_count": 23,
   "metadata": {
    "collapsed": false
   },
   "outputs": [
    {
     "name": "stdout",
     "output_type": "stream",
     "text": [
      "16/01/25 21:22:47 WARN util.NativeCodeLoader: Unable to load native-hadoop library for your platform... using builtin-java classes where applicable\r\n"
     ]
    }
   ],
   "source": [
    "#add input to hdfs\n",
    "!hdfs dfs -put enronemail_1h.txt /user/dunmireg"
   ]
  },
  {
   "cell_type": "code",
   "execution_count": 24,
   "metadata": {
    "collapsed": false
   },
   "outputs": [
    {
     "name": "stdout",
     "output_type": "stream",
     "text": [
      "16/01/25 21:22:51 WARN util.NativeCodeLoader: Unable to load native-hadoop library for your platform... using builtin-java classes where applicable\n",
      "16/01/25 21:22:52 INFO Configuration.deprecation: session.id is deprecated. Instead, use dfs.metrics.session-id\n",
      "16/01/25 21:22:52 INFO jvm.JvmMetrics: Initializing JVM Metrics with processName=JobTracker, sessionId=\n",
      "16/01/25 21:22:52 INFO jvm.JvmMetrics: Cannot initialize JVM Metrics with processName=JobTracker, sessionId= - already initialized\n",
      "16/01/25 21:22:52 INFO mapred.FileInputFormat: Total input paths to process : 1\n",
      "16/01/25 21:22:52 INFO mapreduce.JobSubmitter: number of splits:1\n",
      "16/01/25 21:22:52 INFO mapreduce.JobSubmitter: Submitting tokens for job: job_local1220185851_0001\n",
      "16/01/25 21:22:53 INFO mapred.LocalJobRunner: OutputCommitter set in config null\n",
      "16/01/25 21:22:53 INFO mapred.LocalJobRunner: OutputCommitter is org.apache.hadoop.mapred.FileOutputCommitter\n",
      "16/01/25 21:22:53 INFO mapreduce.Job: The url to track the job: http://localhost:8080/\n",
      "16/01/25 21:22:53 INFO output.FileOutputCommitter: File Output Committer Algorithm version is 1\n",
      "16/01/25 21:22:53 INFO mapreduce.Job: Running job: job_local1220185851_0001\n",
      "16/01/25 21:22:53 INFO mapred.LocalJobRunner: Waiting for map tasks\n",
      "16/01/25 21:22:53 INFO mapred.LocalJobRunner: Starting task: attempt_local1220185851_0001_m_000000_0\n",
      "16/01/25 21:22:53 INFO output.FileOutputCommitter: File Output Committer Algorithm version is 1\n",
      "16/01/25 21:22:53 INFO util.ProcfsBasedProcessTree: ProcfsBasedProcessTree currently is supported only on Linux.\n",
      "16/01/25 21:22:53 INFO mapred.Task:  Using ResourceCalculatorProcessTree : null\n",
      "16/01/25 21:22:53 INFO mapred.MapTask: Processing split: hdfs://localhost:9000/user/dunmireg/enronemail_1h.txt:0+204658\n",
      "16/01/25 21:22:53 INFO mapred.MapTask: numReduceTasks: 1\n",
      "16/01/25 21:22:53 INFO mapred.MapTask: (EQUATOR) 0 kvi 26214396(104857584)\n",
      "16/01/25 21:22:53 INFO mapred.MapTask: mapreduce.task.io.sort.mb: 100\n",
      "16/01/25 21:22:53 INFO mapred.MapTask: soft limit at 83886080\n",
      "16/01/25 21:22:53 INFO mapred.MapTask: bufstart = 0; bufvoid = 104857600\n",
      "16/01/25 21:22:53 INFO mapred.MapTask: kvstart = 26214396; length = 6553600\n",
      "16/01/25 21:22:53 INFO mapred.MapTask: Map output collector class = org.apache.hadoop.mapred.MapTask$MapOutputBuffer\n",
      "16/01/25 21:22:53 INFO streaming.PipeMapRed: PipeMapRed exec [/Users/dunmireg/Documents/261HW/HW2/./mapper.py]\n",
      "16/01/25 21:22:53 INFO Configuration.deprecation: mapred.tip.id is deprecated. Instead, use mapreduce.task.id\n",
      "16/01/25 21:22:53 INFO Configuration.deprecation: mapred.local.dir is deprecated. Instead, use mapreduce.cluster.local.dir\n",
      "16/01/25 21:22:53 INFO Configuration.deprecation: map.input.file is deprecated. Instead, use mapreduce.map.input.file\n",
      "16/01/25 21:22:53 INFO Configuration.deprecation: mapred.skip.on is deprecated. Instead, use mapreduce.job.skiprecords\n",
      "16/01/25 21:22:53 INFO Configuration.deprecation: map.input.length is deprecated. Instead, use mapreduce.map.input.length\n",
      "16/01/25 21:22:53 INFO Configuration.deprecation: mapred.work.output.dir is deprecated. Instead, use mapreduce.task.output.dir\n",
      "16/01/25 21:22:53 INFO Configuration.deprecation: map.input.start is deprecated. Instead, use mapreduce.map.input.start\n",
      "16/01/25 21:22:53 INFO Configuration.deprecation: mapred.job.id is deprecated. Instead, use mapreduce.job.id\n",
      "16/01/25 21:22:53 INFO Configuration.deprecation: user.name is deprecated. Instead, use mapreduce.job.user.name\n",
      "16/01/25 21:22:53 INFO Configuration.deprecation: mapred.task.is.map is deprecated. Instead, use mapreduce.task.ismap\n",
      "16/01/25 21:22:53 INFO Configuration.deprecation: mapred.task.id is deprecated. Instead, use mapreduce.task.attempt.id\n",
      "16/01/25 21:22:53 INFO Configuration.deprecation: mapred.task.partition is deprecated. Instead, use mapreduce.task.partition\n",
      "16/01/25 21:22:53 INFO streaming.PipeMapRed: R/W/S=1/0/0 in:NA [rec/s] out:NA [rec/s]\n",
      "16/01/25 21:22:53 INFO streaming.PipeMapRed: R/W/S=10/0/0 in:NA [rec/s] out:NA [rec/s]\n",
      "16/01/25 21:22:53 INFO streaming.PipeMapRed: Records R/W=72/1\n",
      "16/01/25 21:22:53 INFO streaming.PipeMapRed: R/W/S=100/8828/0 in:NA [rec/s] out:NA [rec/s]\n",
      "16/01/25 21:22:53 INFO streaming.PipeMapRed: MRErrorThread done\n",
      "16/01/25 21:22:53 INFO streaming.PipeMapRed: mapRedFinished\n",
      "16/01/25 21:22:53 INFO mapred.LocalJobRunner: \n",
      "16/01/25 21:22:53 INFO mapred.MapTask: Starting flush of map output\n",
      "16/01/25 21:22:53 INFO mapred.MapTask: Spilling map output\n",
      "16/01/25 21:22:53 INFO mapred.MapTask: bufstart = 0; bufend = 1032108; bufvoid = 104857600\n",
      "16/01/25 21:22:53 INFO mapred.MapTask: kvstart = 26214396(104857584); kvend = 26082748(104330992); length = 131649/6553600\n",
      "16/01/25 21:22:53 INFO mapred.MapTask: Finished spill 0\n",
      "16/01/25 21:22:53 INFO mapred.Task: Task:attempt_local1220185851_0001_m_000000_0 is done. And is in the process of committing\n",
      "16/01/25 21:22:53 INFO mapred.LocalJobRunner: Records R/W=72/1\n",
      "16/01/25 21:22:53 INFO mapred.Task: Task 'attempt_local1220185851_0001_m_000000_0' done.\n",
      "16/01/25 21:22:53 INFO mapred.LocalJobRunner: Finishing task: attempt_local1220185851_0001_m_000000_0\n",
      "16/01/25 21:22:53 INFO mapred.LocalJobRunner: map task executor complete.\n",
      "16/01/25 21:22:53 INFO mapred.LocalJobRunner: Waiting for reduce tasks\n",
      "16/01/25 21:22:53 INFO mapred.LocalJobRunner: Starting task: attempt_local1220185851_0001_r_000000_0\n",
      "16/01/25 21:22:53 INFO output.FileOutputCommitter: File Output Committer Algorithm version is 1\n",
      "16/01/25 21:22:53 INFO util.ProcfsBasedProcessTree: ProcfsBasedProcessTree currently is supported only on Linux.\n",
      "16/01/25 21:22:53 INFO mapred.Task:  Using ResourceCalculatorProcessTree : null\n",
      "16/01/25 21:22:53 INFO mapred.ReduceTask: Using ShuffleConsumerPlugin: org.apache.hadoop.mapreduce.task.reduce.Shuffle@52df4dfc\n",
      "16/01/25 21:22:53 INFO reduce.MergeManagerImpl: MergerManager: memoryLimit=334338464, maxSingleShuffleLimit=83584616, mergeThreshold=220663392, ioSortFactor=10, memToMemMergeOutputsThreshold=10\n",
      "16/01/25 21:22:53 INFO reduce.EventFetcher: attempt_local1220185851_0001_r_000000_0 Thread started: EventFetcher for fetching Map Completion Events\n",
      "16/01/25 21:22:53 INFO reduce.LocalFetcher: localfetcher#1 about to shuffle output of map attempt_local1220185851_0001_m_000000_0 decomp: 1097936 len: 1097940 to MEMORY\n",
      "16/01/25 21:22:53 INFO reduce.InMemoryMapOutput: Read 1097936 bytes from map-output for attempt_local1220185851_0001_m_000000_0\n",
      "16/01/25 21:22:53 INFO reduce.MergeManagerImpl: closeInMemoryFile -> map-output of size: 1097936, inMemoryMapOutputs.size() -> 1, commitMemory -> 0, usedMemory ->1097936\n",
      "16/01/25 21:22:53 INFO reduce.EventFetcher: EventFetcher is interrupted.. Returning\n",
      "16/01/25 21:22:53 INFO mapred.LocalJobRunner: 1 / 1 copied.\n",
      "16/01/25 21:22:53 INFO reduce.MergeManagerImpl: finalMerge called with 1 in-memory map-outputs and 0 on-disk map-outputs\n",
      "16/01/25 21:22:53 INFO mapred.Merger: Merging 1 sorted segments\n",
      "16/01/25 21:22:53 INFO mapred.Merger: Down to the last merge-pass, with 1 segments left of total size: 1097911 bytes\n",
      "16/01/25 21:22:53 INFO reduce.MergeManagerImpl: Merged 1 segments, 1097936 bytes to disk to satisfy reduce memory limit\n",
      "16/01/25 21:22:53 INFO reduce.MergeManagerImpl: Merging 1 files, 1097940 bytes from disk\n",
      "16/01/25 21:22:53 INFO reduce.MergeManagerImpl: Merging 0 segments, 0 bytes from memory into reduce\n",
      "16/01/25 21:22:53 INFO mapred.Merger: Merging 1 sorted segments\n",
      "16/01/25 21:22:53 INFO mapred.Merger: Down to the last merge-pass, with 1 segments left of total size: 1097911 bytes\n",
      "16/01/25 21:22:53 INFO mapred.LocalJobRunner: 1 / 1 copied.\n",
      "16/01/25 21:22:53 INFO streaming.PipeMapRed: PipeMapRed exec [/Users/dunmireg/Documents/261HW/HW2/./reducer.py]\n",
      "16/01/25 21:22:53 INFO Configuration.deprecation: mapred.job.tracker is deprecated. Instead, use mapreduce.jobtracker.address\n",
      "16/01/25 21:22:53 INFO Configuration.deprecation: mapred.map.tasks is deprecated. Instead, use mapreduce.job.maps\n",
      "16/01/25 21:22:53 INFO streaming.PipeMapRed: R/W/S=1/0/0 in:NA [rec/s] out:NA [rec/s]\n",
      "16/01/25 21:22:53 INFO streaming.PipeMapRed: R/W/S=10/0/0 in:NA [rec/s] out:NA [rec/s]\n",
      "16/01/25 21:22:53 INFO streaming.PipeMapRed: R/W/S=100/0/0 in:NA [rec/s] out:NA [rec/s]\n",
      "16/01/25 21:22:54 INFO streaming.PipeMapRed: R/W/S=1000/0/0 in:NA [rec/s] out:NA [rec/s]\n",
      "16/01/25 21:22:54 INFO mapreduce.Job: Job job_local1220185851_0001 running in uber mode : false\n",
      "16/01/25 21:22:54 INFO mapreduce.Job:  map 100% reduce 0%\n",
      "16/01/25 21:22:54 INFO streaming.PipeMapRed: R/W/S=10000/0/0 in:NA [rec/s] out:NA [rec/s]\n",
      "16/01/25 21:22:56 INFO streaming.PipeMapRed: Records R/W=32913/1\n",
      "16/01/25 21:22:56 INFO streaming.PipeMapRed: MRErrorThread done\n",
      "16/01/25 21:22:56 INFO streaming.PipeMapRed: mapRedFinished\n",
      "16/01/25 21:22:56 INFO mapred.Task: Task:attempt_local1220185851_0001_r_000000_0 is done. And is in the process of committing\n",
      "16/01/25 21:22:56 INFO mapred.LocalJobRunner: 1 / 1 copied.\n",
      "16/01/25 21:22:56 INFO mapred.Task: Task attempt_local1220185851_0001_r_000000_0 is allowed to commit now\n",
      "16/01/25 21:22:56 INFO output.FileOutputCommitter: Saved output of task 'attempt_local1220185851_0001_r_000000_0' to hdfs://localhost:9000/user/dunmireg/enroneEmailCondProbLaplace/_temporary/0/task_local1220185851_0001_r_000000\n",
      "16/01/25 21:22:56 INFO mapred.LocalJobRunner: Records R/W=32913/1 > reduce\n",
      "16/01/25 21:22:56 INFO mapred.Task: Task 'attempt_local1220185851_0001_r_000000_0' done.\n",
      "16/01/25 21:22:56 INFO mapred.LocalJobRunner: Finishing task: attempt_local1220185851_0001_r_000000_0\n",
      "16/01/25 21:22:56 INFO mapred.LocalJobRunner: reduce task executor complete.\n",
      "16/01/25 21:22:57 INFO mapreduce.Job:  map 100% reduce 100%\n",
      "16/01/25 21:22:57 INFO mapreduce.Job: Job job_local1220185851_0001 completed successfully\n",
      "16/01/25 21:22:57 INFO mapreduce.Job: Counters: 35\n",
      "\tFile System Counters\n",
      "\t\tFILE: Number of bytes read=2407996\n",
      "\t\tFILE: Number of bytes written=4095672\n",
      "\t\tFILE: Number of read operations=0\n",
      "\t\tFILE: Number of large read operations=0\n",
      "\t\tFILE: Number of write operations=0\n",
      "\t\tHDFS: Number of bytes read=409316\n",
      "\t\tHDFS: Number of bytes written=237609\n",
      "\t\tHDFS: Number of read operations=13\n",
      "\t\tHDFS: Number of large read operations=0\n",
      "\t\tHDFS: Number of write operations=4\n",
      "\tMap-Reduce Framework\n",
      "\t\tMap input records=100\n",
      "\t\tMap output records=32913\n",
      "\t\tMap output bytes=1032108\n",
      "\t\tMap output materialized bytes=1097940\n",
      "\t\tInput split bytes=105\n",
      "\t\tCombine input records=0\n",
      "\t\tCombine output records=0\n",
      "\t\tReduce input groups=100\n",
      "\t\tReduce shuffle bytes=1097940\n",
      "\t\tReduce input records=32913\n",
      "\t\tReduce output records=5493\n",
      "\t\tSpilled Records=65826\n",
      "\t\tShuffled Maps =1\n",
      "\t\tFailed Shuffles=0\n",
      "\t\tMerged Map outputs=1\n",
      "\t\tGC time elapsed (ms)=0\n",
      "\t\tTotal committed heap usage (bytes)=618659840\n",
      "\tShuffle Errors\n",
      "\t\tBAD_ID=0\n",
      "\t\tCONNECTION=0\n",
      "\t\tIO_ERROR=0\n",
      "\t\tWRONG_LENGTH=0\n",
      "\t\tWRONG_MAP=0\n",
      "\t\tWRONG_REDUCE=0\n",
      "\tFile Input Format Counters \n",
      "\t\tBytes Read=204658\n",
      "\tFile Output Format Counters \n",
      "\t\tBytes Written=237609\n",
      "16/01/25 21:22:57 INFO streaming.StreamJob: Output directory: enroneEmailCondProbLaplace\n"
     ]
    }
   ],
   "source": [
    "!hadoop jar /usr/local/Cellar/hadoop/2.7.1/libexec/share/hadoop/tools/lib/hadoop-streaming-2.7.1.jar \\\n",
    "-mapper mapper.py \\\n",
    "-reducer reducer.py \\\n",
    "-input enronemail_1h.txt \\\n",
    "-output enroneEmailCondProbLaplace"
   ]
  },
  {
   "cell_type": "code",
   "execution_count": 33,
   "metadata": {
    "collapsed": false
   },
   "outputs": [],
   "source": [
    "#Check output\n",
    "#!hdfs dfs -cat /user/dunmireg/enroneEmailCondProbLaplace/part-00000"
   ]
  },
  {
   "cell_type": "code",
   "execution_count": 25,
   "metadata": {
    "collapsed": false
   },
   "outputs": [
    {
     "name": "stdout",
     "output_type": "stream",
     "text": [
      "16/01/25 21:23:03 WARN util.NativeCodeLoader: Unable to load native-hadoop library for your platform... using builtin-java classes where applicable\n",
      "16/01/25 21:23:04 WARN hdfs.DFSClient: DFSInputStream has been closed already\n",
      "16/01/25 21:23:04 WARN hdfs.DFSClient: DFSInputStream has been closed already\n"
     ]
    }
   ],
   "source": [
    "!hadoop fs -copyToLocal /user/dunmireg/enroneEmailCondProbLaplace"
   ]
  },
  {
   "cell_type": "code",
   "execution_count": 26,
   "metadata": {
    "collapsed": false
   },
   "outputs": [
    {
     "name": "stdout",
     "output_type": "stream",
     "text": [
      "rmr: DEPRECATED: Please use 'rm -r' instead.\n",
      "16/01/25 21:23:06 WARN util.NativeCodeLoader: Unable to load native-hadoop library for your platform... using builtin-java classes where applicable\n",
      "16/01/25 21:23:06 INFO fs.TrashPolicyDefault: Namenode trash configuration: Deletion interval = 0 minutes, Emptier interval = 0 minutes.\n",
      "Deleted /user/dunmireg/enronemail_1h.txt\n",
      "rmr: DEPRECATED: Please use 'rm -r' instead.\n",
      "16/01/25 21:23:07 WARN util.NativeCodeLoader: Unable to load native-hadoop library for your platform... using builtin-java classes where applicable\n",
      "16/01/25 21:23:08 INFO fs.TrashPolicyDefault: Namenode trash configuration: Deletion interval = 0 minutes, Emptier interval = 0 minutes.\n",
      "Deleted /user/dunmireg/enroneEmailCondProbLaplace\n",
      "stopping yarn daemons\n",
      "stopping resourcemanager\n",
      "localhost: stopping nodemanager\n",
      "no proxyserver to stop\n",
      "16/01/25 21:23:19 WARN util.NativeCodeLoader: Unable to load native-hadoop library for your platform... using builtin-java classes where applicable\n",
      "Stopping namenodes on [localhost]\n",
      "localhost: stopping namenode\n",
      "localhost: stopping datanode\n",
      "Stopping secondary namenodes [0.0.0.0]\n",
      "0.0.0.0: stopping secondarynamenode\n",
      "16/01/25 21:23:38 WARN util.NativeCodeLoader: Unable to load native-hadoop library for your platform... using builtin-java classes where applicable\n"
     ]
    }
   ],
   "source": [
    "#Remove output directory and stop yarn and hdfs\n",
    "!hadoop fs -rmr /user/dunmireg/enronemail_1h.txt\n",
    "!hadoop fs -rmr /user/dunmireg/enroneEmailCondProbLaplace\n",
    "!/usr/local/Cellar/hadoop/2.7.1/sbin/stop-yarn.sh\n",
    "!/usr/local/Cellar/hadoop/2.7.1/sbin/stop-dfs.sh"
   ]
  },
  {
   "cell_type": "code",
   "execution_count": 27,
   "metadata": {
    "collapsed": false
   },
   "outputs": [
    {
     "name": "stdout",
     "output_type": "stream",
     "text": [
      "Overwriting mapper.py\n"
     ]
    }
   ],
   "source": [
    "%%writefile mapper.py\n",
    "#!/usr/bin/python\n",
    "\n",
    "#mapper for classification. This is essentially the same procedure as in 2.3. \n",
    "import sys\n",
    "import re\n",
    "import os \n",
    "from math import log\n",
    "from math import exp\n",
    "\n",
    "priorSpam = 0 #hold priors\n",
    "priorHam = 0\n",
    "words = {}\n",
    "\n",
    "with open(os.path.join('./enroneEmailCondProbLaplace', 'part-00000'), 'r') as myfile: #read file\n",
    "    lines = myfile.readlines()\n",
    "    priorSpam = float(lines[0]) #parse first lines for priors\n",
    "    priorHam = float(lines[1])\n",
    "    for line in lines[2:]:\n",
    "        line = line.strip()\n",
    "        line = line.rstrip()\n",
    "        components = line.split('\\t')\n",
    "        #add conditional probabilities to words dictionary\n",
    "        words[components[0]] = {'spam_like': float(components[1]), 'ham_like': float(components[2])}\n",
    "        \n",
    "\n",
    "WORD_RE = re.compile(r\"[\\w']+\")\n",
    "\n",
    "for line in sys.stdin:\n",
    "    line = line.strip()\n",
    "    line = line.rstrip()\n",
    "    components = line.split('\\t')\n",
    "    text = \" \".join(components[-2:]).strip()\n",
    "    text = re.findall(WORD_RE, text)\n",
    "    \n",
    "    spamScore = log(priorSpam)\n",
    "    hamScore = log(priorHam)\n",
    "    for word in text:\n",
    "        if word in words.keys():\n",
    "            #add conditional probabilities to scores\n",
    "            spamScore += log(float(words[word]['spam_like']))\n",
    "            hamScore += log(float(words[word]['ham_like']))\n",
    "        pred = 0 #assign prediction\n",
    "    if spamScore > hamScore:\n",
    "        pred = 1\n",
    "    #output ID, true classification, prediction, and conditional probabilities\n",
    "    print components[0] + '\\t' + components[1] + '\\t' + str(pred) + '\\t' + str(exp(spamScore)) + '\\t' + str(exp(hamScore))"
   ]
  },
  {
   "cell_type": "code",
   "execution_count": 28,
   "metadata": {
    "collapsed": false
   },
   "outputs": [
    {
     "name": "stdout",
     "output_type": "stream",
     "text": [
      "Overwriting reducer.py\n"
     ]
    }
   ],
   "source": [
    "%%writefile reducer.py\n",
    "#!/usr/bin/python\n",
    "import sys\n",
    "\n",
    "misclassified = 0 #count of how many emails are misclassified\n",
    "\n",
    "for line in sys.stdin:\n",
    "    line = line.strip()\n",
    "    line = line.rstrip()\n",
    "    components = line.split('\\t') #split components\n",
    "    if int(components[1]) != int(components[2]): #if true classification and prediction don't agree, increment\n",
    "            misclassified += 1\n",
    "    print line\n",
    "#print final output\n",
    "print \"Misclassified: \" + str(misclassified) + \" which means this has an accuracy of \" + str(100-misclassified) + \"%\"\n",
    "    "
   ]
  },
  {
   "cell_type": "code",
   "execution_count": 36,
   "metadata": {
    "collapsed": false
   },
   "outputs": [],
   "source": [
    "#Check code\n",
    "#!cat enronemail_1h.txt | python mapper.py | python reducer.py"
   ]
  },
  {
   "cell_type": "code",
   "execution_count": 29,
   "metadata": {
    "collapsed": false
   },
   "outputs": [
    {
     "name": "stdout",
     "output_type": "stream",
     "text": [
      "starting yarn daemons\n",
      "starting resourcemanager, logging to /usr/local/Cellar/hadoop/2.7.1/libexec/logs/yarn-dunmireg-resourcemanager-Glenns-Air.home.out\n",
      "localhost: starting nodemanager, logging to /usr/local/Cellar/hadoop/2.7.1/libexec/logs/yarn-dunmireg-nodemanager-Glenns-Air.home.out\n",
      "16/01/25 21:24:55 WARN util.NativeCodeLoader: Unable to load native-hadoop library for your platform... using builtin-java classes where applicable\n",
      "Starting namenodes on [localhost]\n",
      "localhost: starting namenode, logging to /usr/local/Cellar/hadoop/2.7.1/libexec/logs/hadoop-dunmireg-namenode-Glenns-Air.home.out\n",
      "localhost: starting datanode, logging to /usr/local/Cellar/hadoop/2.7.1/libexec/logs/hadoop-dunmireg-datanode-Glenns-Air.home.out\n",
      "Starting secondary namenodes [0.0.0.0]\n",
      "0.0.0.0: starting secondarynamenode, logging to /usr/local/Cellar/hadoop/2.7.1/libexec/logs/hadoop-dunmireg-secondarynamenode-Glenns-Air.home.out\n",
      "16/01/25 21:25:10 WARN util.NativeCodeLoader: Unable to load native-hadoop library for your platform... using builtin-java classes where applicable\n"
     ]
    }
   ],
   "source": [
    "#Start hadoop yarn\n",
    "!/usr/local/Cellar/hadoop/2.7.1/sbin/start-yarn.sh\n",
    "!/usr/local/Cellar/hadoop/2.7.1/sbin/start-dfs.sh"
   ]
  },
  {
   "cell_type": "code",
   "execution_count": 14,
   "metadata": {
    "collapsed": false
   },
   "outputs": [
    {
     "name": "stdout",
     "output_type": "stream",
     "text": [
      "16/01/24 22:47:57 WARN util.NativeCodeLoader: Unable to load native-hadoop library for your platform... using builtin-java classes where applicable\r\n"
     ]
    }
   ],
   "source": [
    "#make directory\n",
    "#!hdfs dfs -mkdir -p /user/dunmireg"
   ]
  },
  {
   "cell_type": "code",
   "execution_count": 30,
   "metadata": {
    "collapsed": false
   },
   "outputs": [
    {
     "name": "stdout",
     "output_type": "stream",
     "text": [
      "16/01/25 21:25:15 WARN util.NativeCodeLoader: Unable to load native-hadoop library for your platform... using builtin-java classes where applicable\r\n"
     ]
    }
   ],
   "source": [
    "#add input to hdfs\n",
    "!hdfs dfs -put enronemail_1h.txt /user/dunmireg"
   ]
  },
  {
   "cell_type": "code",
   "execution_count": 31,
   "metadata": {
    "collapsed": false
   },
   "outputs": [
    {
     "name": "stdout",
     "output_type": "stream",
     "text": [
      "16/01/25 21:25:18 WARN util.NativeCodeLoader: Unable to load native-hadoop library for your platform... using builtin-java classes where applicable\n",
      "16/01/25 21:25:19 INFO Configuration.deprecation: session.id is deprecated. Instead, use dfs.metrics.session-id\n",
      "16/01/25 21:25:19 INFO jvm.JvmMetrics: Initializing JVM Metrics with processName=JobTracker, sessionId=\n",
      "16/01/25 21:25:19 INFO jvm.JvmMetrics: Cannot initialize JVM Metrics with processName=JobTracker, sessionId= - already initialized\n",
      "16/01/25 21:25:19 INFO mapred.FileInputFormat: Total input paths to process : 1\n",
      "16/01/25 21:25:19 INFO mapreduce.JobSubmitter: number of splits:1\n",
      "16/01/25 21:25:19 INFO mapreduce.JobSubmitter: Submitting tokens for job: job_local1852274356_0001\n",
      "16/01/25 21:25:19 INFO mapreduce.Job: The url to track the job: http://localhost:8080/\n",
      "16/01/25 21:25:19 INFO mapreduce.Job: Running job: job_local1852274356_0001\n",
      "16/01/25 21:25:19 INFO mapred.LocalJobRunner: OutputCommitter set in config null\n",
      "16/01/25 21:25:19 INFO mapred.LocalJobRunner: OutputCommitter is org.apache.hadoop.mapred.FileOutputCommitter\n",
      "16/01/25 21:25:19 INFO output.FileOutputCommitter: File Output Committer Algorithm version is 1\n",
      "16/01/25 21:25:20 INFO mapred.LocalJobRunner: Waiting for map tasks\n",
      "16/01/25 21:25:20 INFO mapred.LocalJobRunner: Starting task: attempt_local1852274356_0001_m_000000_0\n",
      "16/01/25 21:25:20 INFO output.FileOutputCommitter: File Output Committer Algorithm version is 1\n",
      "16/01/25 21:25:20 INFO util.ProcfsBasedProcessTree: ProcfsBasedProcessTree currently is supported only on Linux.\n",
      "16/01/25 21:25:20 INFO mapred.Task:  Using ResourceCalculatorProcessTree : null\n",
      "16/01/25 21:25:20 INFO mapred.MapTask: Processing split: hdfs://localhost:9000/user/dunmireg/enronemail_1h.txt:0+204658\n",
      "16/01/25 21:25:20 INFO mapred.MapTask: numReduceTasks: 1\n",
      "16/01/25 21:25:20 INFO mapred.MapTask: (EQUATOR) 0 kvi 26214396(104857584)\n",
      "16/01/25 21:25:20 INFO mapred.MapTask: mapreduce.task.io.sort.mb: 100\n",
      "16/01/25 21:25:20 INFO mapred.MapTask: soft limit at 83886080\n",
      "16/01/25 21:25:20 INFO mapred.MapTask: bufstart = 0; bufvoid = 104857600\n",
      "16/01/25 21:25:20 INFO mapred.MapTask: kvstart = 26214396; length = 6553600\n",
      "16/01/25 21:25:20 INFO mapred.MapTask: Map output collector class = org.apache.hadoop.mapred.MapTask$MapOutputBuffer\n",
      "16/01/25 21:25:20 INFO streaming.PipeMapRed: PipeMapRed exec [/Users/dunmireg/Documents/261HW/HW2/./mapper.py]\n",
      "16/01/25 21:25:20 INFO Configuration.deprecation: mapred.tip.id is deprecated. Instead, use mapreduce.task.id\n",
      "16/01/25 21:25:20 INFO Configuration.deprecation: mapred.local.dir is deprecated. Instead, use mapreduce.cluster.local.dir\n",
      "16/01/25 21:25:20 INFO Configuration.deprecation: map.input.file is deprecated. Instead, use mapreduce.map.input.file\n",
      "16/01/25 21:25:20 INFO Configuration.deprecation: mapred.skip.on is deprecated. Instead, use mapreduce.job.skiprecords\n",
      "16/01/25 21:25:20 INFO Configuration.deprecation: map.input.length is deprecated. Instead, use mapreduce.map.input.length\n",
      "16/01/25 21:25:20 INFO Configuration.deprecation: mapred.work.output.dir is deprecated. Instead, use mapreduce.task.output.dir\n",
      "16/01/25 21:25:20 INFO Configuration.deprecation: map.input.start is deprecated. Instead, use mapreduce.map.input.start\n",
      "16/01/25 21:25:20 INFO Configuration.deprecation: mapred.job.id is deprecated. Instead, use mapreduce.job.id\n",
      "16/01/25 21:25:20 INFO Configuration.deprecation: user.name is deprecated. Instead, use mapreduce.job.user.name\n",
      "16/01/25 21:25:20 INFO Configuration.deprecation: mapred.task.is.map is deprecated. Instead, use mapreduce.task.ismap\n",
      "16/01/25 21:25:20 INFO Configuration.deprecation: mapred.task.id is deprecated. Instead, use mapreduce.task.attempt.id\n",
      "16/01/25 21:25:20 INFO Configuration.deprecation: mapred.task.partition is deprecated. Instead, use mapreduce.task.partition\n",
      "16/01/25 21:25:20 INFO streaming.PipeMapRed: R/W/S=1/0/0 in:NA [rec/s] out:NA [rec/s]\n",
      "16/01/25 21:25:20 INFO streaming.PipeMapRed: R/W/S=10/0/0 in:NA [rec/s] out:NA [rec/s]\n",
      "16/01/25 21:25:20 INFO mapreduce.Job: Job job_local1852274356_0001 running in uber mode : false\n",
      "16/01/25 21:25:20 INFO mapreduce.Job:  map 0% reduce 0%\n",
      "16/01/25 21:25:21 INFO streaming.PipeMapRed: R/W/S=100/0/0 in:100=100/1 [rec/s] out:0=0/1 [rec/s]\n",
      "16/01/25 21:25:24 INFO streaming.PipeMapRed: MRErrorThread done\n",
      "16/01/25 21:25:24 INFO streaming.PipeMapRed: Records R/W=100/1\n",
      "16/01/25 21:25:24 INFO streaming.PipeMapRed: mapRedFinished\n",
      "16/01/25 21:25:24 INFO mapred.LocalJobRunner: \n",
      "16/01/25 21:25:24 INFO mapred.MapTask: Starting flush of map output\n",
      "16/01/25 21:25:24 INFO mapred.MapTask: Spilling map output\n",
      "16/01/25 21:25:24 INFO mapred.MapTask: bufstart = 0; bufend = 4284; bufvoid = 104857600\n",
      "16/01/25 21:25:24 INFO mapred.MapTask: kvstart = 26214396(104857584); kvend = 26214000(104856000); length = 397/6553600\n",
      "16/01/25 21:25:24 INFO mapred.MapTask: Finished spill 0\n",
      "16/01/25 21:25:24 INFO mapred.Task: Task:attempt_local1852274356_0001_m_000000_0 is done. And is in the process of committing\n",
      "16/01/25 21:25:24 INFO mapred.LocalJobRunner: Records R/W=100/1\n",
      "16/01/25 21:25:24 INFO mapred.Task: Task 'attempt_local1852274356_0001_m_000000_0' done.\n",
      "16/01/25 21:25:24 INFO mapred.LocalJobRunner: Finishing task: attempt_local1852274356_0001_m_000000_0\n",
      "16/01/25 21:25:24 INFO mapred.LocalJobRunner: map task executor complete.\n",
      "16/01/25 21:25:24 INFO mapred.LocalJobRunner: Waiting for reduce tasks\n",
      "16/01/25 21:25:24 INFO mapred.LocalJobRunner: Starting task: attempt_local1852274356_0001_r_000000_0\n",
      "16/01/25 21:25:24 INFO output.FileOutputCommitter: File Output Committer Algorithm version is 1\n",
      "16/01/25 21:25:24 INFO util.ProcfsBasedProcessTree: ProcfsBasedProcessTree currently is supported only on Linux.\n",
      "16/01/25 21:25:24 INFO mapred.Task:  Using ResourceCalculatorProcessTree : null\n",
      "16/01/25 21:25:24 INFO mapred.ReduceTask: Using ShuffleConsumerPlugin: org.apache.hadoop.mapreduce.task.reduce.Shuffle@1e469b74\n",
      "16/01/25 21:25:24 INFO reduce.MergeManagerImpl: MergerManager: memoryLimit=334338464, maxSingleShuffleLimit=83584616, mergeThreshold=220663392, ioSortFactor=10, memToMemMergeOutputsThreshold=10\n",
      "16/01/25 21:25:24 INFO reduce.EventFetcher: attempt_local1852274356_0001_r_000000_0 Thread started: EventFetcher for fetching Map Completion Events\n",
      "16/01/25 21:25:24 INFO reduce.LocalFetcher: localfetcher#1 about to shuffle output of map attempt_local1852274356_0001_m_000000_0 decomp: 4486 len: 4490 to MEMORY\n",
      "16/01/25 21:25:24 INFO reduce.InMemoryMapOutput: Read 4486 bytes from map-output for attempt_local1852274356_0001_m_000000_0\n",
      "16/01/25 21:25:24 INFO reduce.MergeManagerImpl: closeInMemoryFile -> map-output of size: 4486, inMemoryMapOutputs.size() -> 1, commitMemory -> 0, usedMemory ->4486\n",
      "16/01/25 21:25:24 INFO reduce.EventFetcher: EventFetcher is interrupted.. Returning\n",
      "16/01/25 21:25:24 INFO mapred.LocalJobRunner: 1 / 1 copied.\n",
      "16/01/25 21:25:24 INFO reduce.MergeManagerImpl: finalMerge called with 1 in-memory map-outputs and 0 on-disk map-outputs\n",
      "16/01/25 21:25:24 INFO mapred.Merger: Merging 1 sorted segments\n",
      "16/01/25 21:25:24 INFO mapred.Merger: Down to the last merge-pass, with 1 segments left of total size: 4461 bytes\n",
      "16/01/25 21:25:24 INFO reduce.MergeManagerImpl: Merged 1 segments, 4486 bytes to disk to satisfy reduce memory limit\n",
      "16/01/25 21:25:24 INFO reduce.MergeManagerImpl: Merging 1 files, 4490 bytes from disk\n",
      "16/01/25 21:25:24 INFO reduce.MergeManagerImpl: Merging 0 segments, 0 bytes from memory into reduce\n",
      "16/01/25 21:25:24 INFO mapred.Merger: Merging 1 sorted segments\n",
      "16/01/25 21:25:24 INFO mapred.Merger: Down to the last merge-pass, with 1 segments left of total size: 4461 bytes\n",
      "16/01/25 21:25:24 INFO mapred.LocalJobRunner: 1 / 1 copied.\n",
      "16/01/25 21:25:24 INFO streaming.PipeMapRed: PipeMapRed exec [/Users/dunmireg/Documents/261HW/HW2/./reducer.py]\n",
      "16/01/25 21:25:24 INFO Configuration.deprecation: mapred.job.tracker is deprecated. Instead, use mapreduce.jobtracker.address\n",
      "16/01/25 21:25:24 INFO Configuration.deprecation: mapred.map.tasks is deprecated. Instead, use mapreduce.job.maps\n",
      "16/01/25 21:25:24 INFO streaming.PipeMapRed: R/W/S=1/0/0 in:NA [rec/s] out:NA [rec/s]\n",
      "16/01/25 21:25:24 INFO streaming.PipeMapRed: R/W/S=10/0/0 in:NA [rec/s] out:NA [rec/s]\n",
      "16/01/25 21:25:24 INFO streaming.PipeMapRed: R/W/S=100/0/0 in:NA [rec/s] out:NA [rec/s]\n",
      "16/01/25 21:25:24 INFO streaming.PipeMapRed: MRErrorThread done\n",
      "16/01/25 21:25:24 INFO streaming.PipeMapRed: Records R/W=100/1\n",
      "16/01/25 21:25:24 INFO streaming.PipeMapRed: mapRedFinished\n",
      "16/01/25 21:25:24 INFO mapred.Task: Task:attempt_local1852274356_0001_r_000000_0 is done. And is in the process of committing\n",
      "16/01/25 21:25:24 INFO mapred.LocalJobRunner: 1 / 1 copied.\n",
      "16/01/25 21:25:24 INFO mapred.Task: Task attempt_local1852274356_0001_r_000000_0 is allowed to commit now\n",
      "16/01/25 21:25:24 INFO output.FileOutputCommitter: Saved output of task 'attempt_local1852274356_0001_r_000000_0' to hdfs://localhost:9000/user/dunmireg/enroneEmailClassLaplace/_temporary/0/task_local1852274356_0001_r_000000\n",
      "16/01/25 21:25:24 INFO mapred.LocalJobRunner: Records R/W=100/1 > reduce\n",
      "16/01/25 21:25:24 INFO mapred.Task: Task 'attempt_local1852274356_0001_r_000000_0' done.\n",
      "16/01/25 21:25:24 INFO mapred.LocalJobRunner: Finishing task: attempt_local1852274356_0001_r_000000_0\n",
      "16/01/25 21:25:24 INFO mapred.LocalJobRunner: reduce task executor complete.\n",
      "16/01/25 21:25:24 INFO mapreduce.Job:  map 100% reduce 100%\n",
      "16/01/25 21:25:24 INFO mapreduce.Job: Job job_local1852274356_0001 completed successfully\n",
      "16/01/25 21:25:24 INFO mapreduce.Job: Counters: 35\n",
      "\tFile System Counters\n",
      "\t\tFILE: Number of bytes read=221096\n",
      "\t\tFILE: Number of bytes written=815310\n",
      "\t\tFILE: Number of read operations=0\n",
      "\t\tFILE: Number of large read operations=0\n",
      "\t\tFILE: Number of write operations=0\n",
      "\t\tHDFS: Number of bytes read=409316\n",
      "\t\tHDFS: Number of bytes written=4343\n",
      "\t\tHDFS: Number of read operations=13\n",
      "\t\tHDFS: Number of large read operations=0\n",
      "\t\tHDFS: Number of write operations=4\n",
      "\tMap-Reduce Framework\n",
      "\t\tMap input records=100\n",
      "\t\tMap output records=100\n",
      "\t\tMap output bytes=4284\n",
      "\t\tMap output materialized bytes=4490\n",
      "\t\tInput split bytes=105\n",
      "\t\tCombine input records=0\n",
      "\t\tCombine output records=0\n",
      "\t\tReduce input groups=100\n",
      "\t\tReduce shuffle bytes=4490\n",
      "\t\tReduce input records=100\n",
      "\t\tReduce output records=101\n",
      "\t\tSpilled Records=200\n",
      "\t\tShuffled Maps =1\n",
      "\t\tFailed Shuffles=0\n",
      "\t\tMerged Map outputs=1\n",
      "\t\tGC time elapsed (ms)=0\n",
      "\t\tTotal committed heap usage (bytes)=622854144\n",
      "\tShuffle Errors\n",
      "\t\tBAD_ID=0\n",
      "\t\tCONNECTION=0\n",
      "\t\tIO_ERROR=0\n",
      "\t\tWRONG_LENGTH=0\n",
      "\t\tWRONG_MAP=0\n",
      "\t\tWRONG_REDUCE=0\n",
      "\tFile Input Format Counters \n",
      "\t\tBytes Read=204658\n",
      "\tFile Output Format Counters \n",
      "\t\tBytes Written=4343\n",
      "16/01/25 21:25:24 INFO streaming.StreamJob: Output directory: enroneEmailClassLaplace\n"
     ]
    }
   ],
   "source": [
    "!hadoop jar /usr/local/Cellar/hadoop/2.7.1/libexec/share/hadoop/tools/lib/hadoop-streaming-2.7.1.jar \\\n",
    "-mapper mapper.py \\\n",
    "-reducer reducer.py \\\n",
    "-input enronemail_1h.txt \\\n",
    "-output enroneEmailClassLaplace"
   ]
  },
  {
   "cell_type": "code",
   "execution_count": 35,
   "metadata": {
    "collapsed": false
   },
   "outputs": [],
   "source": [
    "#Check output\n",
    "#!hdfs dfs -cat /user/dunmireg/enroneEmailClassLaplace/part-00000"
   ]
  },
  {
   "cell_type": "code",
   "execution_count": 32,
   "metadata": {
    "collapsed": false
   },
   "outputs": [
    {
     "name": "stdout",
     "output_type": "stream",
     "text": [
      "16/01/25 21:25:30 WARN util.NativeCodeLoader: Unable to load native-hadoop library for your platform... using builtin-java classes where applicable\n",
      "16/01/25 21:25:30 WARN hdfs.DFSClient: DFSInputStream has been closed already\n",
      "16/01/25 21:25:30 WARN hdfs.DFSClient: DFSInputStream has been closed already\n"
     ]
    }
   ],
   "source": [
    "!hadoop fs -copyToLocal /user/dunmireg/enroneEmailClassLaplace"
   ]
  },
  {
   "cell_type": "code",
   "execution_count": 33,
   "metadata": {
    "collapsed": false
   },
   "outputs": [
    {
     "name": "stdout",
     "output_type": "stream",
     "text": [
      "rmr: DEPRECATED: Please use 'rm -r' instead.\n",
      "16/01/25 21:25:32 WARN util.NativeCodeLoader: Unable to load native-hadoop library for your platform... using builtin-java classes where applicable\n",
      "16/01/25 21:25:33 INFO fs.TrashPolicyDefault: Namenode trash configuration: Deletion interval = 0 minutes, Emptier interval = 0 minutes.\n",
      "Deleted /user/dunmireg/enronemail_1h.txt\n",
      "rmr: DEPRECATED: Please use 'rm -r' instead.\n",
      "16/01/25 21:25:34 WARN util.NativeCodeLoader: Unable to load native-hadoop library for your platform... using builtin-java classes where applicable\n",
      "16/01/25 21:25:35 INFO fs.TrashPolicyDefault: Namenode trash configuration: Deletion interval = 0 minutes, Emptier interval = 0 minutes.\n",
      "Deleted /user/dunmireg/enroneEmailClassLaplace\n",
      "stopping yarn daemons\n",
      "stopping resourcemanager\n",
      "localhost: stopping nodemanager\n",
      "no proxyserver to stop\n",
      "16/01/25 21:25:46 WARN util.NativeCodeLoader: Unable to load native-hadoop library for your platform... using builtin-java classes where applicable\n",
      "Stopping namenodes on [localhost]\n",
      "localhost: stopping namenode\n",
      "localhost: stopping datanode\n",
      "Stopping secondary namenodes [0.0.0.0]\n",
      "0.0.0.0: stopping secondarynamenode\n",
      "16/01/25 21:26:05 WARN util.NativeCodeLoader: Unable to load native-hadoop library for your platform... using builtin-java classes where applicable\n"
     ]
    }
   ],
   "source": [
    "#Remove output directory and stop yarn and hdfs\n",
    "!hadoop fs -rmr /user/dunmireg/enronemail_1h.txt\n",
    "!hadoop fs -rmr /user/dunmireg/enroneEmailClassLaplace\n",
    "!/usr/local/Cellar/hadoop/2.7.1/sbin/stop-yarn.sh\n",
    "!/usr/local/Cellar/hadoop/2.7.1/sbin/stop-dfs.sh"
   ]
  },
  {
   "cell_type": "code",
   "execution_count": 34,
   "metadata": {
    "collapsed": false
   },
   "outputs": [
    {
     "name": "stdout",
     "output_type": "stream",
     "text": [
      "Misclassified: 0 which means this has an accuracy of 100%\t\n",
      "\n"
     ]
    }
   ],
   "source": [
    "#Display outputs from results file\n",
    "import os\n",
    "\n",
    "with open(os.path.join('./enroneEmailClassLaplace', 'part-00000'), 'r') as myfile:\n",
    "    lines = myfile.readlines() #read file\n",
    "    lines = lines[-1:] #get last 3 lines\n",
    "    for line in lines:\n",
    "        print line #print results"
   ]
  },
  {
   "cell_type": "code",
   "execution_count": 8,
   "metadata": {
    "collapsed": false
   },
   "outputs": [
    {
     "data": {
      "image/png": "[encoded data removed]",
      "text/plain": [
       "<matplotlib.figure.Figure at 0x107496390>"
      ]
     },
     "metadata": {},
     "output_type": "display_data"
    },
    {
     "data": {
      "image/png": "[encoded data removed]",
      "text/plain": [
       "<matplotlib.figure.Figure at 0x1076b5790>"
      ]
     },
     "metadata": {},
     "output_type": "display_data"
    }
   ],
   "source": [
    "%matplotlib inline\n",
    "#Make histogram\n",
    "import os\n",
    "import matplotlib.pyplot as plt\n",
    "\n",
    "spam_probs = [] #list of spam probabilities\n",
    "ham_probs = [] #list of ham probabilities\n",
    "with open(os.path.join('./enroneEmailClassLaplace', 'part-00000'), 'r') as myfile: #read file\n",
    "    lines = myfile.readlines() \n",
    "    for line in lines[:-1]: #exclude last line which has results\n",
    "        components = line.split('\\t')\n",
    "        spam_probs.append(float(components[3]))\n",
    "        ham_probs.append(float(components[4]))\n",
    "\n",
    "s = plt.figure(1)\n",
    "plt.hist(spam_probs)\n",
    "plt.xlabel = \"Probability\"\n",
    "plt.ylabel = \"Frequency\"\n",
    "plt.title(\"Spam Exp Probabilities w/ Laplace Histogram\")\n",
    "\n",
    "h = plt.figure(2)\n",
    "plt.hist(ham_probs)\n",
    "plt.xlabel = \"Probability\"\n",
    "plt.ylabel = \"Frequency\"\n",
    "plt.title(\"Ham Exp Probabilties w/ Laplace Histogram\")\n",
    "plt.show()"
   ]
  },
  {
   "cell_type": "markdown",
   "metadata": {},
   "source": [
    "#### Summary\n",
    "\n",
    "The misclassification rate of the no smoothing classifier was 0, which is the same as the misclassification rate of this laplace classifier. This probably has to do with the fact that in my earlier classifier I was doing a form of smoothing by adding a very small number to the probability for a word that did not appear in a class. \n",
    "\n",
    "In this case I am seeing broadly the same trends. That is, the majority of words have a very small probability of either class but a handful of words seem to have an outsized impact on classification. It is interesting to note that in the previous (no smoothing) classifier the 'classifier words' in ham actually had a larger impact on score than the 'classifier' words in spam. In this case, the situation is reversed, with the 'classifier' words in spam having a larger impact than the words in ham "
   ]
  },
  {
   "cell_type": "markdown",
   "metadata": {
    "collapsed": true
   },
   "source": [
    "### HW2.5. \n",
    "\n",
    "Repeat HW2.4. This time when modeling and classification ignore tokens with a frequency of less than three (3) in the training set. How does it affect the misclassifcation error of learnt naive multinomial Bayesian Classifier on the training dataset:"
   ]
  },
  {
   "cell_type": "code",
   "execution_count": 36,
   "metadata": {
    "collapsed": false
   },
   "outputs": [
    {
     "name": "stdout",
     "output_type": "stream",
     "text": [
      "Overwriting mapper.py\n"
     ]
    }
   ],
   "source": [
    "%%writefile mapper.py\n",
    "#!/usr/bin/python\n",
    "\n",
    "import sys\n",
    "import re\n",
    "WORD_RE = re.compile(r\"[\\w']+\") #regex for word classification\n",
    "\n",
    "for line in sys.stdin:\n",
    "    components = line.split('\\t') #split inpput\n",
    "    text = \" \".join(components[-2:]).strip() #combine subject and content into text field\n",
    "    words = re.findall(WORD_RE, text)\n",
    "    for word in words:\n",
    "        print components[0] + '\\t' + word + '\\t' + components[1] #print ID, word, spam flag"
   ]
  },
  {
   "cell_type": "code",
   "execution_count": 37,
   "metadata": {
    "collapsed": false
   },
   "outputs": [
    {
     "name": "stdout",
     "output_type": "stream",
     "text": [
      "Overwriting reducer.py\n"
     ]
    }
   ],
   "source": [
    "%%writefile reducer.py\n",
    "#!/usr/bin/python\n",
    "import sys\n",
    "\n",
    "emails = set() #hold email IDs\n",
    "words = {} #hold words and associated counts\n",
    "spam_emails = 0 #how many emails are marked as spam\n",
    "spam_word_count = 0 #how many words in spam\n",
    "ham_word_count = 0 #how many words in ham\n",
    "vocab = set() #unique words in all text\n",
    "\n",
    "for line in sys.stdin:\n",
    "    line = line.strip()\n",
    "    line = line.rstrip()\n",
    "    components = line.split('\\t') #split input\n",
    "    \n",
    "    ID = components[0] #put input into appropriate variables\n",
    "    word = components[1]\n",
    "    spam = int(components[2])\n",
    "    \n",
    "    if word not in words.keys(): #add word to words dictionary, give it spam and ham counts\n",
    "        words[word] = {'spam_count': 0, 'ham_count': 0}\n",
    "        vocab.add(word)\n",
    "    if ID not in emails: \n",
    "        emails.add(ID)\n",
    "        if spam == 1: #increment spam counter\n",
    "            spam_emails += 1\n",
    "        \n",
    "\n",
    "    if spam == 1: #if email is spam, increment the spam counter, otherwise increment ham counter\n",
    "        words[word]['spam_count'] += 1\n",
    "        spam_word_count += 1\n",
    "    else:\n",
    "        words[word]['ham_count'] += 1\n",
    "        ham_word_count += 1\n",
    "\n",
    "\n",
    "prior_spam = float(spam_emails)/len(emails) #get prior probabilities\n",
    "prior_ham = 1-prior_spam\n",
    "\n",
    "for word in words.keys(): #remove words that have less than 3 counts from dictionary\n",
    "    if words[word]['spam_count'] + words[word]['ham_count'] < 3:\n",
    "        del words[word]\n",
    "\n",
    "for i, word in words.iteritems(): #use laplace smoother to get conditional probabilities\n",
    "    word['spam_like'] = float(word['spam_count'] + 1)/(spam_word_count + len(vocab))\n",
    "    word['ham_like'] = float(word['ham_count'] + 1)/(ham_word_count + len(vocab))\n",
    "    \n",
    "\n",
    "print prior_spam #output ham and spam priors\n",
    "print prior_ham\n",
    "for word in words.keys():\n",
    "    #Word \"\\t\" spam likelihood '\\t' ham likelihood written to file\n",
    "    print word + '\\t' + str(words[word]['spam_like']) + '\\t' + str(words[word]['ham_like']) "
   ]
  },
  {
   "cell_type": "code",
   "execution_count": 38,
   "metadata": {
    "collapsed": false
   },
   "outputs": [
    {
     "name": "stdout",
     "output_type": "stream",
     "text": [
      "starting yarn daemons\n",
      "starting resourcemanager, logging to /usr/local/Cellar/hadoop/2.7.1/libexec/logs/yarn-dunmireg-resourcemanager-Glenns-Air.home.out\n",
      "localhost: starting nodemanager, logging to /usr/local/Cellar/hadoop/2.7.1/libexec/logs/yarn-dunmireg-nodemanager-Glenns-Air.home.out\n",
      "16/01/25 21:27:14 WARN util.NativeCodeLoader: Unable to load native-hadoop library for your platform... using builtin-java classes where applicable\n",
      "Starting namenodes on [localhost]\n",
      "localhost: starting namenode, logging to /usr/local/Cellar/hadoop/2.7.1/libexec/logs/hadoop-dunmireg-namenode-Glenns-Air.home.out\n",
      "localhost: starting datanode, logging to /usr/local/Cellar/hadoop/2.7.1/libexec/logs/hadoop-dunmireg-datanode-Glenns-Air.home.out\n",
      "Starting secondary namenodes [0.0.0.0]\n",
      "0.0.0.0: starting secondarynamenode, logging to /usr/local/Cellar/hadoop/2.7.1/libexec/logs/hadoop-dunmireg-secondarynamenode-Glenns-Air.home.out\n",
      "16/01/25 21:27:29 WARN util.NativeCodeLoader: Unable to load native-hadoop library for your platform... using builtin-java classes where applicable\n"
     ]
    }
   ],
   "source": [
    "#Start hadoop yarn\n",
    "!/usr/local/Cellar/hadoop/2.7.1/sbin/start-yarn.sh\n",
    "!/usr/local/Cellar/hadoop/2.7.1/sbin/start-dfs.sh"
   ]
  },
  {
   "cell_type": "code",
   "execution_count": 39,
   "metadata": {
    "collapsed": false
   },
   "outputs": [
    {
     "name": "stdout",
     "output_type": "stream",
     "text": [
      "16/01/25 21:27:50 WARN util.NativeCodeLoader: Unable to load native-hadoop library for your platform... using builtin-java classes where applicable\r\n"
     ]
    }
   ],
   "source": [
    "#add input to hdfs\n",
    "!hdfs dfs -put enronemail_1h.txt /user/dunmireg"
   ]
  },
  {
   "cell_type": "code",
   "execution_count": 40,
   "metadata": {
    "collapsed": false
   },
   "outputs": [
    {
     "name": "stdout",
     "output_type": "stream",
     "text": [
      "16/01/25 21:27:54 WARN util.NativeCodeLoader: Unable to load native-hadoop library for your platform... using builtin-java classes where applicable\n",
      "16/01/25 21:27:54 INFO Configuration.deprecation: session.id is deprecated. Instead, use dfs.metrics.session-id\n",
      "16/01/25 21:27:54 INFO jvm.JvmMetrics: Initializing JVM Metrics with processName=JobTracker, sessionId=\n",
      "16/01/25 21:27:54 INFO jvm.JvmMetrics: Cannot initialize JVM Metrics with processName=JobTracker, sessionId= - already initialized\n",
      "16/01/25 21:27:55 INFO mapred.FileInputFormat: Total input paths to process : 1\n",
      "16/01/25 21:27:55 INFO mapreduce.JobSubmitter: number of splits:1\n",
      "16/01/25 21:27:55 INFO mapreduce.JobSubmitter: Submitting tokens for job: job_local1432961765_0001\n",
      "16/01/25 21:27:55 INFO mapreduce.Job: The url to track the job: http://localhost:8080/\n",
      "16/01/25 21:27:55 INFO mapreduce.Job: Running job: job_local1432961765_0001\n",
      "16/01/25 21:27:55 INFO mapred.LocalJobRunner: OutputCommitter set in config null\n",
      "16/01/25 21:27:55 INFO mapred.LocalJobRunner: OutputCommitter is org.apache.hadoop.mapred.FileOutputCommitter\n",
      "16/01/25 21:27:55 INFO output.FileOutputCommitter: File Output Committer Algorithm version is 1\n",
      "16/01/25 21:27:55 INFO mapred.LocalJobRunner: Waiting for map tasks\n",
      "16/01/25 21:27:55 INFO mapred.LocalJobRunner: Starting task: attempt_local1432961765_0001_m_000000_0\n",
      "16/01/25 21:27:55 INFO output.FileOutputCommitter: File Output Committer Algorithm version is 1\n",
      "16/01/25 21:27:55 INFO util.ProcfsBasedProcessTree: ProcfsBasedProcessTree currently is supported only on Linux.\n",
      "16/01/25 21:27:55 INFO mapred.Task:  Using ResourceCalculatorProcessTree : null\n",
      "16/01/25 21:27:55 INFO mapred.MapTask: Processing split: hdfs://localhost:9000/user/dunmireg/enronemail_1h.txt:0+204658\n",
      "16/01/25 21:27:55 INFO mapred.MapTask: numReduceTasks: 1\n",
      "16/01/25 21:27:55 INFO mapred.MapTask: (EQUATOR) 0 kvi 26214396(104857584)\n",
      "16/01/25 21:27:55 INFO mapred.MapTask: mapreduce.task.io.sort.mb: 100\n",
      "16/01/25 21:27:55 INFO mapred.MapTask: soft limit at 83886080\n",
      "16/01/25 21:27:55 INFO mapred.MapTask: bufstart = 0; bufvoid = 104857600\n",
      "16/01/25 21:27:55 INFO mapred.MapTask: kvstart = 26214396; length = 6553600\n",
      "16/01/25 21:27:55 INFO mapred.MapTask: Map output collector class = org.apache.hadoop.mapred.MapTask$MapOutputBuffer\n",
      "16/01/25 21:27:55 INFO streaming.PipeMapRed: PipeMapRed exec [/Users/dunmireg/Documents/261HW/HW2/./mapper.py]\n",
      "16/01/25 21:27:55 INFO Configuration.deprecation: mapred.tip.id is deprecated. Instead, use mapreduce.task.id\n",
      "16/01/25 21:27:55 INFO Configuration.deprecation: mapred.local.dir is deprecated. Instead, use mapreduce.cluster.local.dir\n",
      "16/01/25 21:27:55 INFO Configuration.deprecation: map.input.file is deprecated. Instead, use mapreduce.map.input.file\n",
      "16/01/25 21:27:55 INFO Configuration.deprecation: mapred.skip.on is deprecated. Instead, use mapreduce.job.skiprecords\n",
      "16/01/25 21:27:55 INFO Configuration.deprecation: map.input.length is deprecated. Instead, use mapreduce.map.input.length\n",
      "16/01/25 21:27:55 INFO Configuration.deprecation: mapred.work.output.dir is deprecated. Instead, use mapreduce.task.output.dir\n",
      "16/01/25 21:27:55 INFO Configuration.deprecation: map.input.start is deprecated. Instead, use mapreduce.map.input.start\n",
      "16/01/25 21:27:55 INFO Configuration.deprecation: mapred.job.id is deprecated. Instead, use mapreduce.job.id\n",
      "16/01/25 21:27:55 INFO Configuration.deprecation: user.name is deprecated. Instead, use mapreduce.job.user.name\n",
      "16/01/25 21:27:55 INFO Configuration.deprecation: mapred.task.is.map is deprecated. Instead, use mapreduce.task.ismap\n",
      "16/01/25 21:27:55 INFO Configuration.deprecation: mapred.task.id is deprecated. Instead, use mapreduce.task.attempt.id\n",
      "16/01/25 21:27:55 INFO Configuration.deprecation: mapred.task.partition is deprecated. Instead, use mapreduce.task.partition\n",
      "16/01/25 21:27:55 INFO streaming.PipeMapRed: R/W/S=1/0/0 in:NA [rec/s] out:NA [rec/s]\n",
      "16/01/25 21:27:55 INFO streaming.PipeMapRed: R/W/S=10/0/0 in:NA [rec/s] out:NA [rec/s]\n",
      "16/01/25 21:27:55 INFO streaming.PipeMapRed: Records R/W=72/1\n",
      "16/01/25 21:27:56 INFO streaming.PipeMapRed: R/W/S=100/19097/0 in:NA [rec/s] out:NA [rec/s]\n",
      "16/01/25 21:27:56 INFO streaming.PipeMapRed: MRErrorThread done\n",
      "16/01/25 21:27:56 INFO streaming.PipeMapRed: mapRedFinished\n",
      "16/01/25 21:27:56 INFO mapred.LocalJobRunner: \n",
      "16/01/25 21:27:56 INFO mapred.MapTask: Starting flush of map output\n",
      "16/01/25 21:27:56 INFO mapred.MapTask: Spilling map output\n",
      "16/01/25 21:27:56 INFO mapred.MapTask: bufstart = 0; bufend = 1032108; bufvoid = 104857600\n",
      "16/01/25 21:27:56 INFO mapred.MapTask: kvstart = 26214396(104857584); kvend = 26082748(104330992); length = 131649/6553600\n",
      "16/01/25 21:27:56 INFO mapred.MapTask: Finished spill 0\n",
      "16/01/25 21:27:56 INFO mapred.Task: Task:attempt_local1432961765_0001_m_000000_0 is done. And is in the process of committing\n",
      "16/01/25 21:27:56 INFO mapred.LocalJobRunner: Records R/W=72/1\n",
      "16/01/25 21:27:56 INFO mapred.Task: Task 'attempt_local1432961765_0001_m_000000_0' done.\n",
      "16/01/25 21:27:56 INFO mapred.LocalJobRunner: Finishing task: attempt_local1432961765_0001_m_000000_0\n",
      "16/01/25 21:27:56 INFO mapred.LocalJobRunner: map task executor complete.\n",
      "16/01/25 21:27:56 INFO mapred.LocalJobRunner: Waiting for reduce tasks\n",
      "16/01/25 21:27:56 INFO mapred.LocalJobRunner: Starting task: attempt_local1432961765_0001_r_000000_0\n",
      "16/01/25 21:27:56 INFO output.FileOutputCommitter: File Output Committer Algorithm version is 1\n",
      "16/01/25 21:27:56 INFO util.ProcfsBasedProcessTree: ProcfsBasedProcessTree currently is supported only on Linux.\n",
      "16/01/25 21:27:56 INFO mapred.Task:  Using ResourceCalculatorProcessTree : null\n",
      "16/01/25 21:27:56 INFO mapred.ReduceTask: Using ShuffleConsumerPlugin: org.apache.hadoop.mapreduce.task.reduce.Shuffle@4a12a357\n",
      "16/01/25 21:27:56 INFO reduce.MergeManagerImpl: MergerManager: memoryLimit=334338464, maxSingleShuffleLimit=83584616, mergeThreshold=220663392, ioSortFactor=10, memToMemMergeOutputsThreshold=10\n",
      "16/01/25 21:27:56 INFO reduce.EventFetcher: attempt_local1432961765_0001_r_000000_0 Thread started: EventFetcher for fetching Map Completion Events\n",
      "16/01/25 21:27:56 INFO reduce.LocalFetcher: localfetcher#1 about to shuffle output of map attempt_local1432961765_0001_m_000000_0 decomp: 1097936 len: 1097940 to MEMORY\n",
      "16/01/25 21:27:56 INFO reduce.InMemoryMapOutput: Read 1097936 bytes from map-output for attempt_local1432961765_0001_m_000000_0\n",
      "16/01/25 21:27:56 INFO reduce.MergeManagerImpl: closeInMemoryFile -> map-output of size: 1097936, inMemoryMapOutputs.size() -> 1, commitMemory -> 0, usedMemory ->1097936\n",
      "16/01/25 21:27:56 INFO reduce.EventFetcher: EventFetcher is interrupted.. Returning\n",
      "16/01/25 21:27:56 INFO mapred.LocalJobRunner: 1 / 1 copied.\n",
      "16/01/25 21:27:56 INFO reduce.MergeManagerImpl: finalMerge called with 1 in-memory map-outputs and 0 on-disk map-outputs\n",
      "16/01/25 21:27:56 INFO mapred.Merger: Merging 1 sorted segments\n",
      "16/01/25 21:27:56 INFO mapred.Merger: Down to the last merge-pass, with 1 segments left of total size: 1097911 bytes\n",
      "16/01/25 21:27:56 INFO reduce.MergeManagerImpl: Merged 1 segments, 1097936 bytes to disk to satisfy reduce memory limit\n",
      "16/01/25 21:27:56 INFO reduce.MergeManagerImpl: Merging 1 files, 1097940 bytes from disk\n",
      "16/01/25 21:27:56 INFO reduce.MergeManagerImpl: Merging 0 segments, 0 bytes from memory into reduce\n",
      "16/01/25 21:27:56 INFO mapred.Merger: Merging 1 sorted segments\n",
      "16/01/25 21:27:56 INFO mapred.Merger: Down to the last merge-pass, with 1 segments left of total size: 1097911 bytes\n",
      "16/01/25 21:27:56 INFO mapred.LocalJobRunner: 1 / 1 copied.\n",
      "16/01/25 21:27:56 INFO streaming.PipeMapRed: PipeMapRed exec [/Users/dunmireg/Documents/261HW/HW2/./reducer.py]\n",
      "16/01/25 21:27:56 INFO Configuration.deprecation: mapred.job.tracker is deprecated. Instead, use mapreduce.jobtracker.address\n",
      "16/01/25 21:27:56 INFO Configuration.deprecation: mapred.map.tasks is deprecated. Instead, use mapreduce.job.maps\n",
      "16/01/25 21:27:56 INFO streaming.PipeMapRed: R/W/S=1/0/0 in:NA [rec/s] out:NA [rec/s]\n",
      "16/01/25 21:27:56 INFO streaming.PipeMapRed: R/W/S=10/0/0 in:NA [rec/s] out:NA [rec/s]\n",
      "16/01/25 21:27:56 INFO streaming.PipeMapRed: R/W/S=100/0/0 in:NA [rec/s] out:NA [rec/s]\n",
      "16/01/25 21:27:56 INFO streaming.PipeMapRed: R/W/S=1000/0/0 in:NA [rec/s] out:NA [rec/s]\n",
      "16/01/25 21:27:56 INFO streaming.PipeMapRed: R/W/S=10000/0/0 in:NA [rec/s] out:NA [rec/s]\n",
      "16/01/25 21:27:56 INFO mapreduce.Job: Job job_local1432961765_0001 running in uber mode : false\n",
      "16/01/25 21:27:56 INFO mapreduce.Job:  map 100% reduce 0%\n",
      "16/01/25 21:27:58 INFO streaming.PipeMapRed: Records R/W=32913/1\n",
      "16/01/25 21:27:58 INFO streaming.PipeMapRed: MRErrorThread done\n",
      "16/01/25 21:27:58 INFO streaming.PipeMapRed: mapRedFinished\n",
      "16/01/25 21:27:58 INFO mapred.Task: Task:attempt_local1432961765_0001_r_000000_0 is done. And is in the process of committing\n",
      "16/01/25 21:27:58 INFO mapred.LocalJobRunner: 1 / 1 copied.\n",
      "16/01/25 21:27:58 INFO mapred.Task: Task attempt_local1432961765_0001_r_000000_0 is allowed to commit now\n",
      "16/01/25 21:27:58 INFO output.FileOutputCommitter: Saved output of task 'attempt_local1432961765_0001_r_000000_0' to hdfs://localhost:9000/user/dunmireg/enroneEmailCondProb3/_temporary/0/task_local1432961765_0001_r_000000\n",
      "16/01/25 21:27:58 INFO mapred.LocalJobRunner: Records R/W=32913/1 > reduce\n",
      "16/01/25 21:27:58 INFO mapred.Task: Task 'attempt_local1432961765_0001_r_000000_0' done.\n",
      "16/01/25 21:27:58 INFO mapred.LocalJobRunner: Finishing task: attempt_local1432961765_0001_r_000000_0\n",
      "16/01/25 21:27:58 INFO mapred.LocalJobRunner: reduce task executor complete.\n",
      "16/01/25 21:27:59 INFO mapreduce.Job:  map 100% reduce 100%\n",
      "16/01/25 21:27:59 INFO mapreduce.Job: Job job_local1432961765_0001 completed successfully\n",
      "16/01/25 21:27:59 INFO mapreduce.Job: Counters: 35\n",
      "\tFile System Counters\n",
      "\t\tFILE: Number of bytes read=2407996\n",
      "\t\tFILE: Number of bytes written=4095648\n",
      "\t\tFILE: Number of read operations=0\n",
      "\t\tFILE: Number of large read operations=0\n",
      "\t\tFILE: Number of write operations=0\n",
      "\t\tHDFS: Number of bytes read=409316\n",
      "\t\tHDFS: Number of bytes written=79886\n",
      "\t\tHDFS: Number of read operations=13\n",
      "\t\tHDFS: Number of large read operations=0\n",
      "\t\tHDFS: Number of write operations=4\n",
      "\tMap-Reduce Framework\n",
      "\t\tMap input records=100\n",
      "\t\tMap output records=32913\n",
      "\t\tMap output bytes=1032108\n",
      "\t\tMap output materialized bytes=1097940\n",
      "\t\tInput split bytes=105\n",
      "\t\tCombine input records=0\n",
      "\t\tCombine output records=0\n",
      "\t\tReduce input groups=100\n",
      "\t\tReduce shuffle bytes=1097940\n",
      "\t\tReduce input records=32913\n",
      "\t\tReduce output records=1883\n",
      "\t\tSpilled Records=65826\n",
      "\t\tShuffled Maps =1\n",
      "\t\tFailed Shuffles=0\n",
      "\t\tMerged Map outputs=1\n",
      "\t\tGC time elapsed (ms)=8\n",
      "\t\tTotal committed heap usage (bytes)=511705088\n",
      "\tShuffle Errors\n",
      "\t\tBAD_ID=0\n",
      "\t\tCONNECTION=0\n",
      "\t\tIO_ERROR=0\n",
      "\t\tWRONG_LENGTH=0\n",
      "\t\tWRONG_MAP=0\n",
      "\t\tWRONG_REDUCE=0\n",
      "\tFile Input Format Counters \n",
      "\t\tBytes Read=204658\n",
      "\tFile Output Format Counters \n",
      "\t\tBytes Written=79886\n",
      "16/01/25 21:27:59 INFO streaming.StreamJob: Output directory: enroneEmailCondProb3\n"
     ]
    }
   ],
   "source": [
    "!hadoop jar /usr/local/Cellar/hadoop/2.7.1/libexec/share/hadoop/tools/lib/hadoop-streaming-2.7.1.jar \\\n",
    "-mapper mapper.py \\\n",
    "-reducer reducer.py \\\n",
    "-input enronemail_1h.txt \\\n",
    "-output enroneEmailCondProb3"
   ]
  },
  {
   "cell_type": "code",
   "execution_count": 41,
   "metadata": {
    "collapsed": false
   },
   "outputs": [
    {
     "name": "stdout",
     "output_type": "stream",
     "text": [
      "16/01/25 21:28:03 WARN util.NativeCodeLoader: Unable to load native-hadoop library for your platform... using builtin-java classes where applicable\n",
      "16/01/25 21:28:03 WARN hdfs.DFSClient: DFSInputStream has been closed already\n",
      "16/01/25 21:28:03 WARN hdfs.DFSClient: DFSInputStream has been closed already\n"
     ]
    }
   ],
   "source": [
    "!hadoop fs -copyToLocal /user/dunmireg/enroneEmailCondProb3"
   ]
  },
  {
   "cell_type": "code",
   "execution_count": 42,
   "metadata": {
    "collapsed": false
   },
   "outputs": [
    {
     "name": "stdout",
     "output_type": "stream",
     "text": [
      "rmr: DEPRECATED: Please use 'rm -r' instead.\n",
      "16/01/25 21:28:06 WARN util.NativeCodeLoader: Unable to load native-hadoop library for your platform... using builtin-java classes where applicable\n",
      "16/01/25 21:28:07 INFO fs.TrashPolicyDefault: Namenode trash configuration: Deletion interval = 0 minutes, Emptier interval = 0 minutes.\n",
      "Deleted /user/dunmireg/enronemail_1h.txt\n",
      "rmr: DEPRECATED: Please use 'rm -r' instead.\n",
      "16/01/25 21:28:08 WARN util.NativeCodeLoader: Unable to load native-hadoop library for your platform... using builtin-java classes where applicable\n",
      "16/01/25 21:28:08 INFO fs.TrashPolicyDefault: Namenode trash configuration: Deletion interval = 0 minutes, Emptier interval = 0 minutes.\n",
      "Deleted /user/dunmireg/enroneEmailCondProb3\n",
      "stopping yarn daemons\n",
      "stopping resourcemanager\n",
      "localhost: stopping nodemanager\n",
      "no proxyserver to stop\n",
      "16/01/25 21:28:20 WARN util.NativeCodeLoader: Unable to load native-hadoop library for your platform... using builtin-java classes where applicable\n",
      "Stopping namenodes on [localhost]\n",
      "localhost: stopping namenode\n",
      "localhost: stopping datanode\n",
      "Stopping secondary namenodes [0.0.0.0]\n",
      "0.0.0.0: stopping secondarynamenode\n",
      "16/01/25 21:28:38 WARN util.NativeCodeLoader: Unable to load native-hadoop library for your platform... using builtin-java classes where applicable\n"
     ]
    }
   ],
   "source": [
    "#Remove output directory and stop yarn and hdfs\n",
    "!hadoop fs -rmr /user/dunmireg/enronemail_1h.txt\n",
    "!hadoop fs -rmr /user/dunmireg/enroneEmailCondProb3\n",
    "!/usr/local/Cellar/hadoop/2.7.1/sbin/stop-yarn.sh\n",
    "!/usr/local/Cellar/hadoop/2.7.1/sbin/stop-dfs.sh"
   ]
  },
  {
   "cell_type": "code",
   "execution_count": 43,
   "metadata": {
    "collapsed": false
   },
   "outputs": [
    {
     "name": "stdout",
     "output_type": "stream",
     "text": [
      "Overwriting mapper.py\n"
     ]
    }
   ],
   "source": [
    "%%writefile mapper.py\n",
    "#!/usr/bin/python\n",
    "\n",
    "#I have placed the mapper here but have not modified it in any way from the previous mapper. It will still\n",
    "#produce ID + \\t + word + \\t + true spam flag to send to the reducer. \n",
    "import sys\n",
    "import re\n",
    "import os \n",
    "from math import log\n",
    "from math import exp\n",
    "\n",
    "priorSpam = 0 #priors\n",
    "priorHam = 0\n",
    "words = {}\n",
    "\n",
    "with open(os.path.join('./enroneEmailCondProbLaplace', 'part-00000'), 'r') as myfile: #read input file\n",
    "    lines = myfile.readlines() #parse lines\n",
    "    priorSpam = float(lines[0]) #get priors\n",
    "    priorHam = float(lines[1])\n",
    "    for line in lines[2:]:\n",
    "        line = line.strip()\n",
    "        line = line.rstrip()\n",
    "        components = line.split('\\t') #split remaining lines and add word and likelihoods to dictionary\n",
    "        words[components[0]] = {'spam_like': float(components[1]), 'ham_like': float(components[2])}\n",
    "        \n",
    "\n",
    "WORD_RE = re.compile(r\"[\\w']+\")\n",
    "\n",
    "for line in sys.stdin: #read input\n",
    "    line = line.strip()\n",
    "    line = line.rstrip()\n",
    "    components = line.split('\\t')\n",
    "    text = \" \".join(components[-2:]).strip() #get subject and content together as text\n",
    "    text = re.findall(WORD_RE, text)\n",
    "    \n",
    "    spamScore = log(priorSpam) #get priors\n",
    "    hamScore = log(priorHam)\n",
    "    for word in text:\n",
    "        if word in words.keys(): #increment scores based on word conditional probabilities\n",
    "            spamScore += log(float(words[word]['spam_like']))\n",
    "            hamScore += log(float(words[word]['ham_like']))\n",
    "        pred = 0 #predicted class\n",
    "    if spamScore > hamScore:\n",
    "        pred = 1\n",
    "    #output ID, spam flag, predicted class, and exponentiated conditional probabilities for document\n",
    "    print components[0] + '\\t' + components[1] + '\\t' + str(pred) + '\\t' + str(exp(spamScore)) + '\\t' + str(exp(hamScore))"
   ]
  },
  {
   "cell_type": "code",
   "execution_count": 45,
   "metadata": {
    "collapsed": false
   },
   "outputs": [
    {
     "name": "stdout",
     "output_type": "stream",
     "text": [
      "Overwriting reducer.py\n"
     ]
    }
   ],
   "source": [
    "%%writefile reducer.py\n",
    "#!/usr/bin/python\n",
    "import sys\n",
    "\n",
    "misclassified = 0 #keep track of how many are misclassified\n",
    "\n",
    "for line in sys.stdin:\n",
    "    line = line.strip()\n",
    "    line = line.rstrip()\n",
    "    components = line.split('\\t')\n",
    "    if int(components[1]) != int(components[2]):\n",
    "            misclassified += 1 #if predicted and true flag disagree increment counter\n",
    "    print line\n",
    "print \"Misclassified: \" + str(misclassified) + \" which means this has an accuracy of \" + str(100-misclassified) + \"%\""
   ]
  },
  {
   "cell_type": "code",
   "execution_count": 30,
   "metadata": {
    "collapsed": false
   },
   "outputs": [],
   "source": [
    "#Check code\n",
    "#!cat enronemail_1h.txt | python mapper.py | python reducer.py"
   ]
  },
  {
   "cell_type": "code",
   "execution_count": 46,
   "metadata": {
    "collapsed": false
   },
   "outputs": [
    {
     "name": "stdout",
     "output_type": "stream",
     "text": [
      "starting yarn daemons\n",
      "starting resourcemanager, logging to /usr/local/Cellar/hadoop/2.7.1/libexec/logs/yarn-dunmireg-resourcemanager-Glenns-Air.home.out\n",
      "localhost: starting nodemanager, logging to /usr/local/Cellar/hadoop/2.7.1/libexec/logs/yarn-dunmireg-nodemanager-Glenns-Air.home.out\n",
      "16/01/25 21:29:49 WARN util.NativeCodeLoader: Unable to load native-hadoop library for your platform... using builtin-java classes where applicable\n",
      "Starting namenodes on [localhost]\n",
      "localhost: starting namenode, logging to /usr/local/Cellar/hadoop/2.7.1/libexec/logs/hadoop-dunmireg-namenode-Glenns-Air.home.out\n",
      "localhost: starting datanode, logging to /usr/local/Cellar/hadoop/2.7.1/libexec/logs/hadoop-dunmireg-datanode-Glenns-Air.home.out\n",
      "Starting secondary namenodes [0.0.0.0]\n",
      "0.0.0.0: starting secondarynamenode, logging to /usr/local/Cellar/hadoop/2.7.1/libexec/logs/hadoop-dunmireg-secondarynamenode-Glenns-Air.home.out\n",
      "16/01/25 21:30:04 WARN util.NativeCodeLoader: Unable to load native-hadoop library for your platform... using builtin-java classes where applicable\n"
     ]
    }
   ],
   "source": [
    "#Start hadoop yarn\n",
    "!/usr/local/Cellar/hadoop/2.7.1/sbin/start-yarn.sh\n",
    "!/usr/local/Cellar/hadoop/2.7.1/sbin/start-dfs.sh"
   ]
  },
  {
   "cell_type": "code",
   "execution_count": 47,
   "metadata": {
    "collapsed": false
   },
   "outputs": [
    {
     "name": "stdout",
     "output_type": "stream",
     "text": [
      "16/01/25 21:30:08 WARN util.NativeCodeLoader: Unable to load native-hadoop library for your platform... using builtin-java classes where applicable\r\n"
     ]
    }
   ],
   "source": [
    "#add input to hdfs\n",
    "!hdfs dfs -put enronemail_1h.txt /user/dunmireg"
   ]
  },
  {
   "cell_type": "code",
   "execution_count": 48,
   "metadata": {
    "collapsed": false
   },
   "outputs": [
    {
     "name": "stdout",
     "output_type": "stream",
     "text": [
      "16/01/25 21:30:11 WARN util.NativeCodeLoader: Unable to load native-hadoop library for your platform... using builtin-java classes where applicable\n",
      "16/01/25 21:30:12 INFO Configuration.deprecation: session.id is deprecated. Instead, use dfs.metrics.session-id\n",
      "16/01/25 21:30:12 INFO jvm.JvmMetrics: Initializing JVM Metrics with processName=JobTracker, sessionId=\n",
      "16/01/25 21:30:12 INFO jvm.JvmMetrics: Cannot initialize JVM Metrics with processName=JobTracker, sessionId= - already initialized\n",
      "16/01/25 21:30:12 INFO mapred.FileInputFormat: Total input paths to process : 1\n",
      "16/01/25 21:30:12 INFO mapreduce.JobSubmitter: number of splits:1\n",
      "16/01/25 21:30:12 INFO mapreduce.JobSubmitter: Submitting tokens for job: job_local1804261376_0001\n",
      "16/01/25 21:30:12 INFO mapreduce.Job: The url to track the job: http://localhost:8080/\n",
      "16/01/25 21:30:12 INFO mapred.LocalJobRunner: OutputCommitter set in config null\n",
      "16/01/25 21:30:12 INFO mapreduce.Job: Running job: job_local1804261376_0001\n",
      "16/01/25 21:30:12 INFO mapred.LocalJobRunner: OutputCommitter is org.apache.hadoop.mapred.FileOutputCommitter\n",
      "16/01/25 21:30:12 INFO output.FileOutputCommitter: File Output Committer Algorithm version is 1\n",
      "16/01/25 21:30:13 INFO mapred.LocalJobRunner: Waiting for map tasks\n",
      "16/01/25 21:30:13 INFO mapred.LocalJobRunner: Starting task: attempt_local1804261376_0001_m_000000_0\n",
      "16/01/25 21:30:13 INFO output.FileOutputCommitter: File Output Committer Algorithm version is 1\n",
      "16/01/25 21:30:13 INFO util.ProcfsBasedProcessTree: ProcfsBasedProcessTree currently is supported only on Linux.\n",
      "16/01/25 21:30:13 INFO mapred.Task:  Using ResourceCalculatorProcessTree : null\n",
      "16/01/25 21:30:13 INFO mapred.MapTask: Processing split: hdfs://localhost:9000/user/dunmireg/enronemail_1h.txt:0+204658\n",
      "16/01/25 21:30:13 INFO mapred.MapTask: numReduceTasks: 1\n",
      "16/01/25 21:30:13 INFO mapred.MapTask: (EQUATOR) 0 kvi 26214396(104857584)\n",
      "16/01/25 21:30:13 INFO mapred.MapTask: mapreduce.task.io.sort.mb: 100\n",
      "16/01/25 21:30:13 INFO mapred.MapTask: soft limit at 83886080\n",
      "16/01/25 21:30:13 INFO mapred.MapTask: bufstart = 0; bufvoid = 104857600\n",
      "16/01/25 21:30:13 INFO mapred.MapTask: kvstart = 26214396; length = 6553600\n",
      "16/01/25 21:30:13 INFO mapred.MapTask: Map output collector class = org.apache.hadoop.mapred.MapTask$MapOutputBuffer\n",
      "16/01/25 21:30:13 INFO streaming.PipeMapRed: PipeMapRed exec [/Users/dunmireg/Documents/261HW/HW2/./mapper.py]\n",
      "16/01/25 21:30:13 INFO Configuration.deprecation: mapred.tip.id is deprecated. Instead, use mapreduce.task.id\n",
      "16/01/25 21:30:13 INFO Configuration.deprecation: mapred.local.dir is deprecated. Instead, use mapreduce.cluster.local.dir\n",
      "16/01/25 21:30:13 INFO Configuration.deprecation: map.input.file is deprecated. Instead, use mapreduce.map.input.file\n",
      "16/01/25 21:30:13 INFO Configuration.deprecation: mapred.skip.on is deprecated. Instead, use mapreduce.job.skiprecords\n",
      "16/01/25 21:30:13 INFO Configuration.deprecation: map.input.length is deprecated. Instead, use mapreduce.map.input.length\n",
      "16/01/25 21:30:13 INFO Configuration.deprecation: mapred.work.output.dir is deprecated. Instead, use mapreduce.task.output.dir\n",
      "16/01/25 21:30:13 INFO Configuration.deprecation: map.input.start is deprecated. Instead, use mapreduce.map.input.start\n",
      "16/01/25 21:30:13 INFO Configuration.deprecation: mapred.job.id is deprecated. Instead, use mapreduce.job.id\n",
      "16/01/25 21:30:13 INFO Configuration.deprecation: user.name is deprecated. Instead, use mapreduce.job.user.name\n",
      "16/01/25 21:30:13 INFO Configuration.deprecation: mapred.task.is.map is deprecated. Instead, use mapreduce.task.ismap\n",
      "16/01/25 21:30:13 INFO Configuration.deprecation: mapred.task.id is deprecated. Instead, use mapreduce.task.attempt.id\n",
      "16/01/25 21:30:13 INFO Configuration.deprecation: mapred.task.partition is deprecated. Instead, use mapreduce.task.partition\n",
      "16/01/25 21:30:13 INFO streaming.PipeMapRed: R/W/S=1/0/0 in:NA [rec/s] out:NA [rec/s]\n",
      "16/01/25 21:30:13 INFO streaming.PipeMapRed: R/W/S=10/0/0 in:NA [rec/s] out:NA [rec/s]\n",
      "16/01/25 21:30:13 INFO mapreduce.Job: Job job_local1804261376_0001 running in uber mode : false\n",
      "16/01/25 21:30:13 INFO mapreduce.Job:  map 0% reduce 0%\n",
      "16/01/25 21:30:14 INFO streaming.PipeMapRed: R/W/S=100/0/0 in:100=100/1 [rec/s] out:0=0/1 [rec/s]\n",
      "16/01/25 21:30:17 INFO streaming.PipeMapRed: MRErrorThread done\n",
      "16/01/25 21:30:17 INFO streaming.PipeMapRed: Records R/W=100/1\n",
      "16/01/25 21:30:17 INFO streaming.PipeMapRed: mapRedFinished\n",
      "16/01/25 21:30:17 INFO mapred.LocalJobRunner: \n",
      "16/01/25 21:30:17 INFO mapred.MapTask: Starting flush of map output\n",
      "16/01/25 21:30:17 INFO mapred.MapTask: Spilling map output\n",
      "16/01/25 21:30:17 INFO mapred.MapTask: bufstart = 0; bufend = 4284; bufvoid = 104857600\n",
      "16/01/25 21:30:17 INFO mapred.MapTask: kvstart = 26214396(104857584); kvend = 26214000(104856000); length = 397/6553600\n",
      "16/01/25 21:30:17 INFO mapred.MapTask: Finished spill 0\n",
      "16/01/25 21:30:17 INFO mapred.Task: Task:attempt_local1804261376_0001_m_000000_0 is done. And is in the process of committing\n",
      "16/01/25 21:30:17 INFO mapred.LocalJobRunner: Records R/W=100/1\n",
      "16/01/25 21:30:17 INFO mapred.Task: Task 'attempt_local1804261376_0001_m_000000_0' done.\n",
      "16/01/25 21:30:17 INFO mapred.LocalJobRunner: Finishing task: attempt_local1804261376_0001_m_000000_0\n",
      "16/01/25 21:30:17 INFO mapred.LocalJobRunner: map task executor complete.\n",
      "16/01/25 21:30:17 INFO mapred.LocalJobRunner: Waiting for reduce tasks\n",
      "16/01/25 21:30:17 INFO mapred.LocalJobRunner: Starting task: attempt_local1804261376_0001_r_000000_0\n",
      "16/01/25 21:30:17 INFO output.FileOutputCommitter: File Output Committer Algorithm version is 1\n",
      "16/01/25 21:30:17 INFO util.ProcfsBasedProcessTree: ProcfsBasedProcessTree currently is supported only on Linux.\n",
      "16/01/25 21:30:17 INFO mapred.Task:  Using ResourceCalculatorProcessTree : null\n",
      "16/01/25 21:30:17 INFO mapred.ReduceTask: Using ShuffleConsumerPlugin: org.apache.hadoop.mapreduce.task.reduce.Shuffle@60045d35\n",
      "16/01/25 21:30:17 INFO reduce.MergeManagerImpl: MergerManager: memoryLimit=334338464, maxSingleShuffleLimit=83584616, mergeThreshold=220663392, ioSortFactor=10, memToMemMergeOutputsThreshold=10\n",
      "16/01/25 21:30:17 INFO reduce.EventFetcher: attempt_local1804261376_0001_r_000000_0 Thread started: EventFetcher for fetching Map Completion Events\n",
      "16/01/25 21:30:17 INFO reduce.LocalFetcher: localfetcher#1 about to shuffle output of map attempt_local1804261376_0001_m_000000_0 decomp: 4486 len: 4490 to MEMORY\n",
      "16/01/25 21:30:17 INFO reduce.InMemoryMapOutput: Read 4486 bytes from map-output for attempt_local1804261376_0001_m_000000_0\n",
      "16/01/25 21:30:17 INFO reduce.MergeManagerImpl: closeInMemoryFile -> map-output of size: 4486, inMemoryMapOutputs.size() -> 1, commitMemory -> 0, usedMemory ->4486\n",
      "16/01/25 21:30:17 INFO reduce.EventFetcher: EventFetcher is interrupted.. Returning\n",
      "16/01/25 21:30:17 INFO mapred.LocalJobRunner: 1 / 1 copied.\n",
      "16/01/25 21:30:17 INFO reduce.MergeManagerImpl: finalMerge called with 1 in-memory map-outputs and 0 on-disk map-outputs\n",
      "16/01/25 21:30:17 INFO mapred.Merger: Merging 1 sorted segments\n",
      "16/01/25 21:30:17 INFO mapred.Merger: Down to the last merge-pass, with 1 segments left of total size: 4461 bytes\n",
      "16/01/25 21:30:17 INFO reduce.MergeManagerImpl: Merged 1 segments, 4486 bytes to disk to satisfy reduce memory limit\n",
      "16/01/25 21:30:17 INFO reduce.MergeManagerImpl: Merging 1 files, 4490 bytes from disk\n",
      "16/01/25 21:30:17 INFO reduce.MergeManagerImpl: Merging 0 segments, 0 bytes from memory into reduce\n",
      "16/01/25 21:30:17 INFO mapred.Merger: Merging 1 sorted segments\n",
      "16/01/25 21:30:17 INFO mapred.Merger: Down to the last merge-pass, with 1 segments left of total size: 4461 bytes\n",
      "16/01/25 21:30:17 INFO mapred.LocalJobRunner: 1 / 1 copied.\n",
      "16/01/25 21:30:17 INFO streaming.PipeMapRed: PipeMapRed exec [/Users/dunmireg/Documents/261HW/HW2/./reducer.py]\n",
      "16/01/25 21:30:17 INFO Configuration.deprecation: mapred.job.tracker is deprecated. Instead, use mapreduce.jobtracker.address\n",
      "16/01/25 21:30:17 INFO Configuration.deprecation: mapred.map.tasks is deprecated. Instead, use mapreduce.job.maps\n",
      "16/01/25 21:30:17 INFO streaming.PipeMapRed: R/W/S=1/0/0 in:NA [rec/s] out:NA [rec/s]\n",
      "16/01/25 21:30:17 INFO streaming.PipeMapRed: R/W/S=10/0/0 in:NA [rec/s] out:NA [rec/s]\n",
      "16/01/25 21:30:17 INFO streaming.PipeMapRed: R/W/S=100/0/0 in:NA [rec/s] out:NA [rec/s]\n",
      "16/01/25 21:30:17 INFO streaming.PipeMapRed: Records R/W=100/1\n",
      "16/01/25 21:30:17 INFO streaming.PipeMapRed: MRErrorThread done\n",
      "16/01/25 21:30:17 INFO streaming.PipeMapRed: mapRedFinished\n",
      "16/01/25 21:30:17 INFO mapred.Task: Task:attempt_local1804261376_0001_r_000000_0 is done. And is in the process of committing\n",
      "16/01/25 21:30:17 INFO mapred.LocalJobRunner: 1 / 1 copied.\n",
      "16/01/25 21:30:17 INFO mapred.Task: Task attempt_local1804261376_0001_r_000000_0 is allowed to commit now\n",
      "16/01/25 21:30:17 INFO output.FileOutputCommitter: Saved output of task 'attempt_local1804261376_0001_r_000000_0' to hdfs://localhost:9000/user/dunmireg/enroneEmailClass3/_temporary/0/task_local1804261376_0001_r_000000\n",
      "16/01/25 21:30:17 INFO mapred.LocalJobRunner: Records R/W=100/1 > reduce\n",
      "16/01/25 21:30:17 INFO mapred.Task: Task 'attempt_local1804261376_0001_r_000000_0' done.\n",
      "16/01/25 21:30:17 INFO mapred.LocalJobRunner: Finishing task: attempt_local1804261376_0001_r_000000_0\n",
      "16/01/25 21:30:17 INFO mapred.LocalJobRunner: reduce task executor complete.\n",
      "16/01/25 21:30:17 INFO mapreduce.Job:  map 100% reduce 100%\n",
      "16/01/25 21:30:17 INFO mapreduce.Job: Job job_local1804261376_0001 completed successfully\n",
      "16/01/25 21:30:17 INFO mapreduce.Job: Counters: 35\n",
      "\tFile System Counters\n",
      "\t\tFILE: Number of bytes read=221096\n",
      "\t\tFILE: Number of bytes written=815286\n",
      "\t\tFILE: Number of read operations=0\n",
      "\t\tFILE: Number of large read operations=0\n",
      "\t\tFILE: Number of write operations=0\n",
      "\t\tHDFS: Number of bytes read=409316\n",
      "\t\tHDFS: Number of bytes written=4343\n",
      "\t\tHDFS: Number of read operations=13\n",
      "\t\tHDFS: Number of large read operations=0\n",
      "\t\tHDFS: Number of write operations=4\n",
      "\tMap-Reduce Framework\n",
      "\t\tMap input records=100\n",
      "\t\tMap output records=100\n",
      "\t\tMap output bytes=4284\n",
      "\t\tMap output materialized bytes=4490\n",
      "\t\tInput split bytes=105\n",
      "\t\tCombine input records=0\n",
      "\t\tCombine output records=0\n",
      "\t\tReduce input groups=100\n",
      "\t\tReduce shuffle bytes=4490\n",
      "\t\tReduce input records=100\n",
      "\t\tReduce output records=101\n",
      "\t\tSpilled Records=200\n",
      "\t\tShuffled Maps =1\n",
      "\t\tFailed Shuffles=0\n",
      "\t\tMerged Map outputs=1\n",
      "\t\tGC time elapsed (ms)=7\n",
      "\t\tTotal committed heap usage (bytes)=510656512\n",
      "\tShuffle Errors\n",
      "\t\tBAD_ID=0\n",
      "\t\tCONNECTION=0\n",
      "\t\tIO_ERROR=0\n",
      "\t\tWRONG_LENGTH=0\n",
      "\t\tWRONG_MAP=0\n",
      "\t\tWRONG_REDUCE=0\n",
      "\tFile Input Format Counters \n",
      "\t\tBytes Read=204658\n",
      "\tFile Output Format Counters \n",
      "\t\tBytes Written=4343\n",
      "16/01/25 21:30:17 INFO streaming.StreamJob: Output directory: enroneEmailClass3\n"
     ]
    }
   ],
   "source": [
    "!hadoop jar /usr/local/Cellar/hadoop/2.7.1/libexec/share/hadoop/tools/lib/hadoop-streaming-2.7.1.jar \\\n",
    "-mapper mapper.py \\\n",
    "-reducer reducer.py \\\n",
    "-input enronemail_1h.txt \\\n",
    "-output enroneEmailClass3"
   ]
  },
  {
   "cell_type": "code",
   "execution_count": 49,
   "metadata": {
    "collapsed": false
   },
   "outputs": [
    {
     "name": "stdout",
     "output_type": "stream",
     "text": [
      "16/01/25 21:30:25 WARN util.NativeCodeLoader: Unable to load native-hadoop library for your platform... using builtin-java classes where applicable\n",
      "16/01/25 21:30:26 WARN hdfs.DFSClient: DFSInputStream has been closed already\n",
      "16/01/25 21:30:26 WARN hdfs.DFSClient: DFSInputStream has been closed already\n"
     ]
    }
   ],
   "source": [
    "!hadoop fs -copyToLocal /user/dunmireg/enroneEmailClass3"
   ]
  },
  {
   "cell_type": "code",
   "execution_count": 50,
   "metadata": {
    "collapsed": false
   },
   "outputs": [
    {
     "name": "stdout",
     "output_type": "stream",
     "text": [
      "rmr: DEPRECATED: Please use 'rm -r' instead.\n",
      "16/01/25 21:30:28 WARN util.NativeCodeLoader: Unable to load native-hadoop library for your platform... using builtin-java classes where applicable\n",
      "16/01/25 21:30:28 INFO fs.TrashPolicyDefault: Namenode trash configuration: Deletion interval = 0 minutes, Emptier interval = 0 minutes.\n",
      "Deleted /user/dunmireg/enronemail_1h.txt\n",
      "rmr: DEPRECATED: Please use 'rm -r' instead.\n",
      "16/01/25 21:30:29 WARN util.NativeCodeLoader: Unable to load native-hadoop library for your platform... using builtin-java classes where applicable\n",
      "16/01/25 21:30:30 INFO fs.TrashPolicyDefault: Namenode trash configuration: Deletion interval = 0 minutes, Emptier interval = 0 minutes.\n",
      "Deleted /user/dunmireg/enroneEmailClass3\n",
      "stopping yarn daemons\n",
      "stopping resourcemanager\n",
      "localhost: stopping nodemanager\n",
      "no proxyserver to stop\n",
      "16/01/25 21:30:41 WARN util.NativeCodeLoader: Unable to load native-hadoop library for your platform... using builtin-java classes where applicable\n",
      "Stopping namenodes on [localhost]\n",
      "localhost: stopping namenode\n",
      "localhost: stopping datanode\n",
      "Stopping secondary namenodes [0.0.0.0]\n",
      "0.0.0.0: stopping secondarynamenode\n",
      "16/01/25 21:31:00 WARN util.NativeCodeLoader: Unable to load native-hadoop library for your platform... using builtin-java classes where applicable\n"
     ]
    }
   ],
   "source": [
    "#Remove output directory and stop yarn and hdfs\n",
    "!hadoop fs -rmr /user/dunmireg/enronemail_1h.txt\n",
    "!hadoop fs -rmr /user/dunmireg/enroneEmailClass3\n",
    "!/usr/local/Cellar/hadoop/2.7.1/sbin/stop-yarn.sh\n",
    "!/usr/local/Cellar/hadoop/2.7.1/sbin/stop-dfs.sh"
   ]
  },
  {
   "cell_type": "code",
   "execution_count": 51,
   "metadata": {
    "collapsed": false
   },
   "outputs": [
    {
     "name": "stdout",
     "output_type": "stream",
     "text": [
      "Misclassified: 0 which means this has an accuracy of 100%\t\n",
      "\n"
     ]
    }
   ],
   "source": [
    "#Display outputs from results file\n",
    "import os\n",
    "\n",
    "with open(os.path.join('./enroneEmailClass3', 'part-00000'), 'r') as myfile:\n",
    "    lines = myfile.readlines() #read file\n",
    "    lines = lines[-1:] #get last line with results\n",
    "    for line in lines:\n",
    "        print line #print results"
   ]
  },
  {
   "cell_type": "code",
   "execution_count": 9,
   "metadata": {
    "collapsed": false
   },
   "outputs": [
    {
     "data": {
      "image/png": "[encoded data removed]",
      "text/plain": [
       "<matplotlib.figure.Figure at 0x107795250>"
      ]
     },
     "metadata": {},
     "output_type": "display_data"
    },
    {
     "data": {
      "image/png": "[encoded data removed]",
      "text/plain": [
       "<matplotlib.figure.Figure at 0x10741a090>"
      ]
     },
     "metadata": {},
     "output_type": "display_data"
    }
   ],
   "source": [
    "%matplotlib inline\n",
    "#Make histogram\n",
    "import os\n",
    "import matplotlib.pyplot as plt\n",
    "\n",
    "spam_probs = [] #list of spam probabilities\n",
    "ham_probs = [] #list of ham probabilities\n",
    "with open(os.path.join('./enroneEmailClass3', 'part-00000'), 'r') as myfile: #read file\n",
    "    lines = myfile.readlines() \n",
    "    for line in lines[:-1]: #exclude last line which has results\n",
    "        components = line.split('\\t')\n",
    "        spam_probs.append(float(components[3]))\n",
    "        ham_probs.append(float(components[4]))\n",
    "\n",
    "s = plt.figure(1)\n",
    "plt.hist(spam_probs)\n",
    "plt.xlabel = \"Probability\"\n",
    "plt.ylabel = \"Frequency\"\n",
    "plt.title(\"Spam Exp Probabilities w/ Laplace Exclude >3 Histogram\")\n",
    "\n",
    "h = plt.figure(2)\n",
    "plt.hist(ham_probs)\n",
    "plt.xlabel = \"Probability\"\n",
    "plt.ylabel = \"Frequency\"\n",
    "plt.title(\"Ham Exp Probabilties w/ Laplace Exclude >3 Histogram\")\n",
    "plt.show()"
   ]
  },
  {
   "cell_type": "markdown",
   "metadata": {},
   "source": [
    "#### Summary\n",
    "\n",
    "This has the exact performance of the previous laplace smoother with all tokens included, for a misclassification rate of 0. It should be noted that this classifier also has the same behavior as the laplace only classifier with the spam 'classifier' words having a larger impact on score than the ham 'classifier' words. I am seeing the same thing as before with the vast majority of words contributing small amounts to the score with a handful of words having outsized impact. "
   ]
  },
  {
   "cell_type": "markdown",
   "metadata": {
    "collapsed": false
   },
   "source": [
    "### HW2.6 \n",
    "\n",
    "Benchmark your code with the Python SciKit-Learn implementation of the multinomial Naive Bayes algorithm\n",
    "\n",
    "It always a good idea to benchmark your solutions against publicly available libraries such as SciKit-Learn, The Machine Learning toolkit available in Python. In this exercise, we benchmark ourselves against the SciKit-Learn implementation of multinomial Naive Bayes.  For more information on this implementation see: http://scikit-learn.org/stable/modules/naive_bayes.html more  \n",
    "\n",
    "In this exercise, please complete the following:\n",
    "\n",
    "— Run the Multinomial Naive Bayes algorithm (using default settings) from SciKit-Learn over the same training data used in HW2.5 and report the misclassification error (please note some data preparation might be needed to get the Multinomial Naive Bayes algorithm from SkiKit-Learn to run over this dataset)\n",
    "\n",
    "— Prepare a table to present your results, where rows correspond to approach used (SkiKit-Learn versus your Hadoop implementation) and the column presents the training misclassification error\n",
    "\n",
    "— Explain/justify any differences in terms of training error rates over the dataset in HW2.5 between your Multinomial Naive Bayes implementation (in Map Reduce) versus the Multinomial Naive Bayes implementation in SciKit-Learn "
   ]
  },
  {
   "cell_type": "code",
   "execution_count": 6,
   "metadata": {
    "collapsed": false
   },
   "outputs": [
    {
     "name": "stdout",
     "output_type": "stream",
     "text": [
      "  SkLearn Multinomial NB:\t0.04\n"
     ]
    }
   ],
   "source": [
    "#Credit to master solution from week 1 for structure\n",
    "import numpy as np\n",
    "from sklearn.naive_bayes import MultinomialNB\n",
    "from sklearn.feature_extraction.text import CountVectorizer\n",
    "\n",
    "#make lists to hold email text and classes of correct classification\n",
    "emails = []\n",
    "classes = []\n",
    "with open('enronemail_1h.txt', 'r') as myfile:\n",
    "    lines = myfile.readlines()\n",
    "    for line in lines:\n",
    "        line = line.strip()\n",
    "        line = line.rstrip()\n",
    "        components = line.split('\\t') #split text\n",
    "        text = \" \".join(components[-2:]).strip() #join subject and content into one text field\n",
    "        emails.append(text)\n",
    "        classes.append(components[1])\n",
    "\n",
    "classes = np.array(classes) #convert to array\n",
    "\n",
    "#initialize count vectorizer to create matrix of token counts\n",
    "vectorizer = CountVectorizer(min_df=3)\n",
    "trainingData = vectorizer.fit_transform(emails)\n",
    "\n",
    "\n",
    "clf = MultinomialNB()\n",
    "clf.fit(trainingData, classes) \n",
    "print \"  SkLearn Multinomial NB:\\t\", 1-clf.score(trainingData,classes)\n"
   ]
  },
  {
   "cell_type": "markdown",
   "metadata": {},
   "source": [
    "| Classifier  |      Misclassification      |  Accuracy |\n",
    "|----------|:-------------:|------:|\n",
    "| MapReduce Naive Bayes |  0% | 100% |\n",
    "| Scikit Learn NB |    4%   |   96% |"
   ]
  },
  {
   "cell_type": "markdown",
   "metadata": {},
   "source": [
    "Interestingly, this results in a 4% classification error, meaning an accuracy of 96%. This would suggest that my model above is overfitting the data because I am getting a misclassification rate of 0. I suspect this has to do with how I am incrementing my scores when performing classification, as I am seeing this error rate in all of my classifiers. "
   ]
  },
  {
   "cell_type": "code",
   "execution_count": null,
   "metadata": {
    "collapsed": true
   },
   "outputs": [],
   "source": []
  }
 ],
 "metadata": {
  "kernelspec": {
   "display_name": "Python 2",
   "language": "python",
   "name": "python2"
  },
  "language_info": {
   "codemirror_mode": {
    "name": "ipython",
    "version": 2
   },
   "file_extension": ".py",
   "mimetype": "text/x-python",
   "name": "python",
   "nbconvert_exporter": "python",
   "pygments_lexer": "ipython2",
   "version": "2.7.10"
  }
 },
 "nbformat": 4,
 "nbformat_minor": 0
}
